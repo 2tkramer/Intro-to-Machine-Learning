{
 "cells": [
  {
   "cell_type": "markdown",
   "metadata": {
    "id": "mdLeAhX59tq7"
   },
   "source": [
    "## CSCI 470 Activities and Case Studies\n",
    "\n",
    "1. For all activities, you are allowed to collaborate with a partner. \n",
    "1. For case studies, you should work individually and are **not** allowed to collaborate.\n",
    "\n",
    "By filling out this notebook and submitting it, you acknowledge that you are aware of the above policies and are agreeing to comply with them."
   ]
  },
  {
   "cell_type": "markdown",
   "metadata": {
    "id": "1CeERTXT9trQ"
   },
   "source": [
    "Some considerations with regard to how these notebooks will be graded:\n",
    "\n",
    "1. You can add more notebook cells or edit existing notebook cells other than \"# YOUR CODE HERE\" to test out or debug your code. We actually highly recommend you do so to gain a better understanding of what is happening. However, during grading, **these changes are ignored**. \n",
    "2. You must ensure that all your code for the particular task is available in the cells that say \"# YOUR CODE HERE\"\n",
    "3. Every cell that says \"# YOUR CODE HERE\" is followed by a \"raise NotImplementedError\". You need to remove that line. During grading, if an error occurs then you will not receive points for your work in that section.\n",
    "4. If your code passes the \"assert\" statements, then no output will result. If your code fails the \"assert\" statements, you will get an \"AssertionError\". Getting an assertion error means you will not receive points for that particular task.\n",
    "5. If you edit the \"assert\" statements to make your code pass, they will still fail when they are graded since the \"assert\" statements will revert to the original. Make sure you don't edit the assert statements.\n",
    "6. We may sometimes have \"hidden\" tests for grading. This means that passing the visible \"assert\" statements is not sufficient. The \"assert\" statements are there as a guide but you need to make sure you understand what you're required to do and ensure that you are doing it correctly. Passing the visible tests is necessary but not sufficient to get the grade for that cell.\n",
    "7. When you are asked to define a function, make sure you **don't** use any variables outside of the parameters passed to the function. You can think of the parameters being passed to the function as a hint. Make sure you're using all of those variables.\n",
    "8. Finally, **make sure you run \"Kernel > Restart and Run All\"** and pass all the asserts before submitting. If you don't restart the kernel, there may be some code that you ran and deleted that is still being used and that was why your asserts were passing."
   ]
  },
  {
   "cell_type": "markdown",
   "metadata": {
    "id": "J-ZycFSP9trT"
   },
   "source": [
    "# Python and Pandas\n",
    "\n",
    "In this notebook of the case study, you'll go over an overview of [Pandas](https://pandas.pydata.org/). If you're already familiar with them, this should be a good review to prepare you for the rest of the class.\n",
    "\n",
    "We'll go over the following:\n",
    "\n",
    "1. Reading data in an incorrect format\n",
    "1. `NaN`s\n",
    "1. Series and DataFrames\n",
    "1. One hot encoding\n",
    "1. Boolean indexing\n",
    "1. Applying functions to data\n",
    "1. Creating new DataFrame columns\n",
    "1. Grouping a DataFrame\n"
   ]
  },
  {
   "cell_type": "code",
   "execution_count": 125,
   "metadata": {
    "id": "GGsBO0fh9trW"
   },
   "outputs": [],
   "source": [
    "import pandas as pd"
   ]
  },
  {
   "cell_type": "markdown",
   "metadata": {
    "id": "KmfuJGu49trX"
   },
   "source": [
    "## Reading Data\n",
    "\n",
    "Pandas can read data in a variety of ways. We'll be using the titanic dataset that is available as a csv file so we will use [`read_csv`](https://pandas.pydata.org/pandas-docs/stable/generated/pandas.read_csv.html), however you should check out the [other methods](https://pandas.pydata.org/pandas-docs/stable/api.html#flat-file).\n",
    "\n",
    "If you're using [Colab](https://g.co/colab) for the assignment, be sure to upload the titanic.csv file by using the sidebar. Otherwise, make sure that it's in the same directory as this notebook."
   ]
  },
  {
   "cell_type": "code",
   "execution_count": 126,
   "metadata": {
    "id": "nYOJ6BX49trb"
   },
   "outputs": [],
   "source": [
    "df = pd.read_csv(\"titanic.csv\")"
   ]
  },
  {
   "cell_type": "markdown",
   "metadata": {
    "id": "On2_AEAO9trc"
   },
   "source": [
    "Usually when we read a file in pandas, it will create a [DataFrame](https://pandas.pydata.org/pandas-docs/stable/generated/pandas.DataFrame.html) object. You can read more about dataframes in the [pandas guide](https://pandas.pydata.org/pandas-docs/stable/dsintro.html#dataframe) .You can preview the top and bottom of the data using the [head](https://pandas.pydata.org/pandas-docs/stable/generated/pandas.DataFrame.head.html) and [tail](https://pandas.pydata.org/pandas-docs/stable/generated/pandas.DataFrame.tail.html) methods of a pandas DataFrame."
   ]
  },
  {
   "cell_type": "code",
   "execution_count": 127,
   "metadata": {
    "colab": {
     "base_uri": "https://localhost:8080/",
     "height": 191
    },
    "id": "uibEN1yk9trd",
    "outputId": "3fc712b0-e8c0-47e3-ee9f-9dcce399930e"
   },
   "outputs": [
    {
     "data": {
      "text/html": [
       "<div>\n",
       "<style scoped>\n",
       "    .dataframe tbody tr th:only-of-type {\n",
       "        vertical-align: middle;\n",
       "    }\n",
       "\n",
       "    .dataframe tbody tr th {\n",
       "        vertical-align: top;\n",
       "    }\n",
       "\n",
       "    .dataframe thead th {\n",
       "        text-align: right;\n",
       "    }\n",
       "</style>\n",
       "<table border=\"1\" class=\"dataframe\">\n",
       "  <thead>\n",
       "    <tr style=\"text-align: right;\">\n",
       "      <th></th>\n",
       "      <th>pclass</th>\n",
       "      <th>survived</th>\n",
       "      <th>name</th>\n",
       "      <th>sex</th>\n",
       "      <th>age</th>\n",
       "      <th>sibsp</th>\n",
       "      <th>parch</th>\n",
       "      <th>ticket</th>\n",
       "      <th>fare</th>\n",
       "      <th>cabin</th>\n",
       "      <th>embarked</th>\n",
       "      <th>boat</th>\n",
       "      <th>body</th>\n",
       "      <th>home.dest</th>\n",
       "    </tr>\n",
       "  </thead>\n",
       "  <tbody>\n",
       "    <tr>\n",
       "      <th>0</th>\n",
       "      <td>1</td>\n",
       "      <td>1</td>\n",
       "      <td>Allen, Miss. Elisabeth Walton</td>\n",
       "      <td>female</td>\n",
       "      <td>29.00</td>\n",
       "      <td>0</td>\n",
       "      <td>0</td>\n",
       "      <td>24160</td>\n",
       "      <td>211.3375</td>\n",
       "      <td>B5</td>\n",
       "      <td>S</td>\n",
       "      <td>2</td>\n",
       "      <td>NaN</td>\n",
       "      <td>St Louis, MO</td>\n",
       "    </tr>\n",
       "    <tr>\n",
       "      <th>1</th>\n",
       "      <td>1</td>\n",
       "      <td>1</td>\n",
       "      <td>Allison, Master. Hudson Trevor</td>\n",
       "      <td>male</td>\n",
       "      <td>0.92</td>\n",
       "      <td>1</td>\n",
       "      <td>2</td>\n",
       "      <td>113781</td>\n",
       "      <td>151.5500</td>\n",
       "      <td>C22 C26</td>\n",
       "      <td>S</td>\n",
       "      <td>11</td>\n",
       "      <td>NaN</td>\n",
       "      <td>Montreal, PQ / Chesterville, ON</td>\n",
       "    </tr>\n",
       "    <tr>\n",
       "      <th>2</th>\n",
       "      <td>1</td>\n",
       "      <td>0</td>\n",
       "      <td>Allison, Miss. Helen Loraine</td>\n",
       "      <td>female</td>\n",
       "      <td>2.00</td>\n",
       "      <td>1</td>\n",
       "      <td>2</td>\n",
       "      <td>113781</td>\n",
       "      <td>151.5500</td>\n",
       "      <td>C22 C26</td>\n",
       "      <td>S</td>\n",
       "      <td>NaN</td>\n",
       "      <td>NaN</td>\n",
       "      <td>Montreal, PQ / Chesterville, ON</td>\n",
       "    </tr>\n",
       "    <tr>\n",
       "      <th>3</th>\n",
       "      <td>1</td>\n",
       "      <td>0</td>\n",
       "      <td>Allison, Mr. Hudson Joshua Creighton</td>\n",
       "      <td>male</td>\n",
       "      <td>30.00</td>\n",
       "      <td>1</td>\n",
       "      <td>2</td>\n",
       "      <td>113781</td>\n",
       "      <td>151.5500</td>\n",
       "      <td>C22 C26</td>\n",
       "      <td>S</td>\n",
       "      <td>NaN</td>\n",
       "      <td>135.0</td>\n",
       "      <td>Montreal, PQ / Chesterville, ON</td>\n",
       "    </tr>\n",
       "    <tr>\n",
       "      <th>4</th>\n",
       "      <td>1</td>\n",
       "      <td>0</td>\n",
       "      <td>Allison, Mrs. Hudson J C (Bessie Waldo Daniels)</td>\n",
       "      <td>female</td>\n",
       "      <td>25.00</td>\n",
       "      <td>1</td>\n",
       "      <td>2</td>\n",
       "      <td>113781</td>\n",
       "      <td>151.5500</td>\n",
       "      <td>C22 C26</td>\n",
       "      <td>S</td>\n",
       "      <td>NaN</td>\n",
       "      <td>NaN</td>\n",
       "      <td>Montreal, PQ / Chesterville, ON</td>\n",
       "    </tr>\n",
       "  </tbody>\n",
       "</table>\n",
       "</div>"
      ],
      "text/plain": [
       "   pclass  survived  ...   body                        home.dest\n",
       "0       1         1  ...    NaN                     St Louis, MO\n",
       "1       1         1  ...    NaN  Montreal, PQ / Chesterville, ON\n",
       "2       1         0  ...    NaN  Montreal, PQ / Chesterville, ON\n",
       "3       1         0  ...  135.0  Montreal, PQ / Chesterville, ON\n",
       "4       1         0  ...    NaN  Montreal, PQ / Chesterville, ON\n",
       "\n",
       "[5 rows x 14 columns]"
      ]
     },
     "execution_count": 127,
     "metadata": {
      "tags": []
     },
     "output_type": "execute_result"
    }
   ],
   "source": [
    "df.head()"
   ]
  },
  {
   "cell_type": "code",
   "execution_count": 128,
   "metadata": {
    "colab": {
     "base_uri": "https://localhost:8080/",
     "height": 191
    },
    "deletable": false,
    "id": "nTIGOhOl9tre",
    "nbgrader": {
     "cell_type": "code",
     "checksum": "c4c23ab65366e2df77f5d70e581aa9f6",
     "grade": true,
     "grade_id": "cell-c285b9edfcfbb9c8",
     "locked": false,
     "points": 10,
     "schema_version": 3,
     "solution": true
    },
    "outputId": "4aa785cb-67c9-445f-9c37-34a3b1485ec0"
   },
   "outputs": [
    {
     "data": {
      "text/html": [
       "<div>\n",
       "<style scoped>\n",
       "    .dataframe tbody tr th:only-of-type {\n",
       "        vertical-align: middle;\n",
       "    }\n",
       "\n",
       "    .dataframe tbody tr th {\n",
       "        vertical-align: top;\n",
       "    }\n",
       "\n",
       "    .dataframe thead th {\n",
       "        text-align: right;\n",
       "    }\n",
       "</style>\n",
       "<table border=\"1\" class=\"dataframe\">\n",
       "  <thead>\n",
       "    <tr style=\"text-align: right;\">\n",
       "      <th></th>\n",
       "      <th>pclass</th>\n",
       "      <th>survived</th>\n",
       "      <th>name</th>\n",
       "      <th>sex</th>\n",
       "      <th>age</th>\n",
       "      <th>sibsp</th>\n",
       "      <th>parch</th>\n",
       "      <th>ticket</th>\n",
       "      <th>fare</th>\n",
       "      <th>cabin</th>\n",
       "      <th>embarked</th>\n",
       "      <th>boat</th>\n",
       "      <th>body</th>\n",
       "      <th>home.dest</th>\n",
       "    </tr>\n",
       "  </thead>\n",
       "  <tbody>\n",
       "    <tr>\n",
       "      <th>1304</th>\n",
       "      <td>3</td>\n",
       "      <td>0</td>\n",
       "      <td>Zabour, Miss. Hileni</td>\n",
       "      <td>female</td>\n",
       "      <td>14.5</td>\n",
       "      <td>1</td>\n",
       "      <td>0</td>\n",
       "      <td>2665</td>\n",
       "      <td>14.4542</td>\n",
       "      <td>NaN</td>\n",
       "      <td>C</td>\n",
       "      <td>NaN</td>\n",
       "      <td>328.0</td>\n",
       "      <td>NaN</td>\n",
       "    </tr>\n",
       "    <tr>\n",
       "      <th>1305</th>\n",
       "      <td>3</td>\n",
       "      <td>0</td>\n",
       "      <td>Zabour, Miss. Thamine</td>\n",
       "      <td>female</td>\n",
       "      <td>NaN</td>\n",
       "      <td>1</td>\n",
       "      <td>0</td>\n",
       "      <td>2665</td>\n",
       "      <td>14.4542</td>\n",
       "      <td>NaN</td>\n",
       "      <td>C</td>\n",
       "      <td>NaN</td>\n",
       "      <td>NaN</td>\n",
       "      <td>NaN</td>\n",
       "    </tr>\n",
       "    <tr>\n",
       "      <th>1306</th>\n",
       "      <td>3</td>\n",
       "      <td>0</td>\n",
       "      <td>Zakarian, Mr. Mapriededer</td>\n",
       "      <td>male</td>\n",
       "      <td>26.5</td>\n",
       "      <td>0</td>\n",
       "      <td>0</td>\n",
       "      <td>2656</td>\n",
       "      <td>7.2250</td>\n",
       "      <td>NaN</td>\n",
       "      <td>C</td>\n",
       "      <td>NaN</td>\n",
       "      <td>304.0</td>\n",
       "      <td>NaN</td>\n",
       "    </tr>\n",
       "    <tr>\n",
       "      <th>1307</th>\n",
       "      <td>3</td>\n",
       "      <td>0</td>\n",
       "      <td>Zakarian, Mr. Ortin</td>\n",
       "      <td>male</td>\n",
       "      <td>27.0</td>\n",
       "      <td>0</td>\n",
       "      <td>0</td>\n",
       "      <td>2670</td>\n",
       "      <td>7.2250</td>\n",
       "      <td>NaN</td>\n",
       "      <td>C</td>\n",
       "      <td>NaN</td>\n",
       "      <td>NaN</td>\n",
       "      <td>NaN</td>\n",
       "    </tr>\n",
       "    <tr>\n",
       "      <th>1308</th>\n",
       "      <td>3</td>\n",
       "      <td>0</td>\n",
       "      <td>Zimmerman, Mr. Leo</td>\n",
       "      <td>male</td>\n",
       "      <td>29.0</td>\n",
       "      <td>0</td>\n",
       "      <td>0</td>\n",
       "      <td>315082</td>\n",
       "      <td>7.8750</td>\n",
       "      <td>NaN</td>\n",
       "      <td>S</td>\n",
       "      <td>NaN</td>\n",
       "      <td>NaN</td>\n",
       "      <td>NaN</td>\n",
       "    </tr>\n",
       "  </tbody>\n",
       "</table>\n",
       "</div>"
      ],
      "text/plain": [
       "      pclass  survived                       name  ... boat   body  home.dest\n",
       "1304       3         0       Zabour, Miss. Hileni  ...  NaN  328.0        NaN\n",
       "1305       3         0      Zabour, Miss. Thamine  ...  NaN    NaN        NaN\n",
       "1306       3         0  Zakarian, Mr. Mapriededer  ...  NaN  304.0        NaN\n",
       "1307       3         0        Zakarian, Mr. Ortin  ...  NaN    NaN        NaN\n",
       "1308       3         0         Zimmerman, Mr. Leo  ...  NaN    NaN        NaN\n",
       "\n",
       "[5 rows x 14 columns]"
      ]
     },
     "execution_count": 128,
     "metadata": {
      "tags": []
     },
     "output_type": "execute_result"
    }
   ],
   "source": [
    "# Try out the tail method here\n",
    "df.tail()\n",
    "#raise NotImplementedError()"
   ]
  },
  {
   "cell_type": "markdown",
   "metadata": {
    "id": "LeL53Ght9trf"
   },
   "source": [
    "You can read more about the data on the [main data page](http://biostat.mc.vanderbilt.edu/wiki/pub/Main/DataSets/titanic.html) and the [version 3 data description](http://biostat.mc.vanderbilt.edu/wiki/pub/Main/DataSets/Ctitanic3.html).\n",
    "\n",
    "As a summary, here's what the column names for the data actually represent:\n",
    "\n",
    "- `pclass` - passenger class - 1st, 2nd or 3rd class\n",
    "- `survived` - whether or not the passenger survived. 1 survived, 0 did not\n",
    "- `name` - the passenger's name\n",
    "- `sex` - the passenger's sex\n",
    "- `age` - the passenger's age\n",
    "- `sibsbp` - number of siblings on board\n",
    "- `parch` - number of parents on board\n",
    "- `ticket` - ticket number\n",
    "- `fare` - how much the passenger paid for their ticket in British Pounds\n",
    "- `cabin` - the cabin number\n",
    "- `embarked` - the location they embarked - C=Cherbourg, Q=Queenstown, S=Southampton\n",
    "- `boat` - the boat number \n",
    "- `body` - body identification number\n",
    "- `home.dest` - their home followed by the destination"
   ]
  },
  {
   "cell_type": "markdown",
   "metadata": {
    "id": "N_jJ6YJc9trg"
   },
   "source": [
    "You may notice that a lot of values show up as `NaN`. This could mean that the values were empty or just weren't capable of being read by pandas.\n",
    "We can deal with these values in a variety of ways. We can eliminate them from our dataset or place guesstimates instead. Depending on how we will be using the data, each approach might have some value.\n",
    "We will focus on eliminating the values since that is usually the better/safer approach.\n",
    "\n",
    "If a particular feature doesn't have that many rows of data then we might want to eliminate that feature, otherwise we can delete the rows that have `NaN`s in them. First, let's find out more about our data. We can do so using the [describe](https://pandas.pydata.org/pandas-docs/stable/generated/pandas.DataFrame.describe.html) method of DataFrames."
   ]
  },
  {
   "cell_type": "code",
   "execution_count": 129,
   "metadata": {
    "colab": {
     "base_uri": "https://localhost:8080/",
     "height": 363
    },
    "id": "1gnspjuh9trh",
    "outputId": "8f3f0f99-15cc-4d36-b3ac-856f5e39d85b"
   },
   "outputs": [
    {
     "data": {
      "text/html": [
       "<div>\n",
       "<style scoped>\n",
       "    .dataframe tbody tr th:only-of-type {\n",
       "        vertical-align: middle;\n",
       "    }\n",
       "\n",
       "    .dataframe tbody tr th {\n",
       "        vertical-align: top;\n",
       "    }\n",
       "\n",
       "    .dataframe thead th {\n",
       "        text-align: right;\n",
       "    }\n",
       "</style>\n",
       "<table border=\"1\" class=\"dataframe\">\n",
       "  <thead>\n",
       "    <tr style=\"text-align: right;\">\n",
       "      <th></th>\n",
       "      <th>pclass</th>\n",
       "      <th>survived</th>\n",
       "      <th>name</th>\n",
       "      <th>sex</th>\n",
       "      <th>age</th>\n",
       "      <th>sibsp</th>\n",
       "      <th>parch</th>\n",
       "      <th>ticket</th>\n",
       "      <th>fare</th>\n",
       "      <th>cabin</th>\n",
       "      <th>embarked</th>\n",
       "      <th>boat</th>\n",
       "      <th>body</th>\n",
       "      <th>home.dest</th>\n",
       "    </tr>\n",
       "  </thead>\n",
       "  <tbody>\n",
       "    <tr>\n",
       "      <th>count</th>\n",
       "      <td>1309.000000</td>\n",
       "      <td>1309.000000</td>\n",
       "      <td>1309</td>\n",
       "      <td>1309</td>\n",
       "      <td>1046.000000</td>\n",
       "      <td>1309.000000</td>\n",
       "      <td>1309.000000</td>\n",
       "      <td>1309</td>\n",
       "      <td>1308.000000</td>\n",
       "      <td>295</td>\n",
       "      <td>1307</td>\n",
       "      <td>486</td>\n",
       "      <td>121.000000</td>\n",
       "      <td>745</td>\n",
       "    </tr>\n",
       "    <tr>\n",
       "      <th>unique</th>\n",
       "      <td>NaN</td>\n",
       "      <td>NaN</td>\n",
       "      <td>1307</td>\n",
       "      <td>2</td>\n",
       "      <td>NaN</td>\n",
       "      <td>NaN</td>\n",
       "      <td>NaN</td>\n",
       "      <td>929</td>\n",
       "      <td>NaN</td>\n",
       "      <td>186</td>\n",
       "      <td>3</td>\n",
       "      <td>27</td>\n",
       "      <td>NaN</td>\n",
       "      <td>369</td>\n",
       "    </tr>\n",
       "    <tr>\n",
       "      <th>top</th>\n",
       "      <td>NaN</td>\n",
       "      <td>NaN</td>\n",
       "      <td>Kelly, Mr. James</td>\n",
       "      <td>male</td>\n",
       "      <td>NaN</td>\n",
       "      <td>NaN</td>\n",
       "      <td>NaN</td>\n",
       "      <td>CA. 2343</td>\n",
       "      <td>NaN</td>\n",
       "      <td>C23 C25 C27</td>\n",
       "      <td>S</td>\n",
       "      <td>13</td>\n",
       "      <td>NaN</td>\n",
       "      <td>New York, NY</td>\n",
       "    </tr>\n",
       "    <tr>\n",
       "      <th>freq</th>\n",
       "      <td>NaN</td>\n",
       "      <td>NaN</td>\n",
       "      <td>2</td>\n",
       "      <td>843</td>\n",
       "      <td>NaN</td>\n",
       "      <td>NaN</td>\n",
       "      <td>NaN</td>\n",
       "      <td>11</td>\n",
       "      <td>NaN</td>\n",
       "      <td>6</td>\n",
       "      <td>914</td>\n",
       "      <td>39</td>\n",
       "      <td>NaN</td>\n",
       "      <td>64</td>\n",
       "    </tr>\n",
       "    <tr>\n",
       "      <th>mean</th>\n",
       "      <td>2.294882</td>\n",
       "      <td>0.381971</td>\n",
       "      <td>NaN</td>\n",
       "      <td>NaN</td>\n",
       "      <td>29.881138</td>\n",
       "      <td>0.498854</td>\n",
       "      <td>0.385027</td>\n",
       "      <td>NaN</td>\n",
       "      <td>33.295479</td>\n",
       "      <td>NaN</td>\n",
       "      <td>NaN</td>\n",
       "      <td>NaN</td>\n",
       "      <td>160.809917</td>\n",
       "      <td>NaN</td>\n",
       "    </tr>\n",
       "    <tr>\n",
       "      <th>std</th>\n",
       "      <td>0.837836</td>\n",
       "      <td>0.486055</td>\n",
       "      <td>NaN</td>\n",
       "      <td>NaN</td>\n",
       "      <td>14.413493</td>\n",
       "      <td>1.041658</td>\n",
       "      <td>0.865560</td>\n",
       "      <td>NaN</td>\n",
       "      <td>51.758668</td>\n",
       "      <td>NaN</td>\n",
       "      <td>NaN</td>\n",
       "      <td>NaN</td>\n",
       "      <td>97.696922</td>\n",
       "      <td>NaN</td>\n",
       "    </tr>\n",
       "    <tr>\n",
       "      <th>min</th>\n",
       "      <td>1.000000</td>\n",
       "      <td>0.000000</td>\n",
       "      <td>NaN</td>\n",
       "      <td>NaN</td>\n",
       "      <td>0.170000</td>\n",
       "      <td>0.000000</td>\n",
       "      <td>0.000000</td>\n",
       "      <td>NaN</td>\n",
       "      <td>0.000000</td>\n",
       "      <td>NaN</td>\n",
       "      <td>NaN</td>\n",
       "      <td>NaN</td>\n",
       "      <td>1.000000</td>\n",
       "      <td>NaN</td>\n",
       "    </tr>\n",
       "    <tr>\n",
       "      <th>25%</th>\n",
       "      <td>2.000000</td>\n",
       "      <td>0.000000</td>\n",
       "      <td>NaN</td>\n",
       "      <td>NaN</td>\n",
       "      <td>21.000000</td>\n",
       "      <td>0.000000</td>\n",
       "      <td>0.000000</td>\n",
       "      <td>NaN</td>\n",
       "      <td>7.895800</td>\n",
       "      <td>NaN</td>\n",
       "      <td>NaN</td>\n",
       "      <td>NaN</td>\n",
       "      <td>72.000000</td>\n",
       "      <td>NaN</td>\n",
       "    </tr>\n",
       "    <tr>\n",
       "      <th>50%</th>\n",
       "      <td>3.000000</td>\n",
       "      <td>0.000000</td>\n",
       "      <td>NaN</td>\n",
       "      <td>NaN</td>\n",
       "      <td>28.000000</td>\n",
       "      <td>0.000000</td>\n",
       "      <td>0.000000</td>\n",
       "      <td>NaN</td>\n",
       "      <td>14.454200</td>\n",
       "      <td>NaN</td>\n",
       "      <td>NaN</td>\n",
       "      <td>NaN</td>\n",
       "      <td>155.000000</td>\n",
       "      <td>NaN</td>\n",
       "    </tr>\n",
       "    <tr>\n",
       "      <th>75%</th>\n",
       "      <td>3.000000</td>\n",
       "      <td>1.000000</td>\n",
       "      <td>NaN</td>\n",
       "      <td>NaN</td>\n",
       "      <td>39.000000</td>\n",
       "      <td>1.000000</td>\n",
       "      <td>0.000000</td>\n",
       "      <td>NaN</td>\n",
       "      <td>31.275000</td>\n",
       "      <td>NaN</td>\n",
       "      <td>NaN</td>\n",
       "      <td>NaN</td>\n",
       "      <td>256.000000</td>\n",
       "      <td>NaN</td>\n",
       "    </tr>\n",
       "    <tr>\n",
       "      <th>max</th>\n",
       "      <td>3.000000</td>\n",
       "      <td>1.000000</td>\n",
       "      <td>NaN</td>\n",
       "      <td>NaN</td>\n",
       "      <td>80.000000</td>\n",
       "      <td>8.000000</td>\n",
       "      <td>9.000000</td>\n",
       "      <td>NaN</td>\n",
       "      <td>512.329200</td>\n",
       "      <td>NaN</td>\n",
       "      <td>NaN</td>\n",
       "      <td>NaN</td>\n",
       "      <td>328.000000</td>\n",
       "      <td>NaN</td>\n",
       "    </tr>\n",
       "  </tbody>\n",
       "</table>\n",
       "</div>"
      ],
      "text/plain": [
       "             pclass     survived  ...        body     home.dest\n",
       "count   1309.000000  1309.000000  ...  121.000000           745\n",
       "unique          NaN          NaN  ...         NaN           369\n",
       "top             NaN          NaN  ...         NaN  New York, NY\n",
       "freq            NaN          NaN  ...         NaN            64\n",
       "mean       2.294882     0.381971  ...  160.809917           NaN\n",
       "std        0.837836     0.486055  ...   97.696922           NaN\n",
       "min        1.000000     0.000000  ...    1.000000           NaN\n",
       "25%        2.000000     0.000000  ...   72.000000           NaN\n",
       "50%        3.000000     0.000000  ...  155.000000           NaN\n",
       "75%        3.000000     1.000000  ...  256.000000           NaN\n",
       "max        3.000000     1.000000  ...  328.000000           NaN\n",
       "\n",
       "[11 rows x 14 columns]"
      ]
     },
     "execution_count": 129,
     "metadata": {
      "tags": []
     },
     "output_type": "execute_result"
    }
   ],
   "source": [
    "df.describe(include=\"all\")"
   ]
  },
  {
   "cell_type": "markdown",
   "metadata": {
    "id": "RmpCEY3P9trh"
   },
   "source": [
    "We can see from the above summary that the cabin and boat columns have the fewest values."
   ]
  },
  {
   "cell_type": "markdown",
   "metadata": {
    "id": "uajW7Z1d9tri"
   },
   "source": [
    "## Data Cleaning"
   ]
  },
  {
   "cell_type": "markdown",
   "metadata": {
    "id": "3v-In5Mc9trj"
   },
   "source": [
    "We can also check how many values in each column are null. A good way to do this is explained in this [stack overflow question](https://stackoverflow.com/a/26266451/818687). Find out how many `NaN`s we have in each column."
   ]
  },
  {
   "cell_type": "code",
   "execution_count": 130,
   "metadata": {
    "colab": {
     "base_uri": "https://localhost:8080/"
    },
    "deletable": false,
    "id": "uxGNIEbh9trj",
    "nbgrader": {
     "cell_type": "code",
     "checksum": "637b8d3bed5bb0c0c6d4bd987b532f5d",
     "grade": true,
     "grade_id": "cell-100bb17e0273b8d0",
     "locked": false,
     "points": 10,
     "schema_version": 3,
     "solution": true
    },
    "outputId": "8905b0a4-95ae-42fe-dba6-52ed4f420181"
   },
   "outputs": [
    {
     "data": {
      "text/plain": [
       "pclass          0\n",
       "survived        0\n",
       "name            0\n",
       "sex             0\n",
       "age           263\n",
       "sibsp           0\n",
       "parch           0\n",
       "ticket          0\n",
       "fare            1\n",
       "cabin        1014\n",
       "embarked        2\n",
       "boat          823\n",
       "body         1188\n",
       "home.dest     564\n",
       "dtype: int64"
      ]
     },
     "execution_count": 130,
     "metadata": {
      "tags": []
     },
     "output_type": "execute_result"
    }
   ],
   "source": [
    "# Show the number of NaNs we have in each column\n",
    "df.isna().sum()\n",
    "#raise NotImplementedError()"
   ]
  },
  {
   "cell_type": "markdown",
   "metadata": {
    "id": "AAoWAH9R9trk"
   },
   "source": [
    "Since some features have a lot of null values, we may want to drop those features instead of deleting all the rows that don't have values for them. We can do so using the [drop](https://pandas.pydata.org/pandas-docs/stable/generated/pandas.DataFrame.drop.html) method of DataFrames. We won't be revisiting these columns so you can set `inplace=True` when you use this method, this will update the original DataFrame. Drop the cabin, boat, body, and home.dest columns."
   ]
  },
  {
   "cell_type": "code",
   "execution_count": 131,
   "metadata": {
    "deletable": false,
    "id": "ERSbQm2s9trk",
    "nbgrader": {
     "cell_type": "code",
     "checksum": "2c824afb4593bbcee956af14c204afe2",
     "grade": false,
     "grade_id": "cell-560efd89fc3e08b9",
     "locked": false,
     "schema_version": 3,
     "solution": true
    }
   },
   "outputs": [],
   "source": [
    "# Drop the cabin, boat, body, and home.dest columns.\n",
    "df.drop(columns=['cabin', 'boat', 'body', 'home.dest'], inplace = True)\n",
    "#raise NotImplementedError()"
   ]
  },
  {
   "cell_type": "code",
   "execution_count": 132,
   "metadata": {
    "deletable": false,
    "editable": false,
    "id": "vl6FbC1_9trl",
    "nbgrader": {
     "cell_type": "code",
     "checksum": "885a0235ed7b4531aab93c774ef981cd",
     "grade": true,
     "grade_id": "cell-cdc57e0b1c3d5fc7",
     "locked": true,
     "points": 10,
     "schema_version": 3,
     "solution": false
    }
   },
   "outputs": [],
   "source": [
    "assert \"cabin\" not in df.columns\n",
    "assert \"boat\" not in df.columns\n",
    "assert \"body\" not in df.columns\n",
    "assert \"home.dest\" not in df.columns"
   ]
  },
  {
   "cell_type": "code",
   "execution_count": 133,
   "metadata": {
    "colab": {
     "base_uri": "https://localhost:8080/",
     "height": 277
    },
    "id": "WZX-Iipp9trm",
    "outputId": "7f3cb8c9-aa22-4ed0-a99d-173afae1a9d7"
   },
   "outputs": [
    {
     "data": {
      "text/html": [
       "<div>\n",
       "<style scoped>\n",
       "    .dataframe tbody tr th:only-of-type {\n",
       "        vertical-align: middle;\n",
       "    }\n",
       "\n",
       "    .dataframe tbody tr th {\n",
       "        vertical-align: top;\n",
       "    }\n",
       "\n",
       "    .dataframe thead th {\n",
       "        text-align: right;\n",
       "    }\n",
       "</style>\n",
       "<table border=\"1\" class=\"dataframe\">\n",
       "  <thead>\n",
       "    <tr style=\"text-align: right;\">\n",
       "      <th></th>\n",
       "      <th>pclass</th>\n",
       "      <th>survived</th>\n",
       "      <th>age</th>\n",
       "      <th>sibsp</th>\n",
       "      <th>parch</th>\n",
       "      <th>fare</th>\n",
       "    </tr>\n",
       "  </thead>\n",
       "  <tbody>\n",
       "    <tr>\n",
       "      <th>count</th>\n",
       "      <td>1309.000000</td>\n",
       "      <td>1309.000000</td>\n",
       "      <td>1046.000000</td>\n",
       "      <td>1309.000000</td>\n",
       "      <td>1309.000000</td>\n",
       "      <td>1308.000000</td>\n",
       "    </tr>\n",
       "    <tr>\n",
       "      <th>mean</th>\n",
       "      <td>2.294882</td>\n",
       "      <td>0.381971</td>\n",
       "      <td>29.881138</td>\n",
       "      <td>0.498854</td>\n",
       "      <td>0.385027</td>\n",
       "      <td>33.295479</td>\n",
       "    </tr>\n",
       "    <tr>\n",
       "      <th>std</th>\n",
       "      <td>0.837836</td>\n",
       "      <td>0.486055</td>\n",
       "      <td>14.413493</td>\n",
       "      <td>1.041658</td>\n",
       "      <td>0.865560</td>\n",
       "      <td>51.758668</td>\n",
       "    </tr>\n",
       "    <tr>\n",
       "      <th>min</th>\n",
       "      <td>1.000000</td>\n",
       "      <td>0.000000</td>\n",
       "      <td>0.170000</td>\n",
       "      <td>0.000000</td>\n",
       "      <td>0.000000</td>\n",
       "      <td>0.000000</td>\n",
       "    </tr>\n",
       "    <tr>\n",
       "      <th>25%</th>\n",
       "      <td>2.000000</td>\n",
       "      <td>0.000000</td>\n",
       "      <td>21.000000</td>\n",
       "      <td>0.000000</td>\n",
       "      <td>0.000000</td>\n",
       "      <td>7.895800</td>\n",
       "    </tr>\n",
       "    <tr>\n",
       "      <th>50%</th>\n",
       "      <td>3.000000</td>\n",
       "      <td>0.000000</td>\n",
       "      <td>28.000000</td>\n",
       "      <td>0.000000</td>\n",
       "      <td>0.000000</td>\n",
       "      <td>14.454200</td>\n",
       "    </tr>\n",
       "    <tr>\n",
       "      <th>75%</th>\n",
       "      <td>3.000000</td>\n",
       "      <td>1.000000</td>\n",
       "      <td>39.000000</td>\n",
       "      <td>1.000000</td>\n",
       "      <td>0.000000</td>\n",
       "      <td>31.275000</td>\n",
       "    </tr>\n",
       "    <tr>\n",
       "      <th>max</th>\n",
       "      <td>3.000000</td>\n",
       "      <td>1.000000</td>\n",
       "      <td>80.000000</td>\n",
       "      <td>8.000000</td>\n",
       "      <td>9.000000</td>\n",
       "      <td>512.329200</td>\n",
       "    </tr>\n",
       "  </tbody>\n",
       "</table>\n",
       "</div>"
      ],
      "text/plain": [
       "            pclass     survived  ...        parch         fare\n",
       "count  1309.000000  1309.000000  ...  1309.000000  1308.000000\n",
       "mean      2.294882     0.381971  ...     0.385027    33.295479\n",
       "std       0.837836     0.486055  ...     0.865560    51.758668\n",
       "min       1.000000     0.000000  ...     0.000000     0.000000\n",
       "25%       2.000000     0.000000  ...     0.000000     7.895800\n",
       "50%       3.000000     0.000000  ...     0.000000    14.454200\n",
       "75%       3.000000     1.000000  ...     0.000000    31.275000\n",
       "max       3.000000     1.000000  ...     9.000000   512.329200\n",
       "\n",
       "[8 rows x 6 columns]"
      ]
     },
     "execution_count": 133,
     "metadata": {
      "tags": []
     },
     "output_type": "execute_result"
    }
   ],
   "source": [
    "df.describe()"
   ]
  },
  {
   "cell_type": "markdown",
   "metadata": {
    "id": "rbqeewRS9trm"
   },
   "source": [
    "We still had some rows that had NaN values so let's drop those rows. We can use the [dropna](https://pandas.pydata.org/pandas-docs/stable/generated/pandas.DataFrame.dropna.html) method. Drop all rows that have any `NaN` values.\n",
    "You can also just update the df variable since we won't be using the other data (set `inplace=True`)."
   ]
  },
  {
   "cell_type": "code",
   "execution_count": 134,
   "metadata": {
    "deletable": false,
    "id": "NowvaSnU9trn",
    "nbgrader": {
     "cell_type": "code",
     "checksum": "2c098732c056a76111b2ef3ef421f9aa",
     "grade": false,
     "grade_id": "cell-3995d8b30799a584",
     "locked": false,
     "schema_version": 3,
     "solution": true
    }
   },
   "outputs": [],
   "source": [
    "# Drop any rows with na values. Use inplace=True or assign the result to df\n",
    "df.dropna(inplace=True)\n",
    "#raise NotImplementedError()"
   ]
  },
  {
   "cell_type": "code",
   "execution_count": 135,
   "metadata": {
    "deletable": false,
    "editable": false,
    "id": "1aKeaViC9tro",
    "nbgrader": {
     "cell_type": "code",
     "checksum": "443bf03198e6a6d9edd887b430f87615",
     "grade": true,
     "grade_id": "cell-d521d0c8b45116d0",
     "locked": true,
     "points": 10,
     "schema_version": 3,
     "solution": false
    }
   },
   "outputs": [],
   "source": [
    "assert df.isnull().sum().sum() == 0\n",
    "assert len(df) == 1043"
   ]
  },
  {
   "cell_type": "code",
   "execution_count": 136,
   "metadata": {
    "colab": {
     "base_uri": "https://localhost:8080/",
     "height": 277
    },
    "id": "mwdMeSuQ9tro",
    "outputId": "a5157761-3181-4450-b7fe-920248b8c094"
   },
   "outputs": [
    {
     "data": {
      "text/html": [
       "<div>\n",
       "<style scoped>\n",
       "    .dataframe tbody tr th:only-of-type {\n",
       "        vertical-align: middle;\n",
       "    }\n",
       "\n",
       "    .dataframe tbody tr th {\n",
       "        vertical-align: top;\n",
       "    }\n",
       "\n",
       "    .dataframe thead th {\n",
       "        text-align: right;\n",
       "    }\n",
       "</style>\n",
       "<table border=\"1\" class=\"dataframe\">\n",
       "  <thead>\n",
       "    <tr style=\"text-align: right;\">\n",
       "      <th></th>\n",
       "      <th>pclass</th>\n",
       "      <th>survived</th>\n",
       "      <th>age</th>\n",
       "      <th>sibsp</th>\n",
       "      <th>parch</th>\n",
       "      <th>fare</th>\n",
       "    </tr>\n",
       "  </thead>\n",
       "  <tbody>\n",
       "    <tr>\n",
       "      <th>count</th>\n",
       "      <td>1043.000000</td>\n",
       "      <td>1043.000000</td>\n",
       "      <td>1043.000000</td>\n",
       "      <td>1043.000000</td>\n",
       "      <td>1043.000000</td>\n",
       "      <td>1043.000000</td>\n",
       "    </tr>\n",
       "    <tr>\n",
       "      <th>mean</th>\n",
       "      <td>2.209012</td>\n",
       "      <td>0.407478</td>\n",
       "      <td>29.813202</td>\n",
       "      <td>0.504314</td>\n",
       "      <td>0.421860</td>\n",
       "      <td>36.603024</td>\n",
       "    </tr>\n",
       "    <tr>\n",
       "      <th>std</th>\n",
       "      <td>0.840685</td>\n",
       "      <td>0.491601</td>\n",
       "      <td>14.366254</td>\n",
       "      <td>0.913080</td>\n",
       "      <td>0.840655</td>\n",
       "      <td>55.753648</td>\n",
       "    </tr>\n",
       "    <tr>\n",
       "      <th>min</th>\n",
       "      <td>1.000000</td>\n",
       "      <td>0.000000</td>\n",
       "      <td>0.170000</td>\n",
       "      <td>0.000000</td>\n",
       "      <td>0.000000</td>\n",
       "      <td>0.000000</td>\n",
       "    </tr>\n",
       "    <tr>\n",
       "      <th>25%</th>\n",
       "      <td>1.000000</td>\n",
       "      <td>0.000000</td>\n",
       "      <td>21.000000</td>\n",
       "      <td>0.000000</td>\n",
       "      <td>0.000000</td>\n",
       "      <td>8.050000</td>\n",
       "    </tr>\n",
       "    <tr>\n",
       "      <th>50%</th>\n",
       "      <td>2.000000</td>\n",
       "      <td>0.000000</td>\n",
       "      <td>28.000000</td>\n",
       "      <td>0.000000</td>\n",
       "      <td>0.000000</td>\n",
       "      <td>15.750000</td>\n",
       "    </tr>\n",
       "    <tr>\n",
       "      <th>75%</th>\n",
       "      <td>3.000000</td>\n",
       "      <td>1.000000</td>\n",
       "      <td>39.000000</td>\n",
       "      <td>1.000000</td>\n",
       "      <td>1.000000</td>\n",
       "      <td>35.077100</td>\n",
       "    </tr>\n",
       "    <tr>\n",
       "      <th>max</th>\n",
       "      <td>3.000000</td>\n",
       "      <td>1.000000</td>\n",
       "      <td>80.000000</td>\n",
       "      <td>8.000000</td>\n",
       "      <td>6.000000</td>\n",
       "      <td>512.329200</td>\n",
       "    </tr>\n",
       "  </tbody>\n",
       "</table>\n",
       "</div>"
      ],
      "text/plain": [
       "            pclass     survived  ...        parch         fare\n",
       "count  1043.000000  1043.000000  ...  1043.000000  1043.000000\n",
       "mean      2.209012     0.407478  ...     0.421860    36.603024\n",
       "std       0.840685     0.491601  ...     0.840655    55.753648\n",
       "min       1.000000     0.000000  ...     0.000000     0.000000\n",
       "25%       1.000000     0.000000  ...     0.000000     8.050000\n",
       "50%       2.000000     0.000000  ...     0.000000    15.750000\n",
       "75%       3.000000     1.000000  ...     1.000000    35.077100\n",
       "max       3.000000     1.000000  ...     6.000000   512.329200\n",
       "\n",
       "[8 rows x 6 columns]"
      ]
     },
     "execution_count": 136,
     "metadata": {
      "tags": []
     },
     "output_type": "execute_result"
    }
   ],
   "source": [
    "df.describe()"
   ]
  },
  {
   "cell_type": "markdown",
   "metadata": {
    "id": "IvEPTnpy9tro"
   },
   "source": [
    "We know that some of our features are represented as numbers but are actually classes, such as `pclass` and `survived`. Let's look at how many people survived vs didn't and how many were in each class.\n",
    "\n",
    "We can use the [value_counts](https://pandas.pydata.org/pandas-docs/stable/generated/pandas.Series.value_counts.html) Series method for this. First, let's look at how we select a feature column from a DataFrame. We can select it by passing in the name of the column just like we would with Python dictionaries."
   ]
  },
  {
   "cell_type": "code",
   "execution_count": 137,
   "metadata": {
    "colab": {
     "base_uri": "https://localhost:8080/"
    },
    "id": "hMcV4n0V9trp",
    "outputId": "0a4cf35f-4a4e-4ddd-d9e4-b33cd4fdd632"
   },
   "outputs": [
    {
     "data": {
      "text/plain": [
       "0       1\n",
       "1       1\n",
       "2       0\n",
       "3       0\n",
       "4       0\n",
       "       ..\n",
       "1301    0\n",
       "1304    0\n",
       "1306    0\n",
       "1307    0\n",
       "1308    0\n",
       "Name: survived, Length: 1043, dtype: int64"
      ]
     },
     "execution_count": 137,
     "metadata": {
      "tags": []
     },
     "output_type": "execute_result"
    }
   ],
   "source": [
    "# Selecting the \"survived\" column\n",
    "df[\"survived\"]"
   ]
  },
  {
   "cell_type": "markdown",
   "metadata": {
    "id": "CwhaQIlj9trp"
   },
   "source": [
    "When we select an individual DataFrame column it returns the data as a Series object. You can read more about [Series](https://pandas.pydata.org/pandas-docs/stable/generated/pandas.Series.html) and check out the [user guide](https://pandas.pydata.org/pandas-docs/stable/dsintro.html#series).\n",
    "\n",
    "Many of the methods available in pandas work for both DataFrames and Series. `head` and `tail` are examples of those."
   ]
  },
  {
   "cell_type": "code",
   "execution_count": 138,
   "metadata": {
    "colab": {
     "base_uri": "https://localhost:8080/"
    },
    "id": "hX_WlX7Y9trq",
    "outputId": "74046876-dd21-41b1-c1e7-0d381c62ede7"
   },
   "outputs": [
    {
     "data": {
      "text/plain": [
       "0    1\n",
       "1    1\n",
       "2    0\n",
       "3    0\n",
       "4    0\n",
       "Name: survived, dtype: int64"
      ]
     },
     "execution_count": 138,
     "metadata": {
      "tags": []
     },
     "output_type": "execute_result"
    }
   ],
   "source": [
    "df[\"survived\"].head()"
   ]
  },
  {
   "cell_type": "code",
   "execution_count": 139,
   "metadata": {
    "colab": {
     "base_uri": "https://localhost:8080/"
    },
    "id": "Ks8dNX059trq",
    "outputId": "be38dfce-3557-49e7-e92a-64f7fee3f797"
   },
   "outputs": [
    {
     "data": {
      "text/plain": [
       "1301    0\n",
       "1304    0\n",
       "1306    0\n",
       "1307    0\n",
       "1308    0\n",
       "Name: survived, dtype: int64"
      ]
     },
     "execution_count": 139,
     "metadata": {
      "tags": []
     },
     "output_type": "execute_result"
    }
   ],
   "source": [
    "df[\"survived\"].tail()"
   ]
  },
  {
   "cell_type": "markdown",
   "metadata": {
    "id": "vuUzmd699trr"
   },
   "source": [
    "Now let's try out [value_counts](https://pandas.pydata.org/pandas-docs/stable/generated/pandas.Series.value_counts.html) to determine how many people survived and how many died."
   ]
  },
  {
   "cell_type": "code",
   "execution_count": 140,
   "metadata": {
    "colab": {
     "base_uri": "https://localhost:8080/"
    },
    "id": "ip_H1e939trr",
    "outputId": "6e7c7bda-cf7e-4627-f694-f2a5076b6f95"
   },
   "outputs": [
    {
     "data": {
      "text/plain": [
       "0    618\n",
       "1    425\n",
       "Name: survived, dtype: int64"
      ]
     },
     "execution_count": 140,
     "metadata": {
      "tags": []
     },
     "output_type": "execute_result"
    }
   ],
   "source": [
    "df[\"survived\"].value_counts()"
   ]
  },
  {
   "cell_type": "markdown",
   "metadata": {
    "id": "GP7aHU9O9trr"
   },
   "source": [
    "We can also determine these values as a percentage by setting `normalize=True`."
   ]
  },
  {
   "cell_type": "code",
   "execution_count": 141,
   "metadata": {
    "colab": {
     "base_uri": "https://localhost:8080/"
    },
    "id": "08PXFy6m9trs",
    "outputId": "84e52b09-8160-46c9-a669-a50f03a3fa27"
   },
   "outputs": [
    {
     "data": {
      "text/plain": [
       "0    0.592522\n",
       "1    0.407478\n",
       "Name: survived, dtype: float64"
      ]
     },
     "execution_count": 141,
     "metadata": {
      "tags": []
     },
     "output_type": "execute_result"
    }
   ],
   "source": [
    "df[\"survived\"].value_counts(normalize=True)"
   ]
  },
  {
   "cell_type": "markdown",
   "metadata": {
    "id": "NugAU5019trs"
   },
   "source": [
    "Now determine the same for the passenger classes and the sexes."
   ]
  },
  {
   "cell_type": "code",
   "execution_count": 142,
   "metadata": {
    "colab": {
     "base_uri": "https://localhost:8080/"
    },
    "deletable": false,
    "id": "YH6-qday9trs",
    "nbgrader": {
     "cell_type": "code",
     "checksum": "c48ae5398ca375a883c879a401f841c3",
     "grade": true,
     "grade_id": "pclass-value_counts",
     "locked": false,
     "points": 5,
     "schema_version": 3,
     "solution": true
    },
    "outputId": "d1726adf-b691-463e-94dd-75bb367a63d4"
   },
   "outputs": [
    {
     "name": "stdout",
     "output_type": "stream",
     "text": [
      "2304\n"
     ]
    }
   ],
   "source": [
    "# Find out how many people were in each class\n",
    "sum = df['pclass'].sum()\n",
    "print(sum)\n",
    "#raise NotImplementedError()"
   ]
  },
  {
   "cell_type": "code",
   "execution_count": 143,
   "metadata": {
    "colab": {
     "base_uri": "https://localhost:8080/"
    },
    "deletable": false,
    "id": "F1OLClAb9trt",
    "nbgrader": {
     "cell_type": "code",
     "checksum": "4f7ea2a82f91b738765bc99ec3c17e1f",
     "grade": true,
     "grade_id": "pclass-value_counts_norm",
     "locked": false,
     "points": 5,
     "schema_version": 3,
     "solution": true
    },
    "outputId": "acfa25f2-bd42-4dc6-f057-3f2a404840d5"
   },
   "outputs": [
    {
     "name": "stdout",
     "output_type": "stream",
     "text": [
      "12.239583333333334 11.328125 and 21.70138888888889 percent\n"
     ]
    }
   ],
   "source": [
    "# Find out what percentage of people were in each class\n",
    "number1 = 100*list(df['pclass']).count(1)/sum\n",
    "number2 = 100*list(df['pclass']).count(2)/sum\n",
    "number3 = 100*list(df['pclass']).count(3)/sum\n",
    "print(number1, number2, \"and\", number3, \"percent\")\n",
    "#raise NotImplementedError()"
   ]
  },
  {
   "cell_type": "code",
   "execution_count": 144,
   "metadata": {
    "colab": {
     "base_uri": "https://localhost:8080/"
    },
    "deletable": false,
    "id": "U7Mqf2779trt",
    "nbgrader": {
     "cell_type": "code",
     "checksum": "05989026b7ebc450ed6f0aba3e632bb1",
     "grade": true,
     "grade_id": "sex-value_counts",
     "locked": false,
     "points": 5,
     "schema_version": 3,
     "solution": true
    },
    "outputId": "e060f67c-d833-4d38-ecb1-1a9964de7288"
   },
   "outputs": [
    {
     "name": "stdout",
     "output_type": "stream",
     "text": [
      "female:  386  male:  657\n"
     ]
    }
   ],
   "source": [
    "# Find out how many people are of each sex\n",
    "female = list(df['sex']).count(\"female\")\n",
    "male = list(df['sex']).count(\"male\")\n",
    "print(\"female: \", female, \" male: \", male)\n",
    "#raise NotImplementedError()"
   ]
  },
  {
   "cell_type": "code",
   "execution_count": 145,
   "metadata": {
    "colab": {
     "base_uri": "https://localhost:8080/"
    },
    "deletable": false,
    "id": "H7g_Bs-L9trv",
    "nbgrader": {
     "cell_type": "code",
     "checksum": "3d55f0430fb4752c52dbe5c9f258feca",
     "grade": true,
     "grade_id": "sex_value_counts_norm",
     "locked": false,
     "points": 5,
     "schema_version": 3,
     "solution": true
    },
    "outputId": "f097ed75-296d-4b52-e5c9-eb2a2035b8e6"
   },
   "outputs": [
    {
     "name": "stdout",
     "output_type": "stream",
     "text": [
      "female:  0.3700862895493768  male:  0.6299137104506232\n"
     ]
    }
   ],
   "source": [
    "# Find out what percentage of people are of each sex\n",
    "sum = female + male\n",
    "pfemale = list(df['sex']).count(\"female\")/sum\n",
    "pmale = list(df['sex']).count(\"male\")/sum\n",
    "print(\"female: \", pfemale, \" male: \", pmale)\n",
    "#raise NotImplementedError()"
   ]
  },
  {
   "cell_type": "markdown",
   "metadata": {
    "id": "40z1UkaQ9trw"
   },
   "source": [
    "Value counts can give us some useful insights into the data and it works with string values and with numeric values as well. When we start working with machine learning models however, they prefer that things are in numeric form and not strings. If we also have multiple classes of a certain value it's better to have them as multiple features with each one specifying whether or not the value is true. These true/false features for each class are called dummy variables. Pandas makes it easy to create these dummy variables using the [get_dummies](https://pandas.pydata.org/pandas-docs/stable/generated/pandas.get_dummies.html) function. Try it out on the `pclass` and `sex` columns."
   ]
  },
  {
   "cell_type": "code",
   "execution_count": 146,
   "metadata": {
    "colab": {
     "base_uri": "https://localhost:8080/"
    },
    "deletable": false,
    "id": "s-mik4V79trx",
    "nbgrader": {
     "cell_type": "code",
     "checksum": "6022c164b8c3a2c2e0dc888550c2beab",
     "grade": true,
     "grade_id": "cell-a654a8408c69c6e9",
     "locked": false,
     "points": 5,
     "schema_version": 3,
     "solution": true
    },
    "outputId": "48e974b0-fb3a-4b96-f31c-fe5b915fd31f"
   },
   "outputs": [
    {
     "name": "stdout",
     "output_type": "stream",
     "text": [
      "      female  male\n",
      "0          1     0\n",
      "1          0     1\n",
      "2          1     0\n",
      "3          0     1\n",
      "4          1     0\n",
      "...      ...   ...\n",
      "1301       0     1\n",
      "1304       1     0\n",
      "1306       0     1\n",
      "1307       0     1\n",
      "1308       0     1\n",
      "\n",
      "[1043 rows x 2 columns]\n"
     ]
    }
   ],
   "source": [
    "# Get the dummy variables for the `sex` column \n",
    "print(pd.get_dummies(df['sex']))\n",
    "#raise NotImplementedError()"
   ]
  },
  {
   "cell_type": "code",
   "execution_count": 147,
   "metadata": {
    "colab": {
     "base_uri": "https://localhost:8080/"
    },
    "deletable": false,
    "id": "9qf1QSP89trx",
    "nbgrader": {
     "cell_type": "code",
     "checksum": "4a6765ea21391d265bba547bdc20f535",
     "grade": true,
     "grade_id": "cell-612600388764bb32",
     "locked": false,
     "points": 5,
     "schema_version": 3,
     "solution": true
    },
    "outputId": "b8e329bb-d0d8-4298-91a3-0b6966cdd383"
   },
   "outputs": [
    {
     "name": "stdout",
     "output_type": "stream",
     "text": [
      "      1  2  3\n",
      "0     1  0  0\n",
      "1     1  0  0\n",
      "2     1  0  0\n",
      "3     1  0  0\n",
      "4     1  0  0\n",
      "...  .. .. ..\n",
      "1301  0  0  1\n",
      "1304  0  0  1\n",
      "1306  0  0  1\n",
      "1307  0  0  1\n",
      "1308  0  0  1\n",
      "\n",
      "[1043 rows x 3 columns]\n"
     ]
    }
   ],
   "source": [
    "# Get the dummy variables for the `pclass` column \n",
    "print(pd.get_dummies(df['pclass']))\n",
    "#raise NotImplementedError()"
   ]
  },
  {
   "cell_type": "markdown",
   "metadata": {
    "id": "08k-_ivx9trx"
   },
   "source": [
    "Dummy variables will be extremely useful when we start applying machine learning. For now, let's go back to data selection."
   ]
  },
  {
   "cell_type": "markdown",
   "metadata": {
    "id": "hLTrcrH89try"
   },
   "source": [
    "## Data Selection\n",
    "\n",
    "We discussed how to select one column of a DataFrame, how that is just like we would use a dictonairy and how it returns a Series object. What about if we want to select multiple columns?\n",
    "\n",
    "The notation for selecting multiple columns is to pass a list of strings instead of just one string. In the remaining section of this case study we will only use the `survived`, `age`, `sex`, and `pclass` features. Select those columns in a variable called `smallDf`.\n",
    "\n",
    "Since we will be editing this variable, make sure you create a [copy](https://pandas.pydata.org/pandas-docs/stable/generated/pandas.DataFrame.copy.html) after selecting the columns. This [stack overflow answer](https://stackoverflow.com/a/27680109/818687) explains why we want to create a copy quite well."
   ]
  },
  {
   "cell_type": "code",
   "execution_count": 148,
   "metadata": {
    "deletable": false,
    "id": "5wtT31qe9trz",
    "nbgrader": {
     "cell_type": "code",
     "checksum": "76c427e7cb84049f4dfd2335db5acd57",
     "grade": false,
     "grade_id": "cell-dd971fee5d6aa470",
     "locked": false,
     "schema_version": 3,
     "solution": true
    }
   },
   "outputs": [],
   "source": [
    "# Select the survived, age, sex and pclass columns of the df and save them as smallDf\n",
    "smallDf = df[[\"survived\", \"age\", \"sex\", \"pclass\"]].copy()\n",
    "#raise NotImplementedError()"
   ]
  },
  {
   "cell_type": "code",
   "execution_count": 149,
   "metadata": {
    "deletable": false,
    "editable": false,
    "id": "Hhyllju29trz",
    "nbgrader": {
     "cell_type": "code",
     "checksum": "963bec4d9c481ec17dd510efb9bad2c6",
     "grade": true,
     "grade_id": "cell-3e9e5d1bf13dcf26",
     "locked": true,
     "points": 5,
     "schema_version": 3,
     "solution": false
    }
   },
   "outputs": [],
   "source": [
    "assert \"survived\" in smallDf.columns\n",
    "assert \"age\" in smallDf.columns\n",
    "assert \"sex\" in smallDf.columns\n",
    "assert \"pclass\" in smallDf.columns\n",
    "assert len(smallDf) == 1043"
   ]
  },
  {
   "cell_type": "code",
   "execution_count": 150,
   "metadata": {
    "colab": {
     "base_uri": "https://localhost:8080/",
     "height": 191
    },
    "id": "Lie_A6pR9tr0",
    "outputId": "4519761a-075c-410b-faf2-f58d234a9be0"
   },
   "outputs": [
    {
     "data": {
      "text/html": [
       "<div>\n",
       "<style scoped>\n",
       "    .dataframe tbody tr th:only-of-type {\n",
       "        vertical-align: middle;\n",
       "    }\n",
       "\n",
       "    .dataframe tbody tr th {\n",
       "        vertical-align: top;\n",
       "    }\n",
       "\n",
       "    .dataframe thead th {\n",
       "        text-align: right;\n",
       "    }\n",
       "</style>\n",
       "<table border=\"1\" class=\"dataframe\">\n",
       "  <thead>\n",
       "    <tr style=\"text-align: right;\">\n",
       "      <th></th>\n",
       "      <th>survived</th>\n",
       "      <th>age</th>\n",
       "      <th>sex</th>\n",
       "      <th>pclass</th>\n",
       "    </tr>\n",
       "  </thead>\n",
       "  <tbody>\n",
       "    <tr>\n",
       "      <th>0</th>\n",
       "      <td>1</td>\n",
       "      <td>29.00</td>\n",
       "      <td>female</td>\n",
       "      <td>1</td>\n",
       "    </tr>\n",
       "    <tr>\n",
       "      <th>1</th>\n",
       "      <td>1</td>\n",
       "      <td>0.92</td>\n",
       "      <td>male</td>\n",
       "      <td>1</td>\n",
       "    </tr>\n",
       "    <tr>\n",
       "      <th>2</th>\n",
       "      <td>0</td>\n",
       "      <td>2.00</td>\n",
       "      <td>female</td>\n",
       "      <td>1</td>\n",
       "    </tr>\n",
       "    <tr>\n",
       "      <th>3</th>\n",
       "      <td>0</td>\n",
       "      <td>30.00</td>\n",
       "      <td>male</td>\n",
       "      <td>1</td>\n",
       "    </tr>\n",
       "    <tr>\n",
       "      <th>4</th>\n",
       "      <td>0</td>\n",
       "      <td>25.00</td>\n",
       "      <td>female</td>\n",
       "      <td>1</td>\n",
       "    </tr>\n",
       "  </tbody>\n",
       "</table>\n",
       "</div>"
      ],
      "text/plain": [
       "   survived    age     sex  pclass\n",
       "0         1  29.00  female       1\n",
       "1         1   0.92    male       1\n",
       "2         0   2.00  female       1\n",
       "3         0  30.00    male       1\n",
       "4         0  25.00  female       1"
      ]
     },
     "execution_count": 150,
     "metadata": {
      "tags": []
     },
     "output_type": "execute_result"
    }
   ],
   "source": [
    "smallDf.head()"
   ]
  },
  {
   "cell_type": "markdown",
   "metadata": {
    "id": "M8f4onpQ9tr0"
   },
   "source": [
    "Indexing in pandas can be very powerful. The [guide on indexing](https://pandas.pydata.org/pandas-docs/stable/indexing.html) is extremely useful. We'll cover only a small portion of what you can do with indexing, namely boolean indexing. \n",
    "\n",
    "First, we can apply a logical operation to a Series to return a new Series that checks whether the logical operation is true. \n",
    "Second, we can use that result to only select a small portion of the data.\n",
    "\n",
    "This might sound complicated but hopefully an example can show how to use Boolean Indexing."
   ]
  },
  {
   "cell_type": "code",
   "execution_count": 151,
   "metadata": {
    "colab": {
     "base_uri": "https://localhost:8080/"
    },
    "id": "6K1KWv3I9tr1",
    "outputId": "2efd19fd-6295-4ae1-8382-3802d79ad35d"
   },
   "outputs": [
    {
     "data": {
      "text/plain": [
       "0        True\n",
       "1       False\n",
       "2        True\n",
       "3       False\n",
       "4        True\n",
       "        ...  \n",
       "1301    False\n",
       "1304     True\n",
       "1306    False\n",
       "1307    False\n",
       "1308    False\n",
       "Name: sex, Length: 1043, dtype: bool"
      ]
     },
     "execution_count": 151,
     "metadata": {
      "tags": []
     },
     "output_type": "execute_result"
    }
   ],
   "source": [
    "# Create a Series that lets us know whether a person is male\n",
    "smallDf[\"sex\"] == \"female\""
   ]
  },
  {
   "cell_type": "code",
   "execution_count": 152,
   "metadata": {
    "colab": {
     "base_uri": "https://localhost:8080/"
    },
    "id": "yOG-Iapk9tr2",
    "outputId": "8ebc8c28-9133-408f-fa44-97cff4720b95"
   },
   "outputs": [
    {
     "data": {
      "text/plain": [
       "657"
      ]
     },
     "execution_count": 152,
     "metadata": {
      "tags": []
     },
     "output_type": "execute_result"
    }
   ],
   "source": [
    "# Select all males from the dataset\n",
    "malesDf = smallDf[smallDf[\"sex\"] == \"male\"]\n",
    "len(malesDf)"
   ]
  },
  {
   "cell_type": "code",
   "execution_count": 153,
   "metadata": {
    "colab": {
     "base_uri": "https://localhost:8080/",
     "height": 363
    },
    "id": "kWCQe0gy9tr3",
    "outputId": "5a88355f-96bc-400d-f426-144f8dde631d"
   },
   "outputs": [
    {
     "data": {
      "text/html": [
       "<div>\n",
       "<style scoped>\n",
       "    .dataframe tbody tr th:only-of-type {\n",
       "        vertical-align: middle;\n",
       "    }\n",
       "\n",
       "    .dataframe tbody tr th {\n",
       "        vertical-align: top;\n",
       "    }\n",
       "\n",
       "    .dataframe thead th {\n",
       "        text-align: right;\n",
       "    }\n",
       "</style>\n",
       "<table border=\"1\" class=\"dataframe\">\n",
       "  <thead>\n",
       "    <tr style=\"text-align: right;\">\n",
       "      <th></th>\n",
       "      <th>survived</th>\n",
       "      <th>age</th>\n",
       "      <th>sex</th>\n",
       "      <th>pclass</th>\n",
       "    </tr>\n",
       "  </thead>\n",
       "  <tbody>\n",
       "    <tr>\n",
       "      <th>count</th>\n",
       "      <td>657.000000</td>\n",
       "      <td>657.000000</td>\n",
       "      <td>657</td>\n",
       "      <td>657.000000</td>\n",
       "    </tr>\n",
       "    <tr>\n",
       "      <th>unique</th>\n",
       "      <td>NaN</td>\n",
       "      <td>NaN</td>\n",
       "      <td>1</td>\n",
       "      <td>NaN</td>\n",
       "    </tr>\n",
       "    <tr>\n",
       "      <th>top</th>\n",
       "      <td>NaN</td>\n",
       "      <td>NaN</td>\n",
       "      <td>male</td>\n",
       "      <td>NaN</td>\n",
       "    </tr>\n",
       "    <tr>\n",
       "      <th>freq</th>\n",
       "      <td>NaN</td>\n",
       "      <td>NaN</td>\n",
       "      <td>657</td>\n",
       "      <td>NaN</td>\n",
       "    </tr>\n",
       "    <tr>\n",
       "      <th>mean</th>\n",
       "      <td>0.205479</td>\n",
       "      <td>30.539696</td>\n",
       "      <td>NaN</td>\n",
       "      <td>2.299848</td>\n",
       "    </tr>\n",
       "    <tr>\n",
       "      <th>std</th>\n",
       "      <td>0.404359</td>\n",
       "      <td>14.243582</td>\n",
       "      <td>NaN</td>\n",
       "      <td>0.818917</td>\n",
       "    </tr>\n",
       "    <tr>\n",
       "      <th>min</th>\n",
       "      <td>0.000000</td>\n",
       "      <td>0.330000</td>\n",
       "      <td>NaN</td>\n",
       "      <td>1.000000</td>\n",
       "    </tr>\n",
       "    <tr>\n",
       "      <th>25%</th>\n",
       "      <td>0.000000</td>\n",
       "      <td>21.000000</td>\n",
       "      <td>NaN</td>\n",
       "      <td>2.000000</td>\n",
       "    </tr>\n",
       "    <tr>\n",
       "      <th>50%</th>\n",
       "      <td>0.000000</td>\n",
       "      <td>28.000000</td>\n",
       "      <td>NaN</td>\n",
       "      <td>3.000000</td>\n",
       "    </tr>\n",
       "    <tr>\n",
       "      <th>75%</th>\n",
       "      <td>0.000000</td>\n",
       "      <td>39.000000</td>\n",
       "      <td>NaN</td>\n",
       "      <td>3.000000</td>\n",
       "    </tr>\n",
       "    <tr>\n",
       "      <th>max</th>\n",
       "      <td>1.000000</td>\n",
       "      <td>80.000000</td>\n",
       "      <td>NaN</td>\n",
       "      <td>3.000000</td>\n",
       "    </tr>\n",
       "  </tbody>\n",
       "</table>\n",
       "</div>"
      ],
      "text/plain": [
       "          survived         age   sex      pclass\n",
       "count   657.000000  657.000000   657  657.000000\n",
       "unique         NaN         NaN     1         NaN\n",
       "top            NaN         NaN  male         NaN\n",
       "freq           NaN         NaN   657         NaN\n",
       "mean      0.205479   30.539696   NaN    2.299848\n",
       "std       0.404359   14.243582   NaN    0.818917\n",
       "min       0.000000    0.330000   NaN    1.000000\n",
       "25%       0.000000   21.000000   NaN    2.000000\n",
       "50%       0.000000   28.000000   NaN    3.000000\n",
       "75%       0.000000   39.000000   NaN    3.000000\n",
       "max       1.000000   80.000000   NaN    3.000000"
      ]
     },
     "execution_count": 153,
     "metadata": {
      "tags": []
     },
     "output_type": "execute_result"
    }
   ],
   "source": [
    "malesDf.describe(include=\"all\")\n",
    "# Notice how there are no females in this df"
   ]
  },
  {
   "cell_type": "code",
   "execution_count": 154,
   "metadata": {
    "deletable": false,
    "id": "6BnVtRKs9tr4",
    "nbgrader": {
     "cell_type": "code",
     "checksum": "daeefe1de9a1b24ead0c253b0e52d8b3",
     "grade": false,
     "grade_id": "cell-1225f02668d8b333",
     "locked": false,
     "schema_version": 3,
     "solution": true
    }
   },
   "outputs": [],
   "source": [
    "# Now create a femalesDf which has data about the females only\n",
    "femalesDf = df[df['sex'] == \"female\"]\n",
    "# raise NotImplementedError()"
   ]
  },
  {
   "cell_type": "code",
   "execution_count": 155,
   "metadata": {
    "deletable": false,
    "editable": false,
    "id": "XueNn9pQ9tr4",
    "nbgrader": {
     "cell_type": "code",
     "checksum": "d34c596ff490872465027f4e28e739b8",
     "grade": true,
     "grade_id": "cell-faf20230f201c749",
     "locked": true,
     "points": 5,
     "schema_version": 3,
     "solution": false
    }
   },
   "outputs": [],
   "source": [
    "assert all(femalesDf[\"sex\"] == \"female\")\n",
    "assert len(femalesDf) == 386"
   ]
  },
  {
   "cell_type": "markdown",
   "metadata": {
    "id": "EjQvVs0_9tr5"
   },
   "source": [
    "This approach may be useful if we wanted to only select one portion of data that meets a certain logical structure. This example showed how we can apply it to string values but we can also apply this to numeric values. Let's say we wanted to determine how many people in our dataset are under the age of 10. We can determine that using the following:"
   ]
  },
  {
   "cell_type": "code",
   "execution_count": 156,
   "metadata": {
    "colab": {
     "base_uri": "https://localhost:8080/"
    },
    "id": "ca7eJ9oK9tr5",
    "outputId": "16390b8c-e091-413b-e0ef-c5d09ed353fe"
   },
   "outputs": [
    {
     "data": {
      "text/plain": [
       "82"
      ]
     },
     "execution_count": 156,
     "metadata": {
      "tags": []
     },
     "output_type": "execute_result"
    }
   ],
   "source": [
    "underTen = smallDf[\"age\"] < 10\n",
    "underTen.sum()"
   ]
  },
  {
   "cell_type": "markdown",
   "metadata": {
    "id": "pJQuftyF9tr6"
   },
   "source": [
    "We can also apply more complex functionality to our data using the apply method for [DataFrames](https://pandas.pydata.org/pandas-docs/stable/generated/pandas.DataFrame.apply.html) or [Series](https://pandas.pydata.org/pandas-docs/stable/generated/pandas.Series.apply.html)."
   ]
  },
  {
   "cell_type": "markdown",
   "metadata": {
    "id": "2FqVB90Y9tr6"
   },
   "source": [
    "We can assign new columns to a DataFrame just as we would assign a new value for a dictionary.\n",
    "Use the apply method and create a new column called \"ageGroup\" that has a value of \"child\" for people under the age of 13, \"teen\" for ages 13-19, and \"adult\" for ages above 19."
   ]
  },
  {
   "cell_type": "code",
   "execution_count": 157,
   "metadata": {
    "deletable": false,
    "id": "PHRYx8ec9tr7",
    "nbgrader": {
     "cell_type": "code",
     "checksum": "4fa5d7c596d3271319aa1e7535d6d46f",
     "grade": true,
     "grade_id": "cell-69d4fbe08865f184",
     "locked": false,
     "points": 10,
     "schema_version": 3,
     "solution": true
    }
   },
   "outputs": [],
   "source": [
    "# Use the apply method and create a new column called \"ageGroup\" \n",
    "# It should have a value of \"child\" for people under the age of 13, \n",
    "# \"teen\" for ages 13-19, and \"adult\" for ages above 19.\n",
    "# You may want to write a function here to use with apply\n",
    "smallDf.insert(0, \"ageGroup\", value = 0, allow_duplicates = True)\n",
    "for index, i in smallDf.iterrows():\n",
    "  if i[\"age\"] < 13: i[\"agGroup\"] = \"child\"\n",
    "  elif i[\"age\"] >= 13 and i[\"age\"] <= 19: i[\"ageGroup\"] = \"teen\"\n",
    "  elif i[\"age\"] > 19: i[\"ageGroup\"] = \"adult\"\n",
    "  \n",
    "\n",
    "# raise NotImplementedError()"
   ]
  },
  {
   "cell_type": "code",
   "execution_count": 158,
   "metadata": {
    "id": "IjDkN0A-9tr7"
   },
   "outputs": [],
   "source": [
    "assert \"ageGroup\" in smallDf.columns"
   ]
  },
  {
   "cell_type": "markdown",
   "metadata": {
    "id": "edYoy3n29tr8"
   },
   "source": [
    "For the male/female case, if we wanted to determine the number of each group we could actually use the `groupby` functionality instead. Grouping is also another very powerful feature of pandas for data manipulation and the [guide](https://pandas.pydata.org/pandas-docs/stable/groupby.html) is really helpful."
   ]
  },
  {
   "cell_type": "code",
   "execution_count": 159,
   "metadata": {
    "colab": {
     "base_uri": "https://localhost:8080/",
     "height": 421
    },
    "id": "p2cLOQZT9tr8",
    "outputId": "69b0a96c-0029-4868-affe-d13f8ead8711"
   },
   "outputs": [
    {
     "data": {
      "text/html": [
       "<div>\n",
       "<style scoped>\n",
       "    .dataframe tbody tr th:only-of-type {\n",
       "        vertical-align: middle;\n",
       "    }\n",
       "\n",
       "    .dataframe tbody tr th {\n",
       "        vertical-align: top;\n",
       "    }\n",
       "\n",
       "    .dataframe thead th {\n",
       "        text-align: right;\n",
       "    }\n",
       "</style>\n",
       "<table border=\"1\" class=\"dataframe\">\n",
       "  <thead>\n",
       "    <tr style=\"text-align: right;\">\n",
       "      <th></th>\n",
       "      <th></th>\n",
       "      <th></th>\n",
       "      <th>ageGroup</th>\n",
       "      <th>age</th>\n",
       "    </tr>\n",
       "    <tr>\n",
       "      <th>survived</th>\n",
       "      <th>pclass</th>\n",
       "      <th>sex</th>\n",
       "      <th></th>\n",
       "      <th></th>\n",
       "    </tr>\n",
       "  </thead>\n",
       "  <tbody>\n",
       "    <tr>\n",
       "      <th rowspan=\"6\" valign=\"top\">0</th>\n",
       "      <th rowspan=\"2\" valign=\"top\">1</th>\n",
       "      <th>female</th>\n",
       "      <td>5</td>\n",
       "      <td>5</td>\n",
       "    </tr>\n",
       "    <tr>\n",
       "      <th>male</th>\n",
       "      <td>98</td>\n",
       "      <td>98</td>\n",
       "    </tr>\n",
       "    <tr>\n",
       "      <th rowspan=\"2\" valign=\"top\">2</th>\n",
       "      <th>female</th>\n",
       "      <td>11</td>\n",
       "      <td>11</td>\n",
       "    </tr>\n",
       "    <tr>\n",
       "      <th>male</th>\n",
       "      <td>135</td>\n",
       "      <td>135</td>\n",
       "    </tr>\n",
       "    <tr>\n",
       "      <th rowspan=\"2\" valign=\"top\">3</th>\n",
       "      <th>female</th>\n",
       "      <td>80</td>\n",
       "      <td>80</td>\n",
       "    </tr>\n",
       "    <tr>\n",
       "      <th>male</th>\n",
       "      <td>289</td>\n",
       "      <td>289</td>\n",
       "    </tr>\n",
       "    <tr>\n",
       "      <th rowspan=\"6\" valign=\"top\">1</th>\n",
       "      <th rowspan=\"2\" valign=\"top\">1</th>\n",
       "      <th>female</th>\n",
       "      <td>126</td>\n",
       "      <td>126</td>\n",
       "    </tr>\n",
       "    <tr>\n",
       "      <th>male</th>\n",
       "      <td>53</td>\n",
       "      <td>53</td>\n",
       "    </tr>\n",
       "    <tr>\n",
       "      <th rowspan=\"2\" valign=\"top\">2</th>\n",
       "      <th>female</th>\n",
       "      <td>92</td>\n",
       "      <td>92</td>\n",
       "    </tr>\n",
       "    <tr>\n",
       "      <th>male</th>\n",
       "      <td>23</td>\n",
       "      <td>23</td>\n",
       "    </tr>\n",
       "    <tr>\n",
       "      <th rowspan=\"2\" valign=\"top\">3</th>\n",
       "      <th>female</th>\n",
       "      <td>72</td>\n",
       "      <td>72</td>\n",
       "    </tr>\n",
       "    <tr>\n",
       "      <th>male</th>\n",
       "      <td>59</td>\n",
       "      <td>59</td>\n",
       "    </tr>\n",
       "  </tbody>\n",
       "</table>\n",
       "</div>"
      ],
      "text/plain": [
       "                        ageGroup  age\n",
       "survived pclass sex                  \n",
       "0        1      female         5    5\n",
       "                male          98   98\n",
       "         2      female        11   11\n",
       "                male         135  135\n",
       "         3      female        80   80\n",
       "                male         289  289\n",
       "1        1      female       126  126\n",
       "                male          53   53\n",
       "         2      female        92   92\n",
       "                male          23   23\n",
       "         3      female        72   72\n",
       "                male          59   59"
      ]
     },
     "execution_count": 159,
     "metadata": {
      "tags": []
     },
     "output_type": "execute_result"
    }
   ],
   "source": [
    "smallDf.groupby([\"survived\", \"pclass\", \"sex\"]).count()"
   ]
  },
  {
   "cell_type": "markdown",
   "metadata": {
    "id": "Zjc0qd0t9tr8"
   },
   "source": [
    "When we group by some values we can perform some useful calculations such as count, mean, sum and others. The order of the grouping determines the breakdown of the data.\n",
    "\n",
    "Repeat the above grouping in another order that you are curious about and perform a calculation that you find interesting."
   ]
  },
  {
   "cell_type": "code",
   "execution_count": 160,
   "metadata": {
    "colab": {
     "base_uri": "https://localhost:8080/",
     "height": 421
    },
    "deletable": false,
    "id": "wySyqcZd9tr9",
    "nbgrader": {
     "cell_type": "code",
     "checksum": "92cc0ccfb42d6d73096338fc28926553",
     "grade": true,
     "grade_id": "cell-029328c41ddbaca6",
     "locked": false,
     "points": 10,
     "schema_version": 3,
     "solution": true
    },
    "outputId": "7a76b47c-d2b1-4817-d9b6-a82626773057"
   },
   "outputs": [
    {
     "data": {
      "text/html": [
       "<div>\n",
       "<style scoped>\n",
       "    .dataframe tbody tr th:only-of-type {\n",
       "        vertical-align: middle;\n",
       "    }\n",
       "\n",
       "    .dataframe tbody tr th {\n",
       "        vertical-align: top;\n",
       "    }\n",
       "\n",
       "    .dataframe thead th {\n",
       "        text-align: right;\n",
       "    }\n",
       "</style>\n",
       "<table border=\"1\" class=\"dataframe\">\n",
       "  <thead>\n",
       "    <tr style=\"text-align: right;\">\n",
       "      <th></th>\n",
       "      <th></th>\n",
       "      <th></th>\n",
       "      <th>ageGroup</th>\n",
       "      <th>age</th>\n",
       "    </tr>\n",
       "    <tr>\n",
       "      <th>sex</th>\n",
       "      <th>pclass</th>\n",
       "      <th>survived</th>\n",
       "      <th></th>\n",
       "      <th></th>\n",
       "    </tr>\n",
       "  </thead>\n",
       "  <tbody>\n",
       "    <tr>\n",
       "      <th rowspan=\"6\" valign=\"top\">female</th>\n",
       "      <th rowspan=\"2\" valign=\"top\">1</th>\n",
       "      <th>0</th>\n",
       "      <td>5</td>\n",
       "      <td>5</td>\n",
       "    </tr>\n",
       "    <tr>\n",
       "      <th>1</th>\n",
       "      <td>126</td>\n",
       "      <td>126</td>\n",
       "    </tr>\n",
       "    <tr>\n",
       "      <th rowspan=\"2\" valign=\"top\">2</th>\n",
       "      <th>0</th>\n",
       "      <td>11</td>\n",
       "      <td>11</td>\n",
       "    </tr>\n",
       "    <tr>\n",
       "      <th>1</th>\n",
       "      <td>92</td>\n",
       "      <td>92</td>\n",
       "    </tr>\n",
       "    <tr>\n",
       "      <th rowspan=\"2\" valign=\"top\">3</th>\n",
       "      <th>0</th>\n",
       "      <td>80</td>\n",
       "      <td>80</td>\n",
       "    </tr>\n",
       "    <tr>\n",
       "      <th>1</th>\n",
       "      <td>72</td>\n",
       "      <td>72</td>\n",
       "    </tr>\n",
       "    <tr>\n",
       "      <th rowspan=\"6\" valign=\"top\">male</th>\n",
       "      <th rowspan=\"2\" valign=\"top\">1</th>\n",
       "      <th>0</th>\n",
       "      <td>98</td>\n",
       "      <td>98</td>\n",
       "    </tr>\n",
       "    <tr>\n",
       "      <th>1</th>\n",
       "      <td>53</td>\n",
       "      <td>53</td>\n",
       "    </tr>\n",
       "    <tr>\n",
       "      <th rowspan=\"2\" valign=\"top\">2</th>\n",
       "      <th>0</th>\n",
       "      <td>135</td>\n",
       "      <td>135</td>\n",
       "    </tr>\n",
       "    <tr>\n",
       "      <th>1</th>\n",
       "      <td>23</td>\n",
       "      <td>23</td>\n",
       "    </tr>\n",
       "    <tr>\n",
       "      <th rowspan=\"2\" valign=\"top\">3</th>\n",
       "      <th>0</th>\n",
       "      <td>289</td>\n",
       "      <td>289</td>\n",
       "    </tr>\n",
       "    <tr>\n",
       "      <th>1</th>\n",
       "      <td>59</td>\n",
       "      <td>59</td>\n",
       "    </tr>\n",
       "  </tbody>\n",
       "</table>\n",
       "</div>"
      ],
      "text/plain": [
       "                        ageGroup  age\n",
       "sex    pclass survived               \n",
       "female 1      0                5    5\n",
       "              1              126  126\n",
       "       2      0               11   11\n",
       "              1               92   92\n",
       "       3      0               80   80\n",
       "              1               72   72\n",
       "male   1      0               98   98\n",
       "              1               53   53\n",
       "       2      0              135  135\n",
       "              1               23   23\n",
       "       3      0              289  289\n",
       "              1               59   59"
      ]
     },
     "execution_count": 160,
     "metadata": {
      "tags": []
     },
     "output_type": "execute_result"
    }
   ],
   "source": [
    "# Repeat the above grouping in another order that you are curious about\n",
    "# perform a calculation that you find interesting ex. mean, count, sum\n",
    "smallDf.groupby([\"sex\", \"pclass\", \"survived\"]).count()\n",
    "#raise NotImplementedError()"
   ]
  },
  {
   "cell_type": "markdown",
   "metadata": {
    "id": "aoVAWHeA9tr9"
   },
   "source": [
    "This concludes our pandas review. Please share your feedback below."
   ]
  },
  {
   "cell_type": "markdown",
   "metadata": {
    "id": "czUf0nVH9tr9"
   },
   "source": [
    "## Feedback"
   ]
  },
  {
   "cell_type": "code",
   "execution_count": 161,
   "metadata": {
    "deletable": false,
    "id": "b9kf3egl9tr-",
    "nbgrader": {
     "cell_type": "code",
     "checksum": "65cf83cb3724961e2f4cf47e5802f096",
     "grade": false,
     "grade_id": "cell-74727d848a4325b6",
     "locked": false,
     "schema_version": 3,
     "solution": true
    }
   },
   "outputs": [],
   "source": [
    "def feedback():\n",
    "    \"\"\"Provide feedback on the contents of this exercise\n",
    "    \n",
    "    Returns:\n",
    "        string\n",
    "    \"\"\"\n",
    "    print(\"not too hard not too easy\")\n",
    "    #raise NotImplementedError()"
   ]
  },
  {
   "cell_type": "code",
   "execution_count": 161,
   "metadata": {
    "deletable": false,
    "editable": false,
    "id": "Hq2D0j4d9tr-",
    "nbgrader": {
     "cell_type": "code",
     "checksum": "34cb044350af75023375fb20a42623ae",
     "grade": true,
     "grade_id": "cell-e07ad32acc7178ee",
     "locked": true,
     "points": 0,
     "schema_version": 3,
     "solution": false
    }
   },
   "outputs": [],
   "source": []
  }
 ],
 "metadata": {
  "colab": {
   "collapsed_sections": [],
   "name": "TaylorKramer_01- Python & Pandas.ipynb",
   "provenance": []
  },
  "kernelspec": {
   "display_name": "Python 3",
   "language": "python",
   "name": "python3"
  },
  "language_info": {
   "codemirror_mode": {
    "name": "ipython",
    "version": 3
   },
   "file_extension": ".py",
   "mimetype": "text/x-python",
   "name": "python",
   "nbconvert_exporter": "python",
   "pygments_lexer": "ipython3",
   "version": "3.7.6"
  }
 },
 "nbformat": 4,
 "nbformat_minor": 1
}
