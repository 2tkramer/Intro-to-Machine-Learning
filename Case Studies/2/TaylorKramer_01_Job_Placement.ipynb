{
 "cells": [
  {
   "cell_type": "markdown",
   "metadata": {
    "id": "_n2YGrdmg7ak"
   },
   "source": [
    "## CSCI 470 Activities and Case Studies\n",
    "\n",
    "1. For all activities, you are allowed to collaborate with a partner. \n",
    "1. For case studies, you should work individually and are **not** allowed to collaborate.\n",
    "\n",
    "By filling out this notebook and submitting it, you acknowledge that you are aware of the above policies and are agreeing to comply with them."
   ]
  },
  {
   "cell_type": "markdown",
   "metadata": {
    "id": "H6Z1jwW-g7aq"
   },
   "source": [
    "Some considerations with regard to how these notebooks will be graded:\n",
    "\n",
    "1. You can add more notebook cells or edit existing notebook cells other than \"# YOUR CODE HERE\" to test out or debug your code. We actually highly recommend you do so to gain a better understanding of what is happening. However, during grading, **these changes are ignored**. \n",
    "2. You must ensure that all your code for the particular task is available in the cells that say \"# YOUR CODE HERE\"\n",
    "3. Every cell that says \"# YOUR CODE HERE\" is followed by a \"raise NotImplementedError\". You need to remove that line. During grading, if an error occurs then you will not receive points for your work in that section.\n",
    "4. If your code passes the \"assert\" statements, then no output will result. If your code fails the \"assert\" statements, you will get an \"AssertionError\". Getting an assertion error means you will not receive points for that particular task.\n",
    "5. If you edit the \"assert\" statements to make your code pass, they will still fail when they are graded since the \"assert\" statements will revert to the original. Make sure you don't edit the assert statements.\n",
    "6. We may sometimes have \"hidden\" tests for grading. This means that passing the visible \"assert\" statements is not sufficient. The \"assert\" statements are there as a guide but you need to make sure you understand what you're required to do and ensure that you are doing it correctly. Passing the visible tests is necessary but not sufficient to get the grade for that cell.\n",
    "7. When you are asked to define a function, make sure you **don't** use any variables outside of the parameters passed to the function. You can think of the parameters being passed to the function as a hint. Make sure you're using all of those variables.\n",
    "8. Finally, **make sure you run \"Kernel > Restart and Run All\"** and pass all the asserts before submitting. If you don't restart the kernel, there may be some code that you ran and deleted that is still being used and that was why your asserts were passing."
   ]
  },
  {
   "cell_type": "markdown",
   "metadata": {
    "deletable": false,
    "editable": false,
    "id": "oTFUB2ZSQriJ",
    "nbgrader": {
     "cell_type": "markdown",
     "checksum": "3eaff0f4eea88447589a984a11f3e2d7",
     "grade": false,
     "grade_id": "cell-c95444a9726cb6ad",
     "locked": true,
     "schema_version": 3,
     "solution": false
    }
   },
   "source": [
    "# Job Performance Prediction\n",
    "\n",
    "You work for a software startup, Predict All The Things Inc. (PALT), and are approached by the CEO to build an algorithm that can help sift through resumes. PALT just closed a $3 million Series A round of funding and the CEO just landed a deal with a national retailer, SellsALOT, to help them with hiring Sales Associates.\n",
    "\n",
    "They are able to obtain data on all the employees that work as Sales Associates throughout their stores as well as customer satisfaction and sales performance scores.\n",
    "\n",
    "In this case study, you are tasked with building a model to predict job performance to assist HR in selecting applicants to interview.\n",
    "\n",
    "The data was provided to you by the new HR intern, Keegan. This is the email you got from Keegan with the attached data.\n",
    "\n",
    ">Hi!\n",
    ">\n",
    ">I hope you're doing well. I've attached the data we have about all employees. Please ensure this data stays confidential and is not shared with anyone who has not signed the NDA. The columns have all the information we have about our employees and the scoring rating that they've received from our performance monitors. We also have some employees who were fired and I have included those as well.\n",
    ">\n",
    ">I was also able to dig up some more information about our employees that I found on the internet. It took a lot of time but I hope it helps in making the model even better. Can't wait to see this thing in action. Everyone here is very excited about our collaboration with you and we look forward to this making hiring a lot easier for us.\n",
    ">\n",
    ">Thanks,\n",
    ">\n",
    ">Keegan Thiel\n",
    ">\n",
    ">HR Intern\n",
    ">\n",
    ">Human Resources\n",
    ">\n",
    ">SellsALOT\n",
    "\n",
    "\n",
    "Data is available in the `employees.csv` file provided. \n",
    "\n",
    "\n",
    "SellsALOT is an Equal Opportunity Employer which is an employer who agrees not to discriminate against any employee or job applicant based on race, color, religion, national origin, sex, physical or mental disability, or age.\n"
   ]
  },
  {
   "cell_type": "markdown",
   "metadata": {
    "id": "QCU4JRRt7i44"
   },
   "source": [
    "## Import packages that are likely to be useful\n",
    "\n",
    "### However, __do not__ use TensorFlow to build your models.\n",
    "\n",
    "Below we import packages that are needed or may be useful. You may import additional packages as you see fit, with the exception of TensorFlow. You may use scikit-learn. **Ensure that you import additional packages in cells that say \"### YOUR CODE HERE\".**"
   ]
  },
  {
   "cell_type": "code",
   "execution_count": 1,
   "metadata": {
    "deletable": false,
    "editable": false,
    "id": "oDynCtWlQriO",
    "nbgrader": {
     "cell_type": "code",
     "checksum": "98d9733673fc16e64c8a56f4f2283337",
     "grade": false,
     "grade_id": "cell-415e7e827876c782",
     "locked": true,
     "schema_version": 3,
     "solution": false
    }
   },
   "outputs": [],
   "source": [
    "import pandas as pd\n",
    "import matplotlib\n",
    "import numpy as np\n",
    "import sklearn as sk\n",
    "from sklearn.model_selection import train_test_split\n",
    "import datetime\n",
    "from datetime import date"
   ]
  },
  {
   "cell_type": "markdown",
   "metadata": {
    "deletable": false,
    "editable": false,
    "id": "bYxsrpl_QriL",
    "nbgrader": {
     "cell_type": "markdown",
     "checksum": "36fb3abb8b9d714d711c318557f98208",
     "grade": false,
     "grade_id": "cell-f9469a23a33f582b",
     "locked": true,
     "schema_version": 3,
     "solution": false
    }
   },
   "source": [
    "## Data Cleaning\n",
    "\n",
    "First, let's investigate the data that we received from Keegan.\n",
    "\n",
    "If you are using colab, **Make sure you upload the employees.csv file** so it can be loaded in the next cell. In order to do so, click the file folder icon in the colab sidebar. You will see the contents of the current directory, which will include a \"sample_data\" folder. Click the upload icon (piece of paper with upward pointing arrow, just below the word \"Files\"). Locate the employees.csv file that you downloaded from Canvas to your local machine and open/upload the file."
   ]
  },
  {
   "cell_type": "code",
   "execution_count": 2,
   "metadata": {
    "deletable": false,
    "editable": false,
    "id": "EIfgJtszQriZ",
    "nbgrader": {
     "cell_type": "code",
     "checksum": "c5e648a7fa9b588f6d9283cfcca4be48",
     "grade": false,
     "grade_id": "cell-2e0e3f39a04d036d",
     "locked": true,
     "schema_version": 3,
     "solution": false,
     "task": false
    }
   },
   "outputs": [],
   "source": [
    "df = pd.read_csv(\"employees.csv\")"
   ]
  },
  {
   "cell_type": "code",
   "execution_count": 3,
   "metadata": {
    "colab": {
     "base_uri": "https://localhost:8080/"
    },
    "id": "5w4K6873jvQ8",
    "outputId": "5f63781c-99bf-4252-e13c-46e8aabc4fb0"
   },
   "outputs": [
    {
     "name": "stdout",
     "output_type": "stream",
     "text": [
      "Drive already mounted at /content/drive; to attempt to forcibly remount, call drive.mount(\"/content/drive\", force_remount=True).\n"
     ]
    }
   ],
   "source": [
    "from google.colab import drive\n",
    "drive.mount('/content/drive')"
   ]
  },
  {
   "cell_type": "code",
   "execution_count": 4,
   "metadata": {
    "colab": {
     "base_uri": "https://localhost:8080/",
     "height": 745
    },
    "id": "zHHFixaFQrif",
    "outputId": "39e4a589-aa48-49b0-b23f-7d7da0816be0"
   },
   "outputs": [
    {
     "data": {
      "text/html": [
       "<div>\n",
       "<style scoped>\n",
       "    .dataframe tbody tr th:only-of-type {\n",
       "        vertical-align: middle;\n",
       "    }\n",
       "\n",
       "    .dataframe tbody tr th {\n",
       "        vertical-align: top;\n",
       "    }\n",
       "\n",
       "    .dataframe thead th {\n",
       "        text-align: right;\n",
       "    }\n",
       "</style>\n",
       "<table border=\"1\" class=\"dataframe\">\n",
       "  <thead>\n",
       "    <tr style=\"text-align: right;\">\n",
       "      <th></th>\n",
       "      <th>First Name</th>\n",
       "      <th>Last Name</th>\n",
       "      <th>Date of Birth</th>\n",
       "      <th>Address</th>\n",
       "      <th>Zipcode</th>\n",
       "      <th>Gender</th>\n",
       "      <th>Race / Ethnicity</th>\n",
       "      <th>English Fluency</th>\n",
       "      <th>Spanish Fluency</th>\n",
       "      <th>Education</th>\n",
       "      <th>High School GPA</th>\n",
       "      <th>College GPA</th>\n",
       "      <th>Years of Experience</th>\n",
       "      <th>Years of Volunteering</th>\n",
       "      <th>Myers Briggs Type</th>\n",
       "      <th>Twitter followers</th>\n",
       "      <th>Instagram Followers</th>\n",
       "      <th>Requires Sponsorship</th>\n",
       "      <th>Customer Satisfaction Rating</th>\n",
       "      <th>Sales Rating</th>\n",
       "      <th>Fired</th>\n",
       "    </tr>\n",
       "  </thead>\n",
       "  <tbody>\n",
       "    <tr>\n",
       "      <th>0</th>\n",
       "      <td>Sarah</td>\n",
       "      <td>Chang</td>\n",
       "      <td>1989-12-24</td>\n",
       "      <td>764 Howard Tunnel</td>\n",
       "      <td>30167</td>\n",
       "      <td>Female</td>\n",
       "      <td>Black</td>\n",
       "      <td>Fluent</td>\n",
       "      <td>Basic</td>\n",
       "      <td>High School</td>\n",
       "      <td>3.10</td>\n",
       "      <td>2.52</td>\n",
       "      <td>8.8</td>\n",
       "      <td>0.0</td>\n",
       "      <td>ISTJ</td>\n",
       "      <td>693</td>\n",
       "      <td>1108</td>\n",
       "      <td>False</td>\n",
       "      <td>2.21</td>\n",
       "      <td>2.07</td>\n",
       "      <td>Current Employee</td>\n",
       "    </tr>\n",
       "    <tr>\n",
       "      <th>1</th>\n",
       "      <td>Daniel</td>\n",
       "      <td>Taylor</td>\n",
       "      <td>1985-03-15</td>\n",
       "      <td>4892 Jessica Turnpike Suite 781</td>\n",
       "      <td>86553</td>\n",
       "      <td>Male</td>\n",
       "      <td>Black</td>\n",
       "      <td>Fluent</td>\n",
       "      <td>Basic</td>\n",
       "      <td>High School</td>\n",
       "      <td>3.02</td>\n",
       "      <td>3.90</td>\n",
       "      <td>13.7</td>\n",
       "      <td>0.0</td>\n",
       "      <td>ISFJ</td>\n",
       "      <td>507</td>\n",
       "      <td>1259</td>\n",
       "      <td>False</td>\n",
       "      <td>3.37</td>\n",
       "      <td>2.98</td>\n",
       "      <td>Current Employee</td>\n",
       "    </tr>\n",
       "    <tr>\n",
       "      <th>2</th>\n",
       "      <td>Heather</td>\n",
       "      <td>Stewart</td>\n",
       "      <td>1993-09-20</td>\n",
       "      <td>778 Linda Orchard Apt. 609</td>\n",
       "      <td>30167</td>\n",
       "      <td>Female</td>\n",
       "      <td>Black</td>\n",
       "      <td>Proficient</td>\n",
       "      <td>Basic</td>\n",
       "      <td>High School</td>\n",
       "      <td>2.95</td>\n",
       "      <td>2.63</td>\n",
       "      <td>5.2</td>\n",
       "      <td>0.0</td>\n",
       "      <td>INFP</td>\n",
       "      <td>599</td>\n",
       "      <td>868</td>\n",
       "      <td>False</td>\n",
       "      <td>1.50</td>\n",
       "      <td>1.36</td>\n",
       "      <td>Current Employee</td>\n",
       "    </tr>\n",
       "    <tr>\n",
       "      <th>3</th>\n",
       "      <td>Katherine</td>\n",
       "      <td>Dillon</td>\n",
       "      <td>1986-12-22</td>\n",
       "      <td>139 Linda Crossroad Suite 115</td>\n",
       "      <td>30167</td>\n",
       "      <td>Female</td>\n",
       "      <td>Black</td>\n",
       "      <td>Basic</td>\n",
       "      <td>Basic</td>\n",
       "      <td>High School</td>\n",
       "      <td>3.99</td>\n",
       "      <td>3.88</td>\n",
       "      <td>12.5</td>\n",
       "      <td>0.0</td>\n",
       "      <td>ISFP</td>\n",
       "      <td>1321</td>\n",
       "      <td>889</td>\n",
       "      <td>True</td>\n",
       "      <td>2.89</td>\n",
       "      <td>2.62</td>\n",
       "      <td>Current Employee</td>\n",
       "    </tr>\n",
       "    <tr>\n",
       "      <th>4</th>\n",
       "      <td>Sheri</td>\n",
       "      <td>Bolton</td>\n",
       "      <td>1991-02-24</td>\n",
       "      <td>1858 Lauren Orchard</td>\n",
       "      <td>60531</td>\n",
       "      <td>Female</td>\n",
       "      <td>Black</td>\n",
       "      <td>Proficient</td>\n",
       "      <td>Proficient</td>\n",
       "      <td>High School</td>\n",
       "      <td>3.82</td>\n",
       "      <td>3.30</td>\n",
       "      <td>7.0</td>\n",
       "      <td>0.0</td>\n",
       "      <td>ISFJ</td>\n",
       "      <td>414</td>\n",
       "      <td>13760</td>\n",
       "      <td>True</td>\n",
       "      <td>1.94</td>\n",
       "      <td>1.78</td>\n",
       "      <td>Current Employee</td>\n",
       "    </tr>\n",
       "    <tr>\n",
       "      <th>5</th>\n",
       "      <td>Donna</td>\n",
       "      <td>Davis</td>\n",
       "      <td>1996-05-26</td>\n",
       "      <td>4232 Tina Forks</td>\n",
       "      <td>86553</td>\n",
       "      <td>Female</td>\n",
       "      <td>Black</td>\n",
       "      <td>Proficient</td>\n",
       "      <td>Basic</td>\n",
       "      <td>Associates</td>\n",
       "      <td>2.05</td>\n",
       "      <td>3.14</td>\n",
       "      <td>1.6</td>\n",
       "      <td>0.0</td>\n",
       "      <td>ESTJ</td>\n",
       "      <td>495</td>\n",
       "      <td>2401</td>\n",
       "      <td>False</td>\n",
       "      <td>0.78</td>\n",
       "      <td>0.87</td>\n",
       "      <td>Current Employee</td>\n",
       "    </tr>\n",
       "    <tr>\n",
       "      <th>6</th>\n",
       "      <td>Benjamin</td>\n",
       "      <td>Shelton</td>\n",
       "      <td>1985-01-15</td>\n",
       "      <td>186 Warren Mount Apt. 396</td>\n",
       "      <td>30167</td>\n",
       "      <td>Male</td>\n",
       "      <td>Black</td>\n",
       "      <td>Proficient</td>\n",
       "      <td>Basic</td>\n",
       "      <td>Associates</td>\n",
       "      <td>2.12</td>\n",
       "      <td>3.51</td>\n",
       "      <td>13.1</td>\n",
       "      <td>0.0</td>\n",
       "      <td>ESFJ</td>\n",
       "      <td>1696</td>\n",
       "      <td>1158</td>\n",
       "      <td>False</td>\n",
       "      <td>3.41</td>\n",
       "      <td>3.11</td>\n",
       "      <td>Current Employee</td>\n",
       "    </tr>\n",
       "    <tr>\n",
       "      <th>7</th>\n",
       "      <td>Kevin</td>\n",
       "      <td>Hayes</td>\n",
       "      <td>1994-01-21</td>\n",
       "      <td>515 Tucker Plaza Suite 304</td>\n",
       "      <td>59010</td>\n",
       "      <td>Male</td>\n",
       "      <td>Black</td>\n",
       "      <td>Fluent</td>\n",
       "      <td>Basic</td>\n",
       "      <td>High School</td>\n",
       "      <td>2.09</td>\n",
       "      <td>2.92</td>\n",
       "      <td>4.1</td>\n",
       "      <td>0.0</td>\n",
       "      <td>ESTP</td>\n",
       "      <td>319</td>\n",
       "      <td>538</td>\n",
       "      <td>False</td>\n",
       "      <td>1.30</td>\n",
       "      <td>1.29</td>\n",
       "      <td>Current Employee</td>\n",
       "    </tr>\n",
       "    <tr>\n",
       "      <th>8</th>\n",
       "      <td>Autumn</td>\n",
       "      <td>Robinson</td>\n",
       "      <td>1996-05-05</td>\n",
       "      <td>0123 Audrey Union</td>\n",
       "      <td>60531</td>\n",
       "      <td>Female</td>\n",
       "      <td>Black</td>\n",
       "      <td>Fluent</td>\n",
       "      <td>Basic</td>\n",
       "      <td>None</td>\n",
       "      <td>NaN</td>\n",
       "      <td>NaN</td>\n",
       "      <td>3.0</td>\n",
       "      <td>0.0</td>\n",
       "      <td>ISFJ</td>\n",
       "      <td>988</td>\n",
       "      <td>510</td>\n",
       "      <td>False</td>\n",
       "      <td>0.89</td>\n",
       "      <td>0.63</td>\n",
       "      <td>Current Employee</td>\n",
       "    </tr>\n",
       "    <tr>\n",
       "      <th>9</th>\n",
       "      <td>Kimberly</td>\n",
       "      <td>Becker</td>\n",
       "      <td>1983-04-12</td>\n",
       "      <td>91615 Wilson Place</td>\n",
       "      <td>60531</td>\n",
       "      <td>Female</td>\n",
       "      <td>Black</td>\n",
       "      <td>Fluent</td>\n",
       "      <td>Basic</td>\n",
       "      <td>High School</td>\n",
       "      <td>2.99</td>\n",
       "      <td>2.97</td>\n",
       "      <td>14.8</td>\n",
       "      <td>0.0</td>\n",
       "      <td>INTP</td>\n",
       "      <td>1169</td>\n",
       "      <td>2254</td>\n",
       "      <td>False</td>\n",
       "      <td>3.59</td>\n",
       "      <td>3.40</td>\n",
       "      <td>Current Employee</td>\n",
       "    </tr>\n",
       "  </tbody>\n",
       "</table>\n",
       "</div>"
      ],
      "text/plain": [
       "  First Name Last Name  ... Sales Rating             Fired\n",
       "0      Sarah     Chang  ...         2.07  Current Employee\n",
       "1     Daniel    Taylor  ...         2.98  Current Employee\n",
       "2    Heather   Stewart  ...         1.36  Current Employee\n",
       "3  Katherine    Dillon  ...         2.62  Current Employee\n",
       "4      Sheri    Bolton  ...         1.78  Current Employee\n",
       "5      Donna     Davis  ...         0.87  Current Employee\n",
       "6   Benjamin   Shelton  ...         3.11  Current Employee\n",
       "7      Kevin     Hayes  ...         1.29  Current Employee\n",
       "8     Autumn  Robinson  ...         0.63  Current Employee\n",
       "9   Kimberly    Becker  ...         3.40  Current Employee\n",
       "\n",
       "[10 rows x 21 columns]"
      ]
     },
     "execution_count": 4,
     "metadata": {
      "tags": []
     },
     "output_type": "execute_result"
    }
   ],
   "source": [
    "df.head(10)"
   ]
  },
  {
   "cell_type": "code",
   "execution_count": 5,
   "metadata": {
    "colab": {
     "base_uri": "https://localhost:8080/",
     "height": 448
    },
    "id": "Xgby0qLjQrio",
    "outputId": "dc1aa5b5-062e-4587-d1cb-6919a110b846"
   },
   "outputs": [
    {
     "data": {
      "text/html": [
       "<div>\n",
       "<style scoped>\n",
       "    .dataframe tbody tr th:only-of-type {\n",
       "        vertical-align: middle;\n",
       "    }\n",
       "\n",
       "    .dataframe tbody tr th {\n",
       "        vertical-align: top;\n",
       "    }\n",
       "\n",
       "    .dataframe thead th {\n",
       "        text-align: right;\n",
       "    }\n",
       "</style>\n",
       "<table border=\"1\" class=\"dataframe\">\n",
       "  <thead>\n",
       "    <tr style=\"text-align: right;\">\n",
       "      <th></th>\n",
       "      <th>First Name</th>\n",
       "      <th>Last Name</th>\n",
       "      <th>Date of Birth</th>\n",
       "      <th>Address</th>\n",
       "      <th>Zipcode</th>\n",
       "      <th>Gender</th>\n",
       "      <th>Race / Ethnicity</th>\n",
       "      <th>English Fluency</th>\n",
       "      <th>Spanish Fluency</th>\n",
       "      <th>Education</th>\n",
       "      <th>High School GPA</th>\n",
       "      <th>College GPA</th>\n",
       "      <th>Years of Experience</th>\n",
       "      <th>Years of Volunteering</th>\n",
       "      <th>Myers Briggs Type</th>\n",
       "      <th>Twitter followers</th>\n",
       "      <th>Instagram Followers</th>\n",
       "      <th>Requires Sponsorship</th>\n",
       "      <th>Customer Satisfaction Rating</th>\n",
       "      <th>Sales Rating</th>\n",
       "      <th>Fired</th>\n",
       "    </tr>\n",
       "  </thead>\n",
       "  <tbody>\n",
       "    <tr>\n",
       "      <th>count</th>\n",
       "      <td>2000</td>\n",
       "      <td>2000</td>\n",
       "      <td>2000</td>\n",
       "      <td>2000</td>\n",
       "      <td>2000.000000</td>\n",
       "      <td>2000</td>\n",
       "      <td>2000</td>\n",
       "      <td>2000</td>\n",
       "      <td>2000</td>\n",
       "      <td>2000</td>\n",
       "      <td>1645.000000</td>\n",
       "      <td>1645.000000</td>\n",
       "      <td>2000.000000</td>\n",
       "      <td>2000.000000</td>\n",
       "      <td>2000</td>\n",
       "      <td>2000.000000</td>\n",
       "      <td>2.000000e+03</td>\n",
       "      <td>2000</td>\n",
       "      <td>2000.000000</td>\n",
       "      <td>2000.00000</td>\n",
       "      <td>2000</td>\n",
       "    </tr>\n",
       "    <tr>\n",
       "      <th>unique</th>\n",
       "      <td>477</td>\n",
       "      <td>696</td>\n",
       "      <td>1701</td>\n",
       "      <td>2000</td>\n",
       "      <td>NaN</td>\n",
       "      <td>2</td>\n",
       "      <td>3</td>\n",
       "      <td>3</td>\n",
       "      <td>3</td>\n",
       "      <td>5</td>\n",
       "      <td>NaN</td>\n",
       "      <td>NaN</td>\n",
       "      <td>NaN</td>\n",
       "      <td>NaN</td>\n",
       "      <td>16</td>\n",
       "      <td>NaN</td>\n",
       "      <td>NaN</td>\n",
       "      <td>2</td>\n",
       "      <td>NaN</td>\n",
       "      <td>NaN</td>\n",
       "      <td>2</td>\n",
       "    </tr>\n",
       "    <tr>\n",
       "      <th>top</th>\n",
       "      <td>Michael</td>\n",
       "      <td>Smith</td>\n",
       "      <td>1990-05-09</td>\n",
       "      <td>5747 Smith Lakes</td>\n",
       "      <td>NaN</td>\n",
       "      <td>Female</td>\n",
       "      <td>Black</td>\n",
       "      <td>Fluent</td>\n",
       "      <td>Basic</td>\n",
       "      <td>High School</td>\n",
       "      <td>NaN</td>\n",
       "      <td>NaN</td>\n",
       "      <td>NaN</td>\n",
       "      <td>NaN</td>\n",
       "      <td>ISFJ</td>\n",
       "      <td>NaN</td>\n",
       "      <td>NaN</td>\n",
       "      <td>False</td>\n",
       "      <td>NaN</td>\n",
       "      <td>NaN</td>\n",
       "      <td>Current Employee</td>\n",
       "    </tr>\n",
       "    <tr>\n",
       "      <th>freq</th>\n",
       "      <td>42</td>\n",
       "      <td>45</td>\n",
       "      <td>4</td>\n",
       "      <td>1</td>\n",
       "      <td>NaN</td>\n",
       "      <td>1201</td>\n",
       "      <td>1000</td>\n",
       "      <td>1183</td>\n",
       "      <td>1795</td>\n",
       "      <td>881</td>\n",
       "      <td>NaN</td>\n",
       "      <td>NaN</td>\n",
       "      <td>NaN</td>\n",
       "      <td>NaN</td>\n",
       "      <td>218</td>\n",
       "      <td>NaN</td>\n",
       "      <td>NaN</td>\n",
       "      <td>1813</td>\n",
       "      <td>NaN</td>\n",
       "      <td>NaN</td>\n",
       "      <td>1844</td>\n",
       "    </tr>\n",
       "    <tr>\n",
       "      <th>mean</th>\n",
       "      <td>NaN</td>\n",
       "      <td>NaN</td>\n",
       "      <td>NaN</td>\n",
       "      <td>NaN</td>\n",
       "      <td>53300.740500</td>\n",
       "      <td>NaN</td>\n",
       "      <td>NaN</td>\n",
       "      <td>NaN</td>\n",
       "      <td>NaN</td>\n",
       "      <td>NaN</td>\n",
       "      <td>3.010359</td>\n",
       "      <td>3.251465</td>\n",
       "      <td>8.042550</td>\n",
       "      <td>0.263000</td>\n",
       "      <td>NaN</td>\n",
       "      <td>1065.144500</td>\n",
       "      <td>9.586589e+03</td>\n",
       "      <td>NaN</td>\n",
       "      <td>2.220175</td>\n",
       "      <td>2.06511</td>\n",
       "      <td>NaN</td>\n",
       "    </tr>\n",
       "    <tr>\n",
       "      <th>std</th>\n",
       "      <td>NaN</td>\n",
       "      <td>NaN</td>\n",
       "      <td>NaN</td>\n",
       "      <td>NaN</td>\n",
       "      <td>17455.384226</td>\n",
       "      <td>NaN</td>\n",
       "      <td>NaN</td>\n",
       "      <td>NaN</td>\n",
       "      <td>NaN</td>\n",
       "      <td>NaN</td>\n",
       "      <td>0.584502</td>\n",
       "      <td>0.430466</td>\n",
       "      <td>4.674366</td>\n",
       "      <td>0.907487</td>\n",
       "      <td>NaN</td>\n",
       "      <td>7499.266485</td>\n",
       "      <td>2.269563e+05</td>\n",
       "      <td>NaN</td>\n",
       "      <td>1.058473</td>\n",
       "      <td>0.97946</td>\n",
       "      <td>NaN</td>\n",
       "    </tr>\n",
       "    <tr>\n",
       "      <th>min</th>\n",
       "      <td>NaN</td>\n",
       "      <td>NaN</td>\n",
       "      <td>NaN</td>\n",
       "      <td>NaN</td>\n",
       "      <td>24310.000000</td>\n",
       "      <td>NaN</td>\n",
       "      <td>NaN</td>\n",
       "      <td>NaN</td>\n",
       "      <td>NaN</td>\n",
       "      <td>NaN</td>\n",
       "      <td>2.000000</td>\n",
       "      <td>2.500000</td>\n",
       "      <td>0.000000</td>\n",
       "      <td>0.000000</td>\n",
       "      <td>NaN</td>\n",
       "      <td>300.000000</td>\n",
       "      <td>5.000000e+02</td>\n",
       "      <td>NaN</td>\n",
       "      <td>0.000000</td>\n",
       "      <td>0.00000</td>\n",
       "      <td>NaN</td>\n",
       "    </tr>\n",
       "    <tr>\n",
       "      <th>25%</th>\n",
       "      <td>NaN</td>\n",
       "      <td>NaN</td>\n",
       "      <td>NaN</td>\n",
       "      <td>NaN</td>\n",
       "      <td>43357.000000</td>\n",
       "      <td>NaN</td>\n",
       "      <td>NaN</td>\n",
       "      <td>NaN</td>\n",
       "      <td>NaN</td>\n",
       "      <td>NaN</td>\n",
       "      <td>2.510000</td>\n",
       "      <td>2.870000</td>\n",
       "      <td>3.900000</td>\n",
       "      <td>0.000000</td>\n",
       "      <td>NaN</td>\n",
       "      <td>364.000000</td>\n",
       "      <td>6.710000e+02</td>\n",
       "      <td>NaN</td>\n",
       "      <td>1.307500</td>\n",
       "      <td>1.25750</td>\n",
       "      <td>NaN</td>\n",
       "    </tr>\n",
       "    <tr>\n",
       "      <th>50%</th>\n",
       "      <td>NaN</td>\n",
       "      <td>NaN</td>\n",
       "      <td>NaN</td>\n",
       "      <td>NaN</td>\n",
       "      <td>55864.000000</td>\n",
       "      <td>NaN</td>\n",
       "      <td>NaN</td>\n",
       "      <td>NaN</td>\n",
       "      <td>NaN</td>\n",
       "      <td>NaN</td>\n",
       "      <td>3.020000</td>\n",
       "      <td>3.270000</td>\n",
       "      <td>8.100000</td>\n",
       "      <td>0.000000</td>\n",
       "      <td>NaN</td>\n",
       "      <td>466.500000</td>\n",
       "      <td>9.925000e+02</td>\n",
       "      <td>NaN</td>\n",
       "      <td>2.250000</td>\n",
       "      <td>2.06000</td>\n",
       "      <td>NaN</td>\n",
       "    </tr>\n",
       "    <tr>\n",
       "      <th>75%</th>\n",
       "      <td>NaN</td>\n",
       "      <td>NaN</td>\n",
       "      <td>NaN</td>\n",
       "      <td>NaN</td>\n",
       "      <td>60531.000000</td>\n",
       "      <td>NaN</td>\n",
       "      <td>NaN</td>\n",
       "      <td>NaN</td>\n",
       "      <td>NaN</td>\n",
       "      <td>NaN</td>\n",
       "      <td>3.510000</td>\n",
       "      <td>3.610000</td>\n",
       "      <td>12.100000</td>\n",
       "      <td>0.000000</td>\n",
       "      <td>NaN</td>\n",
       "      <td>769.250000</td>\n",
       "      <td>2.042000e+03</td>\n",
       "      <td>NaN</td>\n",
       "      <td>3.080000</td>\n",
       "      <td>2.86000</td>\n",
       "      <td>NaN</td>\n",
       "    </tr>\n",
       "    <tr>\n",
       "      <th>max</th>\n",
       "      <td>NaN</td>\n",
       "      <td>NaN</td>\n",
       "      <td>NaN</td>\n",
       "      <td>NaN</td>\n",
       "      <td>86553.000000</td>\n",
       "      <td>NaN</td>\n",
       "      <td>NaN</td>\n",
       "      <td>NaN</td>\n",
       "      <td>NaN</td>\n",
       "      <td>NaN</td>\n",
       "      <td>4.000000</td>\n",
       "      <td>4.000000</td>\n",
       "      <td>17.000000</td>\n",
       "      <td>5.000000</td>\n",
       "      <td>NaN</td>\n",
       "      <td>275255.000000</td>\n",
       "      <td>9.798199e+06</td>\n",
       "      <td>NaN</td>\n",
       "      <td>4.950000</td>\n",
       "      <td>4.68000</td>\n",
       "      <td>NaN</td>\n",
       "    </tr>\n",
       "  </tbody>\n",
       "</table>\n",
       "</div>"
      ],
      "text/plain": [
       "       First Name Last Name  ... Sales Rating             Fired\n",
       "count        2000      2000  ...   2000.00000              2000\n",
       "unique        477       696  ...          NaN                 2\n",
       "top       Michael     Smith  ...          NaN  Current Employee\n",
       "freq           42        45  ...          NaN              1844\n",
       "mean          NaN       NaN  ...      2.06511               NaN\n",
       "std           NaN       NaN  ...      0.97946               NaN\n",
       "min           NaN       NaN  ...      0.00000               NaN\n",
       "25%           NaN       NaN  ...      1.25750               NaN\n",
       "50%           NaN       NaN  ...      2.06000               NaN\n",
       "75%           NaN       NaN  ...      2.86000               NaN\n",
       "max           NaN       NaN  ...      4.68000               NaN\n",
       "\n",
       "[11 rows x 21 columns]"
      ]
     },
     "execution_count": 5,
     "metadata": {
      "tags": []
     },
     "output_type": "execute_result"
    }
   ],
   "source": [
    "df.describe(include=\"all\")"
   ]
  },
  {
   "cell_type": "code",
   "execution_count": 6,
   "metadata": {
    "colab": {
     "base_uri": "https://localhost:8080/"
    },
    "id": "53QCOLGNQriu",
    "outputId": "9ec17c09-79e1-4625-fb03-51b1978d96a7"
   },
   "outputs": [
    {
     "name": "stdout",
     "output_type": "stream",
     "text": [
      "The columns of data are:\n"
     ]
    },
    {
     "data": {
      "text/plain": [
       "['First Name',\n",
       " 'Last Name',\n",
       " 'Date of Birth',\n",
       " 'Address',\n",
       " 'Zipcode',\n",
       " 'Gender',\n",
       " 'Race / Ethnicity',\n",
       " 'English Fluency',\n",
       " 'Spanish Fluency',\n",
       " 'Education',\n",
       " 'High School GPA',\n",
       " 'College GPA',\n",
       " 'Years of Experience',\n",
       " 'Years of Volunteering',\n",
       " 'Myers Briggs Type',\n",
       " 'Twitter followers',\n",
       " 'Instagram Followers',\n",
       " 'Requires Sponsorship',\n",
       " 'Customer Satisfaction Rating',\n",
       " 'Sales Rating',\n",
       " 'Fired']"
      ]
     },
     "execution_count": 6,
     "metadata": {
      "tags": []
     },
     "output_type": "execute_result"
    }
   ],
   "source": [
    "print(\"The columns of data are:\")\n",
    "list(df.columns)"
   ]
  },
  {
   "cell_type": "markdown",
   "metadata": {
    "deletable": false,
    "editable": false,
    "id": "bwpWFM4JSI1n",
    "nbgrader": {
     "cell_type": "markdown",
     "checksum": "de79ab46da1ec15d40873fd7c93e4a87",
     "grade": false,
     "grade_id": "cell-da9afb0de2933b89",
     "locked": true,
     "schema_version": 3,
     "solution": false,
     "task": false
    }
   },
   "source": [
    "Before building any models, your manager has asked you to **convert all the feature data into formats that can easily be used for training and testing a variety of models**. This means:\n",
    "1. Splitting the 16 Myers Briggs types into 4 subtypes\n",
    "2. Converting categorical features into dummy binary features\n",
    "3. Calculating age based on date of birth\n",
    "4. Dealing with missing (NaN) values in the data\n",
    "\n",
    "In addition, you should remove columns that contain redundant information after going through the process above, e.g., removing the 'Date of Birth' column after an 'Age' column is added.\n"
   ]
  },
  {
   "cell_type": "markdown",
   "metadata": {
    "deletable": false,
    "editable": false,
    "id": "yyxbe8W2Qri1",
    "nbgrader": {
     "cell_type": "markdown",
     "checksum": "b3b9adb69534d3423b135f54a29bcdf1",
     "grade": false,
     "grade_id": "cell-759ebf896978ca5d",
     "locked": true,
     "schema_version": 3,
     "solution": false
    }
   },
   "source": [
    "### MBTI Splitting\n",
    "\n",
    "The [Myers Briggs Type Indicator](https://en.wikipedia.org/wiki/Myers%E2%80%93Briggs_Type_Indicator) (MBTI) descibes people as one of two types for each of:\n",
    "\n",
    "* extraversion (E) or introversion (I)\n",
    "* sensing (S) or intuition (N)\n",
    "* thinking (T) or feeling (F)\n",
    "* judgment (J) or perception (P)\n",
    "\n",
    "It would make more sense for us to represent people as one or the other of these instead of creating all the possible cases. That way a model can learn based on each of those factors as well as their combination. \n",
    "\n",
    "Your next task is to split the MBTI column into four columns in the dataframe, with the following column names and values:\n",
    "\n",
    "* MBTI_EI with value `E` or `I`\n",
    "* MBTI_SN with value `S` or `N`\n",
    "* MBTI_TF with value `T` or `F`\n",
    "* MBTI_JP with value `J` or `P`\n",
    "\n",
    "that correspond to the same row's Myers Briggs Type, and add those columns to your DataFrame, ```df```. Consider using the Series ```apply()``` method.\n",
    "\n",
    "Afterwards, remove the original \"Myers Briggs Type\" column."
   ]
  },
  {
   "cell_type": "code",
   "execution_count": 7,
   "metadata": {
    "deletable": false,
    "id": "IKa0UuiRQri2",
    "nbgrader": {
     "cell_type": "code",
     "checksum": "684f43b481383ae1fa1488100efe524b",
     "grade": false,
     "grade_id": "cell-b96d43f098c26707",
     "locked": false,
     "schema_version": 3,
     "solution": true
    }
   },
   "outputs": [],
   "source": [
    "df['MBTI_EI'] = df['Myers Briggs Type'].apply(lambda x: x[0])\n",
    "df['MBTI_SN'] = df['Myers Briggs Type'].apply(lambda x: x[1])\n",
    "df['MBTI_TF'] = df['Myers Briggs Type'].apply(lambda x: x[2])\n",
    "df['MBTI_JP'] = df['Myers Briggs Type'].apply(lambda x: x[3])\n",
    "df.drop('Myers Briggs Type', axis=1, inplace=True)\n",
    "# raise NotImplementedError()"
   ]
  },
  {
   "cell_type": "code",
   "execution_count": 8,
   "metadata": {
    "deletable": false,
    "editable": false,
    "id": "5UPBPY9BQri8",
    "nbgrader": {
     "cell_type": "code",
     "checksum": "83708aa6f0dbf9654405634f29adb452",
     "grade": true,
     "grade_id": "cell-1b5cf11c2512def1",
     "locked": true,
     "points": 10,
     "schema_version": 3,
     "solution": false
    }
   },
   "outputs": [],
   "source": [
    "assert len(set(df[\"MBTI_EI\"])) == 2\n",
    "assert \"E\" in set(df[\"MBTI_EI\"]) and \"I\" in set(df[\"MBTI_EI\"])\n",
    "assert len(set(df[\"MBTI_SN\"])) == 2\n",
    "assert \"S\" in set(df[\"MBTI_SN\"]) and \"N\" in set(df[\"MBTI_SN\"])\n",
    "assert len(set(df[\"MBTI_TF\"])) == 2\n",
    "assert \"T\" in set(df[\"MBTI_TF\"]) and \"F\" in set(df[\"MBTI_TF\"])\n",
    "assert len(set(df[\"MBTI_JP\"])) == 2\n",
    "assert \"J\" in set(df[\"MBTI_JP\"]) and \"P\" in set(df[\"MBTI_JP\"])\n",
    "assert \"Myers Briggs Type\" not in list(df.columns)"
   ]
  },
  {
   "cell_type": "markdown",
   "metadata": {
    "deletable": false,
    "editable": false,
    "id": "Rp7NQOOZQrjA",
    "nbgrader": {
     "cell_type": "markdown",
     "checksum": "d0d66ae39d5eba1acfed519336f95590",
     "grade": false,
     "grade_id": "cell-51a7104ebad2aa72",
     "locked": true,
     "schema_version": 3,
     "solution": false
    }
   },
   "source": [
    "1. ~~Splitting the 16 Myers Briggs types into 4 subtypes~~\n",
    "2. Converting categorical features into dummy binary features\n",
    "3. Calculating age based on date of birth\n",
    "4. Dealing with missing (NaN) values in the data"
   ]
  },
  {
   "cell_type": "markdown",
   "metadata": {
    "deletable": false,
    "editable": false,
    "id": "Ee-4-8VnQrjB",
    "nbgrader": {
     "cell_type": "markdown",
     "checksum": "734ba5de9e3a5df14b8d47fb71753aac",
     "grade": false,
     "grade_id": "cell-364e01542d424264",
     "locked": true,
     "schema_version": 3,
     "solution": false
    }
   },
   "source": [
    "### Categorical to Dummy Variables\n",
    "\n",
    "Dummy variables are variables that allow us to convert a category into several binary variables. For example, if we had a color value that we were storing and we knew it could only have the values `red`, `green`, and `blue`, then instead of storing the color as those strings, we can store three binary variables: `is_red`, `is_green`, and `is_blue`. \n",
    "\n",
    "We can do this in pandas easily by using [`get_dummies`](https://pandas.pydata.org/pandas-docs/stable/generated/pandas.get_dummies.html)."
   ]
  },
  {
   "cell_type": "code",
   "execution_count": 9,
   "metadata": {
    "deletable": false,
    "id": "NC0DysIpQrjB",
    "nbgrader": {
     "cell_type": "code",
     "checksum": "cddfa9be9a40dbf707ed928596ebb89a",
     "grade": false,
     "grade_id": "cell-32271c292a515ef3",
     "locked": false,
     "schema_version": 3,
     "solution": true
    }
   },
   "outputs": [],
   "source": [
    "# Review the DataFrame columns and identify the columns that contain categorical\n",
    "# features and save them to a list called \"categorical_columns\".\n",
    "\n",
    "# Categorical here means that there is a discrete (albeit large in some cases)\n",
    "# number of possible options for the column that are not just 0 or 1\n",
    "\n",
    "categorical_columns = ['Gender', 'Race / Ethnicity', 'English Fluency', 'Spanish Fluency', 'Education', 'Requires Sponsorship', 'Fired', 'MBTI_EI', 'MBTI_SN', 'MBTI_TF', 'MBTI_JP']\n",
    "# raise NotImplementedError()"
   ]
  },
  {
   "cell_type": "code",
   "execution_count": 10,
   "metadata": {
    "deletable": false,
    "editable": false,
    "id": "jdNtmrl6QrjH",
    "nbgrader": {
     "cell_type": "code",
     "checksum": "18a0f09a797269b018ae2cf0f3e85960",
     "grade": true,
     "grade_id": "cell-528eea88864f2926",
     "locked": true,
     "points": 10,
     "schema_version": 3,
     "solution": false
    }
   },
   "outputs": [],
   "source": [
    "assert len(categorical_columns) > 8\n",
    "for category in categorical_columns:\n",
    "    assert category in df.columns"
   ]
  },
  {
   "cell_type": "code",
   "execution_count": 11,
   "metadata": {
    "deletable": false,
    "editable": false,
    "id": "u-LVPXKCE5rH",
    "nbgrader": {
     "cell_type": "code",
     "checksum": "d7053f39a8b8da236f4d5dc09f8fb1ac",
     "grade": false,
     "grade_id": "cell-526438097a7b2b8d",
     "locked": true,
     "schema_version": 3,
     "solution": false,
     "task": false
    }
   },
   "outputs": [],
   "source": [
    "# Before we get the dummy variables, we need to make sure that all these \n",
    "# categorical columns are actually recognized by pandas to be of 'category' type.\n",
    "for column in categorical_columns:\n",
    "    df[column] = df[column].astype('category')"
   ]
  },
  {
   "cell_type": "code",
   "execution_count": 12,
   "metadata": {
    "deletable": false,
    "id": "9nXNaoYeQrjL",
    "nbgrader": {
     "cell_type": "code",
     "checksum": "3990d21bd359541639089bd76c03c56b",
     "grade": false,
     "grade_id": "cell-ad307669e4346527",
     "locked": false,
     "schema_version": 3,
     "solution": true
    }
   },
   "outputs": [],
   "source": [
    "# For every column in the categorical_columns,\n",
    "# calculate the dummy variables and add them to the dataframe\n",
    "\n",
    "df = pd.concat([df, pd.get_dummies(df[categorical_columns])], axis=1)\n",
    "# raise NotImplementedError()"
   ]
  },
  {
   "cell_type": "code",
   "execution_count": 13,
   "metadata": {
    "deletable": false,
    "editable": false,
    "id": "Wjry6pPNQrjQ",
    "nbgrader": {
     "cell_type": "code",
     "checksum": "20a089162c8e028bada006b2ac24c34c",
     "grade": false,
     "grade_id": "cell-d477e9bead9db0a6",
     "locked": true,
     "schema_version": 3,
     "solution": false
    }
   },
   "outputs": [],
   "source": [
    "assert len(list(df.columns)) > 45"
   ]
  },
  {
   "cell_type": "code",
   "execution_count": 14,
   "metadata": {
    "colab": {
     "base_uri": "https://localhost:8080/"
    },
    "deletable": false,
    "editable": false,
    "id": "LYs2UHNUQrjU",
    "nbgrader": {
     "cell_type": "code",
     "checksum": "f24fb58ec9e0feb12116a391b973879f",
     "grade": false,
     "grade_id": "cell-4b43f9bb988091cf",
     "locked": true,
     "schema_version": 3,
     "solution": false
    },
    "outputId": "0fbc2e95-22da-47c0-d5b0-cccb4f08f6d5"
   },
   "outputs": [
    {
     "name": "stdout",
     "output_type": "stream",
     "text": [
      "The current columns are:\n"
     ]
    },
    {
     "data": {
      "text/plain": [
       "['First Name',\n",
       " 'Last Name',\n",
       " 'Date of Birth',\n",
       " 'Address',\n",
       " 'Zipcode',\n",
       " 'Gender',\n",
       " 'Race / Ethnicity',\n",
       " 'English Fluency',\n",
       " 'Spanish Fluency',\n",
       " 'Education',\n",
       " 'High School GPA',\n",
       " 'College GPA',\n",
       " 'Years of Experience',\n",
       " 'Years of Volunteering',\n",
       " 'Twitter followers',\n",
       " 'Instagram Followers',\n",
       " 'Requires Sponsorship',\n",
       " 'Customer Satisfaction Rating',\n",
       " 'Sales Rating',\n",
       " 'Fired',\n",
       " 'MBTI_EI',\n",
       " 'MBTI_SN',\n",
       " 'MBTI_TF',\n",
       " 'MBTI_JP',\n",
       " 'Gender_Female',\n",
       " 'Gender_Male',\n",
       " 'Race / Ethnicity_Black',\n",
       " 'Race / Ethnicity_Caucasian',\n",
       " 'Race / Ethnicity_Hispanic',\n",
       " 'English Fluency_Basic',\n",
       " 'English Fluency_Fluent',\n",
       " 'English Fluency_Proficient',\n",
       " 'Spanish Fluency_Basic',\n",
       " 'Spanish Fluency_Fluent',\n",
       " 'Spanish Fluency_Proficient',\n",
       " 'Education_Associates',\n",
       " 'Education_Graduate',\n",
       " 'Education_High School',\n",
       " 'Education_None',\n",
       " 'Education_Undergraduate',\n",
       " 'Requires Sponsorship_False',\n",
       " 'Requires Sponsorship_True',\n",
       " 'Fired_Current Employee',\n",
       " 'Fired_Fired',\n",
       " 'MBTI_EI_E',\n",
       " 'MBTI_EI_I',\n",
       " 'MBTI_SN_N',\n",
       " 'MBTI_SN_S',\n",
       " 'MBTI_TF_F',\n",
       " 'MBTI_TF_T',\n",
       " 'MBTI_JP_J',\n",
       " 'MBTI_JP_P']"
      ]
     },
     "execution_count": 14,
     "metadata": {
      "tags": []
     },
     "output_type": "execute_result"
    }
   ],
   "source": [
    "print(\"The current columns are:\")\n",
    "list(df.columns)"
   ]
  },
  {
   "cell_type": "code",
   "execution_count": 15,
   "metadata": {
    "deletable": false,
    "id": "2DeBsotIQrja",
    "nbgrader": {
     "cell_type": "code",
     "checksum": "b39d0aaf64d919228cd0b7cd681199ba",
     "grade": false,
     "grade_id": "cell-10890eae4243cb8d",
     "locked": false,
     "schema_version": 3,
     "solution": true
    }
   },
   "outputs": [],
   "source": [
    "# Now drop all the categorical features columns from the dataframe\n",
    "# So that we don't have duplicate information stored\n",
    "df.drop(categorical_columns, axis=1, inplace=True)\n",
    "# raise NotImplementedError()"
   ]
  },
  {
   "cell_type": "code",
   "execution_count": 16,
   "metadata": {
    "colab": {
     "base_uri": "https://localhost:8080/"
    },
    "deletable": false,
    "editable": false,
    "id": "EbjQdgc2Qrje",
    "nbgrader": {
     "cell_type": "code",
     "checksum": "10113a2235b4d47c0b3e356e72bbacfa",
     "grade": false,
     "grade_id": "cell-c0598d253d832ddd",
     "locked": true,
     "schema_version": 3,
     "solution": false
    },
    "outputId": "3accefd0-15f6-4203-d0a1-9f510eab72c5"
   },
   "outputs": [
    {
     "name": "stdout",
     "output_type": "stream",
     "text": [
      "The current columns are:\n"
     ]
    },
    {
     "data": {
      "text/plain": [
       "['First Name',\n",
       " 'Last Name',\n",
       " 'Date of Birth',\n",
       " 'Address',\n",
       " 'Zipcode',\n",
       " 'High School GPA',\n",
       " 'College GPA',\n",
       " 'Years of Experience',\n",
       " 'Years of Volunteering',\n",
       " 'Twitter followers',\n",
       " 'Instagram Followers',\n",
       " 'Customer Satisfaction Rating',\n",
       " 'Sales Rating',\n",
       " 'Gender_Female',\n",
       " 'Gender_Male',\n",
       " 'Race / Ethnicity_Black',\n",
       " 'Race / Ethnicity_Caucasian',\n",
       " 'Race / Ethnicity_Hispanic',\n",
       " 'English Fluency_Basic',\n",
       " 'English Fluency_Fluent',\n",
       " 'English Fluency_Proficient',\n",
       " 'Spanish Fluency_Basic',\n",
       " 'Spanish Fluency_Fluent',\n",
       " 'Spanish Fluency_Proficient',\n",
       " 'Education_Associates',\n",
       " 'Education_Graduate',\n",
       " 'Education_High School',\n",
       " 'Education_None',\n",
       " 'Education_Undergraduate',\n",
       " 'Requires Sponsorship_False',\n",
       " 'Requires Sponsorship_True',\n",
       " 'Fired_Current Employee',\n",
       " 'Fired_Fired',\n",
       " 'MBTI_EI_E',\n",
       " 'MBTI_EI_I',\n",
       " 'MBTI_SN_N',\n",
       " 'MBTI_SN_S',\n",
       " 'MBTI_TF_F',\n",
       " 'MBTI_TF_T',\n",
       " 'MBTI_JP_J',\n",
       " 'MBTI_JP_P']"
      ]
     },
     "execution_count": 16,
     "metadata": {
      "tags": []
     },
     "output_type": "execute_result"
    }
   ],
   "source": [
    "print(\"The current columns are:\")\n",
    "list(df.columns)"
   ]
  },
  {
   "cell_type": "code",
   "execution_count": 17,
   "metadata": {
    "deletable": false,
    "editable": false,
    "id": "m44-1XHyQrjj",
    "nbgrader": {
     "cell_type": "code",
     "checksum": "87ada951dfc2201e957993b2aa5dbe95",
     "grade": true,
     "grade_id": "cell-a6172310793c3289",
     "locked": true,
     "points": 10,
     "schema_version": 3,
     "solution": false
    }
   },
   "outputs": [],
   "source": [
    "assert 55 > len(list(df.columns)) > 30"
   ]
  },
  {
   "cell_type": "markdown",
   "metadata": {
    "deletable": false,
    "editable": false,
    "id": "COI29UDEQrjn",
    "nbgrader": {
     "cell_type": "markdown",
     "checksum": "77c1e8cf92655b525a94d6cb6a39c945",
     "grade": false,
     "grade_id": "cell-48ebecdc645e8f6a",
     "locked": true,
     "schema_version": 3,
     "solution": false
    }
   },
   "source": [
    "1. ~~Splitting the 16 Myers Briggs types into 4 subtypes~~\n",
    "2. ~~Converting categorical features into dummy binary features~~\n",
    "3. Calculating age based on date of birth\n",
    "4. Dealing with missing (NaN) values in the data\n",
    "\n",
    "### Age Calculation"
   ]
  },
  {
   "cell_type": "code",
   "execution_count": 18,
   "metadata": {
    "deletable": false,
    "editable": false,
    "id": "47ydwvFeQrjo",
    "nbgrader": {
     "cell_type": "code",
     "checksum": "9db3dce385fe824574de1023425fb7ac",
     "grade": false,
     "grade_id": "cell-028aecaf0638bb7a",
     "locked": true,
     "schema_version": 3,
     "solution": false
    }
   },
   "outputs": [],
   "source": [
    "def calculate_age(born):\n",
    "    \"\"\"Calculates age based on date of birth using https://stackoverflow.com/a/9754466/818687\n",
    "\n",
    "    Args:\n",
    "        born (datetime): The date of birth\n",
    "\n",
    "    Returns:\n",
    "        int: The age based on date of birth\n",
    "    \"\"\"\n",
    "    today = datetime.datetime.strptime(\"2020-11-20\", \"%Y-%m-%d\")\n",
    "    return today.year - born.year - ((today.month, today.day) < (born.month, born.day))"
   ]
  },
  {
   "cell_type": "markdown",
   "metadata": {
    "id": "SLuFWRZaQrjs"
   },
   "source": [
    "Add an \"Age\" column to the dataframe, with the help of the ```calculate_age()``` function above. Afterwards, remove the \"Date of Birth\" column.\n",
    "\n",
    "The input to ```calculate_age()``` should be a datetime object. Review the ```datetime.datetme.strptime()```\n",
    "function and [format codes](https://docs.python.org/3/library/datetime.html#strftime-strptime-behavior) to determine how to convert the \"Date of Birth\" date string into a datetime object."
   ]
  },
  {
   "cell_type": "code",
   "execution_count": 19,
   "metadata": {
    "deletable": false,
    "id": "QI7eW-FoQrjs",
    "nbgrader": {
     "cell_type": "code",
     "checksum": "f8aa6b8b6f87c947c924722d60becd56",
     "grade": false,
     "grade_id": "cell-315ed06d1f0428b4",
     "locked": false,
     "schema_version": 3,
     "solution": true
    }
   },
   "outputs": [],
   "source": [
    "mylist = []\n",
    "df['Date of Birth'] = pd.to_datetime(df['Date of Birth'], format=\"%Y-%m-%d\")\n",
    "for i in df['Date of Birth']:\n",
    "  mylist.append(calculate_age(i))\n",
    "df['Age'] = mylist\n",
    "df.drop('Date of Birth', axis=1, inplace=True)\n",
    "\n",
    "# raise NotImplementedError()"
   ]
  },
  {
   "cell_type": "code",
   "execution_count": 20,
   "metadata": {
    "deletable": false,
    "editable": false,
    "id": "2xcfEfy9Qrjv",
    "nbgrader": {
     "cell_type": "code",
     "checksum": "e7d1e0d2860b91e6231983b6db51a00a",
     "grade": true,
     "grade_id": "cell-abfc46abea98fba7",
     "locked": true,
     "points": 20,
     "schema_version": 3,
     "solution": false
    }
   },
   "outputs": [],
   "source": [
    "assert df[\"Age\"].min() == 22\n",
    "assert df[\"Age\"].max() == 38\n",
    "assert df[\"Age\"].median() == 30\n",
    "assert \"Date of Birth\" not in list(df.columns)"
   ]
  },
  {
   "cell_type": "markdown",
   "metadata": {
    "id": "bfVJHz_0C8X6"
   },
   "source": [
    "1. ~~Splitting the 16 Myers Briggs types into 4 subtypes~~\n",
    "2. ~~Converting categorical features into dummy binary features~~\n",
    "3. ~~Calculating age based on date of birth~~\n",
    "4. Dealing with missing (NaN) values in the data\n",
    "\n",
    "## Handle NaN values"
   ]
  },
  {
   "cell_type": "code",
   "execution_count": 21,
   "metadata": {
    "colab": {
     "base_uri": "https://localhost:8080/"
    },
    "id": "DPtjdTXjDVOr",
    "outputId": "88151a98-2cf2-4c6e-cb86-03d2d9aaf617"
   },
   "outputs": [
    {
     "name": "stdout",
     "output_type": "stream",
     "text": [
      "['High School GPA', 'College GPA']\n"
     ]
    }
   ],
   "source": [
    "# Create a list of columns that contain NaN values\n",
    "nan_columns = df.columns[df.isna().any()].tolist()\n",
    "print(nan_columns)"
   ]
  },
  {
   "cell_type": "markdown",
   "metadata": {
    "id": "A7-lkXhdDmkO"
   },
   "source": [
    "We see that data is not truly \"missing\" any values, but for people that did not attend or complete high school or college, there are no GPA values.\n",
    "\n",
    "How should you deal with this? If you had a large number of people without GPAs, you might consider making separate models for people with GPAs and for people without. For this case, your manager asks you to make sure there's one model for everyone. She recommends one of the following options:\n",
    "\n",
    "1. Replace NaN values with the mean value of all the non-NaN values.\n",
    "1. Replace NaN values with 0\n",
    "1. Replace NaN values with some other value\n",
    "1. Create a model to predict people's GPA values from other attributes and fill them in with those values\n",
    "\n",
    "Consider the assumptions of each approach:\n",
    "1. Replacing with the mean assumes that that person would receive the average of others who work at this company.\n",
    "1. Replacing with 0 assumes that that person would fail if they attended high school or college.\n",
    "1. Replacing with some arbitrary value will have assumptions based on what that value is\n",
    "1. Creating a model to predict people's GPA values from the other attributes in the data assumes that those attributes are predictive of GPA. \n",
    "\n",
    "\n",
    "Regardless of the approach you take, just make sure there are no more NaN values. "
   ]
  },
  {
   "cell_type": "code",
   "execution_count": 22,
   "metadata": {
    "deletable": false,
    "id": "ZKJLKs2xE06h",
    "nbgrader": {
     "cell_type": "code",
     "checksum": "fd73b92aa5b1a069c528dabd348caa29",
     "grade": false,
     "grade_id": "cell-5b544815d1fa2e03",
     "locked": false,
     "schema_version": 3,
     "solution": true,
     "task": false
    }
   },
   "outputs": [],
   "source": [
    "# For each of the two columns that contain NaN values, replace the NaN values\n",
    "# with numerical values, using one of the approaches above, or some other approach\n",
    "# that you devise yourself.\n",
    "\n",
    "df[nan_columns] = df[nan_columns].fillna(0)\n",
    "# raise NotImplementedError()"
   ]
  },
  {
   "cell_type": "code",
   "execution_count": 23,
   "metadata": {
    "deletable": false,
    "editable": false,
    "id": "bAi-bCIZFOp9",
    "nbgrader": {
     "cell_type": "code",
     "checksum": "f1d84c450a3e75b27f90091cead27b2e",
     "grade": true,
     "grade_id": "cell-06ba496085783976",
     "locked": true,
     "points": 10,
     "schema_version": 3,
     "solution": false,
     "task": false
    }
   },
   "outputs": [],
   "source": [
    "for col in nan_columns:\n",
    "    assert not df[col].isna().any()"
   ]
  },
  {
   "cell_type": "code",
   "execution_count": 24,
   "metadata": {
    "colab": {
     "base_uri": "https://localhost:8080/"
    },
    "deletable": false,
    "id": "5a1mOqd8g7ax",
    "nbgrader": {
     "cell_type": "code",
     "checksum": "3c12534743cf01369960c45d247fc24c",
     "grade": false,
     "grade_id": "cell-7bebafd4a8e5d502",
     "locked": false,
     "schema_version": 3,
     "solution": true,
     "task": false
    },
    "outputId": "268951d6-5a7f-42d6-b240-15dac32eba2f"
   },
   "outputs": [
    {
     "name": "stdout",
     "output_type": "stream",
     "text": [
      "\n",
      "I chose approach two since I felt that, even though the person may not have \n",
      "technically failed any classes, they did fail to complete their degree and therefore\n",
      "for when it comes to gpa this is like an equivalent of having no gpa which can be \n",
      "distinguished by storing as a gpa of zero.\n",
      "\n"
     ]
    }
   ],
   "source": [
    "# Describe the approach you chose and why and save that as a string called nan_filling_approach\n",
    "nan_filling_approach = '''\n",
    "I chose approach two since I felt that, even though the person may not have \n",
    "technically failed any classes, they did fail to complete their degree and therefore\n",
    "for when it comes to gpa this is like an equivalent of having no gpa which can be \n",
    "distinguished by storing as a gpa of zero.\n",
    "'''\n",
    "# raise NotImplementedError()\n",
    "print(nan_filling_approach)"
   ]
  },
  {
   "cell_type": "code",
   "execution_count": 25,
   "metadata": {
    "deletable": false,
    "editable": false,
    "id": "vRSiz0Rug7ax",
    "nbgrader": {
     "cell_type": "code",
     "checksum": "9fcb6626f13ef89933cdbaffac6171c8",
     "grade": true,
     "grade_id": "cell-e58a09c92fb5074b",
     "locked": true,
     "points": 10,
     "schema_version": 3,
     "solution": false,
     "task": false
    }
   },
   "outputs": [],
   "source": [
    "assert len(nan_filling_approach) > 30"
   ]
  },
  {
   "cell_type": "markdown",
   "metadata": {
    "id": "k_52XMEQHMfA"
   },
   "source": [
    "## Modeling"
   ]
  },
  {
   "cell_type": "markdown",
   "metadata": {
    "deletable": false,
    "editable": false,
    "id": "5Ehsr1FaQrjz",
    "nbgrader": {
     "cell_type": "markdown",
     "checksum": "5ae89aed737a6106f40120d8fce81e5a",
     "grade": false,
     "grade_id": "cell-ea0c08afcc388389",
     "locked": true,
     "schema_version": 3,
     "solution": false
    }
   },
   "source": [
    "### Interviewing model(s)\n",
    "\n",
    "Having completed the conversion of the data into a format that can be used with machine learning models, your manager asks that you build three seperate models which predict the following three targets, respectively:\n",
    "\n",
    "1. Customer Satisfaction\n",
    "1. Sales Performance\n",
    "1. Fired"
   ]
  },
  {
   "cell_type": "code",
   "execution_count": 26,
   "metadata": {
    "deletable": false,
    "id": "KC0mGpc2Qrj0",
    "nbgrader": {
     "cell_type": "code",
     "checksum": "3b89b7a9a0df68690eb42725ccbcc45d",
     "grade": false,
     "grade_id": "cell-449eb7f2253cca83",
     "locked": false,
     "schema_version": 3,
     "solution": true
    }
   },
   "outputs": [],
   "source": [
    "# Save the names of columns we are trying to predict to a list called \"targets\".\n",
    "# Make sure that if we had a categorical column, that you use the dummy representation(s)\n",
    "targets = ['Customer Satisfaction Rating', 'Sales Rating', 'Fired_Fired']\n",
    "# raise NotImplementedError()"
   ]
  },
  {
   "cell_type": "code",
   "execution_count": 27,
   "metadata": {
    "deletable": false,
    "editable": false,
    "id": "TDOU2C7ZQrj4",
    "nbgrader": {
     "cell_type": "code",
     "checksum": "d5081927389e999a34fec741f4e5b416",
     "grade": true,
     "grade_id": "cell-458aa3767005cc6d",
     "locked": true,
     "points": 20,
     "schema_version": 3,
     "solution": false
    }
   },
   "outputs": [],
   "source": [
    "assert len(targets) == 3\n",
    "for target in targets:\n",
    "    assert target in df.columns"
   ]
  },
  {
   "cell_type": "markdown",
   "metadata": {
    "deletable": false,
    "editable": false,
    "id": "sQ3mnuWzQrj7",
    "nbgrader": {
     "cell_type": "markdown",
     "checksum": "3483b9f94845eb927745bac31e7fd468",
     "grade": false,
     "grade_id": "cell-001c7adb39caf635",
     "locked": true,
     "schema_version": 3,
     "solution": false
    }
   },
   "source": [
    "Ultimately, the predictions of your models will be used to rank applicants for interviews with HR.\n",
    "\n",
    "**Which features will you select to use in your model?** You will specify them below."
   ]
  },
  {
   "cell_type": "code",
   "execution_count": 28,
   "metadata": {
    "colab": {
     "base_uri": "https://localhost:8080/"
    },
    "deletable": false,
    "editable": false,
    "id": "bJ1bAdziQrj8",
    "nbgrader": {
     "cell_type": "code",
     "checksum": "2ca1e6e7f83ad4da5a3185188c638880",
     "grade": false,
     "grade_id": "cell-e436c6aea590b5c0",
     "locked": true,
     "schema_version": 3,
     "solution": false
    },
    "outputId": "25ba0f8d-9fa2-4edd-8cb4-508d55cd67cc"
   },
   "outputs": [
    {
     "name": "stdout",
     "output_type": "stream",
     "text": [
      "The available columns are:\n"
     ]
    },
    {
     "data": {
      "text/plain": [
       "['First Name',\n",
       " 'Last Name',\n",
       " 'Address',\n",
       " 'Zipcode',\n",
       " 'High School GPA',\n",
       " 'College GPA',\n",
       " 'Years of Experience',\n",
       " 'Years of Volunteering',\n",
       " 'Twitter followers',\n",
       " 'Instagram Followers',\n",
       " 'Customer Satisfaction Rating',\n",
       " 'Sales Rating',\n",
       " 'Gender_Female',\n",
       " 'Gender_Male',\n",
       " 'Race / Ethnicity_Black',\n",
       " 'Race / Ethnicity_Caucasian',\n",
       " 'Race / Ethnicity_Hispanic',\n",
       " 'English Fluency_Basic',\n",
       " 'English Fluency_Fluent',\n",
       " 'English Fluency_Proficient',\n",
       " 'Spanish Fluency_Basic',\n",
       " 'Spanish Fluency_Fluent',\n",
       " 'Spanish Fluency_Proficient',\n",
       " 'Education_Associates',\n",
       " 'Education_Graduate',\n",
       " 'Education_High School',\n",
       " 'Education_None',\n",
       " 'Education_Undergraduate',\n",
       " 'Requires Sponsorship_False',\n",
       " 'Requires Sponsorship_True',\n",
       " 'Fired_Current Employee',\n",
       " 'Fired_Fired',\n",
       " 'MBTI_EI_E',\n",
       " 'MBTI_EI_I',\n",
       " 'MBTI_SN_N',\n",
       " 'MBTI_SN_S',\n",
       " 'MBTI_TF_F',\n",
       " 'MBTI_TF_T',\n",
       " 'MBTI_JP_J',\n",
       " 'MBTI_JP_P',\n",
       " 'Age']"
      ]
     },
     "execution_count": 28,
     "metadata": {
      "tags": []
     },
     "output_type": "execute_result"
    }
   ],
   "source": [
    "print(\"The available columns are:\")\n",
    "list(df)"
   ]
  },
  {
   "cell_type": "code",
   "execution_count": 29,
   "metadata": {
    "deletable": false,
    "id": "_Q71StrCQrkB",
    "nbgrader": {
     "cell_type": "code",
     "checksum": "0e494aa6ca038ee3b7d37ef7051bfcdb",
     "grade": false,
     "grade_id": "cell-bd2399d20615cbd1",
     "locked": false,
     "schema_version": 3,
     "solution": true
    }
   },
   "outputs": [],
   "source": [
    "# Enter all the features you want to use in a list and save it to \"interview_features\".\n",
    "# These are the features for the models that will predict the targets, and the\n",
    "# predictions will be used to rank applicants for **interviews**.\n",
    "interview_features = ['High School GPA',\n",
    "                      'College GPA',\n",
    "                      'Years of Experience',\n",
    "                      'Years of Volunteering',\n",
    "                      'English Fluency_Basic',\n",
    "                      'English Fluency_Fluent',\n",
    "                      'English Fluency_Proficient',\n",
    "                      'Spanish Fluency_Basic',\n",
    "                      'Spanish Fluency_Fluent',\n",
    "                      'Spanish Fluency_Proficient',\n",
    "                      'Education_Associates',\n",
    "                      'Education_High School',\n",
    "                      'Education_Undergraduate',\n",
    "                      'MBTI_EI_E',\n",
    "                      'MBTI_EI_I',\n",
    "                      'MBTI_SN_N',\n",
    "                      'MBTI_SN_S',\n",
    "                      'MBTI_TF_F',\n",
    "                      'MBTI_TF_T',\n",
    "                      'MBTI_JP_J',\n",
    "                      'MBTI_JP_P',\n",
    "                      ]\n",
    "# raise NotImplementedError()"
   ]
  },
  {
   "cell_type": "markdown",
   "metadata": {
    "deletable": false,
    "editable": false,
    "id": "IEjtob_PQrkE",
    "nbgrader": {
     "cell_type": "markdown",
     "checksum": "734ba0669bdc3873fb75b67ef74cc737",
     "grade": false,
     "grade_id": "cell-c35210aa72f0c989",
     "locked": true,
     "schema_version": 3,
     "solution": false
    }
   },
   "source": [
    "Why did you choose the features you did?"
   ]
  },
  {
   "cell_type": "code",
   "execution_count": 30,
   "metadata": {
    "deletable": false,
    "id": "szA3hUTVQrkE",
    "nbgrader": {
     "cell_type": "code",
     "checksum": "e208d15be2551c27b05dbded87a99da5",
     "grade": false,
     "grade_id": "cell-11725eab2a5dc436",
     "locked": false,
     "schema_version": 3,
     "solution": true
    }
   },
   "outputs": [],
   "source": [
    "## Save your reasoning in a string to the variable interview_reason\n",
    "\n",
    "interview_reason = '''\n",
    "for my feature selection, I tried to pick features that seem to be taken into consideration for jobs \n",
    "that I have applied for in real life and this can sometimes include a personality test which is why \n",
    "I included the personality types. I also tried to stick to features that are metrics which hiring managers \n",
    "can use legally to evaluate candidates to try and remove the more biased, opinion based, metrics.\n",
    "'''\n",
    "# raise NotImplementedError()"
   ]
  },
  {
   "cell_type": "code",
   "execution_count": 31,
   "metadata": {
    "deletable": false,
    "editable": false,
    "id": "IjjWNMcdQrkH",
    "nbgrader": {
     "cell_type": "code",
     "checksum": "f1f846ce7a9241577a65b17e86839b29",
     "grade": true,
     "grade_id": "cell-8b0e41f067c8ef32",
     "locked": true,
     "points": 20,
     "schema_version": 3,
     "solution": false
    }
   },
   "outputs": [],
   "source": [
    "assert isinstance(interview_reason, str)\n",
    "assert len(interview_reason) > 20"
   ]
  },
  {
   "cell_type": "code",
   "execution_count": 32,
   "metadata": {
    "deletable": false,
    "id": "uro6564gQrkL",
    "nbgrader": {
     "cell_type": "code",
     "checksum": "b04202681097bdf2baa81746a0284884",
     "grade": false,
     "grade_id": "cell-d9d5cf91c533af77",
     "locked": false,
     "schema_version": 3,
     "solution": true
    }
   },
   "outputs": [],
   "source": [
    "# Perform a train and test split on the data with the variable names:\n",
    "# interview_x_train for the training features\n",
    "# interview_x_test for the testing features\n",
    "# interview_y_train for the training targets\n",
    "# interview_y_test for the testing targets\n",
    "# The test dataset should be 20% of the total dataset\n",
    "\n",
    "interview_x_train, interview_x_test, interview_y_train, interview_y_test = train_test_split(df[interview_features], df[targets], test_size=0.2)\n",
    "\n",
    "# raise NotImplementedError()"
   ]
  },
  {
   "cell_type": "code",
   "execution_count": 33,
   "metadata": {
    "deletable": false,
    "editable": false,
    "id": "LMrRXdYnQrkN",
    "nbgrader": {
     "cell_type": "code",
     "checksum": "1200a735dd6eee29cd1b2c2c94808599",
     "grade": true,
     "grade_id": "cell-146c7b1df2f26d90",
     "locked": true,
     "points": 10,
     "schema_version": 3,
     "solution": false
    }
   },
   "outputs": [],
   "source": [
    "assert (len(interview_x_train) / (len(interview_x_test) + len(interview_x_train))) == 0.8\n",
    "assert (len(interview_y_train) / (len(interview_y_test) + len(interview_y_train))) == 0.8\n",
    "assert len(interview_x_train) == len(interview_y_train)\n",
    "assert len(interview_x_test) == len(interview_y_test)"
   ]
  },
  {
   "cell_type": "markdown",
   "metadata": {
    "id": "NkHr4ehrvnqa"
   },
   "source": [
    "Build and train your interviewing models."
   ]
  },
  {
   "cell_type": "code",
   "execution_count": 34,
   "metadata": {
    "colab": {
     "base_uri": "https://localhost:8080/"
    },
    "deletable": false,
    "id": "7nJGrXs8QrkQ",
    "nbgrader": {
     "cell_type": "code",
     "checksum": "5e462aa6db1da24ead6274a0ca4859b6",
     "grade": true,
     "grade_id": "cell-99742e48e538f29a",
     "locked": false,
     "points": 50,
     "schema_version": 3,
     "solution": true
    },
    "outputId": "c74497b2-f18a-41b4-b6d4-580296a47f15"
   },
   "outputs": [
    {
     "name": "stdout",
     "output_type": "stream",
     "text": [
      "To predict the target  Customer Satisfaction Rating , I trained a  LinearRegression  model and determined the best hyperparameters as:\n",
      "The MI score for High School GPA is 1.2874304345043608\n",
      "The MI score for College GPA is 1.246806144966678\n",
      "The MI score for Years of Experience is 45.07757727508887\n",
      "The MI score for Years of Volunteering is 1.6961390467519553\n",
      "The MI score for English Fluency_Basic is 1.1790732748640382\n",
      "The MI score for English Fluency_Fluent is 1.06359102797297\n",
      "The MI score for English Fluency_Proficient is 0.9668210245973864\n",
      "The MI score for Spanish Fluency_Basic is 0.9256402248027101\n",
      "The MI score for Spanish Fluency_Fluent is 1.0081687641143733\n",
      "The MI score for Spanish Fluency_Proficient is 0.9308409746029191\n",
      "The MI score for Education_Associates is 0.8542426523425956\n",
      "The MI score for Education_High School is 1.1633169808725512\n",
      "The MI score for Education_Undergraduate is 1.1983144374952706\n",
      "The MI score for MBTI_EI_E is 0.9452340635580201\n",
      "The MI score for MBTI_EI_I is 0.9452340635580186\n",
      "The MI score for MBTI_SN_N is 0.9841358043672543\n",
      "The MI score for MBTI_SN_S is 0.9841358043672507\n",
      "The MI score for MBTI_TF_F is 1.0116916663284683\n",
      "The MI score for MBTI_TF_T is 1.0116916663284652\n",
      "The MI score for MBTI_JP_J is 0.957994632889875\n",
      "The MI score for MBTI_JP_P is 0.9579946328898757\n",
      "\n",
      " resulting in a mean square error of:  0.21304768897901027 \n",
      "\n",
      "To predict the target  Sales Rating , I trained a  LinearRegression  model and determined the best hyperparameters as:\n",
      "The MI score for High School GPA is 1.1525654894876147\n",
      "The MI score for College GPA is 1.2521981204970358\n",
      "The MI score for Years of Experience is 30.937706112637898\n",
      "The MI score for Years of Volunteering is 1.7059104303249382\n",
      "The MI score for English Fluency_Basic is 1.0994724667046734\n",
      "The MI score for English Fluency_Fluent is 0.993784599502053\n",
      "The MI score for English Fluency_Proficient is 0.9422423024667661\n",
      "The MI score for Spanish Fluency_Basic is 1.107810528831981\n",
      "The MI score for Spanish Fluency_Fluent is 1.2047494886644639\n",
      "The MI score for Spanish Fluency_Proficient is 0.9694298629007045\n",
      "The MI score for Education_Associates is 1.1171447088161528\n",
      "The MI score for Education_High School is 1.1252402971909632\n",
      "The MI score for Education_Undergraduate is 1.2373035540152306\n",
      "The MI score for MBTI_EI_E is 0.9010658684506501\n",
      "The MI score for MBTI_EI_I is 0.9010658684506501\n",
      "The MI score for MBTI_SN_N is 0.9626967547045038\n",
      "The MI score for MBTI_SN_S is 0.9626967547045011\n",
      "The MI score for MBTI_TF_F is 1.1195155504042504\n",
      "The MI score for MBTI_TF_T is 1.1195155504042467\n",
      "The MI score for MBTI_JP_J is 0.9898816440440782\n",
      "The MI score for MBTI_JP_P is 0.9898816440440782\n",
      "\n",
      " resulting in a mean square error of:  0.05005810775616038 \n",
      "\n",
      "To predict the target  Fired_Fired , I trained a  KNN  model and determined the best hyperparameters as: \n",
      " a K value of 16 \n",
      " resulting in a accuracy score of:  0.9525 \n",
      "\n"
     ]
    }
   ],
   "source": [
    "# Select models of your choosing, import them here, and perform a\n",
    "# hyperparameter search while training them on each of the targets.\n",
    "from sklearn.neighbors import KNeighborsClassifier\n",
    "from sklearn.feature_selection import SelectKBest, mutual_info_regression, RFE\n",
    "from sklearn.linear_model import LinearRegression, LassoCV\n",
    "from sklearn.metrics import classification_report, confusion_matrix, f1_score\n",
    "from sklearn import metrics\n",
    "# Do not use Tensorflow to build a model - you may use scikit-learn.\n",
    "\n",
    "def param(mi_trans):\n",
    "  for feature, importance in zip(interview_features, mi_trans.scores_):\n",
    "    print(f\"The MI score for {feature} is {importance}\")\n",
    "  return\n",
    "\n",
    "kval = 14\n",
    "\n",
    "mi_x_train1 = SelectKBest(k=kval).fit_transform(interview_x_train, interview_y_train['Customer Satisfaction Rating'])\n",
    "mi_x_test1 = SelectKBest(k=kval).fit_transform(interview_x_test, interview_y_test['Customer Satisfaction Rating'])\n",
    "mi_transformer1 = SelectKBest(k=kval).fit(interview_x_train, interview_y_train['Customer Satisfaction Rating'])\n",
    "interview_model_target1 = LinearRegression().fit(interview_x_train, interview_y_train['Customer Satisfaction Rating'])\n",
    "\n",
    "mi_x_train2 = SelectKBest(k=kval).fit_transform(interview_x_train, interview_y_train['Sales Rating'])\n",
    "mi_x_test2 = SelectKBest(k=kval).fit_transform(interview_x_test, interview_y_test['Sales Rating'])\n",
    "mi_transformer2 = SelectKBest(k=kval).fit(interview_x_train, interview_y_train['Sales Rating'])\n",
    "interview_model_target2 = LinearRegression().fit(interview_x_train, interview_y_train['Sales Rating'])\n",
    "\n",
    "interview_model_target3 = KNeighborsClassifier(n_neighbors=16).fit(interview_x_train, interview_y_train['Fired_Fired'])\n",
    "\n",
    "# Determine an appropriate metric for measuring your performance for each\n",
    "# model/target, and report the test score for that metric. The metric may be\n",
    "# different for each model/target.\n",
    "\n",
    "#ac_model1\n",
    "\n",
    "pred1 = interview_model_target2.predict(interview_x_test)\n",
    "ac_model1 = np.sqrt(metrics.mean_squared_error(interview_y_test['Customer Satisfaction Rating'], pred1))\n",
    "\n",
    "#ac_model2\n",
    "\n",
    "pred2 = interview_model_target2.predict(interview_x_test)\n",
    "ac_model2 = np.sqrt(metrics.mean_squared_error(interview_y_test['Sales Rating'], pred2))\n",
    "\n",
    "# ac_model3\n",
    "param3 = \"a K value of 16\"\n",
    "pred3 = interview_model_target3.predict(interview_x_test)\n",
    "ac_model3 = classification_report(interview_y_test['Fired_Fired'], pred3, output_dict=True).get('accuracy')\n",
    "\n",
    "\n",
    "# Save your models in a list, with models ordered in the same manner as the\n",
    "# targets they are predicting in the list \"targets\" you created above.\n",
    "# Call the list \"my_hiring_models\", e.g.\n",
    "my_interview_models = [interview_model_target1,\n",
    "                      interview_model_target2,\n",
    "                      interview_model_target3]\n",
    "type_models = ['LinearRegression', 'LinearRegression', 'KNN']\n",
    "int_ac_models = [ac_model1, ac_model2, ac_model3]\n",
    "meas = ['mean square error', 'mean square error', 'accuracy']\n",
    "# You should use multiple print messages to print something like the\n",
    "# following for each of your models/targets:\n",
    "#\n",
    "# To predict the target (target), I trained a (model) model\n",
    "# and determined the best hyperparameters as (param1 = p1), (param2 = p2)...\n",
    "# resulting in a (metric) score of (score).\n",
    "\n",
    "for i in range(3):\n",
    "  if i == 0:\n",
    "    print(\"To predict the target \", str(targets[i]), \", I trained a \", str(type_models[i]), \" model and determined the best hyperparameters as:\")\n",
    "    param(mi_transformer1)\n",
    "    print(\"\\n resulting in a mean square error of: \", str(int_ac_models[i]), \"\\n\")\n",
    "  if i == 1:\n",
    "    print(\"To predict the target \", str(targets[i]), \", I trained a \", str(type_models[i]), \" model and determined the best hyperparameters as:\")\n",
    "    param(mi_transformer2)\n",
    "    print(\"\\n resulting in a mean square error of: \", str(int_ac_models[i]), \"\\n\")\n",
    "  if i == 2:\n",
    "    print(\"To predict the target \", str(targets[i]), \", I trained a \", str(type_models[i]), \" model and determined the best hyperparameters as: \\n\",  param3, \"\\n resulting in a accuracy score of: \", str(int_ac_models[i]), \"\\n\")\n",
    "# raise NotImplementedError()"
   ]
  },
  {
   "cell_type": "code",
   "execution_count": 35,
   "metadata": {
    "id": "lkdngUX7yMJq"
   },
   "outputs": [],
   "source": [
    "assert len(my_interview_models)==len(targets)"
   ]
  },
  {
   "cell_type": "markdown",
   "metadata": {
    "deletable": false,
    "editable": false,
    "id": "-4WvDVFYQrkT",
    "nbgrader": {
     "cell_type": "markdown",
     "checksum": "d909350ea6f55a3151827ad93b357df0",
     "grade": false,
     "grade_id": "cell-be0de61adb8d2930",
     "locked": true,
     "schema_version": 3,
     "solution": false
    }
   },
   "source": [
    "### Hiring model(s)\n",
    "\n",
    "You manager tells you that SellsALOT has decided they wish to consider doing away with interviews altogether, in order to save money. SellsALOT would like a model that will be used to rank candidates for directly hiring them, rather than for interviewing them.\n",
    "\n",
    "Will your choice of features changes?\n",
    "\n",
    "**Which features will you select to use in that model?** You will specify them below."
   ]
  },
  {
   "cell_type": "code",
   "execution_count": 36,
   "metadata": {
    "colab": {
     "base_uri": "https://localhost:8080/"
    },
    "deletable": false,
    "editable": false,
    "id": "k2a4ceZsQrkU",
    "nbgrader": {
     "cell_type": "code",
     "checksum": "06aae577c3325934b9dd2d521549d716",
     "grade": false,
     "grade_id": "cell-3aaedae380c7db79",
     "locked": true,
     "schema_version": 3,
     "solution": false
    },
    "outputId": "84e9e17e-6fcf-4b26-d318-208d40fc6b6c"
   },
   "outputs": [
    {
     "name": "stdout",
     "output_type": "stream",
     "text": [
      "The available columns are:\n"
     ]
    },
    {
     "data": {
      "text/plain": [
       "['First Name',\n",
       " 'Last Name',\n",
       " 'Address',\n",
       " 'Zipcode',\n",
       " 'High School GPA',\n",
       " 'College GPA',\n",
       " 'Years of Experience',\n",
       " 'Years of Volunteering',\n",
       " 'Twitter followers',\n",
       " 'Instagram Followers',\n",
       " 'Customer Satisfaction Rating',\n",
       " 'Sales Rating',\n",
       " 'Gender_Female',\n",
       " 'Gender_Male',\n",
       " 'Race / Ethnicity_Black',\n",
       " 'Race / Ethnicity_Caucasian',\n",
       " 'Race / Ethnicity_Hispanic',\n",
       " 'English Fluency_Basic',\n",
       " 'English Fluency_Fluent',\n",
       " 'English Fluency_Proficient',\n",
       " 'Spanish Fluency_Basic',\n",
       " 'Spanish Fluency_Fluent',\n",
       " 'Spanish Fluency_Proficient',\n",
       " 'Education_Associates',\n",
       " 'Education_Graduate',\n",
       " 'Education_High School',\n",
       " 'Education_None',\n",
       " 'Education_Undergraduate',\n",
       " 'Requires Sponsorship_False',\n",
       " 'Requires Sponsorship_True',\n",
       " 'Fired_Current Employee',\n",
       " 'Fired_Fired',\n",
       " 'MBTI_EI_E',\n",
       " 'MBTI_EI_I',\n",
       " 'MBTI_SN_N',\n",
       " 'MBTI_SN_S',\n",
       " 'MBTI_TF_F',\n",
       " 'MBTI_TF_T',\n",
       " 'MBTI_JP_J',\n",
       " 'MBTI_JP_P',\n",
       " 'Age']"
      ]
     },
     "execution_count": 36,
     "metadata": {
      "tags": []
     },
     "output_type": "execute_result"
    }
   ],
   "source": [
    "print(\"The available columns are:\")\n",
    "list(df)"
   ]
  },
  {
   "cell_type": "code",
   "execution_count": 37,
   "metadata": {
    "deletable": false,
    "id": "ZRyhvmMaQrkW",
    "nbgrader": {
     "cell_type": "code",
     "checksum": "aac9ee0ef0cb43dddc721d66f66eafc6",
     "grade": false,
     "grade_id": "cell-c4bad209682c7022",
     "locked": false,
     "schema_version": 3,
     "solution": true
    }
   },
   "outputs": [],
   "source": [
    "# Enter all the features you want to use in a list and save it to \"hire_features\".\n",
    "# These are the features for the models that will predict the targets, and the\n",
    "# predictions will be used to rank applicants for **hiring**.\n",
    "\n",
    "hire_features = interview_features\n",
    "# raise NotImplementedError()"
   ]
  },
  {
   "cell_type": "markdown",
   "metadata": {
    "deletable": false,
    "editable": false,
    "id": "Oe68bBEcQrkb",
    "nbgrader": {
     "cell_type": "markdown",
     "checksum": "a6b02cbd6f7418d4619aab8525689ad3",
     "grade": false,
     "grade_id": "cell-b4b87681c2bdc21a",
     "locked": true,
     "schema_version": 3,
     "solution": false
    }
   },
   "source": [
    "Why did you choose the features you did?"
   ]
  },
  {
   "cell_type": "code",
   "execution_count": 38,
   "metadata": {
    "deletable": false,
    "id": "_aT9KBg0Qrkb",
    "nbgrader": {
     "cell_type": "code",
     "checksum": "4297c68ae6bc15756a9bd4288edeac7c",
     "grade": true,
     "grade_id": "cell-b95231da655a979d",
     "locked": false,
     "points": 20,
     "schema_version": 3,
     "solution": true,
     "task": false
    }
   },
   "outputs": [],
   "source": [
    "## Save your reasoning in a string to the variable hire_reason\n",
    "\n",
    "hire_reason = '''\n",
    "I ended up going with essentially the same features as before. \n",
    "In real life a personality test is often included in the hiring process as well which is why \n",
    "I included the personality types. And here I also tried to stick to features that are metrics which hiring managers \n",
    "can use legally to evaluate candidates to try and remove the more biased, opinion based, metrics as well.\n",
    "'''\n",
    "# raise NotImplementedError()"
   ]
  },
  {
   "cell_type": "code",
   "execution_count": 39,
   "metadata": {
    "deletable": false,
    "editable": false,
    "id": "WOr6CM_tQrke",
    "nbgrader": {
     "cell_type": "code",
     "checksum": "f8ffd07a6c5fa5ea2cb0bb632891a430",
     "grade": true,
     "grade_id": "cell-34d2462a6b2f374c",
     "locked": true,
     "points": 10,
     "schema_version": 3,
     "solution": false
    }
   },
   "outputs": [],
   "source": [
    "assert isinstance(hire_reason, str)\n",
    "assert len(hire_reason) > 20"
   ]
  },
  {
   "cell_type": "markdown",
   "metadata": {
    "deletable": false,
    "editable": false,
    "id": "uKIkN6t-Qrkg",
    "nbgrader": {
     "cell_type": "markdown",
     "checksum": "517eec5e5592eae3ea6c7ff7c4d63d17",
     "grade": false,
     "grade_id": "cell-5d3c9cf0fe1dac76",
     "locked": true,
     "schema_version": 3,
     "solution": false
    }
   },
   "source": [
    "Why was your choice different from or the same as the interviewing features?\n"
   ]
  },
  {
   "cell_type": "code",
   "execution_count": 40,
   "metadata": {
    "deletable": false,
    "id": "9NAvxqfvQrkg",
    "nbgrader": {
     "cell_type": "code",
     "checksum": "40c3262507edafa2c79b3db41292b4b1",
     "grade": true,
     "grade_id": "cell-4479d690eeb487ad",
     "locked": false,
     "points": 20,
     "schema_version": 3,
     "solution": true,
     "task": false
    }
   },
   "outputs": [],
   "source": [
    "# Save your reasoning in a string to the variable\n",
    "# same_reason if the features are the same, or\n",
    "# different_reason if the features are different.\n",
    "same_reason = '''\n",
    "I believe that the reason for getting an interview and the reason \n",
    "for someone getting hired are essentially the same. The interview I feel is more to \n",
    "see how well you can communicate and how strongly you may state your case for why\n",
    "you should get hired. But if the company has the same information that they would of had\n",
    "for the interview I think all that information is still useful in determining whether\n",
    "or not someone gets hired.\n",
    "'''\n",
    "# raise NotImplementedError()"
   ]
  },
  {
   "cell_type": "code",
   "execution_count": 41,
   "metadata": {
    "colab": {
     "base_uri": "https://localhost:8080/"
    },
    "deletable": false,
    "editable": false,
    "id": "rErewAYqQrkl",
    "nbgrader": {
     "cell_type": "code",
     "checksum": "24889e98e4e288ad95c375e3e85655f2",
     "grade": true,
     "grade_id": "cell-f875ee0056d6eb98",
     "locked": true,
     "points": 10,
     "schema_version": 3,
     "solution": false
    },
    "outputId": "c84d8f5e-8569-4652-d542-5b5e3a6cb432"
   },
   "outputs": [
    {
     "name": "stdout",
     "output_type": "stream",
     "text": [
      "Your features for interviewing and hiring are the same.\n"
     ]
    }
   ],
   "source": [
    "if all([rf in hire_features for rf in interview_features]) and all([sf in interview_features for sf in hire_features]):\n",
    "    print(\"Your features for interviewing and hiring are the same.\")\n",
    "    assert isinstance(same_reason, str)\n",
    "    assert len(same_reason) > 20\n",
    "else:\n",
    "    print(\"Your features for interviewing and hiring are different.\")\n",
    "    assert isinstance(different_reason, str)\n",
    "    assert len(different_reason) > 20"
   ]
  },
  {
   "cell_type": "code",
   "execution_count": 42,
   "metadata": {
    "deletable": false,
    "id": "VbuVq9gsQrkn",
    "nbgrader": {
     "cell_type": "code",
     "checksum": "196e9a8b98e5825acd96a0447ca61b55",
     "grade": false,
     "grade_id": "cell-fe98928b7423b02b",
     "locked": false,
     "schema_version": 3,
     "solution": true
    }
   },
   "outputs": [],
   "source": [
    "# Perform a train and test split on the data with the variable names:\n",
    "# hire_x_train for the training features\n",
    "# hire_x_test for the testing features\n",
    "# hire_y_train for the training targets\n",
    "# hire_y_test for the testing targets\n",
    "# The test dataset should be 20% of the total dataset\n",
    "\n",
    "hire_x_train, hire_x_test, hire_y_train, hire_y_test = train_test_split(df[hire_features], df[targets], test_size=0.2)\n",
    "# raise NotImplementedError()"
   ]
  },
  {
   "cell_type": "code",
   "execution_count": 43,
   "metadata": {
    "deletable": false,
    "editable": false,
    "id": "pmSR0X0uQrkq",
    "nbgrader": {
     "cell_type": "code",
     "checksum": "6724e653238a8d8de046c997f145ec49",
     "grade": true,
     "grade_id": "cell-be29120b1249cd74",
     "locked": true,
     "points": 10,
     "schema_version": 3,
     "solution": false
    }
   },
   "outputs": [],
   "source": [
    "assert (len(hire_x_train) / (len(hire_x_test) + len(hire_x_train))) == 0.8\n",
    "assert (len(hire_y_train) / (len(hire_y_test) + len(hire_y_train))) == 0.8\n",
    "assert len(hire_x_train) == len(hire_y_train)\n",
    "assert len(hire_x_test) == len(hire_y_test)"
   ]
  },
  {
   "cell_type": "markdown",
   "metadata": {
    "deletable": false,
    "editable": false,
    "id": "lbc63m_SQrks",
    "nbgrader": {
     "cell_type": "markdown",
     "checksum": "101ed3dcd7e1ae4166adfe3b64f5919c",
     "grade": false,
     "grade_id": "cell-3ae20ccdd5d080b7",
     "locked": true,
     "schema_version": 3,
     "solution": false
    }
   },
   "source": [
    "Build and train your hiring models.\n",
    "\n",
    "Do you expect this model to perform differently?"
   ]
  },
  {
   "cell_type": "code",
   "execution_count": 44,
   "metadata": {
    "colab": {
     "base_uri": "https://localhost:8080/"
    },
    "deletable": false,
    "id": "u9vuP3ulQrkt",
    "nbgrader": {
     "cell_type": "code",
     "checksum": "42a7f6265a18b03c5a03f404b938eb16",
     "grade": true,
     "grade_id": "cell-43f1427eb940e017",
     "locked": false,
     "points": 50,
     "schema_version": 3,
     "solution": true
    },
    "outputId": "31f30ae1-10bc-44b9-a7c7-133ac77356ea"
   },
   "outputs": [
    {
     "name": "stdout",
     "output_type": "stream",
     "text": [
      "To predict the target  Customer Satisfaction Rating , I trained a  LinearRegression  model and determined the best hyperparameters as:\n",
      "The MI score for High School GPA is 1.176511306728623\n",
      "The MI score for College GPA is 1.206028311619181\n",
      "The MI score for Years of Experience is 42.689289743435104\n",
      "The MI score for Years of Volunteering is 1.4904992319709545\n",
      "The MI score for English Fluency_Basic is 1.0937792009921217\n",
      "The MI score for English Fluency_Fluent is 1.014811502273786\n",
      "The MI score for English Fluency_Proficient is 0.9488811718525213\n",
      "The MI score for Spanish Fluency_Basic is 1.0444834694883742\n",
      "The MI score for Spanish Fluency_Fluent is 1.0412007672102295\n",
      "The MI score for Spanish Fluency_Proficient is 1.140212587096581\n",
      "The MI score for Education_Associates is 0.9072134024018822\n",
      "The MI score for Education_High School is 1.0533928787174978\n",
      "The MI score for Education_Undergraduate is 1.1126458485614548\n",
      "The MI score for MBTI_EI_E is 0.8807836261019236\n",
      "The MI score for MBTI_EI_I is 0.8807836261019194\n",
      "The MI score for MBTI_SN_N is 1.056730693644928\n",
      "The MI score for MBTI_SN_S is 1.0567306936449332\n",
      "The MI score for MBTI_TF_F is 0.9430545824638028\n",
      "The MI score for MBTI_TF_T is 0.9430545824638012\n",
      "The MI score for MBTI_JP_J is 0.9200714707227602\n",
      "The MI score for MBTI_JP_P is 0.920071470722761\n",
      "\n",
      " resulting in a mean square error of:  0.20688921880273578 \n",
      "\n",
      "To predict the target  Sales Rating , I trained a  LinearRegression  model and determined the best hyperparameters as:\n",
      "The MI score for High School GPA is 1.1350534896806035\n",
      "The MI score for College GPA is 1.166258718489583\n",
      "The MI score for Years of Experience is 31.298997604342553\n",
      "The MI score for Years of Volunteering is 1.7539853043420817\n",
      "The MI score for English Fluency_Basic is 1.04421401493617\n",
      "The MI score for English Fluency_Fluent is 1.0967507755635109\n",
      "The MI score for English Fluency_Proficient is 0.867162045226572\n",
      "The MI score for Spanish Fluency_Basic is 1.21111636005468\n",
      "The MI score for Spanish Fluency_Fluent is 1.3301343825113991\n",
      "The MI score for Spanish Fluency_Proficient is 1.0530074797813955\n",
      "The MI score for Education_Associates is 1.0510895909587339\n",
      "The MI score for Education_High School is 0.9715597649736165\n",
      "The MI score for Education_Undergraduate is 1.0534704279467944\n",
      "The MI score for MBTI_EI_E is 1.020370617004423\n",
      "The MI score for MBTI_EI_I is 1.0203706170044293\n",
      "The MI score for MBTI_SN_N is 1.0002311494246638\n",
      "The MI score for MBTI_SN_S is 1.0002311494246514\n",
      "The MI score for MBTI_TF_F is 1.1601241246548126\n",
      "The MI score for MBTI_TF_T is 1.1601241246548109\n",
      "The MI score for MBTI_JP_J is 0.9869671078308514\n",
      "The MI score for MBTI_JP_P is 0.9869671078308467\n",
      "\n",
      " resulting in a mean square error of:  0.04807897266693205 \n",
      "\n",
      "To predict the target  Fired_Fired , I trained a  KNN  model and determined the best hyperparameters as: \n",
      " a K value of 16 \n",
      " resulting in a accuracy score of:  0.9425 \n",
      "\n"
     ]
    }
   ],
   "source": [
    "# Select models of your choosing, import them here, and perform a\n",
    "# hyperparameter search while training them on each of the targets.\n",
    "from sklearn.neighbors import KNeighborsClassifier\n",
    "from sklearn.feature_selection import SelectKBest, mutual_info_regression, RFE\n",
    "from sklearn.linear_model import LinearRegression, LassoCV\n",
    "from sklearn.metrics import classification_report, confusion_matrix, f1_score\n",
    "from sklearn import metrics\n",
    "# Do not use Tensorflow to build a model - you may use scikit-learn.\n",
    "\n",
    "def param(mi_trans):\n",
    "  for feature, importance in zip(hire_features, mi_trans.scores_):\n",
    "    print(f\"The MI score for {feature} is {importance}\")\n",
    "  return\n",
    "\n",
    "kval = 14\n",
    "\n",
    "mi_x_train1 = SelectKBest(k=kval).fit_transform(hire_x_train, hire_y_train['Customer Satisfaction Rating'])\n",
    "mi_x_test1 = SelectKBest(k=kval).fit_transform(hire_x_test, hire_y_test['Customer Satisfaction Rating'])\n",
    "mi_transformer1 = SelectKBest(k=kval).fit(hire_x_train, hire_y_train['Customer Satisfaction Rating'])\n",
    "hire_model_target1 = LinearRegression().fit(hire_x_train, hire_y_train['Customer Satisfaction Rating'])\n",
    "\n",
    "mi_x_train2 = SelectKBest(k=kval).fit_transform(hire_x_train, hire_y_train['Sales Rating'])\n",
    "mi_x_test2 = SelectKBest(k=kval).fit_transform(hire_x_test, hire_y_test['Sales Rating'])\n",
    "mi_transformer2 = SelectKBest(k=kval).fit(hire_x_train, hire_y_train['Sales Rating'])\n",
    "hire_model_target2 = LinearRegression().fit(hire_x_train, hire_y_train['Sales Rating'])\n",
    "\n",
    "hire_model_target3 = KNeighborsClassifier(n_neighbors=16).fit(hire_x_train, hire_y_train['Fired_Fired'])\n",
    "\n",
    "# Determine an appropriate metric for measuring your performance for each\n",
    "# model/target, and report the test score for that metric. The metric may be\n",
    "# different for each model/target.\n",
    "\n",
    "#ac_model1\n",
    "\n",
    "pred1 = hire_model_target2.predict(hire_x_test)\n",
    "ac_model1 = np.sqrt(metrics.mean_squared_error(hire_y_test['Customer Satisfaction Rating'], pred1))\n",
    "\n",
    "#ac_model2\n",
    "\n",
    "pred2 = hire_model_target2.predict(hire_x_test)\n",
    "ac_model2 = np.sqrt(metrics.mean_squared_error(hire_y_test['Sales Rating'], pred2))\n",
    "\n",
    "# ac_model3\n",
    "param3 = \"a K value of 16\"\n",
    "pred3 = hire_model_target3.predict(hire_x_test)\n",
    "ac_model3 = classification_report(hire_y_test['Fired_Fired'], pred3, output_dict=True).get('accuracy')\n",
    "\n",
    "\n",
    "# Save your models in a list, with models ordered in the same manner as the\n",
    "# targets they are predicting in the list \"targets\" you created above.\n",
    "# Call the list \"my_hiring_models\", e.g.\n",
    "my_hiring_models = [hire_model_target1,\n",
    "                  hire_model_target2,\n",
    "                  hire_model_target3]\n",
    "type_models = ['LinearRegression', 'LinearRegression', 'KNN']\n",
    "hire_ac_models = [ac_model1, ac_model2, ac_model3]\n",
    "# You should use multiple print messages to print something like the\n",
    "# following for each of your models/targets:\n",
    "#\n",
    "# To predict the target (target), I trained a (model) model\n",
    "# and determined the best hyperparameters as (param1 = p1), (param2 = p2)...\n",
    "# resulting in a (metric) score of (score).\n",
    "\n",
    "for i in range(3):\n",
    "  if i == 0:\n",
    "    print(\"To predict the target \", str(targets[i]), \", I trained a \", str(type_models[i]), \" model and determined the best hyperparameters as:\")\n",
    "    param(mi_transformer1)\n",
    "    print(\"\\n resulting in a mean square error of: \", str(hire_ac_models[i]), \"\\n\")\n",
    "  if i == 1:\n",
    "    print(\"To predict the target \", str(targets[i]), \", I trained a \", str(type_models[i]), \" model and determined the best hyperparameters as:\")\n",
    "    param(mi_transformer2)\n",
    "    print(\"\\n resulting in a mean square error of: \", str(hire_ac_models[i]), \"\\n\")\n",
    "  if i == 2:\n",
    "    print(\"To predict the target \", str(targets[i]), \", I trained a \", str(type_models[i]), \" model and determined the best hyperparameters as: \\n\",  param3, \"\\n resulting in a accuracy score of: \", str(hire_ac_models[i]), \"\\n\")\n",
    "# raise NotImplementedError()"
   ]
  },
  {
   "cell_type": "code",
   "execution_count": 45,
   "metadata": {
    "id": "RCxIICXkyZu-"
   },
   "outputs": [],
   "source": [
    "assert len(my_hiring_models)==len(targets)"
   ]
  },
  {
   "cell_type": "code",
   "execution_count": 46,
   "metadata": {
    "colab": {
     "base_uri": "https://localhost:8080/"
    },
    "deletable": false,
    "id": "21INaL-DQrkv",
    "nbgrader": {
     "cell_type": "code",
     "checksum": "6cb417be848f300a556608b9c30d9198",
     "grade": true,
     "grade_id": "cell-5df6d98d3b874670",
     "locked": false,
     "points": 20,
     "schema_version": 3,
     "solution": true
    },
    "outputId": "ff1ba48e-1392-4ab5-90d1-2dfa3b7443ef"
   },
   "outputs": [
    {
     "name": "stdout",
     "output_type": "stream",
     "text": [
      "using interview features: \n",
      "the resulting  mean square error  was:  0.21304768897901027\n",
      "the resulting  mean square error  was:  0.05005810775616038\n",
      "the resulting  accuracy  was:  0.9525\n",
      "using hiring features: \n",
      "the resulting  mean square error  was:  0.20688921880273578\n",
      "the resulting  mean square error  was:  0.04807897266693205\n",
      "the resulting  accuracy  was:  0.9425\n"
     ]
    }
   ],
   "source": [
    "# Follow this up with a comparison between the performance (test scores) on your\n",
    "# two sets of models.\n",
    "#\n",
    "# You should print something like, for each of the targets:\n",
    "#   Using interview features for target (target) the model scored (score)\n",
    "#   versus using the hiring features where it scored (score)\n",
    "print(\"using interview features: \")\n",
    "for i in range(3):\n",
    "    print(\"the resulting \", str(meas[i]), \" was: \", str(int_ac_models[i]))\n",
    "print(\"using hiring features: \")\n",
    "for i in range(3):\n",
    "    print(\"the resulting \", str(meas[i]), \" was: \", str(hire_ac_models[i]))\n",
    "# raise NotImplementedError()"
   ]
  },
  {
   "cell_type": "markdown",
   "metadata": {
    "id": "cOB_29ZQDa5r"
   },
   "source": [
    "## Model Evaluation\n",
    "\n",
    "In this section we'll create example applicants and see how they would fare based on their applications and your models. First, let's create some example applications. We've created four applicants, and you'll need to create a fifth one in the cell below."
   ]
  },
  {
   "cell_type": "code",
   "execution_count": 47,
   "metadata": {
    "deletable": false,
    "id": "I_mNuuafD1ID",
    "nbgrader": {
     "cell_type": "code",
     "checksum": "1b633f680d8268103d3467dff7fc146b",
     "grade": false,
     "grade_id": "cell-f8b4174a433caec6",
     "locked": false,
     "schema_version": 3,
     "solution": true,
     "task": false
    }
   },
   "outputs": [],
   "source": [
    "applicant_1 = {\n",
    "    'First Name': \"Stefon\",\n",
    "    'Last Name': \"Smith\",\n",
    "    'Date of Birth': \"1989-12-24\",\n",
    "    'Address': \"4892 Jessica Turnpike Suite 781\",\n",
    "    'Zipcode': 86553,\n",
    "    'Gender': \"Male\",\n",
    "    'Race / Ethnicity': \"Caucasian\",\n",
    "    'English Fluency': \"Proficient\",\n",
    "    'Spanish Fluency': \"Basic\",\n",
    "    'Education': \"Associates\",\n",
    "    'High School GPA': 2.9,\n",
    "    'College GPA': 3.1,\n",
    "    'Years of Experience': 5,\n",
    "    'Years of Volunteering': 2,\n",
    "    'Myers Briggs Type': \"ESFJ\",\n",
    "    'Twitter followers': 524,\n",
    "    'Instagram Followers': 857,\n",
    "    'Requires Sponsorship': True\n",
    "}\n",
    "applicant_2 = {\n",
    "    'First Name': \"Sarah\",\n",
    "    'Last Name': \"Chang\",\n",
    "    'Date of Birth': \"1995-04-13\",\n",
    "    'Address': \"9163 Rebecca Loop\",\n",
    "    'Zipcode': 43711,\n",
    "    'Gender': \"Female\",\n",
    "    'Race / Ethnicity': \"Hispanic\",\n",
    "    'English Fluency': \"Fluent\",\n",
    "    'Spanish Fluency': \"Fluent\",\n",
    "    'Education': \"Undergraduate\",\n",
    "    'High School GPA': 4.0,\n",
    "    'College GPA': 3.8,\n",
    "    'Years of Experience': 5,\n",
    "    'Years of Volunteering': 0,\n",
    "    'Myers Briggs Type': \"ISTJ\",\n",
    "    'Twitter followers': 97,\n",
    "    'Instagram Followers': 204,\n",
    "    'Requires Sponsorship': False\n",
    "}\n",
    "applicant_3 = {\n",
    "    'First Name': \"Daniel\",\n",
    "    'Last Name': \"Richardson\",\n",
    "    'Date of Birth': \"1998-10-23\",\n",
    "    'Address': \"436 Lauren Stream\",\n",
    "    'Zipcode': 54821,\n",
    "    'Gender': \"Male\",\n",
    "    'Race / Ethnicity': \"Black\",\n",
    "    'English Fluency': \"Fluent\",\n",
    "    'Spanish Fluency': \"Proficient\",\n",
    "    'Education': \"Undergraduate\",\n",
    "    'High School GPA': 3.0,\n",
    "    'College GPA': 3.2,\n",
    "    'Years of Experience': 1,\n",
    "    'Years of Volunteering': 1,\n",
    "    'Myers Briggs Type': \"ENFJ\",\n",
    "    'Twitter followers': 2087,\n",
    "    'Instagram Followers': 3211,\n",
    "    'Requires Sponsorship': False\n",
    "}\n",
    "\n",
    "applicant_4 = {\n",
    "    'First Name': \"Billy\",\n",
    "    'Last Name': \"Bob\",\n",
    "    'Date of Birth': \"1999-11-03\",\n",
    "    'Address': \"412 Railway Stream\",\n",
    "    'Zipcode': 43711,\n",
    "    'Gender': \"Male\",\n",
    "    'Race / Ethnicity': \"Caucasian\",\n",
    "    'English Fluency': \"Basic\",\n",
    "    'Spanish Fluency': \"Fluent\",\n",
    "    'Education': \"Undergraduate\",\n",
    "    'High School GPA': 2.0,\n",
    "    'College GPA': 3.5,\n",
    "    'Years of Experience': 1,\n",
    "    'Years of Volunteering': 1,\n",
    "    'Myers Briggs Type': \"ENFJ\",\n",
    "    'Twitter followers': 207,\n",
    "    'Instagram Followers': 309,\n",
    "    'Requires Sponsorship': False\n",
    "}\n",
    "\n",
    "# Create a fictional applicant by copying the attributes above from any of the\n",
    "# other applicants and/or adding example values that you would be curious to\n",
    "# see how your model treats. For example, create an applicant you'd be sure to\n",
    "# reject or sure to hire.\n",
    "\n",
    "applicant_5 = {\n",
    "    'First Name': \"Milly\",\n",
    "    'Last Name': \"Mob\",\n",
    "    'Date of Birth': \"1999-11-03\",\n",
    "    'Address': \"412 Railway Stream\",\n",
    "    'Zipcode': 43711,\n",
    "    'Gender': \"Male\",\n",
    "    'Race / Ethnicity': \"Caucasian\",\n",
    "    'English Fluency': \"Fluent\",\n",
    "    'Spanish Fluency': \"Basic\",\n",
    "    'Education': \"High School\",\n",
    "    'High School GPA': 2.0,\n",
    "    'College GPA': 1.0,\n",
    "    'Years of Experience': 0,\n",
    "    'Years of Volunteering': 0,\n",
    "    'Myers Briggs Type': \"INFP\",\n",
    "    'Twitter followers': 0,\n",
    "    'Instagram Followers': 0,\n",
    "    'Requires Sponsorship': False\n",
    "}\n",
    "# raise NotImplementedError()"
   ]
  },
  {
   "cell_type": "code",
   "execution_count": 48,
   "metadata": {
    "deletable": false,
    "editable": false,
    "id": "VvWLYqtEUE9q",
    "nbgrader": {
     "cell_type": "code",
     "checksum": "8d75f1550e13541f1e138be0f5dd7393",
     "grade": true,
     "grade_id": "cell-5a2332a45ba35b42",
     "locked": true,
     "points": 5,
     "schema_version": 3,
     "solution": false,
     "task": false
    }
   },
   "outputs": [],
   "source": [
    "for key in applicant_4.keys():\n",
    "    assert key in applicant_5.keys()"
   ]
  },
  {
   "cell_type": "code",
   "execution_count": 49,
   "metadata": {
    "deletable": false,
    "editable": false,
    "id": "BXqD3wgDD1PX",
    "nbgrader": {
     "cell_type": "code",
     "checksum": "a06031e5e9f4360db064b4fc753fb49b",
     "grade": false,
     "grade_id": "cell-2cf93863baeae2d9",
     "locked": true,
     "schema_version": 3,
     "solution": false,
     "task": false
    }
   },
   "outputs": [],
   "source": [
    "new_people = [applicant_1, applicant_2, applicant_3, applicant_4, applicant_5]\n",
    "new_people_df = pd.DataFrame.from_records(new_people)"
   ]
  },
  {
   "cell_type": "code",
   "execution_count": 50,
   "metadata": {
    "colab": {
     "base_uri": "https://localhost:8080/",
     "height": 438
    },
    "id": "v0D95ujIg7a2",
    "outputId": "bc5b92f2-9a6f-4ded-f7d9-b85c29ea72f3"
   },
   "outputs": [
    {
     "data": {
      "text/html": [
       "<div>\n",
       "<style scoped>\n",
       "    .dataframe tbody tr th:only-of-type {\n",
       "        vertical-align: middle;\n",
       "    }\n",
       "\n",
       "    .dataframe tbody tr th {\n",
       "        vertical-align: top;\n",
       "    }\n",
       "\n",
       "    .dataframe thead th {\n",
       "        text-align: right;\n",
       "    }\n",
       "</style>\n",
       "<table border=\"1\" class=\"dataframe\">\n",
       "  <thead>\n",
       "    <tr style=\"text-align: right;\">\n",
       "      <th></th>\n",
       "      <th>First Name</th>\n",
       "      <th>Last Name</th>\n",
       "      <th>Date of Birth</th>\n",
       "      <th>Address</th>\n",
       "      <th>Zipcode</th>\n",
       "      <th>Gender</th>\n",
       "      <th>Race / Ethnicity</th>\n",
       "      <th>English Fluency</th>\n",
       "      <th>Spanish Fluency</th>\n",
       "      <th>Education</th>\n",
       "      <th>High School GPA</th>\n",
       "      <th>College GPA</th>\n",
       "      <th>Years of Experience</th>\n",
       "      <th>Years of Volunteering</th>\n",
       "      <th>Myers Briggs Type</th>\n",
       "      <th>Twitter followers</th>\n",
       "      <th>Instagram Followers</th>\n",
       "      <th>Requires Sponsorship</th>\n",
       "    </tr>\n",
       "  </thead>\n",
       "  <tbody>\n",
       "    <tr>\n",
       "      <th>0</th>\n",
       "      <td>Stefon</td>\n",
       "      <td>Smith</td>\n",
       "      <td>1989-12-24</td>\n",
       "      <td>4892 Jessica Turnpike Suite 781</td>\n",
       "      <td>86553</td>\n",
       "      <td>Male</td>\n",
       "      <td>Caucasian</td>\n",
       "      <td>Proficient</td>\n",
       "      <td>Basic</td>\n",
       "      <td>Associates</td>\n",
       "      <td>2.9</td>\n",
       "      <td>3.1</td>\n",
       "      <td>5</td>\n",
       "      <td>2</td>\n",
       "      <td>ESFJ</td>\n",
       "      <td>524</td>\n",
       "      <td>857</td>\n",
       "      <td>True</td>\n",
       "    </tr>\n",
       "    <tr>\n",
       "      <th>1</th>\n",
       "      <td>Sarah</td>\n",
       "      <td>Chang</td>\n",
       "      <td>1995-04-13</td>\n",
       "      <td>9163 Rebecca Loop</td>\n",
       "      <td>43711</td>\n",
       "      <td>Female</td>\n",
       "      <td>Hispanic</td>\n",
       "      <td>Fluent</td>\n",
       "      <td>Fluent</td>\n",
       "      <td>Undergraduate</td>\n",
       "      <td>4.0</td>\n",
       "      <td>3.8</td>\n",
       "      <td>5</td>\n",
       "      <td>0</td>\n",
       "      <td>ISTJ</td>\n",
       "      <td>97</td>\n",
       "      <td>204</td>\n",
       "      <td>False</td>\n",
       "    </tr>\n",
       "    <tr>\n",
       "      <th>2</th>\n",
       "      <td>Daniel</td>\n",
       "      <td>Richardson</td>\n",
       "      <td>1998-10-23</td>\n",
       "      <td>436 Lauren Stream</td>\n",
       "      <td>54821</td>\n",
       "      <td>Male</td>\n",
       "      <td>Black</td>\n",
       "      <td>Fluent</td>\n",
       "      <td>Proficient</td>\n",
       "      <td>Undergraduate</td>\n",
       "      <td>3.0</td>\n",
       "      <td>3.2</td>\n",
       "      <td>1</td>\n",
       "      <td>1</td>\n",
       "      <td>ENFJ</td>\n",
       "      <td>2087</td>\n",
       "      <td>3211</td>\n",
       "      <td>False</td>\n",
       "    </tr>\n",
       "    <tr>\n",
       "      <th>3</th>\n",
       "      <td>Billy</td>\n",
       "      <td>Bob</td>\n",
       "      <td>1999-11-03</td>\n",
       "      <td>412 Railway Stream</td>\n",
       "      <td>43711</td>\n",
       "      <td>Male</td>\n",
       "      <td>Caucasian</td>\n",
       "      <td>Basic</td>\n",
       "      <td>Fluent</td>\n",
       "      <td>Undergraduate</td>\n",
       "      <td>2.0</td>\n",
       "      <td>3.5</td>\n",
       "      <td>1</td>\n",
       "      <td>1</td>\n",
       "      <td>ENFJ</td>\n",
       "      <td>207</td>\n",
       "      <td>309</td>\n",
       "      <td>False</td>\n",
       "    </tr>\n",
       "    <tr>\n",
       "      <th>4</th>\n",
       "      <td>Milly</td>\n",
       "      <td>Mob</td>\n",
       "      <td>1999-11-03</td>\n",
       "      <td>412 Railway Stream</td>\n",
       "      <td>43711</td>\n",
       "      <td>Male</td>\n",
       "      <td>Caucasian</td>\n",
       "      <td>Fluent</td>\n",
       "      <td>Basic</td>\n",
       "      <td>High School</td>\n",
       "      <td>2.0</td>\n",
       "      <td>1.0</td>\n",
       "      <td>0</td>\n",
       "      <td>0</td>\n",
       "      <td>INFP</td>\n",
       "      <td>0</td>\n",
       "      <td>0</td>\n",
       "      <td>False</td>\n",
       "    </tr>\n",
       "  </tbody>\n",
       "</table>\n",
       "</div>"
      ],
      "text/plain": [
       "  First Name   Last Name  ... Instagram Followers Requires Sponsorship\n",
       "0     Stefon       Smith  ...                 857                 True\n",
       "1      Sarah       Chang  ...                 204                False\n",
       "2     Daniel  Richardson  ...                3211                False\n",
       "3      Billy         Bob  ...                 309                False\n",
       "4      Milly         Mob  ...                   0                False\n",
       "\n",
       "[5 rows x 18 columns]"
      ]
     },
     "execution_count": 50,
     "metadata": {
      "tags": []
     },
     "output_type": "execute_result"
    }
   ],
   "source": [
    "new_people_df"
   ]
  },
  {
   "cell_type": "markdown",
   "metadata": {
    "id": "7izcLclbHjNA"
   },
   "source": [
    "### Future Applicants Data Cleaning\n",
    "\n"
   ]
  },
  {
   "cell_type": "code",
   "execution_count": 51,
   "metadata": {
    "colab": {
     "base_uri": "https://localhost:8080/",
     "height": 438
    },
    "deletable": false,
    "id": "Ue9L02lED1Xn",
    "nbgrader": {
     "cell_type": "code",
     "checksum": "823bca69f4da6cc87e4800ff6d74e8f3",
     "grade": false,
     "grade_id": "cell-e8d9072c79ce7dab",
     "locked": false,
     "schema_version": 3,
     "solution": true,
     "task": false
    },
    "outputId": "84d7ff80-08b0-4d81-d3b5-f89f494eaa3d"
   },
   "outputs": [
    {
     "data": {
      "text/html": [
       "<div>\n",
       "<style scoped>\n",
       "    .dataframe tbody tr th:only-of-type {\n",
       "        vertical-align: middle;\n",
       "    }\n",
       "\n",
       "    .dataframe tbody tr th {\n",
       "        vertical-align: top;\n",
       "    }\n",
       "\n",
       "    .dataframe thead th {\n",
       "        text-align: right;\n",
       "    }\n",
       "</style>\n",
       "<table border=\"1\" class=\"dataframe\">\n",
       "  <thead>\n",
       "    <tr style=\"text-align: right;\">\n",
       "      <th></th>\n",
       "      <th>First Name</th>\n",
       "      <th>Last Name</th>\n",
       "      <th>Date of Birth</th>\n",
       "      <th>Address</th>\n",
       "      <th>Zipcode</th>\n",
       "      <th>High School GPA</th>\n",
       "      <th>College GPA</th>\n",
       "      <th>Years of Experience</th>\n",
       "      <th>Years of Volunteering</th>\n",
       "      <th>Myers Briggs Type</th>\n",
       "      <th>Twitter followers</th>\n",
       "      <th>Instagram Followers</th>\n",
       "      <th>Gender_Female</th>\n",
       "      <th>Gender_Male</th>\n",
       "      <th>Race / Ethnicity_Black</th>\n",
       "      <th>Race / Ethnicity_Caucasian</th>\n",
       "      <th>Race / Ethnicity_Hispanic</th>\n",
       "      <th>English Fluency_Basic</th>\n",
       "      <th>English Fluency_Fluent</th>\n",
       "      <th>English Fluency_Proficient</th>\n",
       "      <th>Spanish Fluency_Basic</th>\n",
       "      <th>Spanish Fluency_Fluent</th>\n",
       "      <th>Spanish Fluency_Proficient</th>\n",
       "      <th>Education_Associates</th>\n",
       "      <th>Education_High School</th>\n",
       "      <th>Education_Undergraduate</th>\n",
       "      <th>MBTI_EI_E</th>\n",
       "      <th>MBTI_EI_I</th>\n",
       "      <th>MBTI_SN_N</th>\n",
       "      <th>MBTI_SN_S</th>\n",
       "      <th>MBTI_TF_F</th>\n",
       "      <th>MBTI_TF_T</th>\n",
       "      <th>MBTI_JP_J</th>\n",
       "      <th>MBTI_JP_P</th>\n",
       "    </tr>\n",
       "  </thead>\n",
       "  <tbody>\n",
       "    <tr>\n",
       "      <th>0</th>\n",
       "      <td>Stefon</td>\n",
       "      <td>Smith</td>\n",
       "      <td>1989-12-24</td>\n",
       "      <td>4892 Jessica Turnpike Suite 781</td>\n",
       "      <td>86553</td>\n",
       "      <td>2.9</td>\n",
       "      <td>3.1</td>\n",
       "      <td>5</td>\n",
       "      <td>2</td>\n",
       "      <td>ESFJ</td>\n",
       "      <td>524</td>\n",
       "      <td>857</td>\n",
       "      <td>0</td>\n",
       "      <td>1</td>\n",
       "      <td>0</td>\n",
       "      <td>1</td>\n",
       "      <td>0</td>\n",
       "      <td>0</td>\n",
       "      <td>0</td>\n",
       "      <td>1</td>\n",
       "      <td>1</td>\n",
       "      <td>0</td>\n",
       "      <td>0</td>\n",
       "      <td>1</td>\n",
       "      <td>0</td>\n",
       "      <td>0</td>\n",
       "      <td>1</td>\n",
       "      <td>0</td>\n",
       "      <td>0</td>\n",
       "      <td>1</td>\n",
       "      <td>1</td>\n",
       "      <td>0</td>\n",
       "      <td>1</td>\n",
       "      <td>0</td>\n",
       "    </tr>\n",
       "    <tr>\n",
       "      <th>1</th>\n",
       "      <td>Sarah</td>\n",
       "      <td>Chang</td>\n",
       "      <td>1995-04-13</td>\n",
       "      <td>9163 Rebecca Loop</td>\n",
       "      <td>43711</td>\n",
       "      <td>4.0</td>\n",
       "      <td>3.8</td>\n",
       "      <td>5</td>\n",
       "      <td>0</td>\n",
       "      <td>ISTJ</td>\n",
       "      <td>97</td>\n",
       "      <td>204</td>\n",
       "      <td>1</td>\n",
       "      <td>0</td>\n",
       "      <td>0</td>\n",
       "      <td>0</td>\n",
       "      <td>1</td>\n",
       "      <td>0</td>\n",
       "      <td>1</td>\n",
       "      <td>0</td>\n",
       "      <td>0</td>\n",
       "      <td>1</td>\n",
       "      <td>0</td>\n",
       "      <td>0</td>\n",
       "      <td>0</td>\n",
       "      <td>1</td>\n",
       "      <td>0</td>\n",
       "      <td>1</td>\n",
       "      <td>0</td>\n",
       "      <td>1</td>\n",
       "      <td>0</td>\n",
       "      <td>1</td>\n",
       "      <td>1</td>\n",
       "      <td>0</td>\n",
       "    </tr>\n",
       "    <tr>\n",
       "      <th>2</th>\n",
       "      <td>Daniel</td>\n",
       "      <td>Richardson</td>\n",
       "      <td>1998-10-23</td>\n",
       "      <td>436 Lauren Stream</td>\n",
       "      <td>54821</td>\n",
       "      <td>3.0</td>\n",
       "      <td>3.2</td>\n",
       "      <td>1</td>\n",
       "      <td>1</td>\n",
       "      <td>ENFJ</td>\n",
       "      <td>2087</td>\n",
       "      <td>3211</td>\n",
       "      <td>0</td>\n",
       "      <td>1</td>\n",
       "      <td>1</td>\n",
       "      <td>0</td>\n",
       "      <td>0</td>\n",
       "      <td>0</td>\n",
       "      <td>1</td>\n",
       "      <td>0</td>\n",
       "      <td>0</td>\n",
       "      <td>0</td>\n",
       "      <td>1</td>\n",
       "      <td>0</td>\n",
       "      <td>0</td>\n",
       "      <td>1</td>\n",
       "      <td>1</td>\n",
       "      <td>0</td>\n",
       "      <td>1</td>\n",
       "      <td>0</td>\n",
       "      <td>1</td>\n",
       "      <td>0</td>\n",
       "      <td>1</td>\n",
       "      <td>0</td>\n",
       "    </tr>\n",
       "    <tr>\n",
       "      <th>3</th>\n",
       "      <td>Billy</td>\n",
       "      <td>Bob</td>\n",
       "      <td>1999-11-03</td>\n",
       "      <td>412 Railway Stream</td>\n",
       "      <td>43711</td>\n",
       "      <td>2.0</td>\n",
       "      <td>3.5</td>\n",
       "      <td>1</td>\n",
       "      <td>1</td>\n",
       "      <td>ENFJ</td>\n",
       "      <td>207</td>\n",
       "      <td>309</td>\n",
       "      <td>0</td>\n",
       "      <td>1</td>\n",
       "      <td>0</td>\n",
       "      <td>1</td>\n",
       "      <td>0</td>\n",
       "      <td>1</td>\n",
       "      <td>0</td>\n",
       "      <td>0</td>\n",
       "      <td>0</td>\n",
       "      <td>1</td>\n",
       "      <td>0</td>\n",
       "      <td>0</td>\n",
       "      <td>0</td>\n",
       "      <td>1</td>\n",
       "      <td>1</td>\n",
       "      <td>0</td>\n",
       "      <td>1</td>\n",
       "      <td>0</td>\n",
       "      <td>1</td>\n",
       "      <td>0</td>\n",
       "      <td>1</td>\n",
       "      <td>0</td>\n",
       "    </tr>\n",
       "    <tr>\n",
       "      <th>4</th>\n",
       "      <td>Milly</td>\n",
       "      <td>Mob</td>\n",
       "      <td>1999-11-03</td>\n",
       "      <td>412 Railway Stream</td>\n",
       "      <td>43711</td>\n",
       "      <td>2.0</td>\n",
       "      <td>1.0</td>\n",
       "      <td>0</td>\n",
       "      <td>0</td>\n",
       "      <td>INFP</td>\n",
       "      <td>0</td>\n",
       "      <td>0</td>\n",
       "      <td>0</td>\n",
       "      <td>1</td>\n",
       "      <td>0</td>\n",
       "      <td>1</td>\n",
       "      <td>0</td>\n",
       "      <td>0</td>\n",
       "      <td>1</td>\n",
       "      <td>0</td>\n",
       "      <td>1</td>\n",
       "      <td>0</td>\n",
       "      <td>0</td>\n",
       "      <td>0</td>\n",
       "      <td>1</td>\n",
       "      <td>0</td>\n",
       "      <td>0</td>\n",
       "      <td>1</td>\n",
       "      <td>1</td>\n",
       "      <td>0</td>\n",
       "      <td>1</td>\n",
       "      <td>0</td>\n",
       "      <td>0</td>\n",
       "      <td>1</td>\n",
       "    </tr>\n",
       "  </tbody>\n",
       "</table>\n",
       "</div>"
      ],
      "text/plain": [
       "  First Name   Last Name Date of Birth  ... MBTI_TF_T  MBTI_JP_J  MBTI_JP_P\n",
       "0     Stefon       Smith    1989-12-24  ...         0          1          0\n",
       "1      Sarah       Chang    1995-04-13  ...         1          1          0\n",
       "2     Daniel  Richardson    1998-10-23  ...         0          1          0\n",
       "3      Billy         Bob    1999-11-03  ...         0          1          0\n",
       "4      Milly         Mob    1999-11-03  ...         0          0          1\n",
       "\n",
       "[5 rows x 34 columns]"
      ]
     },
     "execution_count": 51,
     "metadata": {
      "tags": []
     },
     "output_type": "execute_result"
    }
   ],
   "source": [
    "# Apply all the cleaning and dummy variable creation you did above to this new\n",
    "# DataFrame. You can copy your code from above and modify it to apply to\n",
    "# new_people_df instead of df.\n",
    "\n",
    "new_people_df['MBTI_EI'] = new_people_df['Myers Briggs Type'].apply(lambda x: x[0])\n",
    "new_people_df['MBTI_SN'] = new_people_df['Myers Briggs Type'].apply(lambda x: x[1])\n",
    "new_people_df['MBTI_TF'] = new_people_df['Myers Briggs Type'].apply(lambda x: x[2])\n",
    "new_people_df['MBTI_JP'] = new_people_df['Myers Briggs Type'].apply(lambda x: x[3])\n",
    "new_people_df.drop(columns=['Myers Briggs Type'])\n",
    "\n",
    "categorical_columns = ['Gender', 'Race / Ethnicity', 'English Fluency', 'Spanish Fluency', 'Education', 'Requires Sponsorship', 'MBTI_EI', 'MBTI_SN', 'MBTI_TF', 'MBTI_JP']\n",
    "new_people_df = pd.concat([new_people_df, pd.get_dummies(new_people_df[categorical_columns])], axis=1)\n",
    "new_people_df.drop(columns=categorical_columns)\n",
    "# raise NotImplementedError()"
   ]
  },
  {
   "cell_type": "code",
   "execution_count": 52,
   "metadata": {
    "colab": {
     "base_uri": "https://localhost:8080/",
     "height": 438
    },
    "id": "vh8eVaGmOkNB",
    "outputId": "f5d08eac-273a-4619-a939-774897e16ca7"
   },
   "outputs": [
    {
     "data": {
      "text/html": [
       "<div>\n",
       "<style scoped>\n",
       "    .dataframe tbody tr th:only-of-type {\n",
       "        vertical-align: middle;\n",
       "    }\n",
       "\n",
       "    .dataframe tbody tr th {\n",
       "        vertical-align: top;\n",
       "    }\n",
       "\n",
       "    .dataframe thead th {\n",
       "        text-align: right;\n",
       "    }\n",
       "</style>\n",
       "<table border=\"1\" class=\"dataframe\">\n",
       "  <thead>\n",
       "    <tr style=\"text-align: right;\">\n",
       "      <th></th>\n",
       "      <th>First Name</th>\n",
       "      <th>Last Name</th>\n",
       "      <th>Date of Birth</th>\n",
       "      <th>Address</th>\n",
       "      <th>Zipcode</th>\n",
       "      <th>Gender</th>\n",
       "      <th>Race / Ethnicity</th>\n",
       "      <th>English Fluency</th>\n",
       "      <th>Spanish Fluency</th>\n",
       "      <th>Education</th>\n",
       "      <th>High School GPA</th>\n",
       "      <th>College GPA</th>\n",
       "      <th>Years of Experience</th>\n",
       "      <th>Years of Volunteering</th>\n",
       "      <th>Myers Briggs Type</th>\n",
       "      <th>Twitter followers</th>\n",
       "      <th>Instagram Followers</th>\n",
       "      <th>Requires Sponsorship</th>\n",
       "      <th>MBTI_EI</th>\n",
       "      <th>MBTI_SN</th>\n",
       "      <th>MBTI_TF</th>\n",
       "      <th>MBTI_JP</th>\n",
       "      <th>Requires Sponsorship</th>\n",
       "      <th>Gender_Female</th>\n",
       "      <th>Gender_Male</th>\n",
       "      <th>Race / Ethnicity_Black</th>\n",
       "      <th>Race / Ethnicity_Caucasian</th>\n",
       "      <th>Race / Ethnicity_Hispanic</th>\n",
       "      <th>English Fluency_Basic</th>\n",
       "      <th>English Fluency_Fluent</th>\n",
       "      <th>English Fluency_Proficient</th>\n",
       "      <th>Spanish Fluency_Basic</th>\n",
       "      <th>Spanish Fluency_Fluent</th>\n",
       "      <th>Spanish Fluency_Proficient</th>\n",
       "      <th>Education_Associates</th>\n",
       "      <th>Education_High School</th>\n",
       "      <th>Education_Undergraduate</th>\n",
       "      <th>MBTI_EI_E</th>\n",
       "      <th>MBTI_EI_I</th>\n",
       "      <th>MBTI_SN_N</th>\n",
       "      <th>MBTI_SN_S</th>\n",
       "      <th>MBTI_TF_F</th>\n",
       "      <th>MBTI_TF_T</th>\n",
       "      <th>MBTI_JP_J</th>\n",
       "      <th>MBTI_JP_P</th>\n",
       "    </tr>\n",
       "  </thead>\n",
       "  <tbody>\n",
       "    <tr>\n",
       "      <th>0</th>\n",
       "      <td>Stefon</td>\n",
       "      <td>Smith</td>\n",
       "      <td>1989-12-24</td>\n",
       "      <td>4892 Jessica Turnpike Suite 781</td>\n",
       "      <td>86553</td>\n",
       "      <td>Male</td>\n",
       "      <td>Caucasian</td>\n",
       "      <td>Proficient</td>\n",
       "      <td>Basic</td>\n",
       "      <td>Associates</td>\n",
       "      <td>2.9</td>\n",
       "      <td>3.1</td>\n",
       "      <td>5</td>\n",
       "      <td>2</td>\n",
       "      <td>ESFJ</td>\n",
       "      <td>524</td>\n",
       "      <td>857</td>\n",
       "      <td>True</td>\n",
       "      <td>E</td>\n",
       "      <td>S</td>\n",
       "      <td>F</td>\n",
       "      <td>J</td>\n",
       "      <td>True</td>\n",
       "      <td>0</td>\n",
       "      <td>1</td>\n",
       "      <td>0</td>\n",
       "      <td>1</td>\n",
       "      <td>0</td>\n",
       "      <td>0</td>\n",
       "      <td>0</td>\n",
       "      <td>1</td>\n",
       "      <td>1</td>\n",
       "      <td>0</td>\n",
       "      <td>0</td>\n",
       "      <td>1</td>\n",
       "      <td>0</td>\n",
       "      <td>0</td>\n",
       "      <td>1</td>\n",
       "      <td>0</td>\n",
       "      <td>0</td>\n",
       "      <td>1</td>\n",
       "      <td>1</td>\n",
       "      <td>0</td>\n",
       "      <td>1</td>\n",
       "      <td>0</td>\n",
       "    </tr>\n",
       "    <tr>\n",
       "      <th>1</th>\n",
       "      <td>Sarah</td>\n",
       "      <td>Chang</td>\n",
       "      <td>1995-04-13</td>\n",
       "      <td>9163 Rebecca Loop</td>\n",
       "      <td>43711</td>\n",
       "      <td>Female</td>\n",
       "      <td>Hispanic</td>\n",
       "      <td>Fluent</td>\n",
       "      <td>Fluent</td>\n",
       "      <td>Undergraduate</td>\n",
       "      <td>4.0</td>\n",
       "      <td>3.8</td>\n",
       "      <td>5</td>\n",
       "      <td>0</td>\n",
       "      <td>ISTJ</td>\n",
       "      <td>97</td>\n",
       "      <td>204</td>\n",
       "      <td>False</td>\n",
       "      <td>I</td>\n",
       "      <td>S</td>\n",
       "      <td>T</td>\n",
       "      <td>J</td>\n",
       "      <td>False</td>\n",
       "      <td>1</td>\n",
       "      <td>0</td>\n",
       "      <td>0</td>\n",
       "      <td>0</td>\n",
       "      <td>1</td>\n",
       "      <td>0</td>\n",
       "      <td>1</td>\n",
       "      <td>0</td>\n",
       "      <td>0</td>\n",
       "      <td>1</td>\n",
       "      <td>0</td>\n",
       "      <td>0</td>\n",
       "      <td>0</td>\n",
       "      <td>1</td>\n",
       "      <td>0</td>\n",
       "      <td>1</td>\n",
       "      <td>0</td>\n",
       "      <td>1</td>\n",
       "      <td>0</td>\n",
       "      <td>1</td>\n",
       "      <td>1</td>\n",
       "      <td>0</td>\n",
       "    </tr>\n",
       "    <tr>\n",
       "      <th>2</th>\n",
       "      <td>Daniel</td>\n",
       "      <td>Richardson</td>\n",
       "      <td>1998-10-23</td>\n",
       "      <td>436 Lauren Stream</td>\n",
       "      <td>54821</td>\n",
       "      <td>Male</td>\n",
       "      <td>Black</td>\n",
       "      <td>Fluent</td>\n",
       "      <td>Proficient</td>\n",
       "      <td>Undergraduate</td>\n",
       "      <td>3.0</td>\n",
       "      <td>3.2</td>\n",
       "      <td>1</td>\n",
       "      <td>1</td>\n",
       "      <td>ENFJ</td>\n",
       "      <td>2087</td>\n",
       "      <td>3211</td>\n",
       "      <td>False</td>\n",
       "      <td>E</td>\n",
       "      <td>N</td>\n",
       "      <td>F</td>\n",
       "      <td>J</td>\n",
       "      <td>False</td>\n",
       "      <td>0</td>\n",
       "      <td>1</td>\n",
       "      <td>1</td>\n",
       "      <td>0</td>\n",
       "      <td>0</td>\n",
       "      <td>0</td>\n",
       "      <td>1</td>\n",
       "      <td>0</td>\n",
       "      <td>0</td>\n",
       "      <td>0</td>\n",
       "      <td>1</td>\n",
       "      <td>0</td>\n",
       "      <td>0</td>\n",
       "      <td>1</td>\n",
       "      <td>1</td>\n",
       "      <td>0</td>\n",
       "      <td>1</td>\n",
       "      <td>0</td>\n",
       "      <td>1</td>\n",
       "      <td>0</td>\n",
       "      <td>1</td>\n",
       "      <td>0</td>\n",
       "    </tr>\n",
       "    <tr>\n",
       "      <th>3</th>\n",
       "      <td>Billy</td>\n",
       "      <td>Bob</td>\n",
       "      <td>1999-11-03</td>\n",
       "      <td>412 Railway Stream</td>\n",
       "      <td>43711</td>\n",
       "      <td>Male</td>\n",
       "      <td>Caucasian</td>\n",
       "      <td>Basic</td>\n",
       "      <td>Fluent</td>\n",
       "      <td>Undergraduate</td>\n",
       "      <td>2.0</td>\n",
       "      <td>3.5</td>\n",
       "      <td>1</td>\n",
       "      <td>1</td>\n",
       "      <td>ENFJ</td>\n",
       "      <td>207</td>\n",
       "      <td>309</td>\n",
       "      <td>False</td>\n",
       "      <td>E</td>\n",
       "      <td>N</td>\n",
       "      <td>F</td>\n",
       "      <td>J</td>\n",
       "      <td>False</td>\n",
       "      <td>0</td>\n",
       "      <td>1</td>\n",
       "      <td>0</td>\n",
       "      <td>1</td>\n",
       "      <td>0</td>\n",
       "      <td>1</td>\n",
       "      <td>0</td>\n",
       "      <td>0</td>\n",
       "      <td>0</td>\n",
       "      <td>1</td>\n",
       "      <td>0</td>\n",
       "      <td>0</td>\n",
       "      <td>0</td>\n",
       "      <td>1</td>\n",
       "      <td>1</td>\n",
       "      <td>0</td>\n",
       "      <td>1</td>\n",
       "      <td>0</td>\n",
       "      <td>1</td>\n",
       "      <td>0</td>\n",
       "      <td>1</td>\n",
       "      <td>0</td>\n",
       "    </tr>\n",
       "    <tr>\n",
       "      <th>4</th>\n",
       "      <td>Milly</td>\n",
       "      <td>Mob</td>\n",
       "      <td>1999-11-03</td>\n",
       "      <td>412 Railway Stream</td>\n",
       "      <td>43711</td>\n",
       "      <td>Male</td>\n",
       "      <td>Caucasian</td>\n",
       "      <td>Fluent</td>\n",
       "      <td>Basic</td>\n",
       "      <td>High School</td>\n",
       "      <td>2.0</td>\n",
       "      <td>1.0</td>\n",
       "      <td>0</td>\n",
       "      <td>0</td>\n",
       "      <td>INFP</td>\n",
       "      <td>0</td>\n",
       "      <td>0</td>\n",
       "      <td>False</td>\n",
       "      <td>I</td>\n",
       "      <td>N</td>\n",
       "      <td>F</td>\n",
       "      <td>P</td>\n",
       "      <td>False</td>\n",
       "      <td>0</td>\n",
       "      <td>1</td>\n",
       "      <td>0</td>\n",
       "      <td>1</td>\n",
       "      <td>0</td>\n",
       "      <td>0</td>\n",
       "      <td>1</td>\n",
       "      <td>0</td>\n",
       "      <td>1</td>\n",
       "      <td>0</td>\n",
       "      <td>0</td>\n",
       "      <td>0</td>\n",
       "      <td>1</td>\n",
       "      <td>0</td>\n",
       "      <td>0</td>\n",
       "      <td>1</td>\n",
       "      <td>1</td>\n",
       "      <td>0</td>\n",
       "      <td>1</td>\n",
       "      <td>0</td>\n",
       "      <td>0</td>\n",
       "      <td>1</td>\n",
       "    </tr>\n",
       "  </tbody>\n",
       "</table>\n",
       "</div>"
      ],
      "text/plain": [
       "  First Name   Last Name Date of Birth  ... MBTI_TF_T  MBTI_JP_J MBTI_JP_P\n",
       "0     Stefon       Smith    1989-12-24  ...         0          1         0\n",
       "1      Sarah       Chang    1995-04-13  ...         1          1         0\n",
       "2     Daniel  Richardson    1998-10-23  ...         0          1         0\n",
       "3      Billy         Bob    1999-11-03  ...         0          1         0\n",
       "4      Milly         Mob    1999-11-03  ...         0          0         1\n",
       "\n",
       "[5 rows x 45 columns]"
      ]
     },
     "execution_count": 52,
     "metadata": {
      "tags": []
     },
     "output_type": "execute_result"
    }
   ],
   "source": [
    "new_people_df"
   ]
  },
  {
   "cell_type": "code",
   "execution_count": 53,
   "metadata": {
    "deletable": false,
    "editable": false,
    "id": "fp8p3gdiD1NN",
    "nbgrader": {
     "cell_type": "code",
     "checksum": "851b90d71f4377ba57be9db912cca89d",
     "grade": true,
     "grade_id": "cell-f9226b28d96f00a8",
     "locked": true,
     "points": 10,
     "schema_version": 3,
     "solution": false,
     "task": false
    }
   },
   "outputs": [],
   "source": [
    "for feature in interview_features:\n",
    "    assert feature in new_people_df.columns\n",
    "for feature in hire_features:\n",
    "    assert feature in new_people_df.columns"
   ]
  },
  {
   "cell_type": "markdown",
   "metadata": {
    "id": "sUfDigqdHir7"
   },
   "source": [
    "### Future Applicant Model(s) Predictions\n",
    "\n",
    "Now let's predict what the applicants' scores would be. Use your `best_interview_model` and `best_hire_model` to predict their scores."
   ]
  },
  {
   "cell_type": "code",
   "execution_count": 54,
   "metadata": {
    "deletable": false,
    "id": "yDbBZnIvHTGq",
    "nbgrader": {
     "cell_type": "code",
     "checksum": "138d3d03cc063c83b89a4cf2212d5d54",
     "grade": false,
     "grade_id": "cell-8ecd71076203ea0e",
     "locked": false,
     "schema_version": 3,
     "solution": true,
     "task": false
    }
   },
   "outputs": [],
   "source": [
    "# Save your predictions as new_people_interview and new_people_hire.\n",
    "# Each of these should be a list of dictionaries, with one dictionery for\n",
    "# each applicant. The keys of the dictionaries should be the same as the\n",
    "# elements/strings in the \"targets\" list you created above.\n",
    "\n",
    "new_people_interview_features = new_people_df[interview_features]\n",
    "new_people_hire_features = new_people_df[hire_features]\n",
    "\n",
    "new_people_interview = []\n",
    "new_people_hire = []\n",
    "\n",
    "# print(new_people_interview_features.iloc[0])\n",
    "\n",
    "def get_dic_int(data):\n",
    "  new_interview = {\n",
    "      'Customer Satisfaction Rating': my_interview_models[0].predict([data]),\n",
    "      'Sales Rating': my_interview_models[1].predict([data]),\n",
    "      'Fired_Fired': my_interview_models[2].predict([data])\n",
    "      }\n",
    "  return new_interview\n",
    "\n",
    "for i in range(5):\n",
    "  new_people_interview.append(get_dic_int(new_people_interview_features.iloc[i]))\n",
    "\n",
    "def get_dic_hire(data):\n",
    "  new_hire = {\n",
    "      'Customer Satisfaction Rating': my_hiring_models[0].predict([data]),\n",
    "      'Sales Rating': my_hiring_models[1].predict([data]),\n",
    "      'Fired_Fired': my_hiring_models[2].predict([data])\n",
    "      }\n",
    "  return new_hire\n",
    "\n",
    "for j in range(5):\n",
    "  new_people_hire.append(get_dic_hire(new_people_hire_features.iloc[j]))\n",
    "\n",
    "# raise NotImplementedError()"
   ]
  },
  {
   "cell_type": "code",
   "execution_count": 55,
   "metadata": {
    "deletable": false,
    "editable": false,
    "id": "rooCaeaeHzjX",
    "nbgrader": {
     "cell_type": "code",
     "checksum": "0d8e0f1f97905aa3f29301220a68f14c",
     "grade": true,
     "grade_id": "cell-6c696e5279f751cc",
     "locked": true,
     "points": 30,
     "schema_version": 3,
     "solution": false,
     "task": false
    }
   },
   "outputs": [],
   "source": [
    "for new_person_interview in new_people_interview:\n",
    "    for key in targets:\n",
    "        assert key in new_person_interview.keys()\n",
    "\n",
    "for new_person_hire in new_people_hire:\n",
    "    for key in targets:\n",
    "        assert key in new_person_hire.keys()"
   ]
  },
  {
   "cell_type": "markdown",
   "metadata": {
    "id": "enVnHJUsIoso"
   },
   "source": [
    "### Ranking Evaluation\n",
    "\n",
    "Your manager notes that given that you might have more than one prediction target, the model predictions aren't really ranking or selecting people. There is no \"best\" person because there's more than one metric to look through. A human still needs to look through the predictions so your models don't yet really do what SellsALOT has asked for.\n",
    "\n",
    "Your manager asks you to create a synthetic scalar variable that is calculated from the multiple target predictions of an individual person. That way we'll have one metric by which we can rank people. You need to create that synthetic metric (score).\n",
    "\n",
    "Some candidate approaches:\n",
    "\n",
    "1. Incorporating a binary value, x:\n",
    "    - You can multiply x by some arbitrary value and add/subtract it to/from the total score:\n",
    "      - score = t1 + t2 * x\n",
    "    - You can multiple your entire score output by the binary value to say something like \"if not x, then  score is 0\", e.g.:\n",
    "      - score = x * (t1 + t2)\n",
    "1. Balancing between different target values:\n",
    "    - You can balance between different values by adding a multiplier (if t1 is twice as important as t2, then the score can be something like:\n",
    "     - score = 2 * t1 + t2\n",
    "1. Some combination of the items above\n",
    "1. Something creative you devise on your own!"
   ]
  },
  {
   "cell_type": "code",
   "execution_count": 56,
   "metadata": {
    "deletable": false,
    "id": "-PJoR68cInMi",
    "nbgrader": {
     "cell_type": "code",
     "checksum": "a20a434440cbaa8f2424bdc7bef7412d",
     "grade": false,
     "grade_id": "cell-d639d76def9446d0",
     "locked": false,
     "schema_version": 3,
     "solution": true,
     "task": false
    }
   },
   "outputs": [],
   "source": [
    "def calculate_synthetic_metric(targets):\n",
    "    \"\"\"Calculates a synthetic matric based on the targets of an individual\n",
    "    Your metric should result in a higher score being a better one\n",
    "\n",
    "    Args:\n",
    "      targets (dict): The dictionary with keys as the target names and\n",
    "                      values as the target values/predictions\n",
    "\n",
    "    Returns:\n",
    "      float: The synthetic score produced from \n",
    "    \"\"\"\n",
    "    one = targets.get('Customer Satisfaction Rating')\n",
    "    two = targets.get('Sales Rating')\n",
    "    three = targets.get('Fired_Fired')\n",
    "    score = 0.5*one+0.5*two-0.5*three\n",
    "    return score\n",
    "    # raise NotImplementedError()"
   ]
  },
  {
   "cell_type": "markdown",
   "metadata": {
    "id": "A658jUL-Kxpu"
   },
   "source": [
    "Let's try out the synthetic metric on the original data and see if you're happy with the result based on the past data."
   ]
  },
  {
   "cell_type": "code",
   "execution_count": 57,
   "metadata": {
    "deletable": false,
    "id": "RaTPe6B8Ksho",
    "nbgrader": {
     "cell_type": "code",
     "checksum": "1bdafa196b6b229524601ae3a2b95b56",
     "grade": false,
     "grade_id": "cell-3d6e8af884146387",
     "locked": false,
     "schema_version": 3,
     "solution": true,
     "task": false
    }
   },
   "outputs": [],
   "source": [
    "# Add a column named \"Metric\" to the **original** DataFrame with the synthetic metric applied to each row\n",
    "my_metrics = []\n",
    "for index,row in df.iterrows():\n",
    "  my_score = calculate_synthetic_metric(get_dic_int(df[interview_features].iloc[index]))\n",
    "  my_metrics.append(my_score[0])\n",
    "df['Metric'] = my_metrics\n",
    "\n",
    "# raise NotImplementedError()\n"
   ]
  },
  {
   "cell_type": "code",
   "execution_count": 58,
   "metadata": {
    "colab": {
     "base_uri": "https://localhost:8080/",
     "height": 422
    },
    "id": "NcnVkFH0LJs5",
    "outputId": "ca3ff304-8b59-47ca-f098-cf87cf4e4e4f"
   },
   "outputs": [
    {
     "data": {
      "text/html": [
       "<div>\n",
       "<style scoped>\n",
       "    .dataframe tbody tr th:only-of-type {\n",
       "        vertical-align: middle;\n",
       "    }\n",
       "\n",
       "    .dataframe tbody tr th {\n",
       "        vertical-align: top;\n",
       "    }\n",
       "\n",
       "    .dataframe thead th {\n",
       "        text-align: right;\n",
       "    }\n",
       "</style>\n",
       "<table border=\"1\" class=\"dataframe\">\n",
       "  <thead>\n",
       "    <tr style=\"text-align: right;\">\n",
       "      <th></th>\n",
       "      <th>First Name</th>\n",
       "      <th>Last Name</th>\n",
       "      <th>Address</th>\n",
       "      <th>Zipcode</th>\n",
       "      <th>High School GPA</th>\n",
       "      <th>College GPA</th>\n",
       "      <th>Years of Experience</th>\n",
       "      <th>Years of Volunteering</th>\n",
       "      <th>Twitter followers</th>\n",
       "      <th>Instagram Followers</th>\n",
       "      <th>Customer Satisfaction Rating</th>\n",
       "      <th>Sales Rating</th>\n",
       "      <th>Gender_Female</th>\n",
       "      <th>Gender_Male</th>\n",
       "      <th>Race / Ethnicity_Black</th>\n",
       "      <th>Race / Ethnicity_Caucasian</th>\n",
       "      <th>Race / Ethnicity_Hispanic</th>\n",
       "      <th>English Fluency_Basic</th>\n",
       "      <th>English Fluency_Fluent</th>\n",
       "      <th>English Fluency_Proficient</th>\n",
       "      <th>Spanish Fluency_Basic</th>\n",
       "      <th>Spanish Fluency_Fluent</th>\n",
       "      <th>Spanish Fluency_Proficient</th>\n",
       "      <th>Education_Associates</th>\n",
       "      <th>Education_Graduate</th>\n",
       "      <th>Education_High School</th>\n",
       "      <th>Education_None</th>\n",
       "      <th>Education_Undergraduate</th>\n",
       "      <th>Requires Sponsorship_False</th>\n",
       "      <th>Requires Sponsorship_True</th>\n",
       "      <th>Fired_Current Employee</th>\n",
       "      <th>Fired_Fired</th>\n",
       "      <th>MBTI_EI_E</th>\n",
       "      <th>MBTI_EI_I</th>\n",
       "      <th>MBTI_SN_N</th>\n",
       "      <th>MBTI_SN_S</th>\n",
       "      <th>MBTI_TF_F</th>\n",
       "      <th>MBTI_TF_T</th>\n",
       "      <th>MBTI_JP_J</th>\n",
       "      <th>MBTI_JP_P</th>\n",
       "      <th>Age</th>\n",
       "      <th>Metric</th>\n",
       "    </tr>\n",
       "  </thead>\n",
       "  <tbody>\n",
       "    <tr>\n",
       "      <th>0</th>\n",
       "      <td>Sarah</td>\n",
       "      <td>Chang</td>\n",
       "      <td>764 Howard Tunnel</td>\n",
       "      <td>30167</td>\n",
       "      <td>3.10</td>\n",
       "      <td>2.52</td>\n",
       "      <td>8.8</td>\n",
       "      <td>0.0</td>\n",
       "      <td>693</td>\n",
       "      <td>1108</td>\n",
       "      <td>2.21</td>\n",
       "      <td>2.07</td>\n",
       "      <td>1</td>\n",
       "      <td>0</td>\n",
       "      <td>1</td>\n",
       "      <td>0</td>\n",
       "      <td>0</td>\n",
       "      <td>0</td>\n",
       "      <td>1</td>\n",
       "      <td>0</td>\n",
       "      <td>1</td>\n",
       "      <td>0</td>\n",
       "      <td>0</td>\n",
       "      <td>0</td>\n",
       "      <td>0</td>\n",
       "      <td>1</td>\n",
       "      <td>0</td>\n",
       "      <td>0</td>\n",
       "      <td>1</td>\n",
       "      <td>0</td>\n",
       "      <td>1</td>\n",
       "      <td>0</td>\n",
       "      <td>0</td>\n",
       "      <td>1</td>\n",
       "      <td>0</td>\n",
       "      <td>1</td>\n",
       "      <td>0</td>\n",
       "      <td>1</td>\n",
       "      <td>1</td>\n",
       "      <td>0</td>\n",
       "      <td>30</td>\n",
       "      <td>2.071932</td>\n",
       "    </tr>\n",
       "    <tr>\n",
       "      <th>1</th>\n",
       "      <td>Daniel</td>\n",
       "      <td>Taylor</td>\n",
       "      <td>4892 Jessica Turnpike Suite 781</td>\n",
       "      <td>86553</td>\n",
       "      <td>3.02</td>\n",
       "      <td>3.90</td>\n",
       "      <td>13.7</td>\n",
       "      <td>0.0</td>\n",
       "      <td>507</td>\n",
       "      <td>1259</td>\n",
       "      <td>3.37</td>\n",
       "      <td>2.98</td>\n",
       "      <td>0</td>\n",
       "      <td>1</td>\n",
       "      <td>1</td>\n",
       "      <td>0</td>\n",
       "      <td>0</td>\n",
       "      <td>0</td>\n",
       "      <td>1</td>\n",
       "      <td>0</td>\n",
       "      <td>1</td>\n",
       "      <td>0</td>\n",
       "      <td>0</td>\n",
       "      <td>0</td>\n",
       "      <td>0</td>\n",
       "      <td>1</td>\n",
       "      <td>0</td>\n",
       "      <td>0</td>\n",
       "      <td>1</td>\n",
       "      <td>0</td>\n",
       "      <td>1</td>\n",
       "      <td>0</td>\n",
       "      <td>0</td>\n",
       "      <td>1</td>\n",
       "      <td>0</td>\n",
       "      <td>1</td>\n",
       "      <td>1</td>\n",
       "      <td>0</td>\n",
       "      <td>1</td>\n",
       "      <td>0</td>\n",
       "      <td>35</td>\n",
       "      <td>3.247040</td>\n",
       "    </tr>\n",
       "    <tr>\n",
       "      <th>2</th>\n",
       "      <td>Heather</td>\n",
       "      <td>Stewart</td>\n",
       "      <td>778 Linda Orchard Apt. 609</td>\n",
       "      <td>30167</td>\n",
       "      <td>2.95</td>\n",
       "      <td>2.63</td>\n",
       "      <td>5.2</td>\n",
       "      <td>0.0</td>\n",
       "      <td>599</td>\n",
       "      <td>868</td>\n",
       "      <td>1.50</td>\n",
       "      <td>1.36</td>\n",
       "      <td>1</td>\n",
       "      <td>0</td>\n",
       "      <td>1</td>\n",
       "      <td>0</td>\n",
       "      <td>0</td>\n",
       "      <td>0</td>\n",
       "      <td>0</td>\n",
       "      <td>1</td>\n",
       "      <td>1</td>\n",
       "      <td>0</td>\n",
       "      <td>0</td>\n",
       "      <td>0</td>\n",
       "      <td>0</td>\n",
       "      <td>1</td>\n",
       "      <td>0</td>\n",
       "      <td>0</td>\n",
       "      <td>1</td>\n",
       "      <td>0</td>\n",
       "      <td>1</td>\n",
       "      <td>0</td>\n",
       "      <td>0</td>\n",
       "      <td>1</td>\n",
       "      <td>1</td>\n",
       "      <td>0</td>\n",
       "      <td>1</td>\n",
       "      <td>0</td>\n",
       "      <td>0</td>\n",
       "      <td>1</td>\n",
       "      <td>27</td>\n",
       "      <td>1.373467</td>\n",
       "    </tr>\n",
       "    <tr>\n",
       "      <th>3</th>\n",
       "      <td>Katherine</td>\n",
       "      <td>Dillon</td>\n",
       "      <td>139 Linda Crossroad Suite 115</td>\n",
       "      <td>30167</td>\n",
       "      <td>3.99</td>\n",
       "      <td>3.88</td>\n",
       "      <td>12.5</td>\n",
       "      <td>0.0</td>\n",
       "      <td>1321</td>\n",
       "      <td>889</td>\n",
       "      <td>2.89</td>\n",
       "      <td>2.62</td>\n",
       "      <td>1</td>\n",
       "      <td>0</td>\n",
       "      <td>1</td>\n",
       "      <td>0</td>\n",
       "      <td>0</td>\n",
       "      <td>1</td>\n",
       "      <td>0</td>\n",
       "      <td>0</td>\n",
       "      <td>1</td>\n",
       "      <td>0</td>\n",
       "      <td>0</td>\n",
       "      <td>0</td>\n",
       "      <td>0</td>\n",
       "      <td>1</td>\n",
       "      <td>0</td>\n",
       "      <td>0</td>\n",
       "      <td>0</td>\n",
       "      <td>1</td>\n",
       "      <td>1</td>\n",
       "      <td>0</td>\n",
       "      <td>0</td>\n",
       "      <td>1</td>\n",
       "      <td>0</td>\n",
       "      <td>1</td>\n",
       "      <td>1</td>\n",
       "      <td>0</td>\n",
       "      <td>0</td>\n",
       "      <td>1</td>\n",
       "      <td>33</td>\n",
       "      <td>2.812127</td>\n",
       "    </tr>\n",
       "    <tr>\n",
       "      <th>4</th>\n",
       "      <td>Sheri</td>\n",
       "      <td>Bolton</td>\n",
       "      <td>1858 Lauren Orchard</td>\n",
       "      <td>60531</td>\n",
       "      <td>3.82</td>\n",
       "      <td>3.30</td>\n",
       "      <td>7.0</td>\n",
       "      <td>0.0</td>\n",
       "      <td>414</td>\n",
       "      <td>13760</td>\n",
       "      <td>1.94</td>\n",
       "      <td>1.78</td>\n",
       "      <td>1</td>\n",
       "      <td>0</td>\n",
       "      <td>1</td>\n",
       "      <td>0</td>\n",
       "      <td>0</td>\n",
       "      <td>0</td>\n",
       "      <td>0</td>\n",
       "      <td>1</td>\n",
       "      <td>0</td>\n",
       "      <td>0</td>\n",
       "      <td>1</td>\n",
       "      <td>0</td>\n",
       "      <td>0</td>\n",
       "      <td>1</td>\n",
       "      <td>0</td>\n",
       "      <td>0</td>\n",
       "      <td>0</td>\n",
       "      <td>1</td>\n",
       "      <td>1</td>\n",
       "      <td>0</td>\n",
       "      <td>0</td>\n",
       "      <td>1</td>\n",
       "      <td>0</td>\n",
       "      <td>1</td>\n",
       "      <td>1</td>\n",
       "      <td>0</td>\n",
       "      <td>1</td>\n",
       "      <td>0</td>\n",
       "      <td>29</td>\n",
       "      <td>1.855247</td>\n",
       "    </tr>\n",
       "  </tbody>\n",
       "</table>\n",
       "</div>"
      ],
      "text/plain": [
       "  First Name Last Name  ... Age    Metric\n",
       "0      Sarah     Chang  ...  30  2.071932\n",
       "1     Daniel    Taylor  ...  35  3.247040\n",
       "2    Heather   Stewart  ...  27  1.373467\n",
       "3  Katherine    Dillon  ...  33  2.812127\n",
       "4      Sheri    Bolton  ...  29  1.855247\n",
       "\n",
       "[5 rows x 42 columns]"
      ]
     },
     "execution_count": 58,
     "metadata": {
      "tags": []
     },
     "output_type": "execute_result"
    }
   ],
   "source": [
    "df.head()"
   ]
  },
  {
   "cell_type": "code",
   "execution_count": 59,
   "metadata": {
    "deletable": false,
    "editable": false,
    "id": "jztW-KZrIKSw",
    "nbgrader": {
     "cell_type": "code",
     "checksum": "2d8e68ef16698c391051af8b5507f0ed",
     "grade": true,
     "grade_id": "cell-bdb5b26a22302883",
     "locked": true,
     "points": 10,
     "schema_version": 3,
     "solution": false,
     "task": false
    }
   },
   "outputs": [],
   "source": [
    "assert \"Metric\" in df.columns\n",
    "assert np.issubdtype(df[\"Metric\"].dtype, np.number)"
   ]
  },
  {
   "cell_type": "markdown",
   "metadata": {
    "id": "Qy_LBAqeLQT0"
   },
   "source": [
    "Are you happy with the synthetic score based on the values for each person here? Go back and update it until you're satisfied with this score."
   ]
  },
  {
   "cell_type": "code",
   "execution_count": 60,
   "metadata": {
    "deletable": false,
    "id": "VaLgvQurLkjE",
    "nbgrader": {
     "cell_type": "code",
     "checksum": "046aa4c11f5fc567707186a9649f0b39",
     "grade": true,
     "grade_id": "cell-25c42dc943a39e64",
     "locked": false,
     "points": 20,
     "schema_version": 3,
     "solution": true,
     "task": false
    }
   },
   "outputs": [],
   "source": [
    "# Explain the logic behind your synthetic scoring mechanism and save it as synthetic_score_reasoning\n",
    "synthetic_score_reasoning = '''\n",
    "the reasoning behind my scoring was simple. I wanted \n",
    "half of the score weight to be determined by the \n",
    "'Customer Satisfaction Rating' and the other portion \n",
    "determined by 'Sales_Rating' and if the person was listed as Fired\n",
    "then that would be -0.5 points. \n",
    "'''\n",
    "# raise NotImplementedError()"
   ]
  },
  {
   "cell_type": "code",
   "execution_count": 61,
   "metadata": {
    "deletable": false,
    "editable": false,
    "id": "UlnqBpZUL1a8",
    "nbgrader": {
     "cell_type": "code",
     "checksum": "5fdf2191b11c7d91989b3e1aa9fc67f2",
     "grade": true,
     "grade_id": "cell-1fec797ad27734ef",
     "locked": true,
     "points": 10,
     "schema_version": 3,
     "solution": false,
     "task": false
    }
   },
   "outputs": [],
   "source": [
    "assert len(synthetic_score_reasoning) > 100"
   ]
  },
  {
   "cell_type": "markdown",
   "metadata": {
    "id": "uk-TMmydL7qn"
   },
   "source": [
    "Now let's calculate the synthetic scores for the new people (applicants) and see if you're satisfied with your models' rankings for interviewing and hiring."
   ]
  },
  {
   "cell_type": "code",
   "execution_count": 62,
   "metadata": {
    "id": "9eC4ydbKLPnk"
   },
   "outputs": [],
   "source": [
    "new_people_interview_score = [calculate_synthetic_metric(target_values) for target_values in new_people_interview]\n",
    "new_people_hire_score = [calculate_synthetic_metric(target_values) for target_values in new_people_hire]"
   ]
  },
  {
   "cell_type": "code",
   "execution_count": 63,
   "metadata": {
    "id": "NHhfGnvTMh_T"
   },
   "outputs": [],
   "source": [
    "best_interview_person = new_people[new_people_interview_score.index(max(new_people_interview_score))]\n",
    "best_hire_person = new_people[new_people_hire_score.index(max(new_people_hire_score))]"
   ]
  },
  {
   "cell_type": "markdown",
   "metadata": {
    "id": "Nikv-vhUMi-z"
   },
   "source": [
    "Based on these scores, your model selected the following people:"
   ]
  },
  {
   "cell_type": "code",
   "execution_count": 64,
   "metadata": {
    "colab": {
     "base_uri": "https://localhost:8080/"
    },
    "id": "JEoWB0MGNFS-",
    "outputId": "759002d6-3f59-4443-dfb1-ef5d6cc639e4"
   },
   "outputs": [
    {
     "name": "stdout",
     "output_type": "stream",
     "text": [
      "\n",
      "Your interviewing model selected Stefon Smith as the person to interview.\n",
      "\n",
      "Your hiring model selected Stefon Smith as the person to hire.\n",
      "\n"
     ]
    }
   ],
   "source": [
    "print(f\"\"\"\n",
    "Your interviewing model selected {best_interview_person['First Name']} {best_interview_person['Last Name']} as the person to interview.\n",
    "\n",
    "Your hiring model selected {best_hire_person['First Name']} {best_hire_person['Last Name']} as the person to hire.\n",
    "\"\"\")"
   ]
  },
  {
   "cell_type": "markdown",
   "metadata": {
    "id": "xyEJR9axNmv_"
   },
   "source": [
    "Are you happy with these results? Feel free to modify the `applicant_5`'s attributes and see how your model performs based on changing these values. "
   ]
  },
  {
   "cell_type": "code",
   "execution_count": 65,
   "metadata": {
    "colab": {
     "base_uri": "https://localhost:8080/"
    },
    "deletable": false,
    "id": "FFWGYkmpNx_C",
    "nbgrader": {
     "cell_type": "code",
     "checksum": "3b544fd0fd911c789a56004c93fc3ac2",
     "grade": true,
     "grade_id": "cell-cc40d17ae80242e0",
     "locked": false,
     "points": 10,
     "schema_version": 3,
     "solution": true,
     "task": false
    },
    "outputId": "2a10baf7-b445-47a6-e57a-5a0be96a865d"
   },
   "outputs": [
    {
     "name": "stdout",
     "output_type": "stream",
     "text": [
      "\n",
      "I am very satisfied with the outcomes of this project. \n",
      "It makes sense that the person we chose is the same for both the \n",
      "interviewing and hiring models since they were based on the \n",
      "same features and this is how I wanted it to behave. The outcome \n",
      "also generally makes sense just looking at the stats of the person\n",
      "who was chosen.\n",
      "\n"
     ]
    }
   ],
   "source": [
    "# Describe your level of satisfaction with your models\n",
    "# Did you edit your model based on the results? What did you change?\n",
    "# What general conclusions did you get from the exercise\n",
    "# Save your answer to the above questions as conclusions\n",
    "conclusions = '''\n",
    "I am very satisfied with the outcomes of this project. \n",
    "It makes sense that the person we chose is the same for both the \n",
    "interviewing and hiring models since they were based on the \n",
    "same features and this is how I wanted it to behave. The outcome \n",
    "also generally makes sense just looking at the stats of the person\n",
    "who was chosen.\n",
    "'''\n",
    "# raise NotImplementedError()\n",
    "print(conclusions)"
   ]
  },
  {
   "cell_type": "code",
   "execution_count": 66,
   "metadata": {
    "id": "1vBdn2XzOIhk"
   },
   "outputs": [],
   "source": [
    "assert len(conclusions) > 100"
   ]
  },
  {
   "cell_type": "markdown",
   "metadata": {
    "deletable": false,
    "editable": false,
    "id": "aEDK4ChDQrky",
    "nbgrader": {
     "cell_type": "markdown",
     "checksum": "03dcba3c87298cd428ec01f9a0075d6c",
     "grade": false,
     "grade_id": "cell-4a3caccc18c17350",
     "locked": true,
     "schema_version": 3,
     "solution": false
    }
   },
   "source": [
    "## Feedback"
   ]
  },
  {
   "cell_type": "code",
   "execution_count": null,
   "metadata": {
    "id": "JJTEsyWutO1I"
   },
   "outputs": [],
   "source": []
  },
  {
   "cell_type": "code",
   "execution_count": 67,
   "metadata": {
    "deletable": false,
    "id": "w-Yu33YPQrky",
    "nbgrader": {
     "cell_type": "code",
     "checksum": "687d8bbd0750d67bdc439a0a539f4563",
     "grade": false,
     "grade_id": "cell-259e62fb9f936804",
     "locked": false,
     "schema_version": 3,
     "solution": true
    }
   },
   "outputs": [],
   "source": [
    "def feedback():\n",
    "    \"\"\"Provide feedback on the contents of this exercise\n",
    "    \n",
    "    Returns:\n",
    "        string\n",
    "    \"\"\"\n",
    "    return(\"not easy but not too hard either\")\n",
    "    # raise NotImplementedError()"
   ]
  },
  {
   "cell_type": "code",
   "execution_count": 67,
   "metadata": {
    "deletable": false,
    "editable": false,
    "id": "2Tmx8n-9Qrk0",
    "nbgrader": {
     "cell_type": "code",
     "checksum": "a981d530666ab499761c90062b408a01",
     "grade": true,
     "grade_id": "cell-865e5f961cfd020f",
     "locked": true,
     "points": 0,
     "schema_version": 3,
     "solution": false
    }
   },
   "outputs": [],
   "source": []
  }
 ],
 "metadata": {
  "colab": {
   "collapsed_sections": [],
   "name": "TaylorKramer_01- Job Placement.ipynb",
   "provenance": []
  },
  "kernelspec": {
   "display_name": "Python 3",
   "language": "python",
   "name": "python3"
  },
  "language_info": {
   "codemirror_mode": {
    "name": "ipython",
    "version": 3
   },
   "file_extension": ".py",
   "mimetype": "text/x-python",
   "name": "python",
   "nbconvert_exporter": "python",
   "pygments_lexer": "ipython3",
   "version": "3.7.6"
  }
 },
 "nbformat": 4,
 "nbformat_minor": 1
}
