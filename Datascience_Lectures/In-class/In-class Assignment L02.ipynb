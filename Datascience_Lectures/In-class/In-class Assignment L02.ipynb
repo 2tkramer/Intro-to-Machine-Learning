{
 "cells": [
  {
   "cell_type": "code",
   "execution_count": 2,
   "metadata": {},
   "outputs": [
    {
     "name": "stdout",
     "output_type": "stream",
     "text": [
      "4\n"
     ]
    }
   ],
   "source": [
    "#name: Taylor Kramer\n",
    "#date: 1/9/20\n",
    "#In-class Assignment L02\n",
    "\n",
    "#variables\n",
    "n = 55508754\n",
    "counter = 0\n",
    "#loop till n = 0\n",
    "while n != 0:\n",
    "    #count number of 5s\n",
    "    if n % 10 == 5:\n",
    "        counter = counter + 1\n",
    "    #increment n  \n",
    "    n = n // 10\n",
    "    #print(n)\n",
    "#print number of 5s counted in n    \n",
    "print(counter)\n",
    "        \n"
   ]
  },
  {
   "cell_type": "code",
   "execution_count": null,
   "metadata": {},
   "outputs": [],
   "source": []
  }
 ],
 "metadata": {
  "kernelspec": {
   "display_name": "Python 3",
   "language": "python",
   "name": "python3"
  },
  "language_info": {
   "codemirror_mode": {
    "name": "ipython",
    "version": 3
   },
   "file_extension": ".py",
   "mimetype": "text/x-python",
   "name": "python",
   "nbconvert_exporter": "python",
   "pygments_lexer": "ipython3",
   "version": "3.6.5"
  }
 },
 "nbformat": 4,
 "nbformat_minor": 2
}
