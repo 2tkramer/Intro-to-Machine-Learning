{
 "cells": [
  {
   "cell_type": "markdown",
   "metadata": {
    "slideshow": {
     "slide_type": "slide"
    }
   },
   "source": [
    "##### CSCI 303\n",
    "# Introduction to Data Science\n",
    "<p/>\n",
    "### 6 - Machine Learning Beginnings\n",
    "\n",
    "![a fitted curve](fit.png) "
   ]
  },
  {
   "cell_type": "markdown",
   "metadata": {
    "slideshow": {
     "slide_type": "slide"
    }
   },
   "source": [
    "## Looking Ahead\n",
    "---\n",
    "### Tentative Plan\n",
    "- We've learned just some basics of Python\n",
    "  - We left out a lot!\n",
    "    - Functions, modules, classes\n",
    "    - NumPy, pandas, matplotlib\n",
    "  - We will learn *some* of these in context of rest of class\n",
    "- Next task is to start on some machine learning\n",
    "  - Provide context for learning additional technologies\n",
    "  - Introduce basic concepts we'll build on later"
   ]
  },
  {
   "cell_type": "markdown",
   "metadata": {
    "slideshow": {
     "slide_type": "slide"
    }
   },
   "source": [
    "## This Lecture\n",
    "---\n",
    "- Introduce basic supervised learning concepts\n",
    "- Introduce NumPy & matplotlib\n",
    "- Introduce linear regression\n",
    "- Explore linear regression using NumPy and matplotlib"
   ]
  },
  {
   "cell_type": "markdown",
   "metadata": {
    "slideshow": {
     "slide_type": "slide"
    }
   },
   "source": [
    "## Machine (or Statistical) Learning\n",
    "---\n",
    "- Learning structure and relationships in data\n",
    "- Supervised learning\n",
    "  - Goal is predicting outputs based on inputs\n",
    "  - Learn from labeled exemplar data\n",
    "  - E.g., regression, classification\n",
    "- Unsupervised learning\n",
    "  - Goal is reveal hidden structure in the data\n",
    "  - Inputs but no labeled outputs\n",
    "  - E.g., clustering"
   ]
  },
  {
   "cell_type": "markdown",
   "metadata": {
    "slideshow": {
     "slide_type": "slide"
    }
   },
   "source": [
    "## Regression\n",
    "---\n",
    "Motivation: consider a relatively simple prediction problem\\*:\n",
    "  - Inputs: advertising dollars spent (in various media)\n",
    "  - Outputs: total sales\n",
    "  - Problem: predict sales for new ad buy\n",
    "\n",
    "\\*This example comes from D. James, et al., *An Introduction to Statistical Learning*"
   ]
  },
  {
   "cell_type": "markdown",
   "metadata": {
    "slideshow": {
     "slide_type": "slide"
    }
   },
   "source": [
    "## Terms\n",
    "---\n",
    "The *inputs* in this case are numerical values:\n",
    "\n",
    "- Advertising dollars (for some given week)\n",
    "  - TV\n",
    "  - Radio\n",
    "  - Newspaper\n",
    "\n",
    "Inputs are often denoted as $X$, and go by various names:\n",
    "\n",
    "- predictors\n",
    "- independent variables\n",
    "- features"
   ]
  },
  {
   "cell_type": "markdown",
   "metadata": {
    "slideshow": {
     "slide_type": "subslide"
    }
   },
   "source": [
    "The *outputs* are also numerical values in a regression problem:\n",
    "\n",
    "- Total sales (for some given week)\n",
    "\n",
    "The outputs are typically labeled $Y$, and are called:\n",
    "\n",
    "- response variables\n",
    "- dependent variables\n",
    "- targets"
   ]
  },
  {
   "cell_type": "markdown",
   "metadata": {
    "slideshow": {
     "slide_type": "slide"
    }
   },
   "source": [
    "## The Model\n",
    "---\n",
    "In regression, we typically assume the existence of some hidden function $f$, such that\n",
    "\n",
    "$$ Y = f(X) + \\epsilon $$\n",
    "\n",
    "where $\\epsilon$ represents a random error or *noise* term with zero mean."
   ]
  },
  {
   "cell_type": "markdown",
   "metadata": {
    "slideshow": {
     "slide_type": "slide"
    }
   },
   "source": [
    "## Prediction\n",
    "---\n",
    "Given some data (e.g., historical sales data) that includes both the inputs and the outputs, can we make an informed guess of the output for some (previously unseen) input?\n",
    "\n",
    "We write\n",
    "\n",
    "$$ \\hat Y = \\hat f (X) $$\n",
    "\n",
    "where the \"hat\" on $\\hat Y$ and $\\hat f$ means these are approximate.\n",
    "\n",
    "Essentially, since $\\epsilon$ has zero mean, the best approximation we can obtain for some unobserved output $y'$ associated with inputs $x'$ is $f(x')$.  However, since $f$ itself is unavailable, we'll use an *estimate* of $f$.\n"
   ]
  },
  {
   "cell_type": "markdown",
   "metadata": {
    "slideshow": {
     "slide_type": "slide"
    }
   },
   "source": [
    "## Parametric Approximation\n",
    "---\n",
    "- There are different kinds of approximation techniques for estimating $f$.\n",
    "- We'll study these in more depth later\n",
    "- For now, focus on *parametric* approximation, in which:\n",
    "  - $\\hat f(X) = f(X, \\theta)$\n",
    "  - $\\theta$ is a vector of *parameters* of some model of $f$\n",
    "- More specifically, we'll look at *linear regression*:\n",
    "  - $\\hat f(X) = f(X, \\theta) = \\theta_0 + \\theta_1 X_1 + \\theta_2 X_2 + ... + \\theta_k X_k$"
   ]
  },
  {
   "cell_type": "markdown",
   "metadata": {
    "slideshow": {
     "slide_type": "slide"
    }
   },
   "source": [
    "## Notation for Linear Regression\n",
    "---\n",
    "\n",
    "Let's rewrite a bit: given an input (which we assume to be a vector of inputs: $\\mathbf{x}$)\n",
    "\n",
    "- let $\\phi$ represent the vector $(1, x_1, x_2, ..., x_k)$\n",
    "- instead of $\\theta$ for our parameter vector, we'll use $\\mathbf{w}$\n",
    "- Then \n",
    "\n",
    "$$\\begin{align}\n",
    "    \\hat f(\\mathbf{x}) & = 1 w_0 + x_1 w_1 + ... + x_k w_k \\\\\n",
    "                   & = \\phi \\cdot \\mathbf{w}\n",
    "  \\end{align}$$"
   ]
  },
  {
   "cell_type": "markdown",
   "metadata": {
    "slideshow": {
     "slide_type": "slide"
    }
   },
   "source": [
    "## Some Linear Algebra\n",
    "---\n",
    "Now suppose we have $n$ examples.\n",
    "\n",
    "We stack all of our $\\phi$ vectors as rows in the matrix $\\Phi$:\n",
    "\n",
    "$$ \\Phi = \\left[ \\begin{array}{cccc} \\phi_{00} & \\phi_{01} & \\dots & \\phi_{0k} \\\\\n",
    "                                     \\phi_{10} & \\phi_{11} & \\dots & \\phi_{1k} \\\\\n",
    "                                     \\vdots & \\ddots & & \\vdots \\\\\n",
    "                                     \\phi_{n0} & \\phi_{n1} & \\dots & \\phi_{nk} \\end{array}\n",
    "          \\right] $$\n",
    "          \n",
    "$\\Phi$ is often called the *design matrix*.\n",
    "                                     \n"
   ]
  },
  {
   "cell_type": "markdown",
   "metadata": {
    "slideshow": {
     "slide_type": "subslide"
    }
   },
   "source": [
    "We similarly take all of our $n$ outputs $y_i$ to make a vector $\\mathbf{y}$:\n",
    "\n",
    "$$ \\mathbf{y} = \\left[ \\begin{array}{c} y_1 \\\\ y_2 \\\\ \\vdots \\\\ y_n \\end{array} \\right] $$\n",
    "\n",
    "$\\mathbf{y}$ is the *target vector*."
   ]
  },
  {
   "cell_type": "markdown",
   "metadata": {
    "slideshow": {
     "slide_type": "subslide"
    }
   },
   "source": [
    "Then we are interested in finding vector $\\mathbf{w}$ which as close as possible satisfies the equation\n",
    "\n",
    "$$ \\Phi \\mathbf{w} = \\mathbf{y} $$\n",
    "\n",
    "For the \"ordinary least squares\" (**OLS**) solution, we find\n",
    "\n",
    "$$ \\mathbf{w} = \\arg \\min_{\\mathbf{w'}} \\| \\mathbf{y} - \\Phi \\mathbf{w'} \\| $$\n",
    "\n",
    "which, it turns out, can be solved for using linear algebra to obtain\n",
    "\n",
    "$$ \\mathbf{w} = (\\Phi^T \\Phi)^{-1} \\Phi^T \\mathbf{y} $$\n",
    "\n",
    "$\\mathbf{w}$ is the *weight vector*."
   ]
  },
  {
   "cell_type": "markdown",
   "metadata": {
    "slideshow": {
     "slide_type": "slide"
    }
   },
   "source": [
    "## Linear Algebra in Python: NumPy\n",
    "---\n",
    "- Like MATLAB, NumPy provides wrappers onto specialized linear algebra libraries written in C/Fortran\n",
    "- NumPy adds to Python a basic type: `ndarray`\n",
    "  - Flexible, multidimensional array type\n",
    "  - Supports scalar and vector/matrix math operations\n",
    "  - Easily converts to/from Python sequence types\n",
    "    - However, `ndarray` imposes container typing\n",
    "- See the docs (Help menu in Jupyter notebook) for more info"
   ]
  },
  {
   "cell_type": "markdown",
   "metadata": {
    "slideshow": {
     "slide_type": "slide"
    }
   },
   "source": [
    "## OLS Example Using NumPy and matplotlib\n",
    "---\n",
    "For the rest of this lecture, we're going to:\n",
    "\n",
    "- Generate (simulate) a regression problem (NumPy)\n",
    "- Perform OLS regression on the problem (NumPy)\n",
    "- Plot results (matplotlib)"
   ]
  },
  {
   "cell_type": "markdown",
   "metadata": {
    "slideshow": {
     "slide_type": "slide"
    }
   },
   "source": [
    "## Step 1: Generate a Problem\n",
    "---\n",
    "First, we need a function to be our \"unknown\" function to learn.\n",
    "\n",
    "We're going to stick with polynomials in one variable for this example.\n",
    "\n",
    "How about:\n",
    "\n",
    "$$ f(x) = 3 + 0.5 n - n^2 + 0.15 n^3 $$"
   ]
  },
  {
   "cell_type": "markdown",
   "metadata": {
    "slideshow": {
     "slide_type": "subslide"
    }
   },
   "source": [
    "Let's visualize this function.  \n",
    "\n",
    "First, we need some points along the curve.\n",
    "\n",
    "To do that, we need the NumPy library *imported* into Python:"
   ]
  },
  {
   "cell_type": "code",
   "execution_count": 1,
   "metadata": {},
   "outputs": [],
   "source": [
    "import numpy as np    # use np as an alias by convention"
   ]
  },
  {
   "cell_type": "markdown",
   "metadata": {},
   "source": [
    "Now we can use NumPy's `ndarray` type and generate some inputs:"
   ]
  },
  {
   "cell_type": "code",
   "execution_count": 2,
   "metadata": {},
   "outputs": [
    {
     "data": {
      "text/plain": [
       "array([-5.00000000e+00, -4.90000000e+00, -4.80000000e+00, -4.70000000e+00,\n",
       "       -4.60000000e+00, -4.50000000e+00, -4.40000000e+00, -4.30000000e+00,\n",
       "       -4.20000000e+00, -4.10000000e+00, -4.00000000e+00, -3.90000000e+00,\n",
       "       -3.80000000e+00, -3.70000000e+00, -3.60000000e+00, -3.50000000e+00,\n",
       "       -3.40000000e+00, -3.30000000e+00, -3.20000000e+00, -3.10000000e+00,\n",
       "       -3.00000000e+00, -2.90000000e+00, -2.80000000e+00, -2.70000000e+00,\n",
       "       -2.60000000e+00, -2.50000000e+00, -2.40000000e+00, -2.30000000e+00,\n",
       "       -2.20000000e+00, -2.10000000e+00, -2.00000000e+00, -1.90000000e+00,\n",
       "       -1.80000000e+00, -1.70000000e+00, -1.60000000e+00, -1.50000000e+00,\n",
       "       -1.40000000e+00, -1.30000000e+00, -1.20000000e+00, -1.10000000e+00,\n",
       "       -1.00000000e+00, -9.00000000e-01, -8.00000000e-01, -7.00000000e-01,\n",
       "       -6.00000000e-01, -5.00000000e-01, -4.00000000e-01, -3.00000000e-01,\n",
       "       -2.00000000e-01, -1.00000000e-01, -1.77635684e-14,  1.00000000e-01,\n",
       "        2.00000000e-01,  3.00000000e-01,  4.00000000e-01,  5.00000000e-01,\n",
       "        6.00000000e-01,  7.00000000e-01,  8.00000000e-01,  9.00000000e-01,\n",
       "        1.00000000e+00,  1.10000000e+00,  1.20000000e+00,  1.30000000e+00,\n",
       "        1.40000000e+00,  1.50000000e+00,  1.60000000e+00,  1.70000000e+00,\n",
       "        1.80000000e+00,  1.90000000e+00,  2.00000000e+00,  2.10000000e+00,\n",
       "        2.20000000e+00,  2.30000000e+00,  2.40000000e+00,  2.50000000e+00,\n",
       "        2.60000000e+00,  2.70000000e+00,  2.80000000e+00,  2.90000000e+00,\n",
       "        3.00000000e+00,  3.10000000e+00,  3.20000000e+00,  3.30000000e+00,\n",
       "        3.40000000e+00,  3.50000000e+00,  3.60000000e+00,  3.70000000e+00,\n",
       "        3.80000000e+00,  3.90000000e+00,  4.00000000e+00,  4.10000000e+00,\n",
       "        4.20000000e+00,  4.30000000e+00,  4.40000000e+00,  4.50000000e+00,\n",
       "        4.60000000e+00,  4.70000000e+00,  4.80000000e+00,  4.90000000e+00])"
      ]
     },
     "execution_count": 2,
     "metadata": {},
     "output_type": "execute_result"
    }
   ],
   "source": [
    "X = np.arange(-5, 5, 0.1)\n",
    "X"
   ]
  },
  {
   "cell_type": "markdown",
   "metadata": {
    "slideshow": {
     "slide_type": "subslide"
    }
   },
   "source": [
    "Next, compute f(x) for each input:"
   ]
  },
  {
   "cell_type": "code",
   "execution_count": 3,
   "metadata": {},
   "outputs": [
    {
     "data": {
      "text/plain": [
       "array([-4.325000e+01, -4.110735e+01, -3.902880e+01, -3.701345e+01,\n",
       "       -3.506040e+01, -3.316875e+01, -3.133760e+01, -2.956605e+01,\n",
       "       -2.785320e+01, -2.619815e+01, -2.460000e+01, -2.305785e+01,\n",
       "       -2.157080e+01, -2.013795e+01, -1.875840e+01, -1.743125e+01,\n",
       "       -1.615560e+01, -1.493055e+01, -1.375520e+01, -1.262865e+01,\n",
       "       -1.155000e+01, -1.051835e+01, -9.532800e+00, -8.592450e+00,\n",
       "       -7.696400e+00, -6.843750e+00, -6.033600e+00, -5.265050e+00,\n",
       "       -4.537200e+00, -3.849150e+00, -3.200000e+00, -2.588850e+00,\n",
       "       -2.014800e+00, -1.476950e+00, -9.744000e-01, -5.062500e-01,\n",
       "       -7.160000e-02,  3.304500e-01,  7.008000e-01,  1.040350e+00,\n",
       "        1.350000e+00,  1.630650e+00,  1.883200e+00,  2.108550e+00,\n",
       "        2.307600e+00,  2.481250e+00,  2.630400e+00,  2.755950e+00,\n",
       "        2.858800e+00,  2.939850e+00,  3.000000e+00,  3.040150e+00,\n",
       "        3.061200e+00,  3.064050e+00,  3.049600e+00,  3.018750e+00,\n",
       "        2.972400e+00,  2.911450e+00,  2.836800e+00,  2.749350e+00,\n",
       "        2.650000e+00,  2.539650e+00,  2.419200e+00,  2.289550e+00,\n",
       "        2.151600e+00,  2.006250e+00,  1.854400e+00,  1.696950e+00,\n",
       "        1.534800e+00,  1.368850e+00,  1.200000e+00,  1.029150e+00,\n",
       "        8.572000e-01,  6.850500e-01,  5.136000e-01,  3.437500e-01,\n",
       "        1.764000e-01,  1.245000e-02, -1.472000e-01, -3.016500e-01,\n",
       "       -4.500000e-01, -5.913500e-01, -7.248000e-01, -8.494500e-01,\n",
       "       -9.644000e-01, -1.068750e+00, -1.161600e+00, -1.242050e+00,\n",
       "       -1.309200e+00, -1.362150e+00, -1.400000e+00, -1.421850e+00,\n",
       "       -1.426800e+00, -1.413950e+00, -1.382400e+00, -1.331250e+00,\n",
       "       -1.259600e+00, -1.166550e+00, -1.051200e+00, -9.126500e-01])"
      ]
     },
     "execution_count": 3,
     "metadata": {},
     "output_type": "execute_result"
    }
   ],
   "source": [
    "Y = 3 + 0.5 * X - X**2 + 0.15 * X**3\n",
    "Y"
   ]
  },
  {
   "cell_type": "markdown",
   "metadata": {
    "slideshow": {
     "slide_type": "subslide"
    }
   },
   "source": [
    "Note that we could simply do the math on the `ndarray` object.\n",
    "\n",
    "By default, all math operations on ndarrays is element-wise.\n",
    "\n",
    "Vector operations require other notation (as we'll see)."
   ]
  },
  {
   "cell_type": "markdown",
   "metadata": {
    "slideshow": {
     "slide_type": "subslide"
    }
   },
   "source": [
    "Let's plot our function:"
   ]
  },
  {
   "cell_type": "code",
   "execution_count": 14,
   "metadata": {},
   "outputs": [
    {
     "data": {
      "image/png": "[encoded data removed]",
      "text/plain": [
       "<Figure size 432x288 with 1 Axes>"
      ]
     },
     "metadata": {},
     "output_type": "display_data"
    }
   ],
   "source": [
    "import matplotlib.pyplot as plt  # another convention\n",
    "plt.plot(X, Y)\n",
    "plt.show()"
   ]
  },
  {
   "cell_type": "markdown",
   "metadata": {
    "slideshow": {
     "slide_type": "subslide"
    }
   },
   "source": [
    "Great!  Now, our model is\n",
    "\n",
    "$$ Y = f(X) + \\epsilon $$\n",
    "\n",
    "and we assume we only have some data to guide us.\n",
    "\n",
    "Let's generate some random inputs, then compute Y by adding random noise."
   ]
  },
  {
   "cell_type": "markdown",
   "metadata": {
    "slideshow": {
     "slide_type": "subslide"
    }
   },
   "source": [
    "First, we'll make use of `np.random.random(n)`, which generates an array of $n$ points in the interval [0, 1).\n",
    "\n",
    "We have to scale and translate the points into the input range of interest - [-5, 5)"
   ]
  },
  {
   "cell_type": "code",
   "execution_count": 5,
   "metadata": {},
   "outputs": [
    {
     "data": {
      "text/plain": [
       "array([-2.80992943, -4.69547541, -1.2773986 , -4.65801897,  3.92383627,\n",
       "        3.74417216,  3.82218071,  1.99323619, -4.68368573,  2.34762713,\n",
       "        4.66302046,  4.29883475, -1.93022982, -2.45853175,  0.17087087,\n",
       "       -0.77517408,  0.76775316, -4.25844334, -2.27386372,  1.68964476])"
      ]
     },
     "execution_count": 5,
     "metadata": {},
     "output_type": "execute_result"
    }
   ],
   "source": [
    "trainX = np.random.random(20) * 10 - 5\n",
    "trainX"
   ]
  },
  {
   "cell_type": "markdown",
   "metadata": {
    "slideshow": {
     "slide_type": "subslide"
    }
   },
   "source": [
    "Next, compute $f(x)$ plus some zero mean Gaussian noise on each sample input:"
   ]
  },
  {
   "cell_type": "code",
   "execution_count": 6,
   "metadata": {},
   "outputs": [
    {
     "data": {
      "image/png": "[encoded data removed]",
      "text/plain": [
       "<Figure size 432x288 with 1 Axes>"
      ]
     },
     "metadata": {},
     "output_type": "display_data"
    },
    {
     "data": {
      "image/png": "[encoded data removed]",
      "text/plain": [
       "<Figure size 432x288 with 1 Axes>"
      ]
     },
     "metadata": {},
     "output_type": "display_data"
    }
   ],
   "source": [
    "trainY = 3 + 0.5 * trainX - trainX**2 + 0.15 * trainX**3  # f(x)\n",
    "plt.plot(trainX, trainY, 'k.')\n",
    "plt.show()\n",
    "\n",
    "trainY = trainY + (np.random.randn(trainY.size) * 3)     # noise\n",
    "\n",
    "plt.plot(trainX, trainY, 'k.')\n",
    "plt.show()"
   ]
  },
  {
   "cell_type": "markdown",
   "metadata": {
    "slideshow": {
     "slide_type": "subslide"
    }
   },
   "source": [
    "Adding the true function in, we can see better the noise term in action:"
   ]
  },
  {
   "cell_type": "code",
   "execution_count": 7,
   "metadata": {},
   "outputs": [
    {
     "data": {
      "image/png": "[encoded data removed]",
      "text/plain": [
       "<Figure size 432x288 with 1 Axes>"
      ]
     },
     "metadata": {},
     "output_type": "display_data"
    }
   ],
   "source": [
    "plt.plot(trainX, trainY, 'k.')\n",
    "plt.plot(X, Y, 'b-')\n",
    "plt.show()"
   ]
  },
  {
   "cell_type": "markdown",
   "metadata": {},
   "source": [
    "**Yay! Step 1 complete!**"
   ]
  },
  {
   "cell_type": "markdown",
   "metadata": {
    "slideshow": {
     "slide_type": "slide"
    }
   },
   "source": [
    "## Step 2: Linear Regression\n",
    "---\n",
    "For this, we'll need some *features* to make $\\Phi$\n",
    "\n",
    "- X data of the type we'd have as inputs\n",
    "- We'll cheat and use polynomials of X"
   ]
  },
  {
   "cell_type": "code",
   "execution_count": 8,
   "metadata": {
    "slideshow": {
     "slide_type": "-"
    }
   },
   "outputs": [],
   "source": [
    "Phi = np.array([trainX ** p for p in range(6)]).T"
   ]
  },
  {
   "cell_type": "markdown",
   "metadata": {
    "slideshow": {
     "slide_type": "subslide"
    }
   },
   "source": [
    "Let's examine this a bit further.\n",
    "\n",
    "To create a matrix in NumPy, use `np.array` on a sequence of sequences (rows):\n",
    "\n",
    "E.g., the array\n",
    "\n",
    "$$ A = \\left[ \\begin{array}{ccc} 1 & 2 & 3 \\\\ 4 & 5 & 6 \\end{array} \\right] $$\n",
    "\n",
    "is created with"
   ]
  },
  {
   "cell_type": "code",
   "execution_count": 9,
   "metadata": {},
   "outputs": [
    {
     "data": {
      "text/plain": [
       "array([[1, 2, 3],\n",
       "       [4, 5, 6]])"
      ]
     },
     "execution_count": 9,
     "metadata": {},
     "output_type": "execute_result"
    }
   ],
   "source": [
    "A = np.array([[1,2,3],\n",
    "              [4,5,6]])\n",
    "A"
   ]
  },
  {
   "cell_type": "markdown",
   "metadata": {
    "slideshow": {
     "slide_type": "subslide"
    }
   },
   "source": [
    "We did:"
   ]
  },
  {
   "cell_type": "code",
   "execution_count": 16,
   "metadata": {},
   "outputs": [
    {
     "data": {
      "text/plain": [
       "array([[ 1.00000000e+00, -2.80992943e+00,  7.89570341e+00,\n",
       "        -2.21863694e+01,  6.23421323e+01, -1.75176992e+02],\n",
       "       [ 1.00000000e+00, -4.69547541e+00,  2.20474893e+01,\n",
       "        -1.03523444e+02,  4.86091784e+02, -2.28243202e+03],\n",
       "       [ 1.00000000e+00, -1.27739860e+00,  1.63174719e+00,\n",
       "        -2.08439157e+00,  2.66259888e+00, -3.40120009e+00],\n",
       "       [ 1.00000000e+00, -4.65801897e+00,  2.16971407e+01,\n",
       "        -1.01065693e+02,  4.70765915e+02, -2.19283656e+03],\n",
       "       [ 1.00000000e+00,  3.92383627e+00,  1.53964911e+01,\n",
       "         6.04133101e+01,  2.37051937e+02,  9.30152989e+02],\n",
       "       [ 1.00000000e+00,  3.74417216e+00,  1.40188252e+01,\n",
       "         5.24888950e+01,  1.96527459e+02,  7.35832642e+02],\n",
       "       [ 1.00000000e+00,  3.82218071e+00,  1.46090654e+01,\n",
       "         5.58384879e+01,  2.13424791e+02,  8.15748121e+02],\n",
       "       [ 1.00000000e+00,  1.99323619e+00,  3.97299052e+00,\n",
       "         7.91910849e+00,  1.57846537e+01,  3.14625430e+01],\n",
       "       [ 1.00000000e+00, -4.68368573e+00,  2.19369120e+01,\n",
       "        -1.02745602e+02,  4.81228110e+02, -2.25392123e+03],\n",
       "       [ 1.00000000e+00,  2.34762713e+00,  5.51135314e+00,\n",
       "         1.29386021e+01,  3.03750134e+01,  7.13092056e+01],\n",
       "       [ 1.00000000e+00,  4.66302046e+00,  2.17437598e+01,\n",
       "         1.01391597e+02,  4.72791092e+02,  2.20463454e+03],\n",
       "       [ 1.00000000e+00,  4.29883475e+00,  1.84799802e+01,\n",
       "         7.94423812e+01,  3.41509669e+02,  1.46809363e+03],\n",
       "       [ 1.00000000e+00, -1.93022982e+00,  3.72578715e+00,\n",
       "        -7.19162545e+00,  1.38814899e+01, -2.67944657e+01],\n",
       "       [ 1.00000000e+00, -2.45853175e+00,  6.04437837e+00,\n",
       "        -1.48602961e+01,  3.65345099e+01, -8.98212525e+01],\n",
       "       [ 1.00000000e+00,  1.70870874e-01,  2.91968556e-02,\n",
       "         4.98889224e-03,  8.52456377e-04,  1.45659966e-04],\n",
       "       [ 1.00000000e+00, -7.75174076e-01,  6.00894848e-01,\n",
       "        -4.65798108e-01,  3.61074618e-01, -2.79895684e-01],\n",
       "       [ 1.00000000e+00,  7.67753163e-01,  5.89444919e-01,\n",
       "         4.52548201e-01,  3.47445313e-01,  2.66752238e-01],\n",
       "       [ 1.00000000e+00, -4.25844334e+00,  1.81343397e+01,\n",
       "        -7.72240580e+01,  3.28854276e+02, -1.40040730e+03],\n",
       "       [ 1.00000000e+00, -2.27386372e+00,  5.17045621e+00,\n",
       "        -1.17569128e+01,  2.67336175e+01, -6.07886028e+01],\n",
       "       [ 1.00000000e+00,  1.68964476e+00,  2.85489943e+00,\n",
       "         4.82376587e+00,  8.15045074e+00,  1.37713664e+01]])"
      ]
     },
     "execution_count": 16,
     "metadata": {},
     "output_type": "execute_result"
    }
   ],
   "source": [
    "Phi = np.array([trainX ** p for p in range(6)]).T\n",
    "Phi"
   ]
  },
  {
   "cell_type": "markdown",
   "metadata": {
    "slideshow": {
     "slide_type": "-"
    }
   },
   "source": [
    "Note the list comprehension applying exponentials to *ndarray* objects!\n",
    "\n",
    "This generates rows of data which are powers of the training X inputs.\n",
    "\n",
    "Finally, the `.T` at the end transposes the matrix so that these rows become columns as desired."
   ]
  },
  {
   "cell_type": "markdown",
   "metadata": {
    "slideshow": {
     "slide_type": "subslide"
    }
   },
   "source": [
    "OK, we're ready to perform regression using OLS:\n",
    "\n",
    "Remember, we want to obtain\n",
    "\n",
    "$$ \\mathbf{w} = (\\Phi^T \\Phi)^{-1} \\Phi^T \\mathbf{y} $$"
   ]
  },
  {
   "cell_type": "code",
   "execution_count": 17,
   "metadata": {},
   "outputs": [
    {
     "data": {
      "text/plain": [
       "array([-15.01570966, -36.51354669,   0.20138881, -35.59752469,\n",
       "        -9.37441536,   0.32052473,   1.18973517,  -1.91439062,\n",
       "       -36.19040081,  -1.78898812,   1.60871205,   2.6266078 ,\n",
       "        -1.98723904, -12.7673794 ,   3.20054324,  -2.2446748 ,\n",
       "         0.84445268, -25.00998978,  -2.48277814,   1.87008356])"
      ]
     },
     "execution_count": 17,
     "metadata": {},
     "output_type": "execute_result"
    }
   ],
   "source": [
    "w = np.linalg.inv(Phi.T @ Phi) @ Phi.T @ trainY\n"
   ]
  },
  {
   "cell_type": "markdown",
   "metadata": {},
   "source": [
    "Not bad!  Remember, our true coefficients are 3, 0.5, -1, 0.15 and zeroes for the rest."
   ]
  },
  {
   "cell_type": "markdown",
   "metadata": {
    "slideshow": {
     "slide_type": "slide"
    }
   },
   "source": [
    "## Step 3: Plot Results\n",
    "---\n",
    "Let's use our learned weights to estimate (predict) Y across our range:"
   ]
  },
  {
   "cell_type": "code",
   "execution_count": 12,
   "metadata": {},
   "outputs": [
    {
     "data": {
      "image/png": "[encoded data removed]",
      "text/plain": [
       "<Figure size 432x288 with 1 Axes>"
      ]
     },
     "metadata": {},
     "output_type": "display_data"
    }
   ],
   "source": [
    "Yhat = np.array([X ** p for p in range(6)]).T @ w\n",
    "plt.plot(X, Yhat, 'r-')\n",
    "plt.show()"
   ]
  },
  {
   "cell_type": "markdown",
   "metadata": {
    "slideshow": {
     "slide_type": "subslide"
    }
   },
   "source": [
    "Looks promising!  Let's see it against the sample data and the true function: "
   ]
  },
  {
   "cell_type": "code",
   "execution_count": 13,
   "metadata": {},
   "outputs": [
    {
     "data": {
      "image/png": "[encoded data removed]",
      "text/plain": [
       "<Figure size 432x288 with 1 Axes>"
      ]
     },
     "metadata": {},
     "output_type": "display_data"
    }
   ],
   "source": [
    "plt.plot(X, Yhat, 'r-', X, Y, 'b-', trainX, trainY, 'k.')\n",
    "plt.show()"
   ]
  },
  {
   "cell_type": "markdown",
   "metadata": {
    "slideshow": {
     "slide_type": "slide"
    }
   },
   "source": [
    "## Next Steps\n",
    "---\n",
    "In the next lecture, we'll:\n",
    "- We will continue exploring a few more machine learning concepts using our example\n",
    "- Talk more about NumPy"
   ]
  },
  {
   "cell_type": "code",
   "execution_count": null,
   "metadata": {},
   "outputs": [],
   "source": []
  }
 ],
 "metadata": {
  "anaconda-cloud": {},
  "celltoolbar": "Slideshow",
  "kernelspec": {
   "display_name": "Python 3",
   "language": "python",
   "name": "python3"
  },
  "language_info": {
   "codemirror_mode": {
    "name": "ipython",
    "version": 3
   },
   "file_extension": ".py",
   "mimetype": "text/x-python",
   "name": "python",
   "nbconvert_exporter": "python",
   "pygments_lexer": "ipython3",
   "version": "3.6.5"
  },
  "livereveal": {
   "height": 768,
   "start_slideshow_at": "selected",
   "theme": "mines",
   "transition": "slide",
   "width": 1024
  }
 },
 "nbformat": 4,
 "nbformat_minor": 2
}
