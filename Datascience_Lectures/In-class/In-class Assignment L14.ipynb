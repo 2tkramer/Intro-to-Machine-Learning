{
 "cells": [
  {
   "cell_type": "code",
   "execution_count": null,
   "metadata": {
    "scrolled": false
   },
   "outputs": [],
   "source": [
    "#Taylor Kramer\n",
    "import numpy as np\n",
    "import pandas as pd\n",
    "import matplotlib.pyplot as plt\n",
    "from pandas import Series, DataFrame\n",
    "\n",
    "#1.\n",
    "data = pd.read_table('/u/pa/ru/tkramer/In-class/titanic_data.csv',\n",
    "                     header=None, skiprows=[0], sep = ',', names=['Survived','Pclass','Name','Sex','Age','Siblings/Spouses Aboard','Parents/Children Aboard','Fare'])\n",
    "\n",
    "#2.\n",
    "# print(data.describe(), \"\\n\") \n",
    "# print(data.Survived.value_counts(), \"\\n\")\n",
    "# print(data.Pclass.value_counts(), \"\\n\")\n",
    "# print(data.Sex.value_counts(), \"\\n\")\n",
    "# print(data.Age.value_counts(), \"\\n\")\n",
    "\n",
    "#histograms, scatter plots of various features\n",
    "# data.loc('Sex', 'Survived').plot.hist(ax = axes[0], bins = bins[2])\n",
    "\n",
    "#most correlations can be drawn from:\n",
    "\n",
    "data.plot(kind = \"scatter\", x = \"Age\", y = \"Fare\", c = \"Survived\", colormap = 'winter')\n",
    "plt.show()\n",
    "\n",
    "# data.plot(kind = \"scatter\", x = \"Pclass\", y = \"Fare\", c = \"Survived\", colormap = 'winter')\n",
    "# plt.show()\n",
    "\n",
    "# data.plot(kind = \"scatter\", x = \"Siblings/Spouses Aboard\", y = \"Fare\", c = \"Survived\", colormap = 'winter')\n",
    "# plt.show()\n",
    "\n",
    "# data.plot(kind = \"scatter\", x = \"Parents/Children Aboard\", y = \"Fare\", c = \"Survived\", colormap = 'winter')\n",
    "# plt.show()\n",
    "\n",
    "\n",
    "#3. Names of features which appear to be usable\n",
    "\n",
    "#usbale features are those which have some kind of relationship with those that \"survived\" \n",
    "#and these would include fare, pclass, whether the passenger had Siblings/Spouses Aboard or Parents/Children Aboard, \n",
    "#and age while the correlations between age and fare and survided would exhibit the strongest relationships\n",
    "\n",
    "#4. Name of column that appears to represent our target\n",
    "\n",
    "#whether or not the passenger survived\n",
    "\n",
    "#5. Hypothesis\n",
    "\n",
    "#for fare, age, and survived/not, my hypothesis is that as fare became more expensive, the more likely\n",
    "#it was that a person servived and while the number of years lived got bigger the change of survival got smaller\n",
    "# although, an expensive enough fare might have won an old person a surviving seat."
   ]
  },
  {
   "cell_type": "code",
   "execution_count": null,
   "metadata": {},
   "outputs": [],
   "source": []
  }
 ],
 "metadata": {
  "kernelspec": {
   "display_name": "Python 3",
   "language": "python",
   "name": "python3"
  },
  "language_info": {
   "codemirror_mode": {
    "name": "ipython",
    "version": 3
   },
   "file_extension": ".py",
   "mimetype": "text/x-python",
   "name": "python",
   "nbconvert_exporter": "python",
   "pygments_lexer": "ipython3",
   "version": "3.6.5"
  }
 },
 "nbformat": 4,
 "nbformat_minor": 2
}
