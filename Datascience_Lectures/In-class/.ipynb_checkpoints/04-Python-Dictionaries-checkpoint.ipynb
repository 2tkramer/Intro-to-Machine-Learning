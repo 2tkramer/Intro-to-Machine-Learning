{
 "cells": [
  {
   "cell_type": "markdown",
   "metadata": {
    "slideshow": {
     "slide_type": "slide"
    }
   },
   "source": [
    "#### CSCI 303\n",
    "# Introduction to Data Science\n",
    "<p/>\n",
    "### 4 - Python Dictionaries\n",
    "\n",
    "```    \n",
    "d = {'one' : 1, 'two' : 2, 'three' : 3}\n",
    "print(d)\n",
    "\n",
    "if 'three' in d:\n",
    "    print(d['three'])\n",
    "    \n",
    "for k, v in d.items():\n",
    "    print(k, 'spells', v)\n",
    "```"
   ]
  },
  {
   "cell_type": "markdown",
   "metadata": {
    "slideshow": {
     "slide_type": "slide"
    }
   },
   "source": [
    "## Preview\n",
    "---"
   ]
  },
  {
   "cell_type": "code",
   "execution_count": null,
   "metadata": {
    "scrolled": false,
    "slideshow": {
     "slide_type": "-"
    }
   },
   "outputs": [],
   "source": [
    "d = {'one' : 1, 'two' : 2, 'three' : 3, 'four' : 4}\n",
    "print(d)\n",
    "\n",
    "if 'three' in d: \n",
    "    print(d['three'])\n",
    "    \n",
    "for k, v in d.items():\n",
    "    print(k, 'spells', v)"
   ]
  },
  {
   "cell_type": "markdown",
   "metadata": {
    "slideshow": {
     "slide_type": "slide"
    }
   },
   "source": [
    "## Dictionaries\n",
    "---\n",
    "- Implement the Map abstract data type\n",
    "- Underlying implementation uses hashtables\n",
    "- aka \"associative arrays\":\n",
    "  - Indexed by *keys*, not integers\n",
    "  - Keys must be immutable (strings, numbers, tuples of immutable types)\n"
   ]
  },
  {
   "cell_type": "markdown",
   "metadata": {
    "slideshow": {
     "slide_type": "slide"
    }
   },
   "source": [
    "## Basic Usage\n",
    "---\n",
    "Literals:\n",
    "\n",
    "```mydict = \n",
    "    {<key1> : <value1>, \n",
    "     <key2> : <value2>, \n",
    "     ...}```\n",
    "\n",
    "Access/modify values via `[]`:\n",
    "\n",
    "`v = mydict[somekey]`\n",
    "\n",
    "`mydict[somekey] = newvalue`"
   ]
  },
  {
   "cell_type": "code",
   "execution_count": null,
   "metadata": {
    "slideshow": {
     "slide_type": "subslide"
    }
   },
   "outputs": [],
   "source": [
    "# note Python allows multiple lines for things enclosed in \n",
    "# delimiters like {}, [], ().\n",
    "oddstuff = { 'test'  : 1234,\n",
    "             7.45    : ['a', 'b', 'c'],\n",
    "             (1,2,3) : (4,5,6)}\n",
    "\n",
    "print(oddstuff[7.45])\n",
    "oddstuff[7.45] = 'hello'\n",
    "print(oddstuff[7.45])\n",
    "\n",
    "oddstuff"
   ]
  },
  {
   "cell_type": "markdown",
   "metadata": {
    "slideshow": {
     "slide_type": "subslide"
    }
   },
   "source": [
    "Keys/values don't have to be literals:"
   ]
  },
  {
   "cell_type": "code",
   "execution_count": null,
   "metadata": {},
   "outputs": [],
   "source": [
    "x = 1234\n",
    "y = 'hello'\n",
    "d = {x : y}\n",
    "d"
   ]
  },
  {
   "cell_type": "markdown",
   "metadata": {
    "slideshow": {
     "slide_type": "slide"
    }
   },
   "source": [
    "## Creating Dictionaries\n",
    "---\n",
    "There are many ways to create a pre-populated dictionary:\n",
    "\n",
    "- `{ key1 : value1, key2 : value2, ...}`\n",
    "- `dict(key1 = value1, key2 = value2, ...)`\n",
    "- `dict([(key1, value1), ...])`"
   ]
  },
  {
   "cell_type": "markdown",
   "metadata": {
    "slideshow": {
     "slide_type": "slide"
    }
   },
   "source": [
    "## Adding to Dictionaries\n",
    "---\n",
    "To add a key/value pair, simply assign to the key as if it were already there:\n"
   ]
  },
  {
   "cell_type": "code",
   "execution_count": null,
   "metadata": {},
   "outputs": [],
   "source": [
    "mydict = {}\n",
    "mydict['I am'] = 'Groot'\n",
    "mydict"
   ]
  },
  {
   "cell_type": "markdown",
   "metadata": {
    "slideshow": {
     "slide_type": "subslide"
    }
   },
   "source": [
    "You can obtain an empty dictionary using `{}` or `dict()`, and build up:"
   ]
  },
  {
   "cell_type": "code",
   "execution_count": null,
   "metadata": {},
   "outputs": [],
   "source": [
    "cubes = dict()\n",
    "for x in range(5):\n",
    "    cubes[x] = x ** 3\n",
    "cubes"
   ]
  },
  {
   "cell_type": "markdown",
   "metadata": {
    "slideshow": {
     "slide_type": "slide"
    }
   },
   "source": [
    "## Removing From Dictionaries\n",
    "---\n",
    "Use `del` to remove a key/value pair from a dictionary:"
   ]
  },
  {
   "cell_type": "code",
   "execution_count": null,
   "metadata": {},
   "outputs": [],
   "source": [
    "mydict = {'one' : 1, 'two' : 2, 'three' : 3, 'four' : 4}\n",
    "del mydict['one']\n",
    "del mydict['four']\n",
    "mydict"
   ]
  },
  {
   "cell_type": "markdown",
   "metadata": {
    "slideshow": {
     "slide_type": "slide"
    }
   },
   "source": [
    "## Querying Dictionaries\n",
    "---\n",
    "Use the usual `in` or `not in` operators to test for the presence of keys:\n"
   ]
  },
  {
   "cell_type": "code",
   "execution_count": null,
   "metadata": {},
   "outputs": [],
   "source": [
    "if 'one' in mydict:\n",
    "    print(mydict['one'])\n",
    "else:\n",
    "    print('nope')"
   ]
  },
  {
   "cell_type": "markdown",
   "metadata": {
    "slideshow": {
     "slide_type": "slide"
    }
   },
   "source": [
    "## Loops on Dictionaries\n",
    "---\n",
    "The usual `for` loop iterates on *keys* of a dictionary:"
   ]
  },
  {
   "cell_type": "code",
   "execution_count": null,
   "metadata": {},
   "outputs": [],
   "source": [
    "mydict = {'one': 1, 'two': 2, 'three': 3, 'four': 4}\n",
    "for key in mydict:\n",
    "    print(key, \"->\", mydict[key])"
   ]
  },
  {
   "cell_type": "markdown",
   "metadata": {},
   "source": [
    "Note the lack of ordering of keys..."
   ]
  },
  {
   "cell_type": "markdown",
   "metadata": {
    "slideshow": {
     "slide_type": "subslide"
    }
   },
   "source": [
    "Generally, if you want both keys and their values, it is better to loop on the `items` collection of the dictionary:"
   ]
  },
  {
   "cell_type": "code",
   "execution_count": null,
   "metadata": {},
   "outputs": [],
   "source": [
    "mydict.items()"
   ]
  },
  {
   "cell_type": "code",
   "execution_count": null,
   "metadata": {},
   "outputs": [],
   "source": [
    "for k, v in mydict.items():\n",
    "    print(k, \"->\", v)"
   ]
  },
  {
   "cell_type": "markdown",
   "metadata": {
    "slideshow": {
     "slide_type": "subslide"
    }
   },
   "source": [
    "To iterate over keys *in sorted order by keys*, sort the keys first and then iterate:"
   ]
  },
  {
   "cell_type": "code",
   "execution_count": null,
   "metadata": {},
   "outputs": [],
   "source": [
    "for key in sorted(mydict.keys()):\n",
    "    print(key, \"->\", mydict[key])"
   ]
  },
  {
   "cell_type": "markdown",
   "metadata": {
    "slideshow": {
     "slide_type": "slide"
    }
   },
   "source": [
    "## Dictionary Comprehensions\n",
    "---\n",
    "As with lists and tuples, dictionaries can be created using *comprehensions*.\n",
    "\n",
    "`{ <key> : <value> for <item> in <iterable> }` \n",
    "\n",
    "Compare:\n"
   ]
  },
  {
   "cell_type": "code",
   "execution_count": null,
   "metadata": {},
   "outputs": [],
   "source": [
    "cubes = dict()\n",
    "for x in range(5):\n",
    "    cubes[x] = x ** 3\n",
    "cubes"
   ]
  },
  {
   "cell_type": "code",
   "execution_count": null,
   "metadata": {},
   "outputs": [],
   "source": [
    "cubes = { x : x ** 3 for x in range(5) }\n",
    "cubes"
   ]
  },
  {
   "cell_type": "markdown",
   "metadata": {
    "slideshow": {
     "slide_type": "subslide"
    }
   },
   "source": [
    "For another example, we can easily invert (an invertible) mapping:"
   ]
  },
  {
   "cell_type": "code",
   "execution_count": null,
   "metadata": {},
   "outputs": [],
   "source": [
    "cuberoots = { v : k for k, v in cubes.items() }\n",
    "cuberoots"
   ]
  },
  {
   "cell_type": "markdown",
   "metadata": {
    "slideshow": {
     "slide_type": "slide"
    }
   },
   "source": [
    "## Zip\n",
    "---\n",
    "Sometimes we want to create dictionaries from pairs of sequences.\n",
    "\n",
    "For example, suppose we are reading in a file that contains a sequence of points on one line, followed by some computed values on those points on a second line:\n",
    "\n",
    "`0 1 2 3 4 5 \\n`\n",
    "\n",
    "`17 109 32 4 88 15 \\n`"
   ]
  },
  {
   "cell_type": "markdown",
   "metadata": {
    "slideshow": {
     "slide_type": "subslide"
    }
   },
   "source": [
    "If we read these in one line at a time and split on spaces (we'll see how to do this later), we get two collections:"
   ]
  },
  {
   "cell_type": "code",
   "execution_count": null,
   "metadata": {},
   "outputs": [],
   "source": [
    "x = [0, 1, 2, 3, 4, 5]\n",
    "y = [17, 109, 32, 4, 88, 15]"
   ]
  },
  {
   "cell_type": "markdown",
   "metadata": {},
   "source": [
    "To turn these into a dictionary, we could use several approaches.\n",
    "\n",
    "Here's what you might think of first, coming from another language:"
   ]
  },
  {
   "cell_type": "code",
   "execution_count": null,
   "metadata": {},
   "outputs": [],
   "source": [
    "fn = {}\n",
    "for i in range(len(x)):\n",
    "    fn[x[i]] = y[i]\n",
    "fn"
   ]
  },
  {
   "cell_type": "markdown",
   "metadata": {
    "slideshow": {
     "slide_type": "subslide"
    }
   },
   "source": [
    "We can improve things a bit with the `enumerate` function, which returns pairs of indices and values from a sequence:"
   ]
  },
  {
   "cell_type": "code",
   "execution_count": null,
   "metadata": {},
   "outputs": [],
   "source": [
    "fn = {}\n",
    "for i, xval in enumerate(x):\n",
    "    fn[xval] = y[i]\n",
    "fn"
   ]
  },
  {
   "cell_type": "markdown",
   "metadata": {},
   "source": [
    "or even better, using a comprehension:"
   ]
  },
  {
   "cell_type": "code",
   "execution_count": null,
   "metadata": {},
   "outputs": [],
   "source": [
    "fn = { xval : y[i] for i, xval in enumerate(x) }\n",
    "fn"
   ]
  },
  {
   "cell_type": "markdown",
   "metadata": {
    "slideshow": {
     "slide_type": "subslide"
    }
   },
   "source": [
    "Perhaps the most \"Pythonic\" approach uses `zip`.\n",
    "\n",
    "What `zip` does to pairs of iterable objects:"
   ]
  },
  {
   "cell_type": "code",
   "execution_count": null,
   "metadata": {},
   "outputs": [],
   "source": [
    "print(x)\n",
    "print(y)\n",
    "list(zip(x, y))"
   ]
  },
  {
   "cell_type": "markdown",
   "metadata": {},
   "source": [
    "We can pass this directly to the `dict` constructor:"
   ]
  },
  {
   "cell_type": "code",
   "execution_count": null,
   "metadata": {},
   "outputs": [],
   "source": [
    "fn = dict(zip(x,y))\n",
    "fn"
   ]
  },
  {
   "cell_type": "markdown",
   "metadata": {
    "slideshow": {
     "slide_type": "slide"
    }
   },
   "source": [
    "## L04: Practice\n",
    "---\n",
    "1. Create a new Python 3 Notebook\n",
    "2. Add a comment at the top of the cell with your name and the date\n",
    "3. Solve this problem: Given a list of words, create a dictionary mapping lengths of words to alphabetically sorted lists of words of that length.\n",
    "\n",
    "4. Download the Notebook (.ipynb) file and submit to Canvas.\n",
    "\n",
    "E.g., if the word list is `['one', 'two', 'three', 'six']`, then the new dictionary should be\n",
    "`{ 3: ['one', 'six', 'two'], 5: ['three'] }`"
   ]
  },
  {
   "cell_type": "code",
   "execution_count": null,
   "metadata": {},
   "outputs": [],
   "source": [
    "#Name: \n",
    "#Date:\n",
    "#In Class Python Practice: L04\n",
    "\n",
    "words = ['apple', 'plum', 'pear', 'peach', 'orange', 'cherry', 'quince']\n",
    "\n",
    "d = {}\n",
    "\n",
    "# YOUR CODE HERE\n",
    "\n"
   ]
  },
  {
   "cell_type": "code",
   "execution_count": null,
   "metadata": {},
   "outputs": [],
   "source": []
  }
 ],
 "metadata": {
  "celltoolbar": "Slideshow",
  "kernelspec": {
   "display_name": "Python 3",
   "language": "python",
   "name": "python3"
  },
  "language_info": {
   "codemirror_mode": {
    "name": "ipython",
    "version": 3
   },
   "file_extension": ".py",
   "mimetype": "text/x-python",
   "name": "python",
   "nbconvert_exporter": "python",
   "pygments_lexer": "ipython3",
   "version": "3.6.5"
  },
  "livereveal": {
   "height": 768,
   "start_slideshow_at": "selected",
   "theme": "mines",
   "transition": "slide",
   "width": 1024
  }
 },
 "nbformat": 4,
 "nbformat_minor": 2
}
