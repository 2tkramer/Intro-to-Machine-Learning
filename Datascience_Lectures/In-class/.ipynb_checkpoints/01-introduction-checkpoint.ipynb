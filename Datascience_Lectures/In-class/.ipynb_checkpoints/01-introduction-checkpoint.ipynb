{
 "cells": [
  {
   "cell_type": "code",
   "execution_count": 1,
   "metadata": {
    "slideshow": {
     "slide_type": "notes"
    }
   },
   "outputs": [
    {
     "data": {
      "image/png": "[encoded data removed]",
      "text/plain": [
       "<Figure size 432x288 with 1 Axes>"
      ]
     },
     "metadata": {},
     "output_type": "display_data"
    }
   ],
   "source": [
    "%matplotlib inline\n",
    "import numpy as np\n",
    "import matplotlib.pyplot as plt\n",
    "from numpy.linalg import inv\n",
    "\n",
    "def degree_n_fit(n, x, y, xtrue, ytrue):\n",
    "    A = np.array([x ** i for i in range(n+1)]).T\n",
    "    coeff = np.linalg.inv(A.T @ A) @ A.T @ y\n",
    "    yhat = np.array([xtrue ** i for i in range(n+1)]).T @ coeff\n",
    "    plt.plot(x, y, 'b.', xtrue, yhat, 'r-', xtrue, ytrue, 'g:')\n",
    "    \n",
    "x = np.random.random(15) * 10 - 5\n",
    "y = -x*x + np.random.randn(len(x))\n",
    "xtest = np.arange(-5.0, 5.0, 0.1)\n",
    "ytest = -xtest * xtest\n",
    "\n",
    "degree_n_fit(5, x, y, xtest, ytest)\n",
    "plt.savefig('fit.png')"
   ]
  },
  {
   "cell_type": "markdown",
   "metadata": {
    "slideshow": {
     "slide_type": "slide"
    }
   },
   "source": [
    "# CSCI 303\n",
    "# Introduction to Data Science\n",
    "<p/>\n",
    "### 1 - Welcome and Introduction\n",
    "\n",
    "![a fitted curve](fit.png) "
   ]
  },
  {
   "cell_type": "markdown",
   "metadata": {
    "slideshow": {
     "slide_type": "slide"
    }
   },
   "source": [
    "## What is Data Science?\n",
    "---\n",
    "\n",
    "An NSF workshop on Data Science Education in 2016 concluded:\n",
    "\n",
    "> \"The integration of general scientific principles, computer science, information science, mathematics, statistics, and subject matter expertise creates an intersection that has as many definitions as there are academics attempting to define it.\"\n",
    "\n"
   ]
  },
  {
   "cell_type": "markdown",
   "metadata": {
    "slideshow": {
     "slide_type": "slide"
    }
   },
   "source": [
    "## What is Data Science?\n",
    "---\n",
    "\n",
    "Working definition:\n",
    "\n",
    "Data Science is an emerging discipline at the intersection of computer science and statistics which deals with the extraction of knowledge from data.\n"
   ]
  },
  {
   "cell_type": "markdown",
   "metadata": {
    "slideshow": {
     "slide_type": "slide"
    }
   },
   "source": [
    "## What is Data Science?\n",
    "---\n",
    "[Data Science Venn Diagram by Drew Conway](https://s3.amazonaws.com/aws.drewconway.com/viz/venn_diagram/data_science.html)\n",
    "\n",
    "![Venn Diagram](https://static1.squarespace.com/static/5150aec6e4b0e340ec52710a/t/51525c33e4b0b3e0d10f77ab/1364352052403/Data_Science_VD.png?format=750w)\n",
    "\n"
   ]
  },
  {
   "cell_type": "markdown",
   "metadata": {
    "slideshow": {
     "slide_type": "slide"
    }
   },
   "source": [
    "## Why Data Science?\n",
    "---\n",
    "- Need:\n",
    "  - Massive amounts of data becoming available\n",
    "    - Marketing data (e.g. \"clicks\")\n",
    "    - Scientific data\n",
    "    - Socio-economic data\n",
    "  - Business/science/government needs to stay current\n",
    "- Timing:\n",
    "  - Open source software largely supplanting proprietary\n",
    "  - \"Cloud\" computing enabling very large data analytics\n",
    "- The sexiest job of the 21st century? ([Harvard Business Review article](https://hbr.org/2012/10/data-scientist-the-sexiest-job-of-the-21st-century))"
   ]
  },
  {
   "cell_type": "markdown",
   "metadata": {
    "slideshow": {
     "slide_type": "slide"
    }
   },
   "source": [
    "## Some Data Science History\n",
    "---\n",
    "- Business intelligence/analytics (1960s+)\n",
    "- \"The Fourth Paradigm\" (Jim Gray, 2007)\n",
    "- Nate Silver \n",
    "  - [FiveThirtyEight](http://fivethirtyeight.com), 2008, 2012 election predictions\n",
    "  - [*The Signal and the Noise*](https://www.amazon.com/Signal-Noise-Many-Predictions-Fail-but/dp/0143125087)\n"
   ]
  },
  {
   "cell_type": "markdown",
   "metadata": {
    "slideshow": {
     "slide_type": "slide"
    }
   },
   "source": [
    "## Some Aspects of Data Science\n",
    "---\n",
    "\n",
    "- Programming/data processing\n",
    "- Database/big data/data mining\n",
    "- Statistics\n",
    "- Machine learning\n",
    "- Data \"wrangling\" (aka \"munging\")\n",
    "- Ethics\n",
    "- Domain-specific analytics"
   ]
  },
  {
   "cell_type": "markdown",
   "metadata": {
    "slideshow": {
     "slide_type": "slide"
    }
   },
   "source": [
    "## This Course\n",
    "---\n",
    "- Python\n",
    "  - basics\n",
    "  - toolkits\n",
    "- Database\n",
    "- Machine learning\n",
    "  - basics\n",
    "  - supervised learning\n",
    "  - unsupervised learning\n",
    "  - intro to neural networks\n",
    "- Ethics and miscellaneous topics"
   ]
  },
  {
   "cell_type": "markdown",
   "metadata": {
    "slideshow": {
     "slide_type": "slide"
    }
   },
   "source": [
    "## Python for Data Science\n",
    "---\n",
    "\n",
    "- Python and R roughly equally represented (for now)\n",
    "- Python pros:\n",
    "  - Sophisticated, modern PL\n",
    "  - Powerful, consistent libraries\n",
    "  - Easy interfacing (e.g. with other PL's)\n",
    "  - Ecosystem\n",
    "- Python cons:\n",
    "  - Poor parallel execution support"
   ]
  },
  {
   "cell_type": "markdown",
   "metadata": {
    "slideshow": {
     "slide_type": "slide"
    }
   },
   "source": [
    "## Python Toolkits\n",
    "---\n",
    "- numpy - numerical computing\n",
    "- pandas - data wrangling\n",
    "- scikit-learn - machine learning\n",
    "- matplotlib - visualization"
   ]
  },
  {
   "cell_type": "markdown",
   "metadata": {
    "slideshow": {
     "slide_type": "slide"
    }
   },
   "source": [
    "## Database\n",
    "---\n",
    "- SQL for querying (focus on SELECT)\n",
    "- Access via Python"
   ]
  },
  {
   "cell_type": "markdown",
   "metadata": {
    "slideshow": {
     "slide_type": "slide"
    }
   },
   "source": [
    "## Machine Learning\n",
    "---\n",
    "- Fundamentals\n",
    "- Programming\n",
    "  - Some simple techniques from scratch (to help you understand what the tools are doing for you)\n",
    "  - numpy, pandas, and scikit-learn toolkits\n",
    "- Algorithms\n",
    "  - Supervised, unsupervised learning\n",
    "  - Feature selection/engineering\n",
    "  - Dimensionality Reduction\n",
    "  - More as time permits"
   ]
  },
  {
   "cell_type": "markdown",
   "metadata": {
    "slideshow": {
     "slide_type": "slide"
    }
   },
   "source": [
    "## Ethics\n",
    "---\n",
    "- Bias in machine learning\n",
    "- Data safety"
   ]
  },
  {
   "cell_type": "markdown",
   "metadata": {
    "slideshow": {
     "slide_type": "slide"
    }
   },
   "source": [
    "## Class Mechanics\n",
    "---\n",
    "- Jupyter notebooks\n",
    "  - For lectures, projects\n",
    "      - Online\n",
    "          - https://jupyterhub.mines.edu/\n",
    "          - Uses self-signed certificate for now - ignore warnings (proceed)\n",
    "          - Login via usual Mines credentials\n",
    "      - Local JNB\n",
    "          - sudo pip3 install jupyter\n",
    "          - sudo pip3 install matplotlib pandas scipy scikit-learn numpy\n",
    "          - go into directory with JNB files and run: sudo jupyter notebook xx.ipynb\n",
    "- Canvas\n",
    "  - For syllabus, schedule, grading"
   ]
  },
  {
   "cell_type": "markdown",
   "metadata": {
    "slideshow": {
     "slide_type": "slide"
    }
   },
   "source": [
    "## Resources\n",
    "---\n",
    "[*Python Data Science Handbook*, VanderPlas](http://shop.oreilly.com/product/0636920034919.do) *** This is our BOOK!!\n",
    "\n",
    "[*Python for Data Analysis, 2nd ed.*, McKinney](http://shop.oreilly.com/product/0636920050896.do)\n",
    "\n",
    "[*Introduction to Machine Learning with Python*, Müller & Guido](http://shop.oreilly.com/product/0636920030515.do)\n",
    "\n",
    "[*An Introduction to Statistical Learning*, James et al.](http://www.springer.com/us/book/9781461471370)\n",
    "\n",
    "[*Learning Python*, Lutz](http://shop.oreilly.com/product/0636920028154.do)\n",
    "\n",
    "Docs for Python, Python tools, Jupyter, etc.: See 'Help' in Notebook menu at top.\n"
   ]
  },
  {
   "cell_type": "markdown",
   "metadata": {
    "slideshow": {
     "slide_type": "slide"
    }
   },
   "source": [
    "## Further Reading\n",
    "---\n",
    "These books are *not* part of the course, but are general audience books related to data science.\n",
    "\n",
    "[*The Signal and the Noise: Why So Many Predictions Fail--but Some Don't*, Nate Silver](https://www.amazon.com/Signal-Noise-Many-Predictions-Fail-but/dp/0143125087)\n",
    "\n",
    "[*The Fourth Paradigm: Data-Intensive Scientific Discovery*, Microsoft Research (various authors)](https://www.amazon.com/Fourth-Paradigm-Data-Intensive-Scientific-Discovery/dp/0982544200) - Note: \\$0.99 on Kindle!\n",
    "\n",
    "[*Weapons of Math Destruction: How Big Data Increases Inequality and Threatens Democracy*, Cathy O'Neil](https://www.amazon.com/Weapons-Math-Destruction-Increases-Inequality/dp/0553418815)\n"
   ]
  }
 ],
 "metadata": {
  "anaconda-cloud": {},
  "celltoolbar": "Slideshow",
  "kernelspec": {
   "display_name": "Python 3",
   "language": "python",
   "name": "python3"
  },
  "language_info": {
   "codemirror_mode": {
    "name": "ipython",
    "version": 3
   },
   "file_extension": ".py",
   "mimetype": "text/x-python",
   "name": "python",
   "nbconvert_exporter": "python",
   "pygments_lexer": "ipython3",
   "version": "3.6.5"
  },
  "livereveal": {
   "height": 768,
   "start_slideshow_at": "selected",
   "theme": "mines",
   "transition": "slide",
   "width": 1024
  }
 },
 "nbformat": 4,
 "nbformat_minor": 2
}
