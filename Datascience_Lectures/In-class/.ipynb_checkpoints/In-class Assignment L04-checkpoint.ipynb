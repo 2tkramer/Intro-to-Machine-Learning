{
 "cells": [
  {
   "cell_type": "code",
   "execution_count": null,
   "metadata": {},
   "outputs": [],
   "source": [
    "#Author: Taylor Kramer\n",
    "#Date: 1/16/2020\n",
    "#Assignment: L04\n",
    "\n",
    "list = ['one', 'two', 'three', 'six']\n",
    "mydict = {}\n",
    "\n",
    "# assign each word a length and place in dictionary\n",
    "k = 0\n",
    "for i in list:\n",
    "    k = len(i)\n",
    "    if k in mydict: mydict[k].append(i)\n",
    "    else: mydict[k] = [i]\n",
    "        \n",
    "\n",
    "# sort those with the same length in the same tuple\n",
    "for j in mydict:\n",
    "    mydict[j].sort()\n",
    "mydict\n"
   ]
  },
  {
   "cell_type": "code",
   "execution_count": null,
   "metadata": {},
   "outputs": [],
   "source": []
  }
 ],
 "metadata": {
  "kernelspec": {
   "display_name": "Python 3",
   "language": "python",
   "name": "python3"
  },
  "language_info": {
   "codemirror_mode": {
    "name": "ipython",
    "version": 3
   },
   "file_extension": ".py",
   "mimetype": "text/x-python",
   "name": "python",
   "nbconvert_exporter": "python",
   "pygments_lexer": "ipython3",
   "version": "3.6.5"
  }
 },
 "nbformat": 4,
 "nbformat_minor": 2
}
