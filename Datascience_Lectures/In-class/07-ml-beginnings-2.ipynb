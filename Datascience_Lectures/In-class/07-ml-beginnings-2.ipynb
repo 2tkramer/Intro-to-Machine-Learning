{
 "cells": [
  {
   "cell_type": "markdown",
   "metadata": {
    "collapsed": true,
    "slideshow": {
     "slide_type": "slide"
    }
   },
   "source": [
    "##### CSCI 303\n",
    "# Introduction to Data Science\n",
    "<p/>\n",
    "### 7 - Machine Learning Beginnings (2)\n",
    "\n",
    "![Bias-variance tradeoff](bias-variance.png) "
   ]
  },
  {
   "cell_type": "markdown",
   "metadata": {
    "slideshow": {
     "slide_type": "slide"
    }
   },
   "source": [
    "## This Lecture\n",
    "---\n",
    "- Some more basic supervised learning concepts\n",
    "- Some more Python"
   ]
  },
  {
   "cell_type": "markdown",
   "metadata": {
    "slideshow": {
     "slide_type": "slide"
    }
   },
   "source": [
    "## From Last Time\n",
    "---\n",
    "Recall from last time, we generated noisy data samples from this function:\n",
    "\n",
    "$$ f(x) = 3 + 0.5 n - n^2 + 0.15 n^3 $$\n"
   ]
  },
  {
   "cell_type": "markdown",
   "metadata": {
    "slideshow": {
     "slide_type": "subslide"
    }
   },
   "source": [
    "Before we go any further, let's introduce Python *functions* to make our life a bit easier.\n",
    "\n",
    "Here's $f(x)$ as a Python function:"
   ]
  },
  {
   "cell_type": "code",
   "execution_count": 1,
   "metadata": {},
   "outputs": [],
   "source": [
    "def f(x):\n",
    "    return 3 + 0.5 * x - x**2 + 0.15 * x**3"
   ]
  },
  {
   "cell_type": "markdown",
   "metadata": {},
   "source": [
    "Python functions have very flexible parameter lists and are first class objects, making them very powerful and useful.  We'll explore these concepts as they become relevant."
   ]
  },
  {
   "cell_type": "markdown",
   "metadata": {
    "slideshow": {
     "slide_type": "subslide"
    }
   },
   "source": [
    "Now we can compute $f(x)$ and plot it using:"
   ]
  },
  {
   "cell_type": "code",
   "execution_count": 2,
   "metadata": {
    "slideshow": {
     "slide_type": "-"
    }
   },
   "outputs": [
    {
     "data": {
      "text/plain": [
       "<Figure size 640x480 with 1 Axes>"
      ]
     },
     "metadata": {},
     "output_type": "display_data"
    }
   ],
   "source": [
    "import numpy as np\n",
    "import matplotlib.pyplot as plt  \n",
    "\n",
    "X = np.arange(-5, 5, 0.1)\n",
    "Y = f(X)\n",
    "\n",
    "plt.plot(X, Y)\n",
    "plt.show()"
   ]
  },
  {
   "cell_type": "markdown",
   "metadata": {
    "slideshow": {
     "slide_type": "subslide"
    }
   },
   "source": [
    "We also want $n$ sample points:"
   ]
  },
  {
   "cell_type": "code",
   "execution_count": 3,
   "metadata": {},
   "outputs": [
    {
     "data": {
      "image/png": "[encoded data removed]",
      "text/plain": [
       "<Figure size 432x288 with 1 Axes>"
      ]
     },
     "metadata": {},
     "output_type": "display_data"
    }
   ],
   "source": [
    "n = 20\n",
    "\n",
    "np.random.seed(12345)  # just for repeatability of this lecture\n",
    "\n",
    "def sample(n, fn, limits, noise=1):\n",
    "    width = limits[1] - limits[0]\n",
    "    x = np.random.random(n) * width + limits[0]\n",
    "    y = fn(x) + np.random.randn(n) * noise\n",
    "    return x, y\n",
    "\n",
    "# note we can pass in f as an object, and use it in sample!\n",
    "trainX, trainY = sample(n, f, [-5, 5], 3)\n",
    "\n",
    "plt.plot(X, Y, 'b-', trainX, trainY, 'k.')\n",
    "plt.show()"
   ]
  },
  {
   "cell_type": "markdown",
   "metadata": {
    "slideshow": {
     "slide_type": "subslide"
    }
   },
   "source": [
    "Our approximation model using linear regression looks like:\n",
    "$$\\begin{align}\n",
    "    \\hat f(\\mathbf{x}) & = 1 w_0 + x_1 w_1 + ... + x_k w_k \\\\\n",
    "                   & = \\phi \\cdot \\mathbf{w}\n",
    "  \\end{align}$$\n",
    "  \n",
    "where $\\phi$ is a vector of *features* of the input X."
   ]
  },
  {
   "cell_type": "markdown",
   "metadata": {
    "slideshow": {
     "slide_type": "subslide"
    }
   },
   "source": [
    "Our input is simple: just an x coordinate.\n",
    "\n",
    "So we generated some richer features using powers of X.\n",
    "\n",
    "For flexibility, let's implement $\\phi$ as a function of X, with a parameter that lets us tune the model complexity:"
   ]
  },
  {
   "cell_type": "code",
   "execution_count": 19,
   "metadata": {
    "slideshow": {
     "slide_type": "-"
    }
   },
   "outputs": [
    {
     "data": {
      "text/plain": [
       "array([[ 1.00000000e+00,  4.29616093e+00,  1.84569987e+01,\n",
       "         7.92942368e+01,  3.40660802e+02,  1.46353363e+03],\n",
       "       [ 1.00000000e+00, -1.83624445e+00,  3.37179370e+00,\n",
       "        -6.19143747e+00,  1.13689927e+01, -2.08762498e+01],\n",
       "       [ 1.00000000e+00, -3.16081188e+00,  9.99073176e+00,\n",
       "        -3.15788237e+01,  9.98147211e+01, -3.15495557e+02],\n",
       "       [ 1.00000000e+00, -2.95439721e+00,  8.72846290e+00,\n",
       "        -2.57873465e+01,  7.61860646e+01, -2.25083897e+02],\n",
       "       [ 1.00000000e+00,  6.77250291e-01,  4.58667956e-01,\n",
       "         3.10633007e-01,  2.10376294e-01,  1.42477406e-01],\n",
       "       [ 1.00000000e+00,  9.55447030e-01,  9.12879027e-01,\n",
       "         8.72207555e-01,  8.33348117e-01,  7.96219984e-01],\n",
       "       [ 1.00000000e+00,  4.64514520e+00,  2.15773739e+01,\n",
       "         1.00230035e+02,  4.65583065e+02,  2.16270094e+03],\n",
       "       [ 1.00000000e+00,  1.53177097e+00,  2.34632230e+00,\n",
       "         3.59402838e+00,  5.50522834e+00,  8.43274894e+00],\n",
       "       [ 1.00000000e+00,  2.48906638e+00,  6.19545142e+00,\n",
       "         1.54208898e+01,  3.83836183e+01,  9.55393737e+01],\n",
       "       [ 1.00000000e+00,  1.53569871e+00,  2.35837052e+00,\n",
       "         3.62174657e+00,  5.56191153e+00,  8.54142035e+00],\n",
       "       [ 1.00000000e+00,  2.47714809e+00,  6.13626267e+00,\n",
       "         1.52004314e+01,  3.76537196e+01,  9.32738397e+01],\n",
       "       [ 1.00000000e+00,  4.61306736e+00,  2.12803905e+01,\n",
       "         9.81678747e+01,  4.52855019e+02,  2.08905071e+03],\n",
       "       [ 1.00000000e+00, -4.91611702e+00,  2.41682066e+01,\n",
       "        -1.18813732e+02,  5.84102208e+02, -2.87151481e+03],\n",
       "       [ 1.00000000e+00, -3.93555623e+00,  1.54886029e+01,\n",
       "        -6.09562675e+01,  2.39896819e+02, -9.44127420e+02],\n",
       "       [ 1.00000000e+00, -2.01296286e+00,  4.05201949e+00,\n",
       "        -8.15656474e+00,  1.64188619e+01, -3.30505593e+01],\n",
       "       [ 1.00000000e+00,  1.56411183e+00,  2.44644582e+00,\n",
       "         3.82651485e+00,  5.98509715e+00,  9.36136126e+00],\n",
       "       [ 1.00000000e+00,  3.09812553e+00,  9.59838177e+00,\n",
       "         2.97369916e+01,  9.21289326e+01,  2.85426998e+02],\n",
       "       [ 1.00000000e+00,  3.72175914e+00,  1.38514911e+01,\n",
       "         5.15519135e+01,  1.91863805e+02,  7.14070869e+02],\n",
       "       [ 1.00000000e+00,  4.64647597e+00,  2.15897390e+01,\n",
       "         1.00316203e+02,  4.66116829e+02,  2.16580065e+03],\n",
       "       [ 1.00000000e+00,  2.23685347e+00,  5.00351344e+00,\n",
       "         1.11921264e+01,  2.50351468e+01,  5.59999549e+01]])"
      ]
     },
     "execution_count": 19,
     "metadata": {},
     "output_type": "execute_result"
    }
   ],
   "source": [
    "def phi(x, k):\n",
    "    return np.array([x ** p for p in range(k+1)]).T\n",
    "\n",
    "Phi = phi(trainX, 5)\n",
    "Phi\n",
    "# trainX.shape\n",
    "# Phi\n",
    "# trainX"
   ]
  },
  {
   "cell_type": "markdown",
   "metadata": {
    "slideshow": {
     "slide_type": "subslide"
    }
   },
   "source": [
    "And then we learned a function approximation using using OLS regression:\n",
    "\n",
    "$$ \\mathbf{w} = (\\Phi^T \\Phi)^{-1} \\Phi^T \\mathbf{y} $$"
   ]
  },
  {
   "cell_type": "code",
   "execution_count": 5,
   "metadata": {},
   "outputs": [],
   "source": [
    "def lsq(A, b):\n",
    "    return np.linalg.inv(A.T @ A) @ A.T @ b\n",
    "\n",
    "w = lsq(Phi, trainY)"
   ]
  },
  {
   "cell_type": "markdown",
   "metadata": {
    "slideshow": {
     "slide_type": "subslide"
    }
   },
   "source": [
    "Plotting our learned function in the range [-5, 5]:"
   ]
  },
  {
   "cell_type": "code",
   "execution_count": 6,
   "metadata": {},
   "outputs": [
    {
     "data": {
      "image/png": "[encoded data removed]",
      "text/plain": [
       "<Figure size 432x288 with 1 Axes>"
      ]
     },
     "metadata": {},
     "output_type": "display_data"
    }
   ],
   "source": [
    "Yhat = phi(X, 5) @ w\n",
    "plt.plot(X, Y, 'b-', trainX, trainY, 'k.', X, Yhat, 'r-')\n",
    "plt.show()"
   ]
  },
  {
   "cell_type": "markdown",
   "metadata": {
    "slideshow": {
     "slide_type": "slide"
    }
   },
   "source": [
    "## Error Measures\n",
    "---\n",
    "The above picture is nice, but what does it actually tell us about the quality of our approximation?\n",
    "\n",
    "How can we tell if a different model actually is a better \"fit\"?\n",
    "\n",
    "We need a *measure* of the quality of the fit to usefully compare different models."
   ]
  },
  {
   "cell_type": "markdown",
   "metadata": {
    "slideshow": {
     "slide_type": "slide"
    }
   },
   "source": [
    "## MSE and RMSE\n",
    "---\n",
    "Mean Squared Error (MSE) is the variance of our data with respect to our approximation:\n",
    "\n",
    "$$ MSE = \\frac{1}{n} \\sum_{i = 1}^n (y_i - \\hat f(x_i))^2 $$\n",
    "\n",
    "RMSE is just the square root of the MSE (cf. standard deviation)"
   ]
  },
  {
   "cell_type": "markdown",
   "metadata": {
    "slideshow": {
     "slide_type": "subslide"
    }
   },
   "source": [
    "Doing the math, we can see that MSE and RMSE for our fit are:"
   ]
  },
  {
   "cell_type": "code",
   "execution_count": 7,
   "metadata": {},
   "outputs": [
    {
     "name": "stdout",
     "output_type": "stream",
     "text": [
      "MSE:   13.929701261940613\n",
      "RMSE:  3.732251500360153\n"
     ]
    }
   ],
   "source": [
    "import math\n",
    "\n",
    "diff = trainY - (Phi @ w)\n",
    "\n",
    "MSE = (diff ** 2).sum() / n\n",
    "RMSE = math.sqrt(MSE)\n",
    "\n",
    "print(\"MSE:  \", MSE)\n",
    "print(\"RMSE: \", RMSE)"
   ]
  },
  {
   "cell_type": "markdown",
   "metadata": {
    "slideshow": {
     "slide_type": "slide"
    }
   },
   "source": [
    "## Interpreting (R)MSE\n",
    "---\n",
    "What is our error measure telling us?\n",
    "\n",
    "- Roughly, the error we expect to have on any training point\n",
    "\n",
    "Is this useful?  Why or why not?"
   ]
  },
  {
   "cell_type": "markdown",
   "metadata": {
    "slideshow": {
     "slide_type": "slide"
    }
   },
   "source": [
    "## Model Comparison\n",
    "---\n",
    "Can we reduce RMSE with more features?\n",
    "\n",
    "Yes:"
   ]
  },
  {
   "cell_type": "code",
   "execution_count": 8,
   "metadata": {},
   "outputs": [
    {
     "name": "stdout",
     "output_type": "stream",
     "text": [
      "RMSE (order 5):  3.732251500360153\n",
      "RMSE (order 10): 3.100020280370342\n"
     ]
    }
   ],
   "source": [
    "# train a model with powers of x up to x**10\n",
    "Phi10 = phi(trainX, 10)\n",
    "w10 = lsq(Phi10, trainY)\n",
    "\n",
    "# make RMSE calc into a function for easier use\n",
    "def rmse(y, yhat):\n",
    "    return math.sqrt(((yhat - y) ** 2).sum() / len(y))\n",
    "\n",
    "# measure RMSE\n",
    "RMSE10 = rmse(trainY, Phi10 @ w10)\n",
    "\n",
    "print(\"RMSE (order 5): \", RMSE)\n",
    "print(\"RMSE (order 10):\", RMSE10)"
   ]
  },
  {
   "cell_type": "markdown",
   "metadata": {
    "slideshow": {
     "slide_type": "subslide"
    }
   },
   "source": [
    "Let's visualize this clearly improved approximation:"
   ]
  },
  {
   "cell_type": "code",
   "execution_count": 9,
   "metadata": {},
   "outputs": [
    {
     "data": {
      "image/png": "[encoded data removed]",
      "text/plain": [
       "<Figure size 432x288 with 1 Axes>"
      ]
     },
     "metadata": {},
     "output_type": "display_data"
    }
   ],
   "source": [
    "Yhat10 = phi(X, 10) @ w10\n",
    "plt.plot(X, Y, 'b-', trainX, trainY, 'k.', X, Yhat10, 'r-')\n",
    "plt.show()"
   ]
  },
  {
   "cell_type": "markdown",
   "metadata": {},
   "source": [
    "Hm."
   ]
  },
  {
   "cell_type": "markdown",
   "metadata": {
    "slideshow": {
     "slide_type": "slide"
    }
   },
   "source": [
    "## Training vs Testing\n",
    "---\n",
    "Above we computed the *training* error:\n",
    "\n",
    "- Tells us about our approximation power\n",
    "- Doesn't really tell us about prediction quality!\n",
    "\n",
    "We need a way to test performance on previously unseen data!\n",
    "\n",
    "- Typically hold out some data points as a *test set*\n",
    "- Measure RMSE on test set to compare models"
   ]
  },
  {
   "cell_type": "code",
   "execution_count": 10,
   "metadata": {
    "slideshow": {
     "slide_type": "subslide"
    }
   },
   "outputs": [
    {
     "name": "stdout",
     "output_type": "stream",
     "text": [
      "test RMSE (order 5):  3.260989631346084\n",
      "test RMSE (order 10): 4.8727899237914505\n"
     ]
    }
   ],
   "source": [
    "# draw test samples from same function/noise \n",
    "# distribution as training data\n",
    "testX, testY = sample(20, f, [-5, 5], 3)\n",
    "\n",
    "# compute RMSEs on test data\n",
    "testPhi = phi(testX, 5)\n",
    "testPhi10 = phi(testX, 10)\n",
    "\n",
    "testRMSE = rmse(testY, testPhi @ w)\n",
    "testRMSE10 = rmse(testY, testPhi10 @ w10)\n",
    "\n",
    "print(\"test RMSE (order 5): \", testRMSE)\n",
    "print(\"test RMSE (order 10):\", testRMSE10)"
   ]
  },
  {
   "cell_type": "markdown",
   "metadata": {
    "slideshow": {
     "slide_type": "slide"
    }
   },
   "source": [
    "## Overfitting (and Underfitting)\n",
    "---\n",
    "The above example demonstrates a classic supervised learning problem known as *overfitting*.\n",
    "\n",
    "Overfitting is also known as \"fitting the noise\".\n",
    "\n",
    "Essentially, we can push down training error indefinitely simply by cranking up model complexity.\n",
    "\n",
    "However, *test* error starts increasing at some point.  We can plot this trend:"
   ]
  },
  {
   "cell_type": "code",
   "execution_count": 11,
   "metadata": {
    "slideshow": {
     "slide_type": "subslide"
    }
   },
   "outputs": [],
   "source": [
    "trainRMSE = []\n",
    "testRMSE = []\n",
    "orders = range(1, 13)\n",
    "\n",
    "for p in orders:\n",
    "    w = lsq(phi(trainX, p), trainY)\n",
    "    trainRMSE.append(rmse(trainY, phi(trainX, p) @ w))\n",
    "    testRMSE.append(rmse(testY, phi(testX, p) @ w))\n"
   ]
  },
  {
   "cell_type": "code",
   "execution_count": 12,
   "metadata": {
    "slideshow": {
     "slide_type": "subslide"
    }
   },
   "outputs": [
    {
     "data": {
      "image/png": "[encoded data removed]",
      "text/plain": [
       "<Figure size 432x288 with 1 Axes>"
      ]
     },
     "metadata": {},
     "output_type": "display_data"
    }
   ],
   "source": [
    "plt.plot(orders, trainRMSE, 'r-o', orders, testRMSE, 'b-s')\n",
    "plt.xlabel('order')\n",
    "plt.ylabel('RMSE')\n",
    "plt.legend(['Training', 'Test'], loc=\"upper center\")\n",
    "plt.show()"
   ]
  },
  {
   "cell_type": "markdown",
   "metadata": {
    "slideshow": {
     "slide_type": "subslide"
    }
   },
   "source": [
    "The U-shaped blue curve is a pretty classic illustration of overfitting.\n",
    "\n",
    "This is sometimes called a \"bathtub\" plot due to the shape."
   ]
  },
  {
   "cell_type": "markdown",
   "metadata": {
    "slideshow": {
     "slide_type": "subslide"
    }
   },
   "source": [
    "We can also visualize each of the fits, if desired:"
   ]
  },
  {
   "cell_type": "code",
   "execution_count": 13,
   "metadata": {},
   "outputs": [
    {
     "data": {
      "image/png": "[encoded data removed]",
      "text/plain": [
       "<Figure size 432x288 with 12 Axes>"
      ]
     },
     "metadata": {},
     "output_type": "display_data"
    }
   ],
   "source": [
    "for p in orders:\n",
    "    w = lsq(phi(trainX, p), trainY)\n",
    "    Yhat = phi(X, p) @ w\n",
    "    plt.subplot(3, 4, p)\n",
    "    plt.plot(X, Y, 'b:', X, Yhat, 'r-')\n",
    "    plt.xticks([]); plt.yticks([])\n",
    "    plt.title('order ' + str(p))\n",
    "plt.show()"
   ]
  },
  {
   "cell_type": "markdown",
   "metadata": {},
   "source": [
    "Later we'll explore techniques for finding the \"best fit\" model."
   ]
  },
  {
   "cell_type": "markdown",
   "metadata": {
    "slideshow": {
     "slide_type": "slide"
    }
   },
   "source": [
    "## Bias and Variance\n",
    "---\n",
    "Mathematically, the *expected MSE* for a test input $x$ can be decomposed into three sources of error:\n",
    "\n",
    "- The **variance** of $\\hat f(x)$\n",
    "- The **squared bias** of $\\hat f(x)$\n",
    "- The variance of the noise $\\epsilon$\n",
    "\n",
    "The expectation here is taken over training sets.\n",
    "\n",
    "Note that $var(\\epsilon)$ is irreducible; thus it is a lower bound on MSE."
   ]
  },
  {
   "cell_type": "markdown",
   "metadata": {
    "slideshow": {
     "slide_type": "slide"
    }
   },
   "source": [
    "## Bias-Variance Tradeoff\n",
    "---\n",
    "To minimize MSE, then, we want to simultaneously minimize bias and variance.\n",
    "\n",
    "What are these terms?\n",
    "\n",
    "First, **variance** of $\\hat f(x)$ is the variation in $\\hat f(x)$ over different training sets.\n",
    "\n",
    "It is a measure of the stability, in some sense, of the model.  Small changes to the training set should result in only small changes in the approximation."
   ]
  },
  {
   "cell_type": "markdown",
   "metadata": {
    "slideshow": {
     "slide_type": "subslide"
    }
   },
   "source": [
    "Consider a couple of models on our problem above: an order 1 model, and an order 6 model, trained on two different training sets:"
   ]
  },
  {
   "cell_type": "code",
   "execution_count": 14,
   "metadata": {},
   "outputs": [],
   "source": [
    "trainX2, trainY2 = sample(n, f, [-5, 5], 3)\n",
    "Yhat1_1 = phi(X, 1) @ lsq(phi(trainX, 1), trainY)\n",
    "Yhat1_6 = phi(X, 6) @ lsq(phi(trainX, 6), trainY)\n",
    "Yhat2_1 = phi(X, 1) @ lsq(phi(trainX2, 1), trainY2)\n",
    "Yhat2_6 = phi(X, 6) @ lsq(phi(trainX2, 6), trainY2)"
   ]
  },
  {
   "cell_type": "markdown",
   "metadata": {
    "slideshow": {
     "slide_type": "subslide"
    }
   },
   "source": [
    "Plotting the results against each other, we see:"
   ]
  },
  {
   "cell_type": "code",
   "execution_count": 15,
   "metadata": {
    "slideshow": {
     "slide_type": "-"
    }
   },
   "outputs": [
    {
     "data": {
      "image/png": "[encoded data removed]",
      "text/plain": [
       "<Figure size 432x288 with 2 Axes>"
      ]
     },
     "metadata": {},
     "output_type": "display_data"
    }
   ],
   "source": [
    "plt.subplot(1,2,1); plt.plot(trainX, trainY, 'k.', trainX2, trainY2, 'g.', X, Yhat1_1, 'r-', X, Yhat2_1, 'c-')\n",
    "plt.subplot(1,2,2); plt.plot(trainX, trainY, 'k.', trainX2, trainY2, 'g.', X, Yhat1_6, 'r-', X, Yhat2_6, 'c-')\n",
    "plt.show()"
   ]
  },
  {
   "cell_type": "markdown",
   "metadata": {},
   "source": [
    "The variance of the order 1 model is clearly much smaller than the variance of the order 6 model."
   ]
  },
  {
   "cell_type": "markdown",
   "metadata": {
    "slideshow": {
     "slide_type": "subslide"
    }
   },
   "source": [
    "Second, **bias** of $\\hat f(x)$ measures the error introduced by the model.\n",
    "\n",
    "Roughly speaking, bias measures the difference between the absolute best fit your model can make and the true $f(x)$.\n",
    "\n",
    "Put another way, if you had unlimited training data, which model would give the best result?\n",
    "\n",
    "In the diagrams above, it is clear that the order 1 (linear) model is too simple; it has a large bias.\n",
    "\n",
    "The order 6 model, on the other hand, clearly has the representational power to reflect the real story; it has small bias."
   ]
  },
  {
   "cell_type": "markdown",
   "metadata": {
    "slideshow": {
     "slide_type": "subslide"
    }
   },
   "source": [
    "The tradeoff, then, is the source of our \"bathtub\" plot.\n",
    "\n",
    "As model complexity increases, we reduce bias, but we increase variance.\n",
    "\n",
    "- Variance is affected by size of training data and noise\n",
    "- Small training data (relative to noise) is the common case\n",
    "\n",
    "Going the other way, we reduce variance, but increase bias.\n",
    "\n"
   ]
  },
  {
   "cell_type": "markdown",
   "metadata": {
    "slideshow": {
     "slide_type": "subslide"
    }
   },
   "source": [
    "The following plot is *very* notional:\n",
    "\n",
    "- Estimating bias via lots of training data (for orders < 3)\n",
    "- Estimating variance via many trials\n",
    "- Variance of $\\epsilon$ known from our experimental setup"
   ]
  },
  {
   "cell_type": "code",
   "execution_count": 16,
   "metadata": {
    "slideshow": {
     "slide_type": "subslide"
    }
   },
   "outputs": [],
   "source": [
    "X = np.arange(-5, 5, 0.1)\n",
    "Y = f(X)\n",
    "\n",
    "btX, btY = sample(1000, f, [-5, 5], 3)\n",
    "bias = [0] * 6\n",
    "for i, p in enumerate([1,2]):\n",
    "    btw = lsq(phi(btX, p), btY)\n",
    "    bias[i] = rmse(Y, phi(X, p) @ btw) ** 2\n",
    "\n",
    "n = 20\n",
    "tsets = { 'x': [], 'y': []}\n",
    "for i in range(50):\n",
    "    tX, tY = sample(n, f, [-5, 5], 3)\n",
    "    tsets['x'].append(tX)\n",
    "    tsets['y'].append(tY)\n",
    "\n",
    "variance = [0] * 6\n",
    "orders = range(1,7)\n",
    "for i, p in enumerate(orders):\n",
    "    yhats = []\n",
    "    for j in range(50):\n",
    "        w = lsq(phi(tsets['x'][j], p), tsets['y'][j])\n",
    "        yhats.append(phi(X, p) @ w)\n",
    "    variance[i] = (np.var(np.array(yhats), axis=0)).mean()\n",
    "\n",
    "MSE = np.array(bias) + np.array(variance) + 9"
   ]
  },
  {
   "cell_type": "code",
   "execution_count": 17,
   "metadata": {
    "slideshow": {
     "slide_type": "subslide"
    }
   },
   "outputs": [
    {
     "data": {
      "text/plain": [
       "Text(0.5,0,'order')"
      ]
     },
     "execution_count": 17,
     "metadata": {},
     "output_type": "execute_result"
    },
    {
     "data": {
      "image/png": "[encoded data removed]",
      "text/plain": [
       "<Figure size 432x288 with 1 Axes>"
      ]
     },
     "metadata": {},
     "output_type": "display_data"
    }
   ],
   "source": [
    "plt.plot(orders, bias, 'r-', orders, variance, 'b-', orders, [9]*6, 'k:', orders, MSE, 'g--')\n",
    "plt.ylim([-5, 85])\n",
    "plt.legend(['Bias', 'Variance', '$\\epsilon$', 'MSE'], loc = 'upper center')\n",
    "plt.xlabel('order')"
   ]
  },
  {
   "cell_type": "code",
   "execution_count": 18,
   "metadata": {},
   "outputs": [],
   "source": [
    "plt.show()"
   ]
  }
 ],
 "metadata": {
  "celltoolbar": "Slideshow",
  "kernelspec": {
   "display_name": "Python 3",
   "language": "python",
   "name": "python3"
  },
  "language_info": {
   "codemirror_mode": {
    "name": "ipython",
    "version": 3
   },
   "file_extension": ".py",
   "mimetype": "text/x-python",
   "name": "python",
   "nbconvert_exporter": "python",
   "pygments_lexer": "ipython3",
   "version": "3.6.5"
  },
  "livereveal": {
   "height": 768,
   "start_slideshow_at": "selected",
   "theme": "mines",
   "transition": "slide",
   "width": 1024
  }
 },
 "nbformat": 4,
 "nbformat_minor": 2
}
