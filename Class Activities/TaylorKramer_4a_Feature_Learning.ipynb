{
  "nbformat": 4,
  "nbformat_minor": 0,
  "metadata": {
    "colab": {
      "name": "TaylorKramer_4a_Feature_Learning.ipynb",
      "provenance": [],
      "collapsed_sections": []
    },
    "kernelspec": {
      "display_name": "iml-exercises",
      "language": "python",
      "name": "iml-exercises"
    },
    "language_info": {
      "codemirror_mode": {
        "name": "ipython",
        "version": 3
      },
      "file_extension": ".py",
      "mimetype": "text/x-python",
      "name": "python",
      "nbconvert_exporter": "python",
      "pygments_lexer": "ipython3",
      "version": "3.6.5"
    }
  },
  "cells": [
    {
      "cell_type": "markdown",
      "metadata": {
        "id": "wdz6rg86OY-t"
      },
      "source": [
        "## CSCI 470 Activities and Case Studies\n",
        "\n",
        "1. For all activities, you are allowed to collaborate with a partner. \n",
        "1. For case studies, you should work individually and are **not** allowed to collaborate.\n",
        "\n",
        "By filling out this notebook and submitting it, you acknowledge that you are aware of the above policies and are agreeing to comply with them."
      ]
    },
    {
      "cell_type": "markdown",
      "metadata": {
        "id": "p4ZxEmfAOY-x"
      },
      "source": [
        "Some considerations with regard to how these notebooks will be graded:\n",
        "\n",
        "1. You can add more notebook cells or edit existing notebook cells other than \"# YOUR CODE HERE\" to test out or debug your code. We actually highly recommend you do so to gain a better understanding of what is happening. However, during grading, **these changes are ignored**. \n",
        "2. You must ensure that all your code for the particular task is available in the cells that say \"# YOUR CODE HERE\"\n",
        "3. Every cell that says \"# YOUR CODE HERE\" is followed by a \"raise NotImplementedError\". You need to remove that line. During grading, if an error occurs then you will not receive points for your work in that section.\n",
        "4. If your code passes the \"assert\" statements, then no output will result. If your code fails the \"assert\" statements, you will get an \"AssertionError\". Getting an assertion error means you will not receive points for that particular task.\n",
        "5. If you edit the \"assert\" statements to make your code pass, they will still fail when they are graded since the \"assert\" statements will revert to the original. Make sure you don't edit the assert statements.\n",
        "6. We may sometimes have \"hidden\" tests for grading. This means that passing the visible \"assert\" statements is not sufficient. The \"assert\" statements are there as a guide but you need to make sure you understand what you're required to do and ensure that you are doing it correctly. Passing the visible tests is necessary but not sufficient to get the grade for that cell.\n",
        "7. When you are asked to define a function, make sure you **don't** use any variables outside of the parameters passed to the function. You can think of the parameters being passed to the function as a hint. Make sure you're using all of those variables.\n",
        "8. Finally, **make sure you run \"Kernel > Restart and Run All\"** and pass all the asserts before submitting. If you don't restart the kernel, there may be some code that you ran and deleted that is still being used and that was why your asserts were passing."
      ]
    },
    {
      "cell_type": "markdown",
      "metadata": {
        "deletable": false,
        "editable": false,
        "id": "T_2JoQv4f-GN",
        "nbgrader": {
          "cell_type": "markdown",
          "checksum": "7549448ad2c14f6dd4289a8ed77b0c6c",
          "grade": false,
          "grade_id": "cell-9aa804aaaa8f9bca",
          "locked": true,
          "schema_version": 3,
          "solution": false
        }
      },
      "source": [
        "# Feature Learning\n",
        "\n",
        "In this exercise we will run feature learning methods on a dataset to identify the key features to use for predicting a target within it."
      ]
    },
    {
      "cell_type": "code",
      "metadata": {
        "deletable": false,
        "editable": false,
        "id": "Edm3DJnuf-GP",
        "nbgrader": {
          "cell_type": "code",
          "checksum": "1fb04df1383071b8c98758b7274af192",
          "grade": false,
          "grade_id": "cell-675ea75b33420748",
          "locked": true,
          "schema_version": 3,
          "solution": false
        }
      },
      "source": [
        "import numpy as np\n",
        "import pandas as pd\n",
        "import matplotlib\n",
        "import matplotlib.pyplot as plt\n",
        "import sklearn as sk\n",
        "\n",
        "plt.style.use(\"ggplot\")"
      ],
      "execution_count": 91,
      "outputs": []
    },
    {
      "cell_type": "code",
      "metadata": {
        "deletable": false,
        "editable": false,
        "id": "9ABNy9yqf-GX",
        "nbgrader": {
          "cell_type": "code",
          "checksum": "acbcc6c26d8eed58a63b38d7a00dc64c",
          "grade": false,
          "grade_id": "cell-dcc937bc7b3f119b",
          "locked": true,
          "schema_version": 3,
          "solution": false
        }
      },
      "source": [
        "from sklearn.datasets import fetch_california_housing\n",
        "from sklearn.model_selection import train_test_split, GridSearchCV\n",
        "from sklearn.feature_selection import SelectKBest, mutual_info_regression, RFE\n",
        "from sklearn.linear_model import LinearRegression, LassoCV\n",
        "from sklearn.decomposition import PCA\n",
        "from sklearn.metrics import mean_squared_error"
      ],
      "execution_count": 92,
      "outputs": []
    },
    {
      "cell_type": "markdown",
      "metadata": {
        "deletable": false,
        "editable": false,
        "id": "CrtnuM-7f-Gf",
        "nbgrader": {
          "cell_type": "markdown",
          "checksum": "7fb5cd342ec6cc8e53a4ef9ce07334af",
          "grade": false,
          "grade_id": "cell-700c5cdb1419069b",
          "locked": true,
          "schema_version": 3,
          "solution": false
        }
      },
      "source": [
        "The data we'll be working with is the [California housing dataset](http://scikit-learn.org/stable/datasets/index.html#california-housing-dataset)."
      ]
    },
    {
      "cell_type": "code",
      "metadata": {
        "deletable": false,
        "editable": false,
        "id": "-KDRnvGXf-Gf",
        "nbgrader": {
          "cell_type": "code",
          "checksum": "8694c13143cbba69c35dea1200d40729",
          "grade": false,
          "grade_id": "cell-5ec1b36cba18af4d",
          "locked": true,
          "schema_version": 3,
          "solution": false
        }
      },
      "source": [
        "house_data = fetch_california_housing()"
      ],
      "execution_count": 93,
      "outputs": []
    },
    {
      "cell_type": "code",
      "metadata": {
        "colab": {
          "base_uri": "https://localhost:8080/"
        },
        "id": "DQDhiDQsf-Gk",
        "outputId": "4ef234bd-f4e5-4f9e-e511-e8185cf166ea"
      },
      "source": [
        "print(house_data[\"DESCR\"])"
      ],
      "execution_count": 94,
      "outputs": [
        {
          "output_type": "stream",
          "text": [
            ".. _california_housing_dataset:\n",
            "\n",
            "California Housing dataset\n",
            "--------------------------\n",
            "\n",
            "**Data Set Characteristics:**\n",
            "\n",
            "    :Number of Instances: 20640\n",
            "\n",
            "    :Number of Attributes: 8 numeric, predictive attributes and the target\n",
            "\n",
            "    :Attribute Information:\n",
            "        - MedInc        median income in block\n",
            "        - HouseAge      median house age in block\n",
            "        - AveRooms      average number of rooms\n",
            "        - AveBedrms     average number of bedrooms\n",
            "        - Population    block population\n",
            "        - AveOccup      average house occupancy\n",
            "        - Latitude      house block latitude\n",
            "        - Longitude     house block longitude\n",
            "\n",
            "    :Missing Attribute Values: None\n",
            "\n",
            "This dataset was obtained from the StatLib repository.\n",
            "http://lib.stat.cmu.edu/datasets/\n",
            "\n",
            "The target variable is the median house value for California districts.\n",
            "\n",
            "This dataset was derived from the 1990 U.S. census, using one row per census\n",
            "block group. A block group is the smallest geographical unit for which the U.S.\n",
            "Census Bureau publishes sample data (a block group typically has a population\n",
            "of 600 to 3,000 people).\n",
            "\n",
            "It can be downloaded/loaded using the\n",
            ":func:`sklearn.datasets.fetch_california_housing` function.\n",
            "\n",
            ".. topic:: References\n",
            "\n",
            "    - Pace, R. Kelley and Ronald Barry, Sparse Spatial Autoregressions,\n",
            "      Statistics and Probability Letters, 33 (1997) 291-297\n",
            "\n"
          ],
          "name": "stdout"
        }
      ]
    },
    {
      "cell_type": "markdown",
      "metadata": {
        "id": "brdgZXskf-Gp"
      },
      "source": [
        "By reading the above information about the data, which features do you intuit meaningful for predicting the target? Which are not meaningful?"
      ]
    },
    {
      "cell_type": "code",
      "metadata": {
        "deletable": false,
        "editable": false,
        "id": "xP0XQHKFf-Gq",
        "nbgrader": {
          "cell_type": "code",
          "checksum": "7f0db01c55b339e171da352d2734570f",
          "grade": false,
          "grade_id": "cell-f7103f854887d832",
          "locked": true,
          "schema_version": 3,
          "solution": false
        }
      },
      "source": [
        "house_features = pd.DataFrame(house_data[\"data\"], columns=house_data[\"feature_names\"])\n",
        "house_prices = pd.Series(house_data[\"target\"])"
      ],
      "execution_count": 95,
      "outputs": []
    },
    {
      "cell_type": "code",
      "metadata": {
        "colab": {
          "base_uri": "https://localhost:8080/",
          "height": 191
        },
        "deletable": false,
        "editable": false,
        "id": "UeLpqrdbf-Gv",
        "nbgrader": {
          "cell_type": "code",
          "checksum": "0cf0b6c83f7171764bb881774daea1c5",
          "grade": false,
          "grade_id": "cell-10562d702c478147",
          "locked": true,
          "schema_version": 3,
          "solution": false
        },
        "outputId": "cce7cc2b-c216-4bd5-cda8-e96bd1e59079"
      },
      "source": [
        "house_features.head()"
      ],
      "execution_count": 96,
      "outputs": [
        {
          "output_type": "execute_result",
          "data": {
            "text/html": [
              "<div>\n",
              "<style scoped>\n",
              "    .dataframe tbody tr th:only-of-type {\n",
              "        vertical-align: middle;\n",
              "    }\n",
              "\n",
              "    .dataframe tbody tr th {\n",
              "        vertical-align: top;\n",
              "    }\n",
              "\n",
              "    .dataframe thead th {\n",
              "        text-align: right;\n",
              "    }\n",
              "</style>\n",
              "<table border=\"1\" class=\"dataframe\">\n",
              "  <thead>\n",
              "    <tr style=\"text-align: right;\">\n",
              "      <th></th>\n",
              "      <th>MedInc</th>\n",
              "      <th>HouseAge</th>\n",
              "      <th>AveRooms</th>\n",
              "      <th>AveBedrms</th>\n",
              "      <th>Population</th>\n",
              "      <th>AveOccup</th>\n",
              "      <th>Latitude</th>\n",
              "      <th>Longitude</th>\n",
              "    </tr>\n",
              "  </thead>\n",
              "  <tbody>\n",
              "    <tr>\n",
              "      <th>0</th>\n",
              "      <td>8.3252</td>\n",
              "      <td>41.0</td>\n",
              "      <td>6.984127</td>\n",
              "      <td>1.023810</td>\n",
              "      <td>322.0</td>\n",
              "      <td>2.555556</td>\n",
              "      <td>37.88</td>\n",
              "      <td>-122.23</td>\n",
              "    </tr>\n",
              "    <tr>\n",
              "      <th>1</th>\n",
              "      <td>8.3014</td>\n",
              "      <td>21.0</td>\n",
              "      <td>6.238137</td>\n",
              "      <td>0.971880</td>\n",
              "      <td>2401.0</td>\n",
              "      <td>2.109842</td>\n",
              "      <td>37.86</td>\n",
              "      <td>-122.22</td>\n",
              "    </tr>\n",
              "    <tr>\n",
              "      <th>2</th>\n",
              "      <td>7.2574</td>\n",
              "      <td>52.0</td>\n",
              "      <td>8.288136</td>\n",
              "      <td>1.073446</td>\n",
              "      <td>496.0</td>\n",
              "      <td>2.802260</td>\n",
              "      <td>37.85</td>\n",
              "      <td>-122.24</td>\n",
              "    </tr>\n",
              "    <tr>\n",
              "      <th>3</th>\n",
              "      <td>5.6431</td>\n",
              "      <td>52.0</td>\n",
              "      <td>5.817352</td>\n",
              "      <td>1.073059</td>\n",
              "      <td>558.0</td>\n",
              "      <td>2.547945</td>\n",
              "      <td>37.85</td>\n",
              "      <td>-122.25</td>\n",
              "    </tr>\n",
              "    <tr>\n",
              "      <th>4</th>\n",
              "      <td>3.8462</td>\n",
              "      <td>52.0</td>\n",
              "      <td>6.281853</td>\n",
              "      <td>1.081081</td>\n",
              "      <td>565.0</td>\n",
              "      <td>2.181467</td>\n",
              "      <td>37.85</td>\n",
              "      <td>-122.25</td>\n",
              "    </tr>\n",
              "  </tbody>\n",
              "</table>\n",
              "</div>"
            ],
            "text/plain": [
              "   MedInc  HouseAge  AveRooms  ...  AveOccup  Latitude  Longitude\n",
              "0  8.3252      41.0  6.984127  ...  2.555556     37.88    -122.23\n",
              "1  8.3014      21.0  6.238137  ...  2.109842     37.86    -122.22\n",
              "2  7.2574      52.0  8.288136  ...  2.802260     37.85    -122.24\n",
              "3  5.6431      52.0  5.817352  ...  2.547945     37.85    -122.25\n",
              "4  3.8462      52.0  6.281853  ...  2.181467     37.85    -122.25\n",
              "\n",
              "[5 rows x 8 columns]"
            ]
          },
          "metadata": {
            "tags": []
          },
          "execution_count": 96
        }
      ]
    },
    {
      "cell_type": "code",
      "metadata": {
        "colab": {
          "base_uri": "https://localhost:8080/",
          "height": 277
        },
        "deletable": false,
        "editable": false,
        "id": "losFXUUkf-Gz",
        "nbgrader": {
          "cell_type": "code",
          "checksum": "298e8f00107762b172a854dd0e6d8a6d",
          "grade": false,
          "grade_id": "cell-f287bd15a4b23bc5",
          "locked": true,
          "schema_version": 3,
          "solution": false
        },
        "outputId": "51be6ec2-d368-4f90-bfd6-0ce84804d541"
      },
      "source": [
        "house_features.describe()"
      ],
      "execution_count": 97,
      "outputs": [
        {
          "output_type": "execute_result",
          "data": {
            "text/html": [
              "<div>\n",
              "<style scoped>\n",
              "    .dataframe tbody tr th:only-of-type {\n",
              "        vertical-align: middle;\n",
              "    }\n",
              "\n",
              "    .dataframe tbody tr th {\n",
              "        vertical-align: top;\n",
              "    }\n",
              "\n",
              "    .dataframe thead th {\n",
              "        text-align: right;\n",
              "    }\n",
              "</style>\n",
              "<table border=\"1\" class=\"dataframe\">\n",
              "  <thead>\n",
              "    <tr style=\"text-align: right;\">\n",
              "      <th></th>\n",
              "      <th>MedInc</th>\n",
              "      <th>HouseAge</th>\n",
              "      <th>AveRooms</th>\n",
              "      <th>AveBedrms</th>\n",
              "      <th>Population</th>\n",
              "      <th>AveOccup</th>\n",
              "      <th>Latitude</th>\n",
              "      <th>Longitude</th>\n",
              "    </tr>\n",
              "  </thead>\n",
              "  <tbody>\n",
              "    <tr>\n",
              "      <th>count</th>\n",
              "      <td>20640.000000</td>\n",
              "      <td>20640.000000</td>\n",
              "      <td>20640.000000</td>\n",
              "      <td>20640.000000</td>\n",
              "      <td>20640.000000</td>\n",
              "      <td>20640.000000</td>\n",
              "      <td>20640.000000</td>\n",
              "      <td>20640.000000</td>\n",
              "    </tr>\n",
              "    <tr>\n",
              "      <th>mean</th>\n",
              "      <td>3.870671</td>\n",
              "      <td>28.639486</td>\n",
              "      <td>5.429000</td>\n",
              "      <td>1.096675</td>\n",
              "      <td>1425.476744</td>\n",
              "      <td>3.070655</td>\n",
              "      <td>35.631861</td>\n",
              "      <td>-119.569704</td>\n",
              "    </tr>\n",
              "    <tr>\n",
              "      <th>std</th>\n",
              "      <td>1.899822</td>\n",
              "      <td>12.585558</td>\n",
              "      <td>2.474173</td>\n",
              "      <td>0.473911</td>\n",
              "      <td>1132.462122</td>\n",
              "      <td>10.386050</td>\n",
              "      <td>2.135952</td>\n",
              "      <td>2.003532</td>\n",
              "    </tr>\n",
              "    <tr>\n",
              "      <th>min</th>\n",
              "      <td>0.499900</td>\n",
              "      <td>1.000000</td>\n",
              "      <td>0.846154</td>\n",
              "      <td>0.333333</td>\n",
              "      <td>3.000000</td>\n",
              "      <td>0.692308</td>\n",
              "      <td>32.540000</td>\n",
              "      <td>-124.350000</td>\n",
              "    </tr>\n",
              "    <tr>\n",
              "      <th>25%</th>\n",
              "      <td>2.563400</td>\n",
              "      <td>18.000000</td>\n",
              "      <td>4.440716</td>\n",
              "      <td>1.006079</td>\n",
              "      <td>787.000000</td>\n",
              "      <td>2.429741</td>\n",
              "      <td>33.930000</td>\n",
              "      <td>-121.800000</td>\n",
              "    </tr>\n",
              "    <tr>\n",
              "      <th>50%</th>\n",
              "      <td>3.534800</td>\n",
              "      <td>29.000000</td>\n",
              "      <td>5.229129</td>\n",
              "      <td>1.048780</td>\n",
              "      <td>1166.000000</td>\n",
              "      <td>2.818116</td>\n",
              "      <td>34.260000</td>\n",
              "      <td>-118.490000</td>\n",
              "    </tr>\n",
              "    <tr>\n",
              "      <th>75%</th>\n",
              "      <td>4.743250</td>\n",
              "      <td>37.000000</td>\n",
              "      <td>6.052381</td>\n",
              "      <td>1.099526</td>\n",
              "      <td>1725.000000</td>\n",
              "      <td>3.282261</td>\n",
              "      <td>37.710000</td>\n",
              "      <td>-118.010000</td>\n",
              "    </tr>\n",
              "    <tr>\n",
              "      <th>max</th>\n",
              "      <td>15.000100</td>\n",
              "      <td>52.000000</td>\n",
              "      <td>141.909091</td>\n",
              "      <td>34.066667</td>\n",
              "      <td>35682.000000</td>\n",
              "      <td>1243.333333</td>\n",
              "      <td>41.950000</td>\n",
              "      <td>-114.310000</td>\n",
              "    </tr>\n",
              "  </tbody>\n",
              "</table>\n",
              "</div>"
            ],
            "text/plain": [
              "             MedInc      HouseAge  ...      Latitude     Longitude\n",
              "count  20640.000000  20640.000000  ...  20640.000000  20640.000000\n",
              "mean       3.870671     28.639486  ...     35.631861   -119.569704\n",
              "std        1.899822     12.585558  ...      2.135952      2.003532\n",
              "min        0.499900      1.000000  ...     32.540000   -124.350000\n",
              "25%        2.563400     18.000000  ...     33.930000   -121.800000\n",
              "50%        3.534800     29.000000  ...     34.260000   -118.490000\n",
              "75%        4.743250     37.000000  ...     37.710000   -118.010000\n",
              "max       15.000100     52.000000  ...     41.950000   -114.310000\n",
              "\n",
              "[8 rows x 8 columns]"
            ]
          },
          "metadata": {
            "tags": []
          },
          "execution_count": 97
        }
      ]
    },
    {
      "cell_type": "code",
      "metadata": {
        "colab": {
          "base_uri": "https://localhost:8080/"
        },
        "deletable": false,
        "editable": false,
        "id": "yM_VmB22f-G2",
        "nbgrader": {
          "cell_type": "code",
          "checksum": "d102ceee11a2836db5d4fb63e741b7ab",
          "grade": false,
          "grade_id": "cell-399de11feef27c9f",
          "locked": true,
          "schema_version": 3,
          "solution": false
        },
        "outputId": "e73e5c79-898e-4410-c4ca-c3d01fd3e984"
      },
      "source": [
        "house_prices.head()"
      ],
      "execution_count": 98,
      "outputs": [
        {
          "output_type": "execute_result",
          "data": {
            "text/plain": [
              "0    4.526\n",
              "1    3.585\n",
              "2    3.521\n",
              "3    3.413\n",
              "4    3.422\n",
              "dtype: float64"
            ]
          },
          "metadata": {
            "tags": []
          },
          "execution_count": 98
        }
      ]
    },
    {
      "cell_type": "code",
      "metadata": {
        "colab": {
          "base_uri": "https://localhost:8080/"
        },
        "deletable": false,
        "editable": false,
        "id": "hkg2UDIuf-G6",
        "nbgrader": {
          "cell_type": "code",
          "checksum": "ade2a7841568e65cc53f438fa91ac326",
          "grade": false,
          "grade_id": "cell-20fdd83710664f14",
          "locked": true,
          "schema_version": 3,
          "solution": false
        },
        "outputId": "54125b05-4b21-4785-c964-1c318c864ffd"
      },
      "source": [
        "house_prices.describe()"
      ],
      "execution_count": 99,
      "outputs": [
        {
          "output_type": "execute_result",
          "data": {
            "text/plain": [
              "count    20640.000000\n",
              "mean         2.068558\n",
              "std          1.153956\n",
              "min          0.149990\n",
              "25%          1.196000\n",
              "50%          1.797000\n",
              "75%          2.647250\n",
              "max          5.000010\n",
              "dtype: float64"
            ]
          },
          "metadata": {
            "tags": []
          },
          "execution_count": 99
        }
      ]
    },
    {
      "cell_type": "markdown",
      "metadata": {
        "deletable": false,
        "editable": false,
        "id": "4ove3H2of-G-",
        "nbgrader": {
          "cell_type": "markdown",
          "checksum": "bb2bc67e2f9de6bc0aab8666eda8ac34",
          "grade": false,
          "grade_id": "cell-a6d14e9cfadf9cbe",
          "locked": true,
          "schema_version": 3,
          "solution": false
        }
      },
      "source": [
        "First, we'll split our data in order to follow the process we had outlined several lectures ago for effectively evaluating supervised learning problems."
      ]
    },
    {
      "cell_type": "code",
      "metadata": {
        "deletable": false,
        "editable": false,
        "id": "d2_XRXYtf-G_",
        "nbgrader": {
          "cell_type": "code",
          "checksum": "54c192139c17a81266f0926417fb5e6d",
          "grade": false,
          "grade_id": "cell-74fc4b2531172f7d",
          "locked": true,
          "schema_version": 3,
          "solution": false
        }
      },
      "source": [
        "X_train, X_test, y_train, y_test = train_test_split(house_features, house_prices, test_size=0.2, random_state=0)"
      ],
      "execution_count": 100,
      "outputs": []
    },
    {
      "cell_type": "markdown",
      "metadata": {
        "deletable": false,
        "editable": false,
        "id": "0e070l9Pf-HD",
        "nbgrader": {
          "cell_type": "markdown",
          "checksum": "8f07f2c1ce9aa27506c562faca2a5fb6",
          "grade": false,
          "grade_id": "cell-73f4d23f398ef242",
          "locked": true,
          "schema_version": 3,
          "solution": false
        }
      },
      "source": [
        "## Filter Feature Selection\n",
        "\n",
        "Select the best features based on [mutual information score](http://scikit-learn.org/stable/modules/generated/sklearn.feature_selection.mutual_info_regression.html#sklearn.feature_selection.mutual_info_regression) from the training data then transform X_train and X_test into the new shape for the data. See [SelectKBest](http://scikit-learn.org/stable/modules/generated/sklearn.feature_selection.SelectKBest.html#sklearn.feature_selection.SelectKBest)"
      ]
    },
    {
      "cell_type": "code",
      "metadata": {
        "deletable": false,
        "editable": false,
        "id": "w-bMPOGrf-HE",
        "nbgrader": {
          "cell_type": "code",
          "checksum": "ca3308af8e550ea13ba7854363433aa5",
          "grade": false,
          "grade_id": "cell-07907cf1d043fed9",
          "locked": true,
          "schema_version": 3,
          "solution": false
        },
        "colab": {
          "base_uri": "https://localhost:8080/"
        },
        "outputId": "8e668639-c80c-46c6-c855-74977037d99b"
      },
      "source": [
        "# We will select the best k features from all feature selection methods\n",
        "k = 4\n",
        "bestfeat = mutual_info_regression(X_train, y_train, n_neighbors=k)\n",
        "print(bestfeat)"
      ],
      "execution_count": 101,
      "outputs": [
        {
          "output_type": "stream",
          "text": [
            "[0.39159089 0.0336957  0.09711794 0.03032234 0.02397625 0.06761289\n",
            " 0.35379085 0.39459628]\n"
          ],
          "name": "stdout"
        }
      ]
    },
    {
      "cell_type": "code",
      "metadata": {
        "deletable": false,
        "id": "AEXYrhV9f-HI",
        "nbgrader": {
          "cell_type": "code",
          "checksum": "a657a3b3a3014bea926903e4a603a77e",
          "grade": false,
          "grade_id": "cell-279e39610c47c8f8",
          "locked": false,
          "schema_version": 3,
          "solution": true
        }
      },
      "source": [
        "# Save the transformed values as mi_X_train and mi_X_test\n",
        "# Save the transformer you use as mi_transformer\n",
        "mi_X_train = SelectKBest(k=4).fit_transform(X_train, y_train)\n",
        "mi_X_test = SelectKBest(k=4).fit_transform(X_test, y_test)\n",
        "mi_transformer = SelectKBest(k=4).fit(X_train, y_train)\n",
        "#raise NotImplementedError()"
      ],
      "execution_count": 102,
      "outputs": []
    },
    {
      "cell_type": "code",
      "metadata": {
        "colab": {
          "base_uri": "https://localhost:8080/"
        },
        "deletable": false,
        "editable": false,
        "id": "yusvojeGf-HM",
        "nbgrader": {
          "cell_type": "code",
          "checksum": "ea66d4ab9ec2e513b1cb7e0b8e7d3b27",
          "grade": false,
          "grade_id": "cell-377847abf96c374c",
          "locked": true,
          "schema_version": 3,
          "solution": false
        },
        "outputId": "746ab164-0028-43ed-8c95-6eebdcc324cb"
      },
      "source": [
        "for feature, importance in zip(house_features.columns, mi_transformer.scores_):\n",
        "    print(f\"The MI score for {feature} is {importance}\")"
      ],
      "execution_count": 103,
      "outputs": [
        {
          "output_type": "stream",
          "text": [
            "The MI score for MedInc is 5.890413110028998\n",
            "The MI score for HouseAge is 1.113808466076184\n",
            "The MI score for AveRooms is 0.5935262268638439\n",
            "The MI score for AveBedrms is 0.3618701519443511\n",
            "The MI score for Population is 1.1575432961632472\n",
            "The MI score for AveOccup is 0.08082088060529707\n",
            "The MI score for Latitude is 1.2039563879750426\n",
            "The MI score for Longitude is 1.0522907685562146\n"
          ],
          "name": "stdout"
        }
      ]
    },
    {
      "cell_type": "markdown",
      "metadata": {
        "id": "_MzRxjDqf-HP"
      },
      "source": [
        "Do these values match what you expected? What are the most important features to use for predicting house prices?"
      ]
    },
    {
      "cell_type": "code",
      "metadata": {
        "deletable": false,
        "editable": false,
        "id": "YHu9-O3Sf-HQ",
        "nbgrader": {
          "cell_type": "code",
          "checksum": "802f9b55b98b872ea4be999d1459edc7",
          "grade": true,
          "grade_id": "cell-d7ebf063a0a3ce74",
          "locked": true,
          "points": 5,
          "schema_version": 3,
          "solution": false
        }
      },
      "source": [
        "assert mi_transformer.k == k\n",
        "assert isinstance(mi_transformer, SelectKBest)\n",
        "assert len(mi_transformer.scores_) == 8\n",
        "assert mi_X_train.shape == (16512, k)\n",
        "assert mi_X_test.shape == (4128, k)"
      ],
      "execution_count": 104,
      "outputs": []
    },
    {
      "cell_type": "markdown",
      "metadata": {
        "deletable": false,
        "editable": false,
        "id": "431Iy64bf-HS",
        "nbgrader": {
          "cell_type": "markdown",
          "checksum": "b201dbd371d118f334add32ccf2a7cc9",
          "grade": false,
          "grade_id": "cell-1c4269050710987f",
          "locked": true,
          "schema_version": 3,
          "solution": false
        }
      },
      "source": [
        "Since the focus in this exercise is on the feature learning and not on the supervised learning portion, we will use a simple estimator (linear regression) for the model training portions."
      ]
    },
    {
      "cell_type": "code",
      "metadata": {
        "deletable": false,
        "editable": false,
        "id": "XsPZB6Xaf-HT",
        "nbgrader": {
          "cell_type": "code",
          "checksum": "72b10f8f8d4865452520fba6e8c1cb4c",
          "grade": false,
          "grade_id": "cell-26d261acabd92043",
          "locked": true,
          "schema_version": 3,
          "solution": false
        }
      },
      "source": [
        "miEst = LinearRegression().fit(mi_X_train, y_train)"
      ],
      "execution_count": 105,
      "outputs": []
    },
    {
      "cell_type": "code",
      "metadata": {
        "colab": {
          "base_uri": "https://localhost:8080/"
        },
        "deletable": false,
        "editable": false,
        "id": "0SMSOZUlf-HW",
        "nbgrader": {
          "cell_type": "code",
          "checksum": "cb6834794b922f53c88ed8e77dbd269b",
          "grade": false,
          "grade_id": "cell-509cc8db3043cda3",
          "locked": true,
          "schema_version": 3,
          "solution": false
        },
        "outputId": "941154f9-deef-4b2f-9d7b-5e8ab4a93946"
      },
      "source": [
        "print(f\"The mean squared error when training on the MI selected features is {mean_squared_error(y_train, miEst.predict(mi_X_train))}.\")\n",
        "print(f\"When testing on the test data, the mean squared error is {mean_squared_error(y_test, miEst.predict(mi_X_test))}\")"
      ],
      "execution_count": 106,
      "outputs": [
        {
          "output_type": "stream",
          "text": [
            "The mean squared error when training on the MI selected features is 0.6380338477036113.\n",
            "When testing on the test data, the mean squared error is 53.01013957107192\n"
          ],
          "name": "stdout"
        }
      ]
    },
    {
      "cell_type": "markdown",
      "metadata": {
        "deletable": false,
        "editable": false,
        "id": "_k91dhOBf-HZ",
        "nbgrader": {
          "cell_type": "markdown",
          "checksum": "1274487b9182ebe0c9ac930fffb26dc3",
          "grade": false,
          "grade_id": "cell-188bc386a321fe4a",
          "locked": true,
          "schema_version": 3,
          "solution": false
        }
      },
      "source": [
        "## Wrapper Feature Selection\n",
        "\n",
        "Now try using [recursive feature elimination](http://scikit-learn.org/stable/modules/generated/sklearn.feature_selection.RFE.html) to select the 4 features we will use instead.\n",
        "\n",
        "Note the after calling the ```.fit()``` method of the RFE object, a Boolean array that indicates which features are selection is stored as ```rfe_transformer.support_```."
      ]
    },
    {
      "cell_type": "code",
      "metadata": {
        "deletable": false,
        "id": "x0y0Nr_Rf-Ha",
        "nbgrader": {
          "cell_type": "code",
          "checksum": "048a6ac9821645c7f8fd98a5bdcb4d3f",
          "grade": false,
          "grade_id": "cell-55f80656b8a4988d",
          "locked": false,
          "schema_version": 3,
          "solution": true
        }
      },
      "source": [
        "# Use an RFE object to determine the k features to select from X_train using a step of 2\n",
        "# Save the rfe object as rfe_transformer\n",
        "# Create rfe_X_train and rfe_X_test as the updated features based on the RFE output\n",
        "\n",
        "rfeEst = LinearRegression()\n",
        "rfe_transformer = RFE(rfeEst, n_features_to_select = 4, step=2).fit(X_train, y_train)\n",
        "rfe_X_train = rfe_transformer.fit_transform(X_train, y_train)\n",
        "rfe_X_test = rfe_transformer.fit_transform(X_test, y_test)\n",
        "\n",
        "# YOUR CODE HERE\n",
        "#raise NotImplementedError()"
      ],
      "execution_count": 107,
      "outputs": []
    },
    {
      "cell_type": "code",
      "metadata": {
        "deletable": false,
        "editable": false,
        "id": "KJx8KNo_f-Hc",
        "nbgrader": {
          "cell_type": "code",
          "checksum": "cfcc2b405c8895bd3191c9725173824d",
          "grade": true,
          "grade_id": "cell-b331e2be0d0e31be",
          "locked": true,
          "points": 5,
          "schema_version": 3,
          "solution": false
        }
      },
      "source": [
        "assert isinstance(rfe_transformer, RFE)\n",
        "assert rfe_transformer.step == 2\n",
        "assert len(rfe_transformer.support_) == 8\n",
        "assert rfe_X_train.shape == (16512, k)\n",
        "assert rfe_X_test.shape == (4128, k)"
      ],
      "execution_count": 108,
      "outputs": []
    },
    {
      "cell_type": "code",
      "metadata": {
        "deletable": false,
        "editable": false,
        "id": "xo3GXcnVf-Hf",
        "nbgrader": {
          "cell_type": "code",
          "checksum": "6283063afef2e82cb6df0894829545fd",
          "grade": false,
          "grade_id": "cell-8b5e64094fc56786",
          "locked": true,
          "schema_version": 3,
          "solution": false
        }
      },
      "source": [
        "rfeEst = LinearRegression().fit(rfe_X_train, y_train)"
      ],
      "execution_count": 109,
      "outputs": []
    },
    {
      "cell_type": "code",
      "metadata": {
        "deletable": false,
        "editable": false,
        "id": "KcxNKz7wf-Hi",
        "nbgrader": {
          "cell_type": "code",
          "checksum": "81b00a41ae73c9232a441194c0d96ca1",
          "grade": false,
          "grade_id": "cell-23d00cc293b154f8",
          "locked": true,
          "schema_version": 3,
          "solution": false
        },
        "colab": {
          "base_uri": "https://localhost:8080/"
        },
        "outputId": "7108ced2-5af7-4d83-ee5c-7bf0779d0670"
      },
      "source": [
        "print(f\"The mean squared error when training on the RFE selected features is {mean_squared_error(y_train, rfeEst.predict(rfe_X_train))}.\")\n",
        "print(f\"When testing on the test data, the mean squared error is {mean_squared_error(y_test, rfeEst.predict(rfe_X_test))}\")"
      ],
      "execution_count": 110,
      "outputs": [
        {
          "output_type": "stream",
          "text": [
            "The mean squared error when training on the RFE selected features is 0.5451672299133382.\n",
            "When testing on the test data, the mean squared error is 0.5580832992075773\n"
          ],
          "name": "stdout"
        }
      ]
    },
    {
      "cell_type": "markdown",
      "metadata": {
        "deletable": false,
        "editable": false,
        "id": "MyVVZaMyf-Hl",
        "nbgrader": {
          "cell_type": "markdown",
          "checksum": "2fab1553b908cc0d0f9f47e5de40bfb9",
          "grade": false,
          "grade_id": "cell-b851aa52ef728d9f",
          "locked": true,
          "schema_version": 3,
          "solution": false
        }
      },
      "source": [
        "## Embedded Methods\n",
        "\n",
        "For the embedded methods feature selection example, we will use Lasso. For this task you should use [LassoCV](http://scikit-learn.org/stable/modules/generated/sklearn.linear_model.LassoCV.html#sklearn.linear_model.LassoCV) and **not** [Lasso](http://scikit-learn.org/stable/modules/generated/sklearn.linear_model.Lasso.html) so that it trains with various values for alpha.\n",
        "\n",
        "Since this is an embedded method, the feature selection will occur directly in the model."
      ]
    },
    {
      "cell_type": "code",
      "metadata": {
        "deletable": false,
        "id": "dGFxLkbhf-Hm",
        "nbgrader": {
          "cell_type": "code",
          "checksum": "3c0ea00f1a333384c39b6c54026db57c",
          "grade": false,
          "grade_id": "cell-1cedfcb1fb61f7ff",
          "locked": false,
          "schema_version": 3,
          "solution": true
        }
      },
      "source": [
        "# Create a LassoCV model trained with 10 alphas and save it to lassoClf\n",
        "lassoClf = LassoCV(n_alphas=10).fit(X_train, y_train)\n",
        "#raise NotImplementedError()"
      ],
      "execution_count": 111,
      "outputs": []
    },
    {
      "cell_type": "code",
      "metadata": {
        "deletable": false,
        "editable": false,
        "id": "JBOjg9aIf-Hp",
        "nbgrader": {
          "cell_type": "code",
          "checksum": "6c25b457315d92952d60a972bdf3d3f8",
          "grade": false,
          "grade_id": "cell-e0ef99dd29a079d0",
          "locked": true,
          "schema_version": 3,
          "solution": false
        },
        "colab": {
          "base_uri": "https://localhost:8080/"
        },
        "outputId": "57ba83f5-76aa-426c-afee-88f3f86fe6c6"
      },
      "source": [
        "lassoClf.coef_"
      ],
      "execution_count": 112,
      "outputs": [
        {
          "output_type": "execute_result",
          "data": {
            "text/plain": [
              "array([ 3.83899283e-01,  1.13979529e-02,  1.56884471e-03,  0.00000000e+00,\n",
              "       -4.07469366e-07, -4.61025303e-03, -3.24168177e-01, -3.23939467e-01])"
            ]
          },
          "metadata": {
            "tags": []
          },
          "execution_count": 112
        }
      ]
    },
    {
      "cell_type": "code",
      "metadata": {
        "deletable": false,
        "editable": false,
        "id": "Q36ODCosf-Hs",
        "nbgrader": {
          "cell_type": "code",
          "checksum": "793adcaf747fdf56ed8fd07e49132d78",
          "grade": false,
          "grade_id": "cell-13ec10079ead686f",
          "locked": true,
          "schema_version": 3,
          "solution": false
        },
        "colab": {
          "base_uri": "https://localhost:8080/"
        },
        "outputId": "688cbbd4-894e-41e7-e928-ae3322cef774"
      },
      "source": [
        "lassoClf.alpha_"
      ],
      "execution_count": 113,
      "outputs": [
        {
          "output_type": "execute_result",
          "data": {
            "text/plain": [
              "0.03577400513173515"
            ]
          },
          "metadata": {
            "tags": []
          },
          "execution_count": 113
        }
      ]
    },
    {
      "cell_type": "code",
      "metadata": {
        "deletable": false,
        "editable": false,
        "id": "yCDszhJNf-Hu",
        "nbgrader": {
          "cell_type": "code",
          "checksum": "ef05bf66f40dc577fc39a38a27421750",
          "grade": true,
          "grade_id": "cell-14338e2d22cac6c8",
          "locked": true,
          "points": 5,
          "schema_version": 3,
          "solution": false
        }
      },
      "source": [
        "assert lassoClf\n",
        "assert isinstance(lassoClf, LassoCV)\n",
        "assert len(lassoClf.coef_) == 8"
      ],
      "execution_count": 114,
      "outputs": []
    },
    {
      "cell_type": "code",
      "metadata": {
        "deletable": false,
        "editable": false,
        "id": "T4I8EhOMf-Hx",
        "nbgrader": {
          "cell_type": "code",
          "checksum": "ee80b87046399b2ec0ec95970603bb1d",
          "grade": false,
          "grade_id": "cell-a658fc6cce0c662e",
          "locked": true,
          "schema_version": 3,
          "solution": false
        },
        "colab": {
          "base_uri": "https://localhost:8080/"
        },
        "outputId": "c2fdda17-2601-46f9-fe4c-288e7b34ac01"
      },
      "source": [
        "print(f\"The mean squared error when training using lasso is {mean_squared_error(y_train, lassoClf.predict(X_train))}.\")\n",
        "print(f\"When testing on the test data, the mean squared error is {mean_squared_error(y_test, lassoClf.predict(X_test))}\")"
      ],
      "execution_count": 115,
      "outputs": [
        {
          "output_type": "stream",
          "text": [
            "The mean squared error when training using lasso is 0.5447589792844251.\n",
            "When testing on the test data, the mean squared error is 0.5594157721934992\n"
          ],
          "name": "stdout"
        }
      ]
    },
    {
      "cell_type": "markdown",
      "metadata": {
        "deletable": false,
        "editable": false,
        "id": "dMkK03Xzf-H0",
        "nbgrader": {
          "cell_type": "markdown",
          "checksum": "9168c5ee3b8ae091921313503dc97dd5",
          "grade": false,
          "grade_id": "cell-4ecba6679dfc69af",
          "locked": true,
          "schema_version": 3,
          "solution": false
        }
      },
      "source": [
        "## Feature Extraction\n",
        "\n",
        "Here we'll use [PCA](http://scikit-learn.org/stable/modules/generated/sklearn.decomposition.PCA.html) to extract features from the data."
      ]
    },
    {
      "cell_type": "code",
      "metadata": {
        "deletable": false,
        "id": "lk-5nLDZf-H0",
        "nbgrader": {
          "cell_type": "code",
          "checksum": "668881dea502f0bad19790f241bf92b8",
          "grade": false,
          "grade_id": "cell-3a808f14f3df2364",
          "locked": false,
          "schema_version": 3,
          "solution": true
        }
      },
      "source": [
        "# Select the best k features using PCA\n",
        "# Save the PCA transformer object as pca_transformer\n",
        "# Transform X_train and X_test into the new shape and save to pca_X_train and pca_X_test\n",
        "pca_transformer = PCA(n_components=k)\n",
        "pca_X_train = pca_transformer.fit_transform(X_train)\n",
        "pca_X_test = pca_transformer.fit_transform(X_test)\n",
        "\n",
        "# YOUR CODE HERE\n",
        "#raise NotImplementedError()"
      ],
      "execution_count": 116,
      "outputs": []
    },
    {
      "cell_type": "code",
      "metadata": {
        "deletable": false,
        "editable": false,
        "id": "7qy_syJSf-H3",
        "nbgrader": {
          "cell_type": "code",
          "checksum": "1e43773f70b00e2146b5b4bc51e984d8",
          "grade": true,
          "grade_id": "cell-24fe227022674d69",
          "locked": true,
          "points": 5,
          "schema_version": 3,
          "solution": false
        }
      },
      "source": [
        "assert pca_transformer \n",
        "assert isinstance(pca_transformer, PCA)\n",
        "assert pca_transformer.n_components == k\n",
        "assert pca_X_train.shape == (16512, k)\n",
        "assert pca_X_test.shape == (4128, k)"
      ],
      "execution_count": 117,
      "outputs": []
    },
    {
      "cell_type": "code",
      "metadata": {
        "deletable": false,
        "editable": false,
        "id": "4_F3jyL7f-H5",
        "nbgrader": {
          "cell_type": "code",
          "checksum": "0c5cdad74e679b9aa582920cb104269a",
          "grade": false,
          "grade_id": "cell-4914fe3dff0d5ffd",
          "locked": true,
          "schema_version": 3,
          "solution": false
        },
        "colab": {
          "base_uri": "https://localhost:8080/"
        },
        "outputId": "05bd2bbb-9db8-4b56-d37a-69ba6fb6c0fc"
      },
      "source": [
        "pcaEst = LinearRegression()\n",
        "pcaEst.fit(pca_X_train, y_train)"
      ],
      "execution_count": 118,
      "outputs": [
        {
          "output_type": "execute_result",
          "data": {
            "text/plain": [
              "LinearRegression(copy_X=True, fit_intercept=True, n_jobs=None, normalize=False)"
            ]
          },
          "metadata": {
            "tags": []
          },
          "execution_count": 118
        }
      ]
    },
    {
      "cell_type": "code",
      "metadata": {
        "deletable": false,
        "editable": false,
        "id": "DdHsEtcpf-H7",
        "nbgrader": {
          "cell_type": "code",
          "checksum": "e51209892d8ee308252d7718a0e4795d",
          "grade": false,
          "grade_id": "cell-671ca4e23f127618",
          "locked": true,
          "schema_version": 3,
          "solution": false
        },
        "colab": {
          "base_uri": "https://localhost:8080/"
        },
        "outputId": "473867e4-7b0e-40c1-e952-64856a484f42"
      },
      "source": [
        "print(f\"The mean squared error when training using PCA is {mean_squared_error(y_train, pcaEst.predict(pca_X_train))}.\")\n",
        "print(f\"When testing on the test data, the mean squared error is {mean_squared_error(y_test, pcaEst.predict(pca_X_test))}\")"
      ],
      "execution_count": 119,
      "outputs": [
        {
          "output_type": "stream",
          "text": [
            "The mean squared error when training using PCA is 1.3225357633272012.\n",
            "When testing on the test data, the mean squared error is 1.3675234914394028\n"
          ],
          "name": "stdout"
        }
      ]
    },
    {
      "cell_type": "code",
      "metadata": {
        "deletable": false,
        "editable": false,
        "id": "XyrBGmogf-H9",
        "nbgrader": {
          "cell_type": "code",
          "checksum": "4fdeb951dfab628fde133d2ffb52c550",
          "grade": false,
          "grade_id": "cell-e8c34edca3f89d4b",
          "locked": true,
          "schema_version": 3,
          "solution": false
        },
        "colab": {
          "base_uri": "https://localhost:8080/"
        },
        "outputId": "d280ecb3-2340-4afe-ebf6-9c1c86fdf6e3"
      },
      "source": [
        "pca_transformer.get_covariance()"
      ],
      "execution_count": 120,
      "outputs": [
        {
          "output_type": "execute_result",
          "data": {
            "text/plain": [
              "array([[ 2.23579364e+00, -3.18771382e+00,  1.48756512e-01,\n",
              "         1.69472546e-02,  1.24895355e+01,  1.82062525e+00,\n",
              "         7.89267455e-02, -1.74446127e-02],\n",
              "       [-3.18771382e+00,  1.56862159e+02, -5.41613178e+00,\n",
              "        -5.73497229e-01, -3.89074435e+03,  4.55700251e+00,\n",
              "        -2.28156664e-01, -2.19335133e+00],\n",
              "       [ 1.48756512e-01, -5.41613178e+00,  2.65053295e+00,\n",
              "         6.01581641e-02, -2.39865733e+02, -8.07388222e-01,\n",
              "         8.30509189e-01, -6.56836836e-01],\n",
              "       [ 1.69472546e-02, -5.73497229e-01,  6.01581641e-02,\n",
              "         2.16093966e+00, -4.12967932e+01, -1.06221707e-01,\n",
              "         9.95240481e-02, -7.91819823e-02],\n",
              "       [ 1.24895355e+01, -3.89074435e+03, -2.39865733e+02,\n",
              "        -4.12967932e+01,  1.18627561e+06,  1.96753405e+03,\n",
              "        -1.94094317e+02,  1.68074699e+02],\n",
              "       [ 1.82062525e+00,  4.55700251e+00, -8.07388222e-01,\n",
              "        -1.06221707e-01,  1.96753405e+03,  3.73428838e+02,\n",
              "         5.11788380e-01, -4.34953303e-01],\n",
              "       [ 7.89267455e-02, -2.28156664e-01,  8.30509189e-01,\n",
              "         9.95240481e-02, -1.94094317e+02,  5.11788380e-01,\n",
              "         5.39062977e+00, -2.96717424e+00],\n",
              "       [-1.74446127e-02, -2.19335133e+00, -6.56836836e-01,\n",
              "        -7.91819823e-02,  1.68074699e+02, -4.34953303e-01,\n",
              "        -2.96717424e+00,  4.91535120e+00]])"
            ]
          },
          "metadata": {
            "tags": []
          },
          "execution_count": 120
        }
      ]
    },
    {
      "cell_type": "markdown",
      "metadata": {
        "deletable": false,
        "editable": false,
        "id": "eHJDXYTCf-H_",
        "nbgrader": {
          "cell_type": "markdown",
          "checksum": "4f7c422c7c6c0a0a2e7b090779fae9d6",
          "grade": false,
          "grade_id": "cell-4b75632b6e8bb9c2",
          "locked": true,
          "schema_version": 3,
          "solution": false
        }
      },
      "source": [
        "Sometimes PCA may perform poorly for regression cases. See [this answer](https://stats.stackexchange.com/a/52798) on StackExchange for more info. In the next lecture, we will cover other methods of feature extraction and show examples where PCA is even more effective."
      ]
    },
    {
      "cell_type": "markdown",
      "metadata": {
        "deletable": false,
        "editable": false,
        "id": "tx7y_EDmf-IB",
        "nbgrader": {
          "cell_type": "markdown",
          "checksum": "1f7640f916f64aeac4af3ec318d3b9cd",
          "grade": false,
          "grade_id": "cell-a1034774d762a001",
          "locked": true,
          "schema_version": 3,
          "solution": false
        }
      },
      "source": [
        "## Feedback"
      ]
    },
    {
      "cell_type": "code",
      "metadata": {
        "deletable": false,
        "id": "MIUt2oGaf-IB",
        "nbgrader": {
          "cell_type": "code",
          "checksum": "ed936ab53a1391c5e6af8df699a1dbf5",
          "grade": false,
          "grade_id": "feedback",
          "locked": false,
          "schema_version": 3,
          "solution": true
        }
      },
      "source": [
        "def feedback():\n",
        "    \"\"\"Provide feedback on the contents of this exercise\n",
        "    \n",
        "    Returns:\n",
        "        string\n",
        "    \"\"\"\n",
        "    return(\"not too difficult not too easy\")\n",
        "    #raise NotImplementedError()"
      ],
      "execution_count": 121,
      "outputs": []
    },
    {
      "cell_type": "code",
      "metadata": {
        "deletable": false,
        "editable": false,
        "id": "KCd4r1U1f-IC",
        "nbgrader": {
          "cell_type": "code",
          "checksum": "f39f6185a54850c2f1f9b5b2a17b7543",
          "grade": true,
          "grade_id": "feedback-tests",
          "locked": true,
          "points": 0,
          "schema_version": 3,
          "solution": false
        }
      },
      "source": [
        ""
      ],
      "execution_count": 121,
      "outputs": []
    }
  ]
}