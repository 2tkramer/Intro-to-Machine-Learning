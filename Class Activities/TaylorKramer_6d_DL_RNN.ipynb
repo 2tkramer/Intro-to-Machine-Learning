{
  "nbformat": 4,
  "nbformat_minor": 0,
  "metadata": {
    "kernelspec": {
      "display_name": "Python 3",
      "language": "python",
      "name": "python3"
    },
    "language_info": {
      "codemirror_mode": {
        "name": "ipython",
        "version": 3
      },
      "file_extension": ".py",
      "mimetype": "text/x-python",
      "name": "python",
      "nbconvert_exporter": "python",
      "pygments_lexer": "ipython3",
      "version": "3.7.4"
    },
    "colab": {
      "name": "TaylorKramer_6d_DL_RNN.ipynb",
      "provenance": [],
      "collapsed_sections": []
    }
  },
  "cells": [
    {
      "cell_type": "markdown",
      "metadata": {
        "id": "0dSagR-NiSlD"
      },
      "source": [
        "## CSCI 470 Activities and Case Studies\n",
        "\n",
        "1. For all activities, you are allowed to collaborate with a partner. \n",
        "1. For case studies, you should work individually and are **not** allowed to collaborate.\n",
        "\n",
        "By filling out this notebook and submitting it, you acknowledge that you are aware of the above policies and are agreeing to comply with them."
      ]
    },
    {
      "cell_type": "markdown",
      "metadata": {
        "id": "fpnEygdyiSlF"
      },
      "source": [
        "Some considerations with regard to how these notebooks will be graded:\n",
        "\n",
        "1. You can add more notebook cells or edit existing notebook cells other than \"# YOUR CODE HERE\" to test out or debug your code. We actually highly recommend you do so to gain a better understanding of what is happening. However, during grading, **these changes are ignored**. \n",
        "2. You must ensure that all your code for the particular task is available in the cells that say \"# YOUR CODE HERE\"\n",
        "3. Every cell that says \"# YOUR CODE HERE\" is followed by a \"raise NotImplementedError\". You need to remove that line. During grading, if an error occurs then you will not receive points for your work in that section.\n",
        "4. If your code passes the \"assert\" statements, then no output will result. If your code fails the \"assert\" statements, you will get an \"AssertionError\". Getting an assertion error means you will not receive points for that particular task.\n",
        "5. If you edit the \"assert\" statements to make your code pass, they will still fail when they are graded since the \"assert\" statements will revert to the original. Make sure you don't edit the assert statements.\n",
        "6. We may sometimes have \"hidden\" tests for grading. This means that passing the visible \"assert\" statements is not sufficient. The \"assert\" statements are there as a guide but you need to make sure you understand what you're required to do and ensure that you are doing it correctly. Passing the visible tests is necessary but not sufficient to get the grade for that cell.\n",
        "7. When you are asked to define a function, make sure you **don't** use any variables outside of the parameters passed to the function. You can think of the parameters being passed to the function as a hint. Make sure you're using all of those variables.\n",
        "8. Finally, **make sure you run \"Kernel > Restart and Run All\"** and pass all the asserts before submitting. If you don't restart the kernel, there may be some code that you ran and deleted that is still being used and that was why your asserts were passing."
      ]
    },
    {
      "cell_type": "markdown",
      "metadata": {
        "deletable": false,
        "editable": false,
        "nbgrader": {
          "cell_type": "markdown",
          "checksum": "148a186cdc339d18c6a3c0bf33ad5a6e",
          "grade": false,
          "grade_id": "cell-d07e9bbbd9efabf6",
          "locked": true,
          "schema_version": 3,
          "solution": false
        },
        "id": "Sa54RJasiSlG"
      },
      "source": [
        "# Deep Learning - Recurrent Neural Networks"
      ]
    },
    {
      "cell_type": "code",
      "metadata": {
        "deletable": false,
        "editable": false,
        "nbgrader": {
          "cell_type": "code",
          "checksum": "df48be318c20412564ef812c320d2510",
          "grade": false,
          "grade_id": "cell-aaad388f467a51c0",
          "locked": true,
          "schema_version": 3,
          "solution": false
        },
        "id": "Q5KlYBriiSlG"
      },
      "source": [
        "import tensorflow as tf\n",
        "from tensorflow.keras.preprocessing import sequence\n",
        "from tensorflow.keras.layers import SimpleRNN, GRU, LSTM, Embedding, Dense\n",
        "from tensorflow.keras import Sequential\n",
        "from tensorflow.keras.datasets import imdb"
      ],
      "execution_count": 1,
      "outputs": []
    },
    {
      "cell_type": "markdown",
      "metadata": {
        "deletable": false,
        "editable": false,
        "nbgrader": {
          "cell_type": "markdown",
          "checksum": "a7317042415be1e532b31c2cc056d9fa",
          "grade": false,
          "grade_id": "cell-bda9bc8e1d0c997d",
          "locked": true,
          "schema_version": 3,
          "solution": false
        },
        "id": "PDUaOS0biSlG"
      },
      "source": [
        "We will be using the IMDB dataset outlined in the keras documentation [here](https://keras.io/datasets/#imdb-movie-reviews-sentiment-classification). We will be applying a supervised learning application to text where we predict the sentiment of the IMDB reviews.\n",
        "\n",
        "Take a look at the imports above. For the RNN based imports see the [RNN documentation](https://keras.io/layers/recurrent). For preprocessing using `sequence` see the [sequence documentation](https://keras.io/preprocessing/sequence). For Embedding, see the [Embedding documentation](https://keras.io/layers/embeddings/).\n",
        "\n",
        "From the Keras documentation, linked above:\n",
        ">\"This is a dataset of 25,000 movies reviews from IMDB, labeled by sentiment (positive/negative). Reviews have been preprocessed, and each review is encoded as a list of word indexes (integers). For convenience, words are indexed by overall frequency in the dataset, so that for instance the integer \"3\" encodes the 3rd most frequent word in the data. This allows for quick filtering operations such as: \"only consider the top 10,000 most common words, but eliminate the top 20 most common words.\""
      ]
    },
    {
      "cell_type": "code",
      "metadata": {
        "deletable": false,
        "editable": false,
        "nbgrader": {
          "cell_type": "code",
          "checksum": "257838f74061ae830d9d6f55eabd08ed",
          "grade": false,
          "grade_id": "cell-c5683134993794d6",
          "locked": true,
          "schema_version": 3,
          "solution": false
        },
        "id": "9tkCg3zsiSlH",
        "colab": {
          "base_uri": "https://localhost:8080/"
        },
        "outputId": "1b28dca2-10a9-4a4e-b555-3e1da686b897"
      },
      "source": [
        "maxlen = 100 # Only use sentences up to this many words\n",
        "n = 20000 # Only use the most frequent n words\n",
        "(x_train, y_train), (x_test, y_test) = imdb.load_data(num_words=n)"
      ],
      "execution_count": 2,
      "outputs": [
        {
          "output_type": "stream",
          "text": [
            "Downloading data from https://storage.googleapis.com/tensorflow/tf-keras-datasets/imdb.npz\n",
            "17465344/17464789 [==============================] - 0s 0us/step\n"
          ],
          "name": "stdout"
        },
        {
          "output_type": "stream",
          "text": [
            "<string>:6: VisibleDeprecationWarning: Creating an ndarray from ragged nested sequences (which is a list-or-tuple of lists-or-tuples-or ndarrays with different lengths or shapes) is deprecated. If you meant to do this, you must specify 'dtype=object' when creating the ndarray\n",
            "/usr/local/lib/python3.7/dist-packages/tensorflow/python/keras/datasets/imdb.py:159: VisibleDeprecationWarning: Creating an ndarray from ragged nested sequences (which is a list-or-tuple of lists-or-tuples-or ndarrays with different lengths or shapes) is deprecated. If you meant to do this, you must specify 'dtype=object' when creating the ndarray\n",
            "  x_train, y_train = np.array(xs[:idx]), np.array(labels[:idx])\n",
            "/usr/local/lib/python3.7/dist-packages/tensorflow/python/keras/datasets/imdb.py:160: VisibleDeprecationWarning: Creating an ndarray from ragged nested sequences (which is a list-or-tuple of lists-or-tuples-or ndarrays with different lengths or shapes) is deprecated. If you meant to do this, you must specify 'dtype=object' when creating the ndarray\n",
            "  x_test, y_test = np.array(xs[idx:]), np.array(labels[idx:])\n"
          ],
          "name": "stderr"
        }
      ]
    },
    {
      "cell_type": "code",
      "metadata": {
        "deletable": false,
        "editable": false,
        "nbgrader": {
          "cell_type": "code",
          "checksum": "c7c4a5c23bee6c65b41a116d5dcaf6c7",
          "grade": false,
          "grade_id": "cell-2d04aa072205ee4a",
          "locked": true,
          "schema_version": 3,
          "solution": false
        },
        "id": "IKzRaVgRiSlH",
        "colab": {
          "base_uri": "https://localhost:8080/"
        },
        "outputId": "4e2743c1-bf07-494c-939f-3e6e462b5588"
      },
      "source": [
        "x_train.shape"
      ],
      "execution_count": 3,
      "outputs": [
        {
          "output_type": "execute_result",
          "data": {
            "text/plain": [
              "(25000,)"
            ]
          },
          "metadata": {
            "tags": []
          },
          "execution_count": 3
        }
      ]
    },
    {
      "cell_type": "code",
      "metadata": {
        "deletable": false,
        "editable": false,
        "nbgrader": {
          "cell_type": "code",
          "checksum": "a4c3388aacf1d735a644960c64697ef8",
          "grade": false,
          "grade_id": "cell-c69f7bd45588c10f",
          "locked": true,
          "schema_version": 3,
          "solution": false
        },
        "id": "Ygo2VZNViSlH",
        "colab": {
          "base_uri": "https://localhost:8080/"
        },
        "outputId": "70bc84e8-a50f-4e04-fed3-5b3c645daaee"
      },
      "source": [
        "x_test.shape"
      ],
      "execution_count": 4,
      "outputs": [
        {
          "output_type": "execute_result",
          "data": {
            "text/plain": [
              "(25000,)"
            ]
          },
          "metadata": {
            "tags": []
          },
          "execution_count": 4
        }
      ]
    },
    {
      "cell_type": "code",
      "metadata": {
        "deletable": false,
        "editable": false,
        "nbgrader": {
          "cell_type": "code",
          "checksum": "b123c8981fb62ef850e3f8921796d5c0",
          "grade": false,
          "grade_id": "cell-59607cac09a99a93",
          "locked": true,
          "schema_version": 3,
          "solution": false
        },
        "id": "xeEMAXFYiSlI",
        "colab": {
          "base_uri": "https://localhost:8080/"
        },
        "outputId": "4e1815c8-f46d-4e06-bc04-b402c2a67c9c"
      },
      "source": [
        "for i in range(10):\n",
        "    print(f\"Element {i} has a length of {len(x_train[i])}\")"
      ],
      "execution_count": 5,
      "outputs": [
        {
          "output_type": "stream",
          "text": [
            "Element 0 has a length of 218\n",
            "Element 1 has a length of 189\n",
            "Element 2 has a length of 141\n",
            "Element 3 has a length of 550\n",
            "Element 4 has a length of 147\n",
            "Element 5 has a length of 43\n",
            "Element 6 has a length of 123\n",
            "Element 7 has a length of 562\n",
            "Element 8 has a length of 233\n",
            "Element 9 has a length of 130\n"
          ],
          "name": "stdout"
        }
      ]
    },
    {
      "cell_type": "code",
      "metadata": {
        "deletable": false,
        "editable": false,
        "nbgrader": {
          "cell_type": "code",
          "checksum": "25138d378e0de2c56acc6fc7c8a80cce",
          "grade": false,
          "grade_id": "cell-9d17ff409cf0ed6a",
          "locked": true,
          "schema_version": 3,
          "solution": false
        },
        "id": "hNGAqjuKiSlI",
        "colab": {
          "base_uri": "https://localhost:8080/"
        },
        "outputId": "1ba0ff29-e61d-4c01-eff0-b3cf37cf73bb"
      },
      "source": [
        "x_train[0][:10]"
      ],
      "execution_count": 6,
      "outputs": [
        {
          "output_type": "execute_result",
          "data": {
            "text/plain": [
              "[1, 14, 22, 16, 43, 530, 973, 1622, 1385, 65]"
            ]
          },
          "metadata": {
            "tags": []
          },
          "execution_count": 6
        }
      ]
    },
    {
      "cell_type": "code",
      "metadata": {
        "deletable": false,
        "editable": false,
        "nbgrader": {
          "cell_type": "code",
          "checksum": "f01af8b921e7219a1d6496f80022e99e",
          "grade": false,
          "grade_id": "cell-29008f854c9ed905",
          "locked": true,
          "schema_version": 3,
          "solution": false
        },
        "id": "2bqauMIFiSlI"
      },
      "source": [
        "x_train = sequence.pad_sequences(x_train, maxlen=maxlen)\n",
        "x_test = sequence.pad_sequences(x_test, maxlen=maxlen)"
      ],
      "execution_count": 7,
      "outputs": []
    },
    {
      "cell_type": "code",
      "metadata": {
        "deletable": false,
        "editable": false,
        "nbgrader": {
          "cell_type": "code",
          "checksum": "ce4ea6cd24d56fdd9e3646d504c1638b",
          "grade": false,
          "grade_id": "cell-26b3b6b877561751",
          "locked": true,
          "schema_version": 3,
          "solution": false
        },
        "id": "R1JOHT6qiSlI",
        "colab": {
          "base_uri": "https://localhost:8080/"
        },
        "outputId": "41b144c0-3820-49e8-a570-f209d140c6bb"
      },
      "source": [
        "x_train.shape, x_test.shape"
      ],
      "execution_count": 8,
      "outputs": [
        {
          "output_type": "execute_result",
          "data": {
            "text/plain": [
              "((25000, 100), (25000, 100))"
            ]
          },
          "metadata": {
            "tags": []
          },
          "execution_count": 8
        }
      ]
    },
    {
      "cell_type": "markdown",
      "metadata": {
        "deletable": false,
        "editable": false,
        "nbgrader": {
          "cell_type": "markdown",
          "checksum": "eb0658983557cfc6d5d749c18d5c3a08",
          "grade": false,
          "grade_id": "cell-80d546e03cc3a91a",
          "locked": true,
          "schema_version": 3,
          "solution": false
        },
        "id": "kJ9lJyoBiSlJ"
      },
      "source": [
        "Each data sample is a sequence of integers that represent the index of the word in our vocabulary. This saves on storage when compared to a vector that's as long as our vocabulary with all 0's and just one 1 as discussed in the lecture. We will be using the [Embedding layer](https://keras.io/layers/embeddings/) to adapt this for our neural network."
      ]
    },
    {
      "cell_type": "code",
      "metadata": {
        "deletable": false,
        "editable": false,
        "nbgrader": {
          "cell_type": "code",
          "checksum": "2793d772ae01513635a946f32a65d908",
          "grade": false,
          "grade_id": "cell-9c1b0c9c7d26e3fc",
          "locked": true,
          "schema_version": 3,
          "solution": false
        },
        "id": "-_h1KuM3iSlJ",
        "colab": {
          "base_uri": "https://localhost:8080/"
        },
        "outputId": "09558d67-4b57-4e42-9e3d-177a323dbfc0"
      },
      "source": [
        "print(f\"All values of the targets are integers with the following max and min values\")\n",
        "print(f\"{y_train.max()}, {y_train.min()}\")"
      ],
      "execution_count": 9,
      "outputs": [
        {
          "output_type": "stream",
          "text": [
            "All values of the targets are integers with the following max and min values\n",
            "1, 0\n"
          ],
          "name": "stdout"
        }
      ]
    },
    {
      "cell_type": "markdown",
      "metadata": {
        "deletable": false,
        "editable": false,
        "nbgrader": {
          "cell_type": "markdown",
          "checksum": "0346e2170feadaf176a0c0d32ccb8513",
          "grade": false,
          "grade_id": "cell-a96be599550f72f2",
          "locked": true,
          "schema_version": 3,
          "solution": false
        },
        "id": "xRuIrHbBiSlJ"
      },
      "source": [
        "We will build three networks, using basic RNNs, GRUs and LSTMs. We will then compare their performance in predicting the classes of reviews appropriately."
      ]
    },
    {
      "cell_type": "code",
      "metadata": {
        "deletable": false,
        "nbgrader": {
          "cell_type": "code",
          "checksum": "4e1a8a9f06ee330c7df4d7882b5d8130",
          "grade": false,
          "grade_id": "cell-89247ca5db4b603e",
          "locked": false,
          "schema_version": 3,
          "solution": true
        },
        "id": "uC5yV70EiSlJ"
      },
      "source": [
        "# Define \"simple_layers\", a list of Keras layers, that you will then use to create a Sequential model\n",
        "# saved as \"my_simple\".\n",
        "# \n",
        "# Here you will create a simple RNN using one SimpleRNN layer with dropout and recurrent_dropout\n",
        "# (see argument options in SimpleRNN documentation).\n",
        "# \n",
        "# You will need to use an Embedding layer as the first layer (to convert the data appropriately)\n",
        "# followed by the SimpleRNN layer. Select an embedding size of your choice, and use that for your\n",
        "# SimpleRNN layer's output dimensions as well.\n",
        "#\n",
        "# Finally, create an output layer that applies to our dataset task of binary classification\n",
        "\n",
        "simple_layers = [\n",
        "           tf.keras.layers.Embedding(input_dim=25000, output_dim=10),\n",
        "           tf.keras.layers.SimpleRNN(10, dropout=0.8,recurrent_dropout=0.5, activation='tanh'),\n",
        "           tf.keras.layers.Dense(2),\n",
        "           ]\n",
        "my_simple = tf.keras.Sequential(simple_layers)\n",
        "\n",
        "# raise NotImplementedError()"
      ],
      "execution_count": 10,
      "outputs": []
    },
    {
      "cell_type": "code",
      "metadata": {
        "deletable": false,
        "editable": false,
        "nbgrader": {
          "cell_type": "code",
          "checksum": "0a8cf4a1554786648cfb1318f2bc79dc",
          "grade": true,
          "grade_id": "cell-a693cb84784a5e8d",
          "locked": true,
          "points": 5,
          "schema_version": 3,
          "solution": false
        },
        "id": "0IZ2zikpiSlK"
      },
      "source": [
        "assert len(simple_layers) == 3\n",
        "assert isinstance(simple_layers[0], Embedding)\n",
        "assert isinstance(simple_layers[1], SimpleRNN)\n",
        "assert isinstance(simple_layers[2], Dense)\n",
        "assert simple_layers[0].output_dim == simple_layers[1].units\n",
        "assert simple_layers[1].dropout > 0\n",
        "assert simple_layers[1].recurrent_dropout > 0\n",
        "assert my_simple"
      ],
      "execution_count": 11,
      "outputs": []
    },
    {
      "cell_type": "code",
      "metadata": {
        "deletable": false,
        "editable": false,
        "nbgrader": {
          "cell_type": "code",
          "checksum": "8d73657260a770b1f13296effcaa37d9",
          "grade": false,
          "grade_id": "cell-10a0d33cc462aa67",
          "locked": true,
          "schema_version": 3,
          "solution": false
        },
        "id": "nltGPwI4iSlK",
        "colab": {
          "base_uri": "https://localhost:8080/"
        },
        "outputId": "15762f99-c986-42fd-a694-a7df0c703fd4"
      },
      "source": [
        "%%time\n",
        "my_simple.compile(loss='binary_crossentropy',optimizer='adam',metrics=['accuracy'])\n",
        "my_simple.fit(x_train, y_train, batch_size=32, epochs=1)"
      ],
      "execution_count": 12,
      "outputs": [
        {
          "output_type": "stream",
          "text": [
            "782/782 [==============================] - 28s 33ms/step - loss: 4.5017 - accuracy: 0.4969\n",
            "CPU times: user 43.5 s, sys: 2.24 s, total: 45.8 s\n",
            "Wall time: 27.9 s\n"
          ],
          "name": "stdout"
        }
      ]
    },
    {
      "cell_type": "code",
      "metadata": {
        "deletable": false,
        "nbgrader": {
          "cell_type": "code",
          "checksum": "a588817120cfc85fdc1281fdb99a05ee",
          "grade": false,
          "grade_id": "cell-9b7b7778053b0aa3",
          "locked": false,
          "schema_version": 3,
          "solution": true
        },
        "id": "k7N-gOSyiSlK"
      },
      "source": [
        "# Define \"gru_layers\", a list of Keras layers, that you will then use to create a Sequential model\n",
        "# saved as \"my_gru\".\n",
        "#\n",
        "# Here you will create an RNN using a GRU layer, with dropout and recurrent_dropout.\n",
        "#\n",
        "# Use an input Embedding layer and output Dense layer, as in the simple RNN model.\n",
        "\n",
        "gru_layers = [\n",
        "           tf.keras.layers.Embedding(input_dim=25000,output_dim=20),\n",
        "           tf.keras.layers.GRU(20, dropout=0.8,recurrent_dropout=0.3, activation='tanh'),\n",
        "           tf.keras.layers.Dense(1),\n",
        "           ]\n",
        "my_gru = tf.keras.Sequential(gru_layers)\n",
        "\n",
        "# raise NotImplementedError()"
      ],
      "execution_count": 13,
      "outputs": []
    },
    {
      "cell_type": "code",
      "metadata": {
        "deletable": false,
        "editable": false,
        "nbgrader": {
          "cell_type": "code",
          "checksum": "4f9a717049b8744e9490f324fba1fc24",
          "grade": true,
          "grade_id": "cell-c69132493de5ac88",
          "locked": true,
          "points": 5,
          "schema_version": 3,
          "solution": false
        },
        "id": "A98YNPfQiSlK"
      },
      "source": [
        "assert len(gru_layers) == 3\n",
        "assert isinstance(gru_layers[0], Embedding)\n",
        "assert isinstance(gru_layers[1], GRU)\n",
        "assert isinstance(gru_layers[2], Dense)\n",
        "assert gru_layers[0].output_dim == gru_layers[1].units\n",
        "assert gru_layers[1].dropout > 0\n",
        "assert gru_layers[1].recurrent_dropout > 0\n",
        "assert my_gru"
      ],
      "execution_count": 14,
      "outputs": []
    },
    {
      "cell_type": "code",
      "metadata": {
        "deletable": false,
        "editable": false,
        "nbgrader": {
          "cell_type": "code",
          "checksum": "3f8a2793b9cf15063bcafef69ea11131",
          "grade": false,
          "grade_id": "cell-5c71db6dcb81eb2a",
          "locked": true,
          "schema_version": 3,
          "solution": false
        },
        "id": "ohRhZvEiiSlK",
        "colab": {
          "base_uri": "https://localhost:8080/"
        },
        "outputId": "1b52bea1-ce5f-4d89-93d4-7aba76173c8d"
      },
      "source": [
        "%%time\n",
        "my_gru.compile(loss='binary_crossentropy',optimizer='adam',metrics=['accuracy'])\n",
        "my_gru.fit(x_train, y_train, batch_size=32, epochs=1)"
      ],
      "execution_count": 15,
      "outputs": [
        {
          "output_type": "stream",
          "text": [
            "782/782 [==============================] - 74s 92ms/step - loss: 0.8389 - accuracy: 0.5630\n",
            "CPU times: user 2min 2s, sys: 5.1 s, total: 2min 7s\n",
            "Wall time: 1min 14s\n"
          ],
          "name": "stdout"
        }
      ]
    },
    {
      "cell_type": "code",
      "metadata": {
        "deletable": false,
        "nbgrader": {
          "cell_type": "code",
          "checksum": "074f031adaafa55dbb69945cc42d9e40",
          "grade": false,
          "grade_id": "cell-798617aedf043516",
          "locked": false,
          "schema_version": 3,
          "solution": true
        },
        "id": "b_dgrr3tiSlL"
      },
      "source": [
        "# Define \"lstm_layers\", a list of Keras layers, that you will then use to create a Sequential model\n",
        "# saved as \"my_lstm\".\n",
        "#\n",
        "# Here you will create an RNN using an LSTM layer, again, with dropout and recurrent_dropout.\n",
        "#\n",
        "# Use an input Embedding layer and output Dense layer, as in the simple RNN and the GRU model.\n",
        "\n",
        "lstm_layers = [\n",
        "           tf.keras.layers.Embedding(input_dim=25000,output_dim=10),\n",
        "           tf.keras.layers.LSTM(10, dropout=0.8,recurrent_dropout=0.5, activation=\"tanh\"),\n",
        "           tf.keras.layers.Dense(1),\n",
        "           ]\n",
        "my_lstm = tf.keras.Sequential(lstm_layers)\n",
        "\n",
        "# raise NotImplementedError()"
      ],
      "execution_count": 16,
      "outputs": []
    },
    {
      "cell_type": "code",
      "metadata": {
        "deletable": false,
        "editable": false,
        "nbgrader": {
          "cell_type": "code",
          "checksum": "1a0e568fe8c02d9e8ae681db979b4886",
          "grade": true,
          "grade_id": "cell-58a52ce9bceabdee",
          "locked": true,
          "points": 5,
          "schema_version": 3,
          "solution": false
        },
        "id": "IlNpHWmjiSlL"
      },
      "source": [
        "assert len(lstm_layers) == 3\n",
        "assert isinstance(lstm_layers[0], Embedding)\n",
        "assert isinstance(lstm_layers[1], LSTM)\n",
        "assert isinstance(lstm_layers[2], Dense)\n",
        "assert lstm_layers[0].output_dim == lstm_layers[1].units\n",
        "assert lstm_layers[1].dropout > 0\n",
        "assert lstm_layers[1].recurrent_dropout > 0\n",
        "assert my_lstm"
      ],
      "execution_count": 17,
      "outputs": []
    },
    {
      "cell_type": "code",
      "metadata": {
        "deletable": false,
        "editable": false,
        "nbgrader": {
          "cell_type": "code",
          "checksum": "64f5b9ef67549c3ccdd52cf22907a0ed",
          "grade": false,
          "grade_id": "cell-33238b0da6c68f44",
          "locked": true,
          "schema_version": 3,
          "solution": false
        },
        "id": "AUjAEldQiSlL",
        "colab": {
          "base_uri": "https://localhost:8080/"
        },
        "outputId": "ba9ffbf6-32bf-422f-d821-f8d4dff66b00"
      },
      "source": [
        "%%time\n",
        "my_lstm.compile(loss='binary_crossentropy',optimizer='adam',metrics=['accuracy'])\n",
        "my_lstm.fit(x_train, y_train, batch_size=32, epochs=1)"
      ],
      "execution_count": 18,
      "outputs": [
        {
          "output_type": "stream",
          "text": [
            "782/782 [==============================] - 76s 94ms/step - loss: 0.9313 - accuracy: 0.5615\n",
            "CPU times: user 2min 3s, sys: 5.77 s, total: 2min 9s\n",
            "Wall time: 1min 16s\n"
          ],
          "name": "stdout"
        }
      ]
    },
    {
      "cell_type": "code",
      "metadata": {
        "deletable": false,
        "nbgrader": {
          "cell_type": "code",
          "checksum": "06da7d2df6c07981e56afc9151b0f5ad",
          "grade": false,
          "grade_id": "cell-43b2247e569276bc",
          "locked": false,
          "schema_version": 3,
          "solution": true
        },
        "id": "TfNgF2VGiSlL",
        "colab": {
          "base_uri": "https://localhost:8080/"
        },
        "outputId": "3ffdfec7-a2d6-4508-f657-16b19531e85e"
      },
      "source": [
        "# Evaluate your models on the test set and save the loss and accuracies to the appropriate variables:\n",
        "# model_name_loss, model_name_acc (e.g., my_simple_loss and my_simple_acc).\n",
        "\n",
        "my_simple_loss = my_simple.evaluate(x_test, y_test)[0]\n",
        "my_simple_acc = my_simple.evaluate(x_test, y_test)[1]\n",
        "my_gru_loss = my_gru.evaluate(x_test, y_test)[0]\n",
        "my_gru_acc = my_gru.evaluate(x_test, y_test)[1]\n",
        "my_lstm_loss = my_lstm.evaluate(x_test, y_test)[0]\n",
        "my_lstm_acc = my_lstm.evaluate(x_test, y_test)[1]\n",
        "\n",
        "# raise NotImplementedError()"
      ],
      "execution_count": 19,
      "outputs": [
        {
          "output_type": "stream",
          "text": [
            "782/782 [==============================] - 4s 5ms/step - loss: 0.9986 - accuracy: 0.5031\n",
            "782/782 [==============================] - 4s 5ms/step - loss: 0.9986 - accuracy: 0.5031\n",
            "782/782 [==============================] - 10s 13ms/step - loss: 0.5258 - accuracy: 0.7594\n",
            "782/782 [==============================] - 10s 13ms/step - loss: 0.5258 - accuracy: 0.7594\n",
            "782/782 [==============================] - 8s 10ms/step - loss: 0.5218 - accuracy: 0.7553\n",
            "782/782 [==============================] - 8s 10ms/step - loss: 0.5218 - accuracy: 0.7553\n"
          ],
          "name": "stdout"
        }
      ]
    },
    {
      "cell_type": "code",
      "metadata": {
        "deletable": false,
        "editable": false,
        "nbgrader": {
          "cell_type": "code",
          "checksum": "a0a15ab1242ee6a422212cdf05c096d1",
          "grade": false,
          "grade_id": "cell-24347394026d518c",
          "locked": true,
          "schema_version": 3,
          "solution": false
        },
        "id": "V35ntP8QiSlL",
        "colab": {
          "base_uri": "https://localhost:8080/"
        },
        "outputId": "65fe609e-dd5d-4251-d99d-e8b29911a986"
      },
      "source": [
        "print(f\"Your simple model achieved an accuracy of {my_simple_acc:.2}.\")\n",
        "print(f\"Your GRU model achieved an accuracy of {my_gru_acc:.2}.\")\n",
        "print(f\"Your LSTM model achieved an accuracy of {my_lstm_acc:.2}.\")"
      ],
      "execution_count": 20,
      "outputs": [
        {
          "output_type": "stream",
          "text": [
            "Your simple model achieved an accuracy of 0.5.\n",
            "Your GRU model achieved an accuracy of 0.76.\n",
            "Your LSTM model achieved an accuracy of 0.76.\n"
          ],
          "name": "stdout"
        }
      ]
    },
    {
      "cell_type": "markdown",
      "metadata": {
        "deletable": false,
        "editable": false,
        "nbgrader": {
          "cell_type": "markdown",
          "checksum": "3426ed141c7ecdfcb8765e570940a3de",
          "grade": false,
          "grade_id": "cell-95c1830b360ac2b2",
          "locked": true,
          "schema_version": 3,
          "solution": false
        },
        "id": "p7IaEe6niSlL"
      },
      "source": [
        "Note that we are only running these models with 1 layer and training them for only 1 epoch. We can easily achieve better results by stacking multiple layers but the model would take a much longer time to train."
      ]
    },
    {
      "cell_type": "code",
      "metadata": {
        "deletable": false,
        "editable": false,
        "nbgrader": {
          "cell_type": "code",
          "checksum": "d09aaaa2e38735c05865905d77323d90",
          "grade": true,
          "grade_id": "cell-3e1e2805ce275b4c",
          "locked": true,
          "points": 5,
          "schema_version": 3,
          "solution": false
        },
        "id": "3RKAE_8WiSlM"
      },
      "source": [
        "assert my_simple_acc > 0.4\n",
        "assert my_gru_acc > 0.6\n",
        "assert my_lstm_acc > 0.7"
      ],
      "execution_count": 21,
      "outputs": []
    },
    {
      "cell_type": "markdown",
      "metadata": {
        "deletable": false,
        "editable": false,
        "nbgrader": {
          "cell_type": "markdown",
          "checksum": "830573f46459d11e5238532d8759463e",
          "grade": false,
          "grade_id": "cell-bc503c7f94e3b8bf",
          "locked": true,
          "schema_version": 3,
          "solution": false
        },
        "id": "DkCXeTOYiSlM"
      },
      "source": [
        "## Feedback"
      ]
    },
    {
      "cell_type": "code",
      "metadata": {
        "deletable": false,
        "nbgrader": {
          "cell_type": "code",
          "checksum": "ed936ab53a1391c5e6af8df699a1dbf5",
          "grade": false,
          "grade_id": "feedback",
          "locked": false,
          "schema_version": 3,
          "solution": true
        },
        "id": "9fWSZ_HViSlM"
      },
      "source": [
        "def feedback():\n",
        "    \"\"\"Provide feedback on the contents of this exercise\n",
        "    \n",
        "    Returns:\n",
        "        string\n",
        "    \"\"\"\n",
        "    return(\"not too hard, not too easy\")\n",
        "    # raise NotImplementedError()"
      ],
      "execution_count": 22,
      "outputs": []
    },
    {
      "cell_type": "code",
      "metadata": {
        "deletable": false,
        "editable": false,
        "nbgrader": {
          "cell_type": "code",
          "checksum": "f39f6185a54850c2f1f9b5b2a17b7543",
          "grade": true,
          "grade_id": "feedback-tests",
          "locked": true,
          "points": 0,
          "schema_version": 3,
          "solution": false
        },
        "id": "p9EzzAWciSlM"
      },
      "source": [
        ""
      ],
      "execution_count": 22,
      "outputs": []
    }
  ]
}