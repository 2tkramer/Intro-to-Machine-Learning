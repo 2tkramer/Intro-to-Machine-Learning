{
  "nbformat": 4,
  "nbformat_minor": 0,
  "metadata": {
    "kernelspec": {
      "display_name": "iml-exercises",
      "language": "python",
      "name": "iml-exercises"
    },
    "language_info": {
      "codemirror_mode": {
        "name": "ipython",
        "version": 3
      },
      "file_extension": ".py",
      "mimetype": "text/x-python",
      "name": "python",
      "nbconvert_exporter": "python",
      "pygments_lexer": "ipython3",
      "version": "3.6.5"
    },
    "colab": {
      "name": "TaylorKramer_6b_DL_CNN.ipynb",
      "provenance": [],
      "collapsed_sections": []
    }
  },
  "cells": [
    {
      "cell_type": "markdown",
      "metadata": {
        "id": "MMxsK2BlQZrr"
      },
      "source": [
        "## CSCI 470 Activities and Case Studies\n",
        "\n",
        "1. For all activities, you are allowed to collaborate with a partner. \n",
        "1. For case studies, you should work individually and are **not** allowed to collaborate.\n",
        "\n",
        "By filling out this notebook and submitting it, you acknowledge that you are aware of the above policies and are agreeing to comply with them."
      ]
    },
    {
      "cell_type": "markdown",
      "metadata": {
        "id": "7JGDDCN5QZrx"
      },
      "source": [
        "Some considerations with regard to how these notebooks will be graded:\n",
        "\n",
        "1. You can add more notebook cells or edit existing notebook cells other than \"# YOUR CODE HERE\" to test out or debug your code. We actually highly recommend you do so to gain a better understanding of what is happening. However, during grading, **these changes are ignored**. \n",
        "2. You must ensure that all your code for the particular task is available in the cells that say \"# YOUR CODE HERE\"\n",
        "3. Every cell that says \"# YOUR CODE HERE\" is followed by a \"raise NotImplementedError\". You need to remove that line. During grading, if an error occurs then you will not receive points for your work in that section.\n",
        "4. If your code passes the \"assert\" statements, then no output will result. If your code fails the \"assert\" statements, you will get an \"AssertionError\". Getting an assertion error means you will not receive points for that particular task.\n",
        "5. If you edit the \"assert\" statements to make your code pass, they will still fail when they are graded since the \"assert\" statements will revert to the original. Make sure you don't edit the assert statements.\n",
        "6. We may sometimes have \"hidden\" tests for grading. This means that passing the visible \"assert\" statements is not sufficient. The \"assert\" statements are there as a guide but you need to make sure you understand what you're required to do and ensure that you are doing it correctly. Passing the visible tests is necessary but not sufficient to get the grade for that cell.\n",
        "7. When you are asked to define a function, make sure you **don't** use any variables outside of the parameters passed to the function. You can think of the parameters being passed to the function as a hint. Make sure you're using all of those variables.\n",
        "8. Finally, **make sure you run \"Kernel > Restart and Run All\"** and pass all the asserts before submitting. If you don't restart the kernel, there may be some code that you ran and deleted that is still being used and that was why your asserts were passing."
      ]
    },
    {
      "cell_type": "markdown",
      "metadata": {
        "deletable": false,
        "editable": false,
        "nbgrader": {
          "cell_type": "markdown",
          "checksum": "2a203cf394bc311b087275930cbc5658",
          "grade": false,
          "grade_id": "cell-8624ebbfca3f9d05",
          "locked": true,
          "schema_version": 3,
          "solution": false
        },
        "id": "pvLYAQkJQZry"
      },
      "source": [
        "# Deep Learning - Convolutional Neural Networks\n",
        "\n",
        "In this exercise we'll compare a simple fully connected feed forward neural network with a convolutional neural network at predicting the [digits drawn in a 28x28 pixel image](http://yann.lecun.com/exdb/mnist/). \n",
        "\n",
        "Note that each sample we're using is a grayscale image - that means that each sample is a matrix of values whereas previously our samples had been vectors. You will need to modify the data to work with this accordingly. For example, keras' [Dense](https://www.tensorflow.org/api_docs/python/tf/keras/layers/Dense) layers expect their inputs to be vectors so whenever you're using a [Dense](https://www.tensorflow.org/api_docs/python/tf/keras/layers/Dense) layer, make sure you convert its inputs to a vector. In keras, you can do that using the [Flatten](https://www.tensorflow.org/api_docs/python/tf/keras/layers/Flatten) layer. For more complex changes where you want to cusomize the exact shape of the values, you can use the [Reshape](https://www.tensorflow.org/api_docs/python/tf/keras/layers/Reshape) layer."
      ]
    },
    {
      "cell_type": "code",
      "metadata": {
        "deletable": false,
        "editable": false,
        "nbgrader": {
          "cell_type": "code",
          "checksum": "f7d24c68f8e6e37fddf50afec251ae21",
          "grade": false,
          "grade_id": "cell-69b5ab127f73f4ab",
          "locked": true,
          "schema_version": 3,
          "solution": false
        },
        "id": "cbFIZb7AQZry"
      },
      "source": [
        "import tensorflow as tf\n",
        "from tensorflow.keras.datasets import cifar10, mnist\n",
        "from tensorflow.keras import Sequential\n",
        "from tensorflow.keras.layers import Dense, Dropout, Flatten, Conv2D, MaxPool2D\n",
        "import numpy as np\n",
        "import scipy\n",
        "import matplotlib\n",
        "import matplotlib.pyplot as plt\n",
        "\n",
        "np.random.seed(0)"
      ],
      "execution_count": 1,
      "outputs": []
    },
    {
      "cell_type": "code",
      "metadata": {
        "deletable": false,
        "editable": false,
        "nbgrader": {
          "cell_type": "code",
          "checksum": "957c2f5bd51716f3696dbb17a2244d8b",
          "grade": false,
          "grade_id": "cell-2f12505f86743d95",
          "locked": true,
          "schema_version": 3,
          "solution": false
        },
        "id": "0W5_fFJqQZrz",
        "colab": {
          "base_uri": "https://localhost:8080/"
        },
        "outputId": "f058016e-fc83-40eb-aa9c-b9602d34da6c"
      },
      "source": [
        "(x_train, y_train), (x_test, y_test) = mnist.load_data()\n",
        "print(y_train.shape)"
      ],
      "execution_count": 2,
      "outputs": [
        {
          "output_type": "stream",
          "text": [
            "Downloading data from https://storage.googleapis.com/tensorflow/tf-keras-datasets/mnist.npz\n",
            "11493376/11490434 [==============================] - 0s 0us/step\n",
            "(60000,)\n"
          ],
          "name": "stdout"
        }
      ]
    },
    {
      "cell_type": "code",
      "metadata": {
        "deletable": false,
        "editable": false,
        "nbgrader": {
          "cell_type": "code",
          "checksum": "b230debc4340c914b5da05c93aa47979",
          "grade": false,
          "grade_id": "cell-43ee2cdae7268658",
          "locked": true,
          "schema_version": 3,
          "solution": false
        },
        "id": "bfnOq6HzQZrz",
        "colab": {
          "base_uri": "https://localhost:8080/"
        },
        "outputId": "5df0a773-f075-47ce-ed3e-758f9798e9d1"
      },
      "source": [
        "s1 = x_train.shape\n",
        "s2 = x_test.shape\n",
        "print(f\"The mnist data was loaded with {s1[0]} training samples and {s2[0]} testing samples. Each sample is a {s1[1]} x {s1[2]} pixel image.\")\n"
      ],
      "execution_count": 3,
      "outputs": [
        {
          "output_type": "stream",
          "text": [
            "The mnist data was loaded with 60000 training samples and 10000 testing samples. Each sample is a 28 x 28 pixel image.\n"
          ],
          "name": "stdout"
        }
      ]
    },
    {
      "cell_type": "code",
      "metadata": {
        "deletable": false,
        "editable": false,
        "nbgrader": {
          "cell_type": "code",
          "checksum": "e9a2f8d4b3027b56d756cd0698c15f15",
          "grade": false,
          "grade_id": "cell-5c9c291b795e1704",
          "locked": true,
          "schema_version": 3,
          "solution": false
        },
        "id": "JCmMfejsQZrz",
        "colab": {
          "base_uri": "https://localhost:8080/"
        },
        "outputId": "14b4c26f-0454-4364-ac78-73fe14cbe226"
      },
      "source": [
        "# Here's an example hand drawn digit's image\n",
        "example = x_train[0]\n",
        "example"
      ],
      "execution_count": 4,
      "outputs": [
        {
          "output_type": "execute_result",
          "data": {
            "text/plain": [
              "array([[  0,   0,   0,   0,   0,   0,   0,   0,   0,   0,   0,   0,   0,\n",
              "          0,   0,   0,   0,   0,   0,   0,   0,   0,   0,   0,   0,   0,\n",
              "          0,   0],\n",
              "       [  0,   0,   0,   0,   0,   0,   0,   0,   0,   0,   0,   0,   0,\n",
              "          0,   0,   0,   0,   0,   0,   0,   0,   0,   0,   0,   0,   0,\n",
              "          0,   0],\n",
              "       [  0,   0,   0,   0,   0,   0,   0,   0,   0,   0,   0,   0,   0,\n",
              "          0,   0,   0,   0,   0,   0,   0,   0,   0,   0,   0,   0,   0,\n",
              "          0,   0],\n",
              "       [  0,   0,   0,   0,   0,   0,   0,   0,   0,   0,   0,   0,   0,\n",
              "          0,   0,   0,   0,   0,   0,   0,   0,   0,   0,   0,   0,   0,\n",
              "          0,   0],\n",
              "       [  0,   0,   0,   0,   0,   0,   0,   0,   0,   0,   0,   0,   0,\n",
              "          0,   0,   0,   0,   0,   0,   0,   0,   0,   0,   0,   0,   0,\n",
              "          0,   0],\n",
              "       [  0,   0,   0,   0,   0,   0,   0,   0,   0,   0,   0,   0,   3,\n",
              "         18,  18,  18, 126, 136, 175,  26, 166, 255, 247, 127,   0,   0,\n",
              "          0,   0],\n",
              "       [  0,   0,   0,   0,   0,   0,   0,   0,  30,  36,  94, 154, 170,\n",
              "        253, 253, 253, 253, 253, 225, 172, 253, 242, 195,  64,   0,   0,\n",
              "          0,   0],\n",
              "       [  0,   0,   0,   0,   0,   0,   0,  49, 238, 253, 253, 253, 253,\n",
              "        253, 253, 253, 253, 251,  93,  82,  82,  56,  39,   0,   0,   0,\n",
              "          0,   0],\n",
              "       [  0,   0,   0,   0,   0,   0,   0,  18, 219, 253, 253, 253, 253,\n",
              "        253, 198, 182, 247, 241,   0,   0,   0,   0,   0,   0,   0,   0,\n",
              "          0,   0],\n",
              "       [  0,   0,   0,   0,   0,   0,   0,   0,  80, 156, 107, 253, 253,\n",
              "        205,  11,   0,  43, 154,   0,   0,   0,   0,   0,   0,   0,   0,\n",
              "          0,   0],\n",
              "       [  0,   0,   0,   0,   0,   0,   0,   0,   0,  14,   1, 154, 253,\n",
              "         90,   0,   0,   0,   0,   0,   0,   0,   0,   0,   0,   0,   0,\n",
              "          0,   0],\n",
              "       [  0,   0,   0,   0,   0,   0,   0,   0,   0,   0,   0, 139, 253,\n",
              "        190,   2,   0,   0,   0,   0,   0,   0,   0,   0,   0,   0,   0,\n",
              "          0,   0],\n",
              "       [  0,   0,   0,   0,   0,   0,   0,   0,   0,   0,   0,  11, 190,\n",
              "        253,  70,   0,   0,   0,   0,   0,   0,   0,   0,   0,   0,   0,\n",
              "          0,   0],\n",
              "       [  0,   0,   0,   0,   0,   0,   0,   0,   0,   0,   0,   0,  35,\n",
              "        241, 225, 160, 108,   1,   0,   0,   0,   0,   0,   0,   0,   0,\n",
              "          0,   0],\n",
              "       [  0,   0,   0,   0,   0,   0,   0,   0,   0,   0,   0,   0,   0,\n",
              "         81, 240, 253, 253, 119,  25,   0,   0,   0,   0,   0,   0,   0,\n",
              "          0,   0],\n",
              "       [  0,   0,   0,   0,   0,   0,   0,   0,   0,   0,   0,   0,   0,\n",
              "          0,  45, 186, 253, 253, 150,  27,   0,   0,   0,   0,   0,   0,\n",
              "          0,   0],\n",
              "       [  0,   0,   0,   0,   0,   0,   0,   0,   0,   0,   0,   0,   0,\n",
              "          0,   0,  16,  93, 252, 253, 187,   0,   0,   0,   0,   0,   0,\n",
              "          0,   0],\n",
              "       [  0,   0,   0,   0,   0,   0,   0,   0,   0,   0,   0,   0,   0,\n",
              "          0,   0,   0,   0, 249, 253, 249,  64,   0,   0,   0,   0,   0,\n",
              "          0,   0],\n",
              "       [  0,   0,   0,   0,   0,   0,   0,   0,   0,   0,   0,   0,   0,\n",
              "          0,  46, 130, 183, 253, 253, 207,   2,   0,   0,   0,   0,   0,\n",
              "          0,   0],\n",
              "       [  0,   0,   0,   0,   0,   0,   0,   0,   0,   0,   0,   0,  39,\n",
              "        148, 229, 253, 253, 253, 250, 182,   0,   0,   0,   0,   0,   0,\n",
              "          0,   0],\n",
              "       [  0,   0,   0,   0,   0,   0,   0,   0,   0,   0,  24, 114, 221,\n",
              "        253, 253, 253, 253, 201,  78,   0,   0,   0,   0,   0,   0,   0,\n",
              "          0,   0],\n",
              "       [  0,   0,   0,   0,   0,   0,   0,   0,  23,  66, 213, 253, 253,\n",
              "        253, 253, 198,  81,   2,   0,   0,   0,   0,   0,   0,   0,   0,\n",
              "          0,   0],\n",
              "       [  0,   0,   0,   0,   0,   0,  18, 171, 219, 253, 253, 253, 253,\n",
              "        195,  80,   9,   0,   0,   0,   0,   0,   0,   0,   0,   0,   0,\n",
              "          0,   0],\n",
              "       [  0,   0,   0,   0,  55, 172, 226, 253, 253, 253, 253, 244, 133,\n",
              "         11,   0,   0,   0,   0,   0,   0,   0,   0,   0,   0,   0,   0,\n",
              "          0,   0],\n",
              "       [  0,   0,   0,   0, 136, 253, 253, 253, 212, 135, 132,  16,   0,\n",
              "          0,   0,   0,   0,   0,   0,   0,   0,   0,   0,   0,   0,   0,\n",
              "          0,   0],\n",
              "       [  0,   0,   0,   0,   0,   0,   0,   0,   0,   0,   0,   0,   0,\n",
              "          0,   0,   0,   0,   0,   0,   0,   0,   0,   0,   0,   0,   0,\n",
              "          0,   0],\n",
              "       [  0,   0,   0,   0,   0,   0,   0,   0,   0,   0,   0,   0,   0,\n",
              "          0,   0,   0,   0,   0,   0,   0,   0,   0,   0,   0,   0,   0,\n",
              "          0,   0],\n",
              "       [  0,   0,   0,   0,   0,   0,   0,   0,   0,   0,   0,   0,   0,\n",
              "          0,   0,   0,   0,   0,   0,   0,   0,   0,   0,   0,   0,   0,\n",
              "          0,   0]], dtype=uint8)"
            ]
          },
          "metadata": {
            "tags": []
          },
          "execution_count": 4
        }
      ]
    },
    {
      "cell_type": "code",
      "metadata": {
        "id": "rdEay0V3QZr0",
        "colab": {
          "base_uri": "https://localhost:8080/",
          "height": 281
        },
        "outputId": "904ff963-e8cb-4655-9712-ccf90ca10fee"
      },
      "source": [
        "# Now let's plot that matrix to better understand what's happening here...\n",
        "plt.imshow(example, cmap=\"gray\")"
      ],
      "execution_count": 5,
      "outputs": [
        {
          "output_type": "execute_result",
          "data": {
            "text/plain": [
              "<matplotlib.image.AxesImage at 0x7fedbcbbb350>"
            ]
          },
          "metadata": {
            "tags": []
          },
          "execution_count": 5
        },
        {
          "output_type": "display_data",
          "data": {
            "image/png": "[encoded data removed]",
            "text/plain": [
              "<Figure size 432x288 with 1 Axes>"
            ]
          },
          "metadata": {
            "tags": [],
            "needs_background": "light"
          }
        }
      ]
    },
    {
      "cell_type": "code",
      "metadata": {
        "id": "d1vR06TRQZr0",
        "colab": {
          "base_uri": "https://localhost:8080/"
        },
        "outputId": "43164b1b-097e-46b7-81e8-5428095b66ed"
      },
      "source": [
        "# Here are all the unique labels in the data\n",
        "# We're predicting the digit in an image and we have images from all digits\n",
        "set(y_test)"
      ],
      "execution_count": 6,
      "outputs": [
        {
          "output_type": "execute_result",
          "data": {
            "text/plain": [
              "{0, 1, 2, 3, 4, 5, 6, 7, 8, 9}"
            ]
          },
          "metadata": {
            "tags": []
          },
          "execution_count": 6
        }
      ]
    },
    {
      "cell_type": "code",
      "metadata": {
        "deletable": false,
        "nbgrader": {
          "cell_type": "code",
          "checksum": "181818b1f77d0f52ace8cfea1f63a385",
          "grade": false,
          "grade_id": "cell-887e94c3f19aac00",
          "locked": false,
          "schema_version": 3,
          "solution": true
        },
        "id": "Sieb9XnhQZr0"
      },
      "source": [
        "import math\n",
        "def calculate_conv_shape(X, K, padding=0, stride=1):\n",
        "    \"\"\"Calculate the shape of the output of a convolution \n",
        "    \n",
        "    Args:\n",
        "        X (np.array): The input matrix\n",
        "        K (np.array): The filter matrix\n",
        "        padding (int, optional): Defaults to 0. The padding dimension\n",
        "        stride (int, optional): Defaults to 1. The stride of the convolution\n",
        "    \n",
        "    Returns:\n",
        "        tuple: The shape of the convolution output, height then width\n",
        "    \"\"\"\n",
        "    return(math.floor(((X.shape[0]-K.shape[0]+2*padding)/stride)+1), math.floor(((X.shape[1]-K.shape[1]+2*padding)/stride)+1))\n",
        "\n",
        "    # raise NotImplementedError()"
      ],
      "execution_count": 7,
      "outputs": []
    },
    {
      "cell_type": "code",
      "metadata": {
        "deletable": false,
        "editable": false,
        "nbgrader": {
          "cell_type": "code",
          "checksum": "728fb1e9a2b970fe83bc8f42f97002fb",
          "grade": false,
          "grade_id": "cell-f77d68a4c1196592",
          "locked": true,
          "schema_version": 3,
          "solution": false
        },
        "id": "XWjgOCxmQZr1",
        "colab": {
          "base_uri": "https://localhost:8080/"
        },
        "outputId": "4b7c00a7-56a7-4ab0-b3ec-0d4794060343"
      },
      "source": [
        "sharpen = np.array([\n",
        "    [0, -1, 0],\n",
        "    [-1, 5, -1],\n",
        "    [0, -1, 0]\n",
        "])\n",
        "\n",
        "calculate_conv_shape(example, sharpen, padding=1)\n",
        "# calculate_conv_shape(example, sharpen, padding=0, stride=2)"
      ],
      "execution_count": 8,
      "outputs": [
        {
          "output_type": "execute_result",
          "data": {
            "text/plain": [
              "(28, 28)"
            ]
          },
          "metadata": {
            "tags": []
          },
          "execution_count": 8
        }
      ]
    },
    {
      "cell_type": "code",
      "metadata": {
        "deletable": false,
        "editable": false,
        "nbgrader": {
          "cell_type": "code",
          "checksum": "1cc4c7341ee35929f764e16e919beded",
          "grade": true,
          "grade_id": "cell-8c49e7193a849321",
          "locked": true,
          "points": 5,
          "schema_version": 3,
          "solution": false
        },
        "id": "bY_dbfH2QZr1"
      },
      "source": [
        "ans = calculate_conv_shape(example, sharpen, padding=1)\n",
        "assert isinstance(ans, tuple)\n",
        "assert isinstance(ans[0], int)\n",
        "assert isinstance(ans[1], int)\n",
        "assert ans == (28, 28)\n",
        "ans = calculate_conv_shape(example, sharpen, padding=0, stride=2)\n",
        "assert ans == (13, 13)"
      ],
      "execution_count": 9,
      "outputs": []
    },
    {
      "cell_type": "markdown",
      "metadata": {
        "deletable": false,
        "editable": false,
        "nbgrader": {
          "cell_type": "markdown",
          "checksum": "41023385138b794d59c124dfa32b5922",
          "grade": false,
          "grade_id": "cell-25dbc77554a4c538",
          "locked": true,
          "schema_version": 3,
          "solution": false
        },
        "id": "xz-AqkeCQZr1"
      },
      "source": [
        "To apply a convolution, you can use the [convolve](https://docs.scipy.org/doc/scipy-0.15.1/reference/generated/scipy.ndimage.filters.convolve.html) function from scipy. (scipy has already been imported for you above.)"
      ]
    },
    {
      "cell_type": "code",
      "metadata": {
        "deletable": false,
        "nbgrader": {
          "cell_type": "code",
          "checksum": "03f4816a47574710fde4f244416bd89d",
          "grade": false,
          "grade_id": "cell-eaf956c226dd39b7",
          "locked": false,
          "schema_version": 3,
          "solution": true
        },
        "id": "GHv0h9PhQZr1",
        "colab": {
          "base_uri": "https://localhost:8080/",
          "height": 265
        },
        "outputId": "0bd4f4ed-b840-4734-8156-27458fbcdc2e"
      },
      "source": [
        "# Apply the sharpen filter to the example and save the output to sharpened_image\n",
        "\n",
        "sharpened_image = scipy.ndimage.filters.convolve(example, sharpen)\n",
        "\n",
        "# raise NotImplementedError()\n",
        "\n",
        "\n",
        "plt.imshow(sharpened_image, cmap=\"gray\")\n",
        "plt.show()"
      ],
      "execution_count": 10,
      "outputs": [
        {
          "output_type": "display_data",
          "data": {
            "image/png": "[encoded data removed]",
            "text/plain": [
              "<Figure size 432x288 with 1 Axes>"
            ]
          },
          "metadata": {
            "tags": [],
            "needs_background": "light"
          }
        }
      ]
    },
    {
      "cell_type": "code",
      "metadata": {
        "deletable": false,
        "nbgrader": {
          "cell_type": "code",
          "checksum": "ee7805557b9bdc6eaf1d4529284c758c",
          "grade": false,
          "grade_id": "cell-1051e90fd643f6ab",
          "locked": false,
          "schema_version": 3,
          "solution": true
        },
        "id": "gD34CnY3QZr2",
        "colab": {
          "base_uri": "https://localhost:8080/",
          "height": 265
        },
        "outputId": "91c23121-37b6-4863-e780-5ed8484bcb4c"
      },
      "source": [
        "# Apply a filter of your choice (saved to my_filter) and save the output image to filtered_image\n",
        "\n",
        "my_filter = np.array([\n",
        "    [0, 7, 2],\n",
        "    [-1, 2, -1],\n",
        "    [2, 7, 0]\n",
        "])\n",
        "filtered_image = scipy.ndimage.filters.convolve(example, my_filter)\n",
        "# raise NotImplementedError()\n",
        "\n",
        "plt.imshow(filtered_image, cmap=\"gray\")\n",
        "plt.show()"
      ],
      "execution_count": 11,
      "outputs": [
        {
          "output_type": "display_data",
          "data": {
            "image/png": "[encoded data removed]",
            "text/plain": [
              "<Figure size 432x288 with 1 Axes>"
            ]
          },
          "metadata": {
            "tags": [],
            "needs_background": "light"
          }
        }
      ]
    },
    {
      "cell_type": "code",
      "metadata": {
        "deletable": false,
        "editable": false,
        "nbgrader": {
          "cell_type": "code",
          "checksum": "21b64248d1a73f689cba5f35525ceaa0",
          "grade": true,
          "grade_id": "cell-dab2b2dd97bd278f",
          "locked": true,
          "points": 5,
          "schema_version": 3,
          "solution": false
        },
        "id": "GwyqupRUQZr2"
      },
      "source": [
        "assert sharpened_image.shape == example.shape\n",
        "assert filtered_image.shape == example.shape\n",
        "assert my_filter.shape == (3,3)"
      ],
      "execution_count": 12,
      "outputs": []
    },
    {
      "cell_type": "markdown",
      "metadata": {
        "id": "Pt4zAwoEQZr2"
      },
      "source": [
        "We'll start by creating a simple 2 hidden layer fully connected feed forward neural network."
      ]
    },
    {
      "cell_type": "code",
      "metadata": {
        "deletable": false,
        "nbgrader": {
          "cell_type": "code",
          "checksum": "25c5aedb7f91e8d6cb9332e8fb6cd348",
          "grade": false,
          "grade_id": "cell-dd8d2962acc9833c",
          "locked": false,
          "schema_version": 3,
          "solution": true
        },
        "id": "zE75o8-5QZr2",
        "colab": {
          "base_uri": "https://localhost:8080/"
        },
        "outputId": "aecc1dc7-d1ed-43f6-dc9e-f4d12f123d97"
      },
      "source": [
        "# Create a simple NN model with 2 hidden dense layers and an output layer\n",
        "# You can choose any number of neurons per Dense layer ex. 100 or 200\n",
        "# This is a classification task with 10 output classes so make sure you adjust the last output layer's hyperparameters accordingly\n",
        "# Since the input data is a matrix, you will want to use the Flatten layer \n",
        "# Save the layers of the model to simple_layers and the resulting Sequential model to simple_model\n",
        "\n",
        "simple_layers = [\n",
        "                 tf.keras.layers.Flatten(),\n",
        "                 tf.keras.layers.Dense(800, activation=\"relu\"),\n",
        "                 tf.keras.layers.Dropout(0.8),\n",
        "                 tf.keras.layers.Dense(800, activation=\"relu\"),\n",
        "                 tf.keras.layers.Dropout(0.5),\n",
        "                 tf.keras.layers.Dense(10, activation=\"softmax\"),\n",
        "]\n",
        "\n",
        "simple_model = Sequential(simple_layers)\n",
        "\n",
        "# raise NotImplementedError()\n",
        "\n",
        "simple_model.compile(optimizer=\"adam\", loss='sparse_categorical_crossentropy', metrics=['accuracy'])\n",
        "simple_model.fit(x_train, y_train, epochs=5)\n",
        "simple_model.summary()"
      ],
      "execution_count": 13,
      "outputs": [
        {
          "output_type": "stream",
          "text": [
            "Epoch 1/5\n",
            "1875/1875 [==============================] - 28s 15ms/step - loss: 24.9804 - accuracy: 0.4869\n",
            "Epoch 2/5\n",
            "1875/1875 [==============================] - 27s 15ms/step - loss: 2.0779 - accuracy: 0.3515\n",
            "Epoch 3/5\n",
            "1875/1875 [==============================] - 27s 15ms/step - loss: 2.1365 - accuracy: 0.2753\n",
            "Epoch 4/5\n",
            "1875/1875 [==============================] - 27s 15ms/step - loss: 2.2382 - accuracy: 0.2604\n",
            "Epoch 5/5\n",
            "1875/1875 [==============================] - 27s 15ms/step - loss: 2.1501 - accuracy: 0.2559\n",
            "Model: \"sequential\"\n",
            "_________________________________________________________________\n",
            "Layer (type)                 Output Shape              Param #   \n",
            "=================================================================\n",
            "flatten (Flatten)            (32, 784)                 0         \n",
            "_________________________________________________________________\n",
            "dense (Dense)                (32, 800)                 628000    \n",
            "_________________________________________________________________\n",
            "dropout (Dropout)            (32, 800)                 0         \n",
            "_________________________________________________________________\n",
            "dense_1 (Dense)              (32, 800)                 640800    \n",
            "_________________________________________________________________\n",
            "dropout_1 (Dropout)          (32, 800)                 0         \n",
            "_________________________________________________________________\n",
            "dense_2 (Dense)              (32, 10)                  8010      \n",
            "=================================================================\n",
            "Total params: 1,276,810\n",
            "Trainable params: 1,276,810\n",
            "Non-trainable params: 0\n",
            "_________________________________________________________________\n"
          ],
          "name": "stdout"
        }
      ]
    },
    {
      "cell_type": "code",
      "metadata": {
        "deletable": false,
        "editable": false,
        "nbgrader": {
          "cell_type": "code",
          "checksum": "e874f14f57712a30b494cbc87065f2e2",
          "grade": true,
          "grade_id": "cell-b9330f9b40580d4b",
          "locked": true,
          "points": 5,
          "schema_version": 3,
          "solution": false
        },
        "id": "pICH9xIgQZr2",
        "colab": {
          "base_uri": "https://localhost:8080/"
        },
        "outputId": "56e050b6-15ee-4af3-af5f-e66874e93c20"
      },
      "source": [
        "assert len(simple_layers) == 6\n",
        "assert isinstance(simple_layers[0], Flatten)\n",
        "assert isinstance(simple_layers[1], Dense)\n",
        "assert isinstance(simple_layers[3], Dense)\n",
        "assert isinstance(simple_layers[5], Dense)\n",
        "assert isinstance(simple_layers[2], Dropout)\n",
        "assert isinstance(simple_layers[4], Dropout)\n",
        "\n",
        "simple_scores = simple_model.evaluate(x_test, y_test)\n",
        "assert simple_scores[1] > 0.3"
      ],
      "execution_count": 14,
      "outputs": [
        {
          "output_type": "stream",
          "text": [
            "313/313 [==============================] - 2s 5ms/step - loss: 1.5741 - accuracy: 0.4379\n"
          ],
          "name": "stdout"
        }
      ]
    },
    {
      "cell_type": "code",
      "metadata": {
        "deletable": false,
        "editable": false,
        "nbgrader": {
          "cell_type": "code",
          "checksum": "7e7c56bf1514a7c124b4a1e93d3e647a",
          "grade": false,
          "grade_id": "cell-045361b2e3f23134",
          "locked": true,
          "schema_version": 3,
          "solution": false
        },
        "id": "hNt1kyEkQZr2",
        "colab": {
          "base_uri": "https://localhost:8080/"
        },
        "outputId": "d0689ecf-7b12-420c-a857-925234544d2a"
      },
      "source": [
        "print(f\"\\nThe simple model achieves an accuracy of {simple_scores[1]*100:.2f}% on the test data.\")"
      ],
      "execution_count": 15,
      "outputs": [
        {
          "output_type": "stream",
          "text": [
            "\n",
            "The simple model achieves an accuracy of 43.79% on the test data.\n"
          ],
          "name": "stdout"
        }
      ]
    },
    {
      "cell_type": "markdown",
      "metadata": {
        "id": "z0Gz40meQZr2"
      },
      "source": [
        "What's a good accuracy for our model? Is 50% good? \n",
        "\n",
        "Something to consider is that we have 10 classes - does that change your answer? What would random guessing's accuracy be? \n",
        "\n",
        "Based on your answer to the above questions, is your simple model good? \n",
        "\n",
        "Let's see if we can do better. In the next section, we'll build a convolutional neural network. You'll need to use [Conv2D](https://www.tensorflow.org/api_docs/python/tf/keras/layers/Conv2D) and [MaxPool2D](https://www.tensorflow.org/api_docs/python/tf/keras/layers/MaxPool2D) layers from Keras. "
      ]
    },
    {
      "cell_type": "code",
      "metadata": {
        "deletable": false,
        "nbgrader": {
          "cell_type": "code",
          "checksum": "2401ce6faee0e2bb6e6f49cf12ee41fe",
          "grade": false,
          "grade_id": "cell-960d34277a5b576e",
          "locked": false,
          "schema_version": 3,
          "solution": true
        },
        "id": "dYCFiAb5QZr3",
        "colab": {
          "base_uri": "https://localhost:8080/"
        },
        "outputId": "2c4b0fe0-d0ff-4a7c-e3db-375652882a18"
      },
      "source": [
        "# Create a CNN model with 4 convolutional layers, 2 dense fully connected hidden layers and the output layer\n",
        "# Use Max pooling after every convolutional layer and use 32, 64, 128, 128 filters respectively\n",
        "# Note that the output of the convolutional layers is a tensor\n",
        "# You will need to flatten the output from the feature learning component \n",
        "# You can choose any number of neurons per Dense layer ex. 100 or 200\n",
        "# Save the layers of the cnn model to cnn_layers and the resulting Sequential model as cnn_model\n",
        "\n",
        "cnn_layers = [   \n",
        "                 tf.keras.layers.Conv2D(32, kernel_size=(2,2), activation=\"tanh\", input_shape=[28,28,1]),\n",
        "                 tf.keras.layers.MaxPool2D(),\n",
        "                 tf.keras.layers.Conv2D(64, kernel_size=(4,4), activation=\"tanh\"),\n",
        "                 tf.keras.layers.MaxPool2D(),\n",
        "                 tf.keras.layers.Conv2D(128, kernel_size=(1,1), activation=\"tanh\"),\n",
        "                 tf.keras.layers.MaxPool2D(),\n",
        "                 tf.keras.layers.Conv2D(128, kernel_size=(1,1), activation=\"tanh\"),\n",
        "                 tf.keras.layers.MaxPool2D(),\n",
        "                 tf.keras.layers.Flatten(),\n",
        "                 tf.keras.layers.Dense(400, activation=\"relu\"),\n",
        "                 tf.keras.layers.Dense(400, activation=\"relu\"),\n",
        "                 tf.keras.layers.Dense(10, activation =\"softmax\"),\n",
        "]\n",
        "\n",
        "cnn_model = Sequential(cnn_layers)\n",
        "# raise NotImplementedError()\n",
        "\n",
        "cnn_model.compile(optimizer=\"adam\", loss='sparse_categorical_crossentropy', metrics=['accuracy'])\n",
        "cnn_model.fit(x_train.reshape(-1, 28, 28 ,1), y_train, epochs=1)\n",
        "cnn_model.summary()"
      ],
      "execution_count": 16,
      "outputs": [
        {
          "output_type": "stream",
          "text": [
            "1875/1875 [==============================] - 73s 38ms/step - loss: 0.4862 - accuracy: 0.8366\n",
            "Model: \"sequential_1\"\n",
            "_________________________________________________________________\n",
            "Layer (type)                 Output Shape              Param #   \n",
            "=================================================================\n",
            "conv2d (Conv2D)              (None, 27, 27, 32)        160       \n",
            "_________________________________________________________________\n",
            "max_pooling2d (MaxPooling2D) (None, 13, 13, 32)        0         \n",
            "_________________________________________________________________\n",
            "conv2d_1 (Conv2D)            (None, 10, 10, 64)        32832     \n",
            "_________________________________________________________________\n",
            "max_pooling2d_1 (MaxPooling2 (None, 5, 5, 64)          0         \n",
            "_________________________________________________________________\n",
            "conv2d_2 (Conv2D)            (None, 5, 5, 128)         8320      \n",
            "_________________________________________________________________\n",
            "max_pooling2d_2 (MaxPooling2 (None, 2, 2, 128)         0         \n",
            "_________________________________________________________________\n",
            "conv2d_3 (Conv2D)            (None, 2, 2, 128)         16512     \n",
            "_________________________________________________________________\n",
            "max_pooling2d_3 (MaxPooling2 (None, 1, 1, 128)         0         \n",
            "_________________________________________________________________\n",
            "flatten_1 (Flatten)          (None, 128)               0         \n",
            "_________________________________________________________________\n",
            "dense_3 (Dense)              (None, 400)               51600     \n",
            "_________________________________________________________________\n",
            "dense_4 (Dense)              (None, 400)               160400    \n",
            "_________________________________________________________________\n",
            "dense_5 (Dense)              (None, 10)                4010      \n",
            "=================================================================\n",
            "Total params: 273,834\n",
            "Trainable params: 273,834\n",
            "Non-trainable params: 0\n",
            "_________________________________________________________________\n"
          ],
          "name": "stdout"
        }
      ]
    },
    {
      "cell_type": "code",
      "metadata": {
        "deletable": false,
        "editable": false,
        "nbgrader": {
          "cell_type": "code",
          "checksum": "e669fd5f7a7fc1d5cfb44ec4649f20bb",
          "grade": true,
          "grade_id": "cell-44d2df9e1f2284ec",
          "locked": true,
          "points": 5,
          "schema_version": 3,
          "solution": false
        },
        "id": "hcjsoZmUQZr3",
        "colab": {
          "base_uri": "https://localhost:8080/"
        },
        "outputId": "253fa184-a7ee-4d4b-c753-4b23e5782d6d"
      },
      "source": [
        "assert len(cnn_layers) == 12\n",
        "assert isinstance(cnn_layers[0], Conv2D)\n",
        "assert isinstance(cnn_layers[2], Conv2D)\n",
        "assert isinstance(cnn_layers[4], Conv2D)\n",
        "assert isinstance(cnn_layers[6], Conv2D)\n",
        "assert isinstance(cnn_layers[1], MaxPool2D)\n",
        "assert isinstance(cnn_layers[3], MaxPool2D)\n",
        "assert isinstance(cnn_layers[5], MaxPool2D)\n",
        "assert isinstance(cnn_layers[7], MaxPool2D)\n",
        "assert isinstance(cnn_layers[8], Flatten)\n",
        "assert isinstance(cnn_layers[9], Dense)\n",
        "assert isinstance(cnn_layers[10], Dense)\n",
        "assert isinstance(cnn_layers[11], Dense)\n",
        "\n",
        "cnn_scores = cnn_model.evaluate(x_test.reshape(-1, 28, 28 ,1), y_test)\n",
        "assert cnn_scores[1] > 0.9"
      ],
      "execution_count": 17,
      "outputs": [
        {
          "output_type": "stream",
          "text": [
            "313/313 [==============================] - 4s 12ms/step - loss: 0.1057 - accuracy: 0.9679\n"
          ],
          "name": "stdout"
        }
      ]
    },
    {
      "cell_type": "code",
      "metadata": {
        "deletable": false,
        "editable": false,
        "nbgrader": {
          "cell_type": "code",
          "checksum": "77ce3357bb04aad496cfa936707911c1",
          "grade": false,
          "grade_id": "cell-a6157eb6365d54be",
          "locked": true,
          "schema_version": 3,
          "solution": false
        },
        "id": "Lu4_JbSBQZr3",
        "colab": {
          "base_uri": "https://localhost:8080/"
        },
        "outputId": "290b5cfe-a6c2-4ad7-c521-6d36294eec8b"
      },
      "source": [
        "print(f\"\\nThe CNN model achieves an accuracy of {cnn_scores[1]*100:.2f}% on the test data.\")"
      ],
      "execution_count": 18,
      "outputs": [
        {
          "output_type": "stream",
          "text": [
            "\n",
            "The CNN model achieves an accuracy of 96.79% on the test data.\n"
          ],
          "name": "stdout"
        }
      ]
    },
    {
      "cell_type": "code",
      "metadata": {
        "id": "1EQwigiXQZr3",
        "colab": {
          "base_uri": "https://localhost:8080/",
          "height": 281
        },
        "outputId": "73c524f9-a57c-4d5b-f4bb-67327a458a6a"
      },
      "source": [
        "# Change this value to test out some numbers and see how the models do\n",
        "i = 245\n",
        "\n",
        "new_example = x_test[i]\n",
        "\n",
        "simple_new_example = new_example.reshape(-1, 28, 28)\n",
        "cnn_new_example=new_example.reshape(-1, 28, 28, 1)\n",
        "\n",
        "simple_predict = simple_model.predict(simple_new_example).argmax()\n",
        "cnn_predict = cnn_model.predict(cnn_new_example).argmax()\n",
        "\n",
        "plt.imshow(new_example, cmap=\"gray\")\n",
        "print(f\"The simple model predicts this number is a {simple_predict} and the CNN predicts it is a {cnn_predict}.\")"
      ],
      "execution_count": 19,
      "outputs": [
        {
          "output_type": "stream",
          "text": [
            "The simple model predicts this number is a 9 and the CNN predicts it is a 3.\n"
          ],
          "name": "stdout"
        },
        {
          "output_type": "display_data",
          "data": {
            "image/png": "[encoded data removed]",
            "text/plain": [
              "<Figure size 432x288 with 1 Axes>"
            ]
          },
          "metadata": {
            "tags": [],
            "needs_background": "light"
          }
        }
      ]
    },
    {
      "cell_type": "markdown",
      "metadata": {
        "deletable": false,
        "editable": false,
        "nbgrader": {
          "cell_type": "markdown",
          "checksum": "48f97c6b49b742a0a7ebbd9fc0415266",
          "grade": false,
          "grade_id": "cell-ad05bf85bb55dc8e",
          "locked": true,
          "schema_version": 3,
          "solution": false
        },
        "id": "ATLEnlFuQZr4"
      },
      "source": [
        "## Feedback"
      ]
    },
    {
      "cell_type": "code",
      "metadata": {
        "deletable": false,
        "nbgrader": {
          "cell_type": "code",
          "checksum": "ed936ab53a1391c5e6af8df699a1dbf5",
          "grade": false,
          "grade_id": "feedback",
          "locked": false,
          "schema_version": 3,
          "solution": true
        },
        "id": "9MlLFqiWQZr4"
      },
      "source": [
        "def feedback():\n",
        "    \"\"\"Provide feedback on the contents of this exercise\n",
        "    \n",
        "    Returns:\n",
        "        string\n",
        "    \"\"\"\n",
        "    return(\"not too hard but also not too easy... but errors that did pop up were difficult to debug\")\n",
        "    # raise NotImplementedError()"
      ],
      "execution_count": 20,
      "outputs": []
    },
    {
      "cell_type": "code",
      "metadata": {
        "deletable": false,
        "editable": false,
        "nbgrader": {
          "cell_type": "code",
          "checksum": "f39f6185a54850c2f1f9b5b2a17b7543",
          "grade": true,
          "grade_id": "feedback-tests",
          "locked": true,
          "points": 0,
          "schema_version": 3,
          "solution": false
        },
        "id": "ItsKiqypQZr4"
      },
      "source": [
        ""
      ],
      "execution_count": 20,
      "outputs": []
    }
  ]
}