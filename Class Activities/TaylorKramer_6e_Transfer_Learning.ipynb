{
  "nbformat": 4,
  "nbformat_minor": 0,
  "metadata": {
    "kernelspec": {
      "display_name": "iml-exercises",
      "language": "python",
      "name": "iml-exercises"
    },
    "language_info": {
      "codemirror_mode": {
        "name": "ipython",
        "version": 3
      },
      "file_extension": ".py",
      "mimetype": "text/x-python",
      "name": "python",
      "nbconvert_exporter": "python",
      "pygments_lexer": "ipython3",
      "version": "3.6.5"
    },
    "colab": {
      "name": "TaylorKramer_6e_Transfer_Learning.ipynb",
      "provenance": [],
      "collapsed_sections": []
    }
  },
  "cells": [
    {
      "cell_type": "markdown",
      "metadata": {
        "id": "Jq4txDqOm1k9"
      },
      "source": [
        "## CSCI 470 Activities and Case Studies\n",
        "\n",
        "1. For all activities, you are allowed to collaborate with a partner. \n",
        "1. For case studies, you should work individually and are **not** allowed to collaborate.\n",
        "\n",
        "By filling out this notebook and submitting it, you acknowledge that you are aware of the above policies and are agreeing to comply with them."
      ]
    },
    {
      "cell_type": "markdown",
      "metadata": {
        "id": "aeayHjCBm1k-"
      },
      "source": [
        "Some considerations with regard to how these notebooks will be graded:\n",
        "\n",
        "1. You can add more notebook cells or edit existing notebook cells other than \"# YOUR CODE HERE\" to test out or debug your code. We actually highly recommend you do so to gain a better understanding of what is happening. However, during grading, **these changes are ignored**. \n",
        "2. You must ensure that all your code for the particular task is available in the cells that say \"# YOUR CODE HERE\"\n",
        "3. Every cell that says \"# YOUR CODE HERE\" is followed by a \"raise NotImplementedError\". You need to remove that line. During grading, if an error occurs then you will not receive points for your work in that section.\n",
        "4. If your code passes the \"assert\" statements, then no output will result. If your code fails the \"assert\" statements, you will get an \"AssertionError\". Getting an assertion error means you will not receive points for that particular task.\n",
        "5. If you edit the \"assert\" statements to make your code pass, they will still fail when they are graded since the \"assert\" statements will revert to the original. Make sure you don't edit the assert statements.\n",
        "6. We may sometimes have \"hidden\" tests for grading. This means that passing the visible \"assert\" statements is not sufficient. The \"assert\" statements are there as a guide but you need to make sure you understand what you're required to do and ensure that you are doing it correctly. Passing the visible tests is necessary but not sufficient to get the grade for that cell.\n",
        "7. When you are asked to define a function, make sure you **don't** use any variables outside of the parameters passed to the function. You can think of the parameters being passed to the function as a hint. Make sure you're using all of those variables.\n",
        "8. Finally, **make sure you run \"Kernel > Restart and Run All\"** and pass all the asserts before submitting. If you don't restart the kernel, there may be some code that you ran and deleted that is still being used and that was why your asserts were passing."
      ]
    },
    {
      "cell_type": "markdown",
      "metadata": {
        "deletable": false,
        "editable": false,
        "nbgrader": {
          "cell_type": "markdown",
          "checksum": "d273675751b20a3e1e69a353fc227cfc",
          "grade": false,
          "grade_id": "cell-c9d79ad28495f780",
          "locked": true,
          "schema_version": 3,
          "solution": false
        },
        "id": "atC0tVdqm1k_"
      },
      "source": [
        "# Transfer Learning\n",
        "\n",
        "We've already looked an example of transfer learning when working with application in Natural Language Processing. For sentiment classification, we used various feature representations including using GloVe representations as the chosen word embedding. That was one example of transfer learning where the approach we used was a feature representation transfer.\n",
        "\n",
        "In this exercise we will apply transfer learning to computer vision where we will incorporate both parameter transfer as well as feature representation transfer. You can take a look at the available pre-trained models in keras on the [applications page](https://keras.io/applications) in the documentation. In practice, we rarely build a model from scratch and instead use transfer learning to gain the benefit of state of the art models.\n",
        "\n",
        "For thie exercise, we will use the [CIFAR10 dataset](https://keras.io/datasets/#cifar10-small-image-classification)."
      ]
    },
    {
      "cell_type": "code",
      "metadata": {
        "deletable": false,
        "editable": false,
        "nbgrader": {
          "cell_type": "code",
          "checksum": "c6baa89a1f6e8a324a2c0f73b424c3fd",
          "grade": false,
          "grade_id": "cell-efba043cb3f09871",
          "locked": true,
          "schema_version": 3,
          "solution": false
        },
        "id": "MTXo8ddwm1lA"
      },
      "source": [
        "import numpy as np\n",
        "import matplotlib\n",
        "import matplotlib.pyplot as plt\n",
        "\n",
        "import tensorflow as tf\n",
        "import tensorflow.keras as keras\n",
        "\n",
        "from tensorflow.keras.datasets import cifar10\n",
        "from tensorflow.keras.applications.vgg16 import VGG16\n",
        "from tensorflow.keras.layers import Dense, Flatten\n",
        "from tensorflow.keras import Model\n",
        "\n",
        "\n",
        "(x_train, y_train), (x_test, y_test) = cifar10.load_data()\n",
        "num_classes=10"
      ],
      "execution_count": 1,
      "outputs": []
    },
    {
      "cell_type": "code",
      "metadata": {
        "colab": {
          "base_uri": "https://localhost:8080/"
        },
        "id": "EHCaLNXam1lA",
        "outputId": "60d3e1cc-4a25-4afa-e4db-bd5e51c0c1ef"
      },
      "source": [
        "from tensorflow.python.client import device_lib\n",
        "device_lib.list_local_devices()"
      ],
      "execution_count": 2,
      "outputs": [
        {
          "output_type": "execute_result",
          "data": {
            "text/plain": [
              "[name: \"/device:CPU:0\"\n",
              " device_type: \"CPU\"\n",
              " memory_limit: 268435456\n",
              " locality {\n",
              " }\n",
              " incarnation: 6127847873265473937]"
            ]
          },
          "metadata": {
            "tags": []
          },
          "execution_count": 2
        }
      ]
    },
    {
      "cell_type": "code",
      "metadata": {
        "deletable": false,
        "editable": false,
        "nbgrader": {
          "cell_type": "code",
          "checksum": "0a085a3e907fd22237f828179d8e90eb",
          "grade": false,
          "grade_id": "cell-da2aa308afa6cd45",
          "locked": true,
          "schema_version": 3,
          "solution": false
        },
        "colab": {
          "base_uri": "https://localhost:8080/"
        },
        "id": "yYycrklzm1lA",
        "outputId": "dbe08ed5-33da-4a09-ff59-98ef89da5b66"
      },
      "source": [
        "x_train.shape, y_train.shape"
      ],
      "execution_count": 3,
      "outputs": [
        {
          "output_type": "execute_result",
          "data": {
            "text/plain": [
              "((50000, 32, 32, 3), (50000, 1))"
            ]
          },
          "metadata": {
            "tags": []
          },
          "execution_count": 3
        }
      ]
    },
    {
      "cell_type": "code",
      "metadata": {
        "colab": {
          "base_uri": "https://localhost:8080/"
        },
        "id": "2MmyejYpm1lB",
        "outputId": "8bd76bb3-aa57-4ec5-aba8-a0c2ead05d30"
      },
      "source": [
        "y_train.min(), y_train.max()"
      ],
      "execution_count": 4,
      "outputs": [
        {
          "output_type": "execute_result",
          "data": {
            "text/plain": [
              "(0, 9)"
            ]
          },
          "metadata": {
            "tags": []
          },
          "execution_count": 4
        }
      ]
    },
    {
      "cell_type": "code",
      "metadata": {
        "deletable": false,
        "editable": false,
        "nbgrader": {
          "cell_type": "code",
          "checksum": "00cf449dc4d14f90fff998cd9a087ef3",
          "grade": false,
          "grade_id": "cell-00565449f93db419",
          "locked": true,
          "schema_version": 3,
          "solution": false
        },
        "colab": {
          "base_uri": "https://localhost:8080/"
        },
        "id": "N_REKevxm1lB",
        "outputId": "11a50058-3638-43a2-b083-896a19b38538"
      },
      "source": [
        "x_test.shape, y_test.shape"
      ],
      "execution_count": 5,
      "outputs": [
        {
          "output_type": "execute_result",
          "data": {
            "text/plain": [
              "((10000, 32, 32, 3), (10000, 1))"
            ]
          },
          "metadata": {
            "tags": []
          },
          "execution_count": 5
        }
      ]
    },
    {
      "cell_type": "code",
      "metadata": {
        "colab": {
          "base_uri": "https://localhost:8080/"
        },
        "id": "Vti4a78tm1lB",
        "outputId": "a6efc432-d1c5-4b07-b550-86afd70e422b"
      },
      "source": [
        "y_train = keras.utils.to_categorical(y_train, num_classes)\n",
        "y_test = keras.utils.to_categorical(y_test, num_classes)\n",
        "\n",
        "y_train.shape, y_test.shape, y_train.min(), y_train.max()"
      ],
      "execution_count": 6,
      "outputs": [
        {
          "output_type": "execute_result",
          "data": {
            "text/plain": [
              "((50000, 10), (10000, 10), 0.0, 1.0)"
            ]
          },
          "metadata": {
            "tags": []
          },
          "execution_count": 6
        }
      ]
    },
    {
      "cell_type": "markdown",
      "metadata": {
        "deletable": false,
        "editable": false,
        "nbgrader": {
          "cell_type": "markdown",
          "checksum": "6142f6b53a1c2fef034113ebd40cfdd2",
          "grade": false,
          "grade_id": "cell-46a3e8197a25e135",
          "locked": true,
          "schema_version": 3,
          "solution": false
        },
        "id": "7-bky4Sqm1lB"
      },
      "source": [
        "First, we will use a VGG-16 model to extract features from a sample. The VGG-16 model without the fully connected layers is equivalent to just the pretrained convolutional layers. By passing data through the model we are able to extract features based on the knowledge from the pretrained imagenet dataset."
      ]
    },
    {
      "cell_type": "code",
      "metadata": {
        "deletable": false,
        "nbgrader": {
          "cell_type": "code",
          "checksum": "4d0f572ffafa7ad9be978fb6832282f6",
          "grade": false,
          "grade_id": "cell-cbf2a8f1fde34aa8",
          "locked": false,
          "schema_version": 3,
          "solution": true
        },
        "id": "GaLLf4Usm1lC"
      },
      "source": [
        "# Load a VGG16 model with imagenet weights, without the fully connected layers, and with the adjusted input shape for our data\n",
        "# Save the model as vgg_model\n",
        "\n",
        "vgg_model = VGG16(include_top=False, weights=\"imagenet\", input_shape=x_train.shape[1:], classifier_activation=\"softmax\")\n",
        "\n",
        "# raise NotImplementedError()"
      ],
      "execution_count": 7,
      "outputs": []
    },
    {
      "cell_type": "code",
      "metadata": {
        "deletable": false,
        "editable": false,
        "nbgrader": {
          "cell_type": "code",
          "checksum": "c0ef0c7b96d2bce168920de695e896d4",
          "grade": true,
          "grade_id": "cell-7cc41b089035d39a",
          "locked": true,
          "points": 5,
          "schema_version": 3,
          "solution": false
        },
        "id": "XxSvX-Ecm1lC"
      },
      "source": [
        "assert vgg_model"
      ],
      "execution_count": 8,
      "outputs": []
    },
    {
      "cell_type": "code",
      "metadata": {
        "colab": {
          "base_uri": "https://localhost:8080/"
        },
        "id": "DaUXDsqom1lD",
        "outputId": "8d97b391-0cd4-419d-c13a-714826893a14"
      },
      "source": [
        "example = x_train[10]\n",
        "example.shape"
      ],
      "execution_count": 9,
      "outputs": [
        {
          "output_type": "execute_result",
          "data": {
            "text/plain": [
              "(32, 32, 3)"
            ]
          },
          "metadata": {
            "tags": []
          },
          "execution_count": 9
        }
      ]
    },
    {
      "cell_type": "code",
      "metadata": {
        "colab": {
          "base_uri": "https://localhost:8080/",
          "height": 266
        },
        "id": "9jncD_0Dm1lD",
        "outputId": "93a2e1de-2d5b-40f3-fc17-883acdd73478"
      },
      "source": [
        "plt.imshow(example)\n",
        "plt.show()"
      ],
      "execution_count": 10,
      "outputs": [
        {
          "output_type": "display_data",
          "data": {
            "image/png": "[encoded data removed]",
            "text/plain": [
              "<Figure size 432x288 with 1 Axes>"
            ]
          },
          "metadata": {
            "tags": [],
            "needs_background": "light"
          }
        }
      ]
    },
    {
      "cell_type": "code",
      "metadata": {
        "deletable": false,
        "nbgrader": {
          "cell_type": "code",
          "checksum": "738a81836e1e43319cea901589117ca8",
          "grade": false,
          "grade_id": "cell-9efc493f08237ae8",
          "locked": false,
          "schema_version": 3,
          "solution": true
        },
        "id": "yw_5Ue8cm1lD"
      },
      "source": [
        "# Use the vgg_model you loaded to extract the features for the example image\n",
        "# save the output to example_vgg\n",
        "\n",
        "example_vgg = vgg_model.predict(example.reshape(1,32,32,3))\n",
        "\n",
        "# raise NotImplementedError()"
      ],
      "execution_count": 11,
      "outputs": []
    },
    {
      "cell_type": "code",
      "metadata": {
        "deletable": false,
        "editable": false,
        "nbgrader": {
          "cell_type": "code",
          "checksum": "5a354bd81201b8539fa818c87b10bd40",
          "grade": true,
          "grade_id": "cell-0c7351fe695136f1",
          "locked": true,
          "points": 5,
          "schema_version": 3,
          "solution": false
        },
        "id": "R7_jgUngm1lD"
      },
      "source": [
        "assert np.squeeze(example_vgg).shape == (512,)"
      ],
      "execution_count": 12,
      "outputs": []
    },
    {
      "cell_type": "markdown",
      "metadata": {
        "deletable": false,
        "editable": false,
        "nbgrader": {
          "cell_type": "markdown",
          "checksum": "8d73ebb92599fa82a0100ee73fdd2880",
          "grade": false,
          "grade_id": "cell-8d58e4bfcd6581ec",
          "locked": true,
          "schema_version": 3,
          "solution": false
        },
        "id": "B17RsE5Tm1lE"
      },
      "source": [
        "Now let's create our own fully connected layers and add those after the `vgg_model`. We can then predict train our model on the CIFAR10 dataset and predict its classes. In the following code, you'll want to use Keras' [functional API](https://www.tensorflow.org/guide/keras/functional) that we've used before. \n",
        "\n"
      ]
    },
    {
      "cell_type": "code",
      "metadata": {
        "deletable": false,
        "nbgrader": {
          "cell_type": "code",
          "checksum": "8ee531a956af34e77fbcec998bac3138",
          "grade": false,
          "grade_id": "cell-2dbbcd51c1a9bcf5",
          "locked": false,
          "schema_version": 3,
          "solution": true
        },
        "id": "U7Gsbqg4m1lE"
      },
      "source": [
        "# Flatten the Convolutional layers' output then\n",
        "# Add 3 Dense layers with 256 units each followed by the output layer\n",
        "# Use the functional API to do this\n",
        "# Save the final output from the layers as `predictions`\n",
        "\n",
        "x = vgg_model.output\n",
        "\n",
        "x = Flatten()(x)\n",
        "x = Dense(256, activation='relu')(x)\n",
        "x = Dense(256, activation='relu')(x)\n",
        "x = Dense(256, activation='relu')(x)\n",
        "predictions = Dense(10, activation='softmax')(x)\n",
        "\n",
        "# raise NotImplementedError()\n",
        "\n",
        "\n",
        "vgg_complete = Model(vgg_model.input, predictions)"
      ],
      "execution_count": 13,
      "outputs": []
    },
    {
      "cell_type": "code",
      "metadata": {
        "deletable": false,
        "editable": false,
        "nbgrader": {
          "cell_type": "code",
          "checksum": "97cf91aa294f3ffbbab690eebec68821",
          "grade": true,
          "grade_id": "cell-ccdc0af6567cf083",
          "locked": true,
          "points": 5,
          "schema_version": 3,
          "solution": false
        },
        "id": "uFucqK8Ym1lE"
      },
      "source": [
        "assert len(vgg_complete.layers) - len(vgg_model.layers) == 5\n",
        "assert vgg_complete.layers[-2].units == 256\n",
        "assert vgg_complete.layers[-3].units == 256\n",
        "assert vgg_complete.layers[-4].units == 256"
      ],
      "execution_count": 14,
      "outputs": []
    },
    {
      "cell_type": "code",
      "metadata": {
        "colab": {
          "base_uri": "https://localhost:8080/"
        },
        "id": "K5EdAuvCm1lE",
        "outputId": "74544c62-a87a-4f5d-b6e1-26bc3df669aa"
      },
      "source": [
        "vgg_complete.summary()"
      ],
      "execution_count": 15,
      "outputs": [
        {
          "output_type": "stream",
          "text": [
            "Model: \"model\"\n",
            "_________________________________________________________________\n",
            "Layer (type)                 Output Shape              Param #   \n",
            "=================================================================\n",
            "input_1 (InputLayer)         [(None, 32, 32, 3)]       0         \n",
            "_________________________________________________________________\n",
            "block1_conv1 (Conv2D)        (None, 32, 32, 64)        1792      \n",
            "_________________________________________________________________\n",
            "block1_conv2 (Conv2D)        (None, 32, 32, 64)        36928     \n",
            "_________________________________________________________________\n",
            "block1_pool (MaxPooling2D)   (None, 16, 16, 64)        0         \n",
            "_________________________________________________________________\n",
            "block2_conv1 (Conv2D)        (None, 16, 16, 128)       73856     \n",
            "_________________________________________________________________\n",
            "block2_conv2 (Conv2D)        (None, 16, 16, 128)       147584    \n",
            "_________________________________________________________________\n",
            "block2_pool (MaxPooling2D)   (None, 8, 8, 128)         0         \n",
            "_________________________________________________________________\n",
            "block3_conv1 (Conv2D)        (None, 8, 8, 256)         295168    \n",
            "_________________________________________________________________\n",
            "block3_conv2 (Conv2D)        (None, 8, 8, 256)         590080    \n",
            "_________________________________________________________________\n",
            "block3_conv3 (Conv2D)        (None, 8, 8, 256)         590080    \n",
            "_________________________________________________________________\n",
            "block3_pool (MaxPooling2D)   (None, 4, 4, 256)         0         \n",
            "_________________________________________________________________\n",
            "block4_conv1 (Conv2D)        (None, 4, 4, 512)         1180160   \n",
            "_________________________________________________________________\n",
            "block4_conv2 (Conv2D)        (None, 4, 4, 512)         2359808   \n",
            "_________________________________________________________________\n",
            "block4_conv3 (Conv2D)        (None, 4, 4, 512)         2359808   \n",
            "_________________________________________________________________\n",
            "block4_pool (MaxPooling2D)   (None, 2, 2, 512)         0         \n",
            "_________________________________________________________________\n",
            "block5_conv1 (Conv2D)        (None, 2, 2, 512)         2359808   \n",
            "_________________________________________________________________\n",
            "block5_conv2 (Conv2D)        (None, 2, 2, 512)         2359808   \n",
            "_________________________________________________________________\n",
            "block5_conv3 (Conv2D)        (None, 2, 2, 512)         2359808   \n",
            "_________________________________________________________________\n",
            "block5_pool (MaxPooling2D)   (None, 1, 1, 512)         0         \n",
            "_________________________________________________________________\n",
            "flatten (Flatten)            (None, 512)               0         \n",
            "_________________________________________________________________\n",
            "dense (Dense)                (None, 256)               131328    \n",
            "_________________________________________________________________\n",
            "dense_1 (Dense)              (None, 256)               65792     \n",
            "_________________________________________________________________\n",
            "dense_2 (Dense)              (None, 256)               65792     \n",
            "_________________________________________________________________\n",
            "dense_3 (Dense)              (None, 10)                2570      \n",
            "=================================================================\n",
            "Total params: 14,980,170\n",
            "Trainable params: 14,980,170\n",
            "Non-trainable params: 0\n",
            "_________________________________________________________________\n"
          ],
          "name": "stdout"
        }
      ]
    },
    {
      "cell_type": "code",
      "metadata": {
        "id": "hDTS9ieRm1lF"
      },
      "source": [
        "# Keep the feature extraction weights as is from the trained ImageNet\n",
        "# This will reduce the time it takes to train the model\n",
        "# Try setting the value to True instead and run the next cell to look at the difference in ETA.\n",
        "for layer in vgg_model.layers:\n",
        "    layer.trainable=False"
      ],
      "execution_count": 16,
      "outputs": []
    },
    {
      "cell_type": "code",
      "metadata": {
        "deletable": false,
        "editable": false,
        "nbgrader": {
          "cell_type": "code",
          "checksum": "ec81d20401a4869948014ee7d7e78a64",
          "grade": false,
          "grade_id": "cell-555ef11edc47dba7",
          "locked": true,
          "schema_version": 3,
          "solution": false
        },
        "colab": {
          "base_uri": "https://localhost:8080/"
        },
        "id": "C7N9bkRBm1lF",
        "outputId": "14f8bc7b-7d4c-433c-8ceb-4a73f0f07286"
      },
      "source": [
        "# This cell will take a while. Double check your work before continuing\n",
        "vgg_complete.compile(\"adam\", loss=\"categorical_crossentropy\", metrics=[\"accuracy\"])\n",
        "vgg_complete.fit(x_train, y_train, epochs=1, batch_size=128)"
      ],
      "execution_count": 17,
      "outputs": [
        {
          "output_type": "stream",
          "text": [
            "391/391 [==============================] - 572s 1s/step - loss: 2.4709 - accuracy: 0.4219\n"
          ],
          "name": "stdout"
        },
        {
          "output_type": "execute_result",
          "data": {
            "text/plain": [
              "<tensorflow.python.keras.callbacks.History at 0x7feb38ba3b90>"
            ]
          },
          "metadata": {
            "tags": []
          },
          "execution_count": 17
        }
      ]
    },
    {
      "cell_type": "code",
      "metadata": {
        "deletable": false,
        "nbgrader": {
          "cell_type": "code",
          "checksum": "8d0e7056fc8a9484386dd38f07728bdc",
          "grade": false,
          "grade_id": "cell-ce8717f26f9f5d79",
          "locked": false,
          "schema_version": 3,
          "solution": true
        },
        "colab": {
          "base_uri": "https://localhost:8080/"
        },
        "id": "oQ8Nx6s2m1lF",
        "outputId": "b6b846a1-6492-4d71-e7d1-60550421bdec"
      },
      "source": [
        "# Report the accuracy on the test set\n",
        "# Save it as acc\n",
        "\n",
        "acc = vgg_complete.evaluate(x_test, y_test)[1]\n",
        "\n",
        "# raise NotImplementedError()"
      ],
      "execution_count": 18,
      "outputs": [
        {
          "output_type": "stream",
          "text": [
            "313/313 [==============================] - 113s 361ms/step - loss: 1.2590 - accuracy: 0.5698\n"
          ],
          "name": "stdout"
        }
      ]
    },
    {
      "cell_type": "code",
      "metadata": {
        "deletable": false,
        "editable": false,
        "nbgrader": {
          "cell_type": "code",
          "checksum": "18b16fcf9ae16b9cd14912d902f038db",
          "grade": true,
          "grade_id": "cell-eb960da5a7f7d0ab",
          "locked": true,
          "points": 5,
          "schema_version": 3,
          "solution": false
        },
        "id": "UK9rvvuXm1lF"
      },
      "source": [
        "assert acc > 0.3"
      ],
      "execution_count": 19,
      "outputs": []
    },
    {
      "cell_type": "code",
      "metadata": {
        "deletable": false,
        "editable": false,
        "nbgrader": {
          "cell_type": "code",
          "checksum": "e86f2671f8c1880306cd30d2a338be4d",
          "grade": false,
          "grade_id": "cell-7de667b2ebfee86b",
          "locked": true,
          "schema_version": 3,
          "solution": false
        },
        "colab": {
          "base_uri": "https://localhost:8080/"
        },
        "id": "-N0L-xpxm1lF",
        "outputId": "6673458f-d9c8-412c-8c88-73c2b63b7fd2"
      },
      "source": [
        "print(f\"If you were to guess just one class all the time, your accuracy would be 0.1. Your model accuracy is {acc:.3f}\")"
      ],
      "execution_count": 20,
      "outputs": [
        {
          "output_type": "stream",
          "text": [
            "If you were to guess just one class all the time, your accuracy would be 0.1. Your model accuracy is 0.570\n"
          ],
          "name": "stdout"
        }
      ]
    },
    {
      "cell_type": "markdown",
      "metadata": {
        "deletable": false,
        "editable": false,
        "nbgrader": {
          "cell_type": "markdown",
          "checksum": "feac2b34a20fc9f52ac6606cac738ac9",
          "grade": false,
          "grade_id": "cell-d77ae0b5a37d13a7",
          "locked": true,
          "schema_version": 3,
          "solution": false
        },
        "id": "HsquJcXgm1lF"
      },
      "source": [
        "## Feedback"
      ]
    },
    {
      "cell_type": "code",
      "metadata": {
        "deletable": false,
        "nbgrader": {
          "cell_type": "code",
          "checksum": "ed936ab53a1391c5e6af8df699a1dbf5",
          "grade": false,
          "grade_id": "feedback",
          "locked": false,
          "schema_version": 3,
          "solution": true
        },
        "id": "L5iVkvOPm1lG"
      },
      "source": [
        "def feedback():\n",
        "    \"\"\"Provide feedback on the contents of this exercise\n",
        "    \n",
        "    Returns:\n",
        "        string\n",
        "    \"\"\"\n",
        "    return(\"not too easy not too hard\")\n",
        "    # raise NotImplementedError()"
      ],
      "execution_count": 21,
      "outputs": []
    },
    {
      "cell_type": "code",
      "metadata": {
        "deletable": false,
        "editable": false,
        "nbgrader": {
          "cell_type": "code",
          "checksum": "f39f6185a54850c2f1f9b5b2a17b7543",
          "grade": true,
          "grade_id": "feedback-tests",
          "locked": true,
          "points": 0,
          "schema_version": 3,
          "solution": false
        },
        "id": "QyU-2TNHm1lG"
      },
      "source": [
        ""
      ],
      "execution_count": 21,
      "outputs": []
    }
  ]
}