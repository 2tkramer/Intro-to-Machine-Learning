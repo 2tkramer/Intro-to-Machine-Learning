{
  "nbformat": 4,
  "nbformat_minor": 0,
  "metadata": {
    "kernelspec": {
      "display_name": "iml-exercises",
      "language": "python",
      "name": "iml-exercises"
    },
    "language_info": {
      "codemirror_mode": {
        "name": "ipython",
        "version": 3
      },
      "file_extension": ".py",
      "mimetype": "text/x-python",
      "name": "python",
      "nbconvert_exporter": "python",
      "pygments_lexer": "ipython3",
      "version": "3.6.5"
    },
    "colab": {
      "name": "TaylorKramer_5a_Deep_Learning.ipynb",
      "provenance": [],
      "collapsed_sections": []
    }
  },
  "cells": [
    {
      "cell_type": "markdown",
      "metadata": {
        "id": "5oLEQdc1lCkZ"
      },
      "source": [
        "## CSCI 470 Activities and Case Studies\n",
        "\n",
        "1. For all activities, you are allowed to collaborate with a partner. \n",
        "1. For case studies, you should work individually and are **not** allowed to collaborate.\n",
        "\n",
        "By filling out this notebook and submitting it, you acknowledge that you are aware of the above policies and are agreeing to comply with them."
      ]
    },
    {
      "cell_type": "markdown",
      "metadata": {
        "id": "PH0UcJTGlCkb"
      },
      "source": [
        "Some considerations with regard to how these notebooks will be graded:\n",
        "\n",
        "1. You can add more notebook cells or edit existing notebook cells other than \"# YOUR CODE HERE\" to test out or debug your code. We actually highly recommend you do so to gain a better understanding of what is happening. However, during grading, **these changes are ignored**. \n",
        "2. You must ensure that all your code for the particular task is available in the cells that say \"# YOUR CODE HERE\"\n",
        "3. Every cell that says \"# YOUR CODE HERE\" is followed by a \"raise NotImplementedError\". You need to remove that line. During grading, if an error occurs then you will not receive points for your work in that section.\n",
        "4. If your code passes the \"assert\" statements, then no output will result. If your code fails the \"assert\" statements, you will get an \"AssertionError\". Getting an assertion error means you will not receive points for that particular task.\n",
        "5. If you edit the \"assert\" statements to make your code pass, they will still fail when they are graded since the \"assert\" statements will revert to the original. Make sure you don't edit the assert statements.\n",
        "6. We may sometimes have \"hidden\" tests for grading. This means that passing the visible \"assert\" statements is not sufficient. The \"assert\" statements are there as a guide but you need to make sure you understand what you're required to do and ensure that you are doing it correctly. Passing the visible tests is necessary but not sufficient to get the grade for that cell.\n",
        "7. When you are asked to define a function, make sure you **don't** use any variables outside of the parameters passed to the function. You can think of the parameters being passed to the function as a hint. Make sure you're using all of those variables.\n",
        "8. Finally, **make sure you run \"Kernel > Restart and Run All\"** and pass all the asserts before submitting. If you don't restart the kernel, there may be some code that you ran and deleted that is still being used and that was why your asserts were passing."
      ]
    },
    {
      "cell_type": "markdown",
      "metadata": {
        "deletable": false,
        "editable": false,
        "nbgrader": {
          "cell_type": "markdown",
          "checksum": "f527c20692dbdf09018e4f5bc32e637a",
          "grade": false,
          "grade_id": "cell-4fb3a6f3d58fd28b",
          "locked": true,
          "schema_version": 3,
          "solution": false
        },
        "id": "FCCnzV2GlCkc"
      },
      "source": [
        "# Deep Learning\n",
        "\n",
        "In this exercise, you will use a deep neural network to predict the values of houses based on some provided input data. You will use keras to build the model. Below is a description of how the keras models are set up.\n",
        "\n",
        "**Please read more about the data [here](https://www.cs.toronto.edu/~delve/data/boston/bostonDetail.html).**"
      ]
    },
    {
      "cell_type": "code",
      "metadata": {
        "deletable": false,
        "editable": false,
        "nbgrader": {
          "cell_type": "code",
          "checksum": "c39e29d77d1a419d614ec45f1cb64f75",
          "grade": false,
          "grade_id": "cell-d07727b5ced87bf2",
          "locked": true,
          "schema_version": 3,
          "solution": false
        },
        "id": "IaJq9yi0lCkc"
      },
      "source": [
        "import tensorflow as tf\n",
        "import tensorflow.keras as keras\n",
        "import numpy as np\n",
        "from tensorflow.keras import Sequential\n",
        "from tensorflow.keras.layers import Dense, Dropout\n",
        "\n",
        "np.random.seed(0)"
      ],
      "execution_count": 53,
      "outputs": []
    },
    {
      "cell_type": "code",
      "metadata": {
        "deletable": false,
        "editable": false,
        "nbgrader": {
          "cell_type": "code",
          "checksum": "9671de294010d6b1c7292a418de83b6e",
          "grade": false,
          "grade_id": "cell-9b0245844d72bf80",
          "locked": true,
          "schema_version": 3,
          "solution": false
        },
        "id": "LrDDrdfjlCkc"
      },
      "source": [
        "(x_train, y_train), (x_test, y_test) = tf.keras.datasets.boston_housing.load_data()"
      ],
      "execution_count": 54,
      "outputs": []
    },
    {
      "cell_type": "code",
      "metadata": {
        "deletable": false,
        "editable": false,
        "nbgrader": {
          "cell_type": "code",
          "checksum": "3527a9c335ebfaef9a7e5705a051f3e7",
          "grade": false,
          "grade_id": "cell-e2de7844f2c7f49e",
          "locked": true,
          "schema_version": 3,
          "solution": false
        },
        "colab": {
          "base_uri": "https://localhost:8080/"
        },
        "id": "Hpsl3xjElCkd",
        "outputId": "abda171b-0f19-4a22-80f4-f0a9fccdfa2b"
      },
      "source": [
        "x_train.shape"
      ],
      "execution_count": 55,
      "outputs": [
        {
          "output_type": "execute_result",
          "data": {
            "text/plain": [
              "(404, 13)"
            ]
          },
          "metadata": {
            "tags": []
          },
          "execution_count": 55
        }
      ]
    },
    {
      "cell_type": "code",
      "metadata": {
        "deletable": false,
        "editable": false,
        "nbgrader": {
          "cell_type": "code",
          "checksum": "77b73fcd17ac138c678b9c355259bb7f",
          "grade": false,
          "grade_id": "cell-33b45d559f48738f",
          "locked": true,
          "schema_version": 3,
          "solution": false
        },
        "colab": {
          "base_uri": "https://localhost:8080/"
        },
        "id": "Knw3lpyglCkd",
        "outputId": "8ed06ab5-4b86-4ee8-b612-7a11b0734a2b"
      },
      "source": [
        "y_train.shape"
      ],
      "execution_count": 56,
      "outputs": [
        {
          "output_type": "execute_result",
          "data": {
            "text/plain": [
              "(404,)"
            ]
          },
          "metadata": {
            "tags": []
          },
          "execution_count": 56
        }
      ]
    },
    {
      "cell_type": "code",
      "metadata": {
        "deletable": false,
        "editable": false,
        "nbgrader": {
          "cell_type": "code",
          "checksum": "f8d293a6e2d86c0ca74af9b20b395d2a",
          "grade": false,
          "grade_id": "cell-831e0268417ab95a",
          "locked": true,
          "schema_version": 3,
          "solution": false
        },
        "colab": {
          "base_uri": "https://localhost:8080/"
        },
        "id": "3Nl7qqbhlCkd",
        "outputId": "280db94c-4a5c-4183-e46e-e544f8e34bb7"
      },
      "source": [
        "y_train.mean(), y_train.std()"
      ],
      "execution_count": 57,
      "outputs": [
        {
          "output_type": "execute_result",
          "data": {
            "text/plain": [
              "(22.395049504950492, 9.199035423364862)"
            ]
          },
          "metadata": {
            "tags": []
          },
          "execution_count": 57
        }
      ]
    },
    {
      "cell_type": "markdown",
      "metadata": {
        "deletable": false,
        "editable": false,
        "nbgrader": {
          "cell_type": "markdown",
          "checksum": "014ebf37af531587765a98e35734641e",
          "grade": false,
          "grade_id": "cell-2f0fe3b3a560d952",
          "locked": true,
          "schema_version": 3,
          "solution": false
        },
        "id": "ckeEli3dlCkd"
      },
      "source": [
        "The keras model consists of multiple parts:\n",
        "\n",
        "1. Construct the model layers, neurons per layer, activation function\n",
        "1. Determine the loss function, metrics and optimization method\n",
        "1. Fit the model to some data\n",
        "1. Evaluate the model using the same metric\n",
        "\n",
        "Some relevant docs:\n",
        " - [initializers](https://keras.io/initializers/)\n",
        " - [loss functions](https://www.tensorflow.org/api_docs/python/tf/keras/losses)\n",
        " - [regularizations](https://keras.io/regularizers/)\n",
        " - [optimizers](https://keras.io/optimizers/)\n",
        " - [metrics](https://www.tensorflow.org/api_docs/python/tf/keras/metrics)\n"
      ]
    },
    {
      "cell_type": "markdown",
      "metadata": {
        "deletable": false,
        "editable": false,
        "nbgrader": {
          "cell_type": "markdown",
          "checksum": "f3dd5f5299a0c880478d542d5ac8cea0",
          "grade": false,
          "grade_id": "cell-cae21934fa064b47",
          "locked": true,
          "schema_version": 3,
          "solution": false
        },
        "id": "R5J6wXR0lCkd"
      },
      "source": [
        "First, to construct a model, use the [Sequential](https://keras.io/getting-started/sequential-model-guide/) object. You can pass multiple layers to the sequential object. For this exercise, we will only be using the [Dense](https://keras.io/layers/core/#dense) layers."
      ]
    },
    {
      "cell_type": "code",
      "metadata": {
        "deletable": false,
        "nbgrader": {
          "cell_type": "code",
          "checksum": "30c401a9efed33c3b0c84047c730fd3a",
          "grade": false,
          "grade_id": "cell-51879de7032d8823",
          "locked": false,
          "schema_version": 3,
          "solution": true
        },
        "id": "-JPekRurlCke"
      },
      "source": [
        "# Create 3 hidden layers with 10 neurons each, and an output layer with 1 neuron. Store the layers\n",
        "# in a list with the variable name \"layers\". Pass the list to keras.Sequential and save the\n",
        "# retuned model to the variable name \"model\".\n",
        "#\n",
        "# Use any activation you like such as \"relu\" or \"tanh\", you can alternate for each layer\n",
        "# For your first run, try using the linear activation and then see if modifying the activations improved the result.\n",
        "# Optional - give each layer a name and see how that shows up in the summary.\n",
        "\n",
        "layers = [\n",
        "          tf.keras.layers.Dense(10, input_dim=13, activation=\"relu\", name=\"layer1\"),\n",
        "          tf.keras.layers.Dense(10, activation=\"tanh\", name=\"layer2\"),\n",
        "          tf.keras.layers.Dense(10, activation=\"relu\", name=\"layer3\"),\n",
        "          tf.keras.layers.Dense(1),\n",
        "          ]\n",
        "model = keras.Sequential(layers)\n",
        "\n",
        "# raise NotImplementedError()\n"
      ],
      "execution_count": 58,
      "outputs": []
    },
    {
      "cell_type": "code",
      "metadata": {
        "deletable": false,
        "editable": false,
        "nbgrader": {
          "cell_type": "code",
          "checksum": "be513e95dd1be407b5869167910389cc",
          "grade": true,
          "grade_id": "cell-ee74eff075f222ed",
          "locked": true,
          "points": 5,
          "schema_version": 3,
          "solution": false
        },
        "id": "Si-2Y2dXlCke"
      },
      "source": [
        "assert isinstance(model, Sequential)\n",
        "assert len(layers) == 4\n",
        "for i,layer in enumerate(layers):\n",
        "    assert isinstance(layers[i], Dense) \n",
        "    assert layer.weights[1].shape == [10,10,10,1][i]"
      ],
      "execution_count": 59,
      "outputs": []
    },
    {
      "cell_type": "markdown",
      "metadata": {
        "id": "BQGXIJTYlCke"
      },
      "source": [
        "In TensorFlow, models are \"compiled\" before training. Compiling specifies the type of optimizer (e.g., gradient descent) and loss function, and creates code that will run efficiently on your hardware during training and model prediction.\n",
        "\n",
        "Review the models' .compile() methods to create code in the cell below.\n",
        "https://www.tensorflow.org/api_docs/python/tf/keras/Model#compile\n"
      ]
    },
    {
      "cell_type": "code",
      "metadata": {
        "deletable": false,
        "nbgrader": {
          "cell_type": "code",
          "checksum": "32893448483c519b62e7ceb898272725",
          "grade": false,
          "grade_id": "cell-9c5dcca57115d02a",
          "locked": false,
          "schema_version": 3,
          "solution": true
        },
        "id": "msBu3SbjlCkf"
      },
      "source": [
        "# Apply the model's .compile() method to set it up for training.\n",
        "\n",
        "# Set up the model to do the following:\n",
        "# - use stochastic gradient descent to fit the model\n",
        "# - use mean absolute error as its loss function\n",
        "# - use mean absolute error as one of its metrics\n",
        "# - use mean squared error as one of its metrics\n",
        "\n",
        "model.compile(optimizer='sgd', loss=\"mae\", metrics=[\"mae\", \"mse\"])\n",
        "\n",
        "# raise NotImplementedError()"
      ],
      "execution_count": 60,
      "outputs": []
    },
    {
      "cell_type": "code",
      "metadata": {
        "deletable": false,
        "editable": false,
        "nbgrader": {
          "cell_type": "code",
          "checksum": "7834482fb4dcda0fbfd736e59ef85ab7",
          "grade": true,
          "grade_id": "cell-0746e29c34118826",
          "locked": true,
          "points": 5,
          "schema_version": 3,
          "solution": false
        },
        "id": "JDfn6E5UlCkf"
      },
      "source": [
        "assert isinstance(model.optimizer, keras.optimizers.SGD)\n",
        "assert model.loss in [\"mae\", \"mean_absolute_error\"]"
      ],
      "execution_count": 61,
      "outputs": []
    },
    {
      "cell_type": "code",
      "metadata": {
        "deletable": false,
        "editable": false,
        "nbgrader": {
          "cell_type": "code",
          "checksum": "dc613baef143a2dfc90e3ff7222be5e6",
          "grade": false,
          "grade_id": "cell-d8bbd77fa779d371",
          "locked": true,
          "schema_version": 3,
          "solution": false
        },
        "colab": {
          "base_uri": "https://localhost:8080/"
        },
        "id": "DixToC7VlCkf",
        "outputId": "a2e08520-4af3-4f86-98a6-bd7789b79a9f"
      },
      "source": [
        "# Now fit the model\n",
        "model.fit(x_train, y_train, epochs=50)"
      ],
      "execution_count": 62,
      "outputs": [
        {
          "output_type": "stream",
          "text": [
            "Epoch 1/50\n",
            "13/13 [==============================] - 0s 2ms/step - loss: 22.1761 - mae: 22.1761 - mse: 576.3045\n",
            "Epoch 2/50\n",
            "13/13 [==============================] - 0s 2ms/step - loss: 21.0683 - mae: 21.0683 - mse: 524.3331\n",
            "Epoch 3/50\n",
            "13/13 [==============================] - 0s 2ms/step - loss: 20.9906 - mae: 20.9906 - mse: 540.7682\n",
            "Epoch 4/50\n",
            "13/13 [==============================] - 0s 2ms/step - loss: 17.9845 - mae: 17.9845 - mse: 410.3228\n",
            "Epoch 5/50\n",
            "13/13 [==============================] - 0s 2ms/step - loss: 12.0916 - mae: 12.0916 - mse: 225.7684\n",
            "Epoch 6/50\n",
            "13/13 [==============================] - 0s 2ms/step - loss: 6.9582 - mae: 6.9582 - mse: 96.8143\n",
            "Epoch 7/50\n",
            "13/13 [==============================] - 0s 2ms/step - loss: 6.9254 - mae: 6.9254 - mse: 97.6545\n",
            "Epoch 8/50\n",
            "13/13 [==============================] - 0s 2ms/step - loss: 6.3376 - mae: 6.3376 - mse: 80.6098\n",
            "Epoch 9/50\n",
            "13/13 [==============================] - 0s 2ms/step - loss: 6.3695 - mae: 6.3695 - mse: 82.5966\n",
            "Epoch 10/50\n",
            "13/13 [==============================] - 0s 1ms/step - loss: 6.3432 - mae: 6.3432 - mse: 81.4975\n",
            "Epoch 11/50\n",
            "13/13 [==============================] - 0s 1ms/step - loss: 6.4837 - mae: 6.4837 - mse: 87.8279\n",
            "Epoch 12/50\n",
            "13/13 [==============================] - 0s 2ms/step - loss: 6.4175 - mae: 6.4175 - mse: 85.6709\n",
            "Epoch 13/50\n",
            "13/13 [==============================] - 0s 2ms/step - loss: 6.4427 - mae: 6.4427 - mse: 86.9789\n",
            "Epoch 14/50\n",
            "13/13 [==============================] - 0s 1ms/step - loss: 6.2868 - mae: 6.2868 - mse: 81.1439\n",
            "Epoch 15/50\n",
            "13/13 [==============================] - 0s 1ms/step - loss: 6.5941 - mae: 6.5941 - mse: 88.6478\n",
            "Epoch 16/50\n",
            "13/13 [==============================] - 0s 2ms/step - loss: 6.4573 - mae: 6.4573 - mse: 89.2741\n",
            "Epoch 17/50\n",
            "13/13 [==============================] - 0s 2ms/step - loss: 6.3697 - mae: 6.3697 - mse: 83.5958\n",
            "Epoch 18/50\n",
            "13/13 [==============================] - 0s 1ms/step - loss: 6.6115 - mae: 6.6115 - mse: 93.4967\n",
            "Epoch 19/50\n",
            "13/13 [==============================] - 0s 2ms/step - loss: 6.1886 - mae: 6.1886 - mse: 81.2813\n",
            "Epoch 20/50\n",
            "13/13 [==============================] - 0s 2ms/step - loss: 6.5746 - mae: 6.5746 - mse: 91.4285\n",
            "Epoch 21/50\n",
            "13/13 [==============================] - 0s 2ms/step - loss: 6.3266 - mae: 6.3266 - mse: 88.8821\n",
            "Epoch 22/50\n",
            "13/13 [==============================] - 0s 1ms/step - loss: 6.2858 - mae: 6.2858 - mse: 86.9262\n",
            "Epoch 23/50\n",
            "13/13 [==============================] - 0s 2ms/step - loss: 6.7482 - mae: 6.7482 - mse: 98.7651\n",
            "Epoch 24/50\n",
            "13/13 [==============================] - 0s 1ms/step - loss: 6.1192 - mae: 6.1192 - mse: 77.4206\n",
            "Epoch 25/50\n",
            "13/13 [==============================] - 0s 1ms/step - loss: 6.1808 - mae: 6.1808 - mse: 81.4332\n",
            "Epoch 26/50\n",
            "13/13 [==============================] - 0s 1ms/step - loss: 5.9409 - mae: 5.9409 - mse: 75.7940\n",
            "Epoch 27/50\n",
            "13/13 [==============================] - 0s 1ms/step - loss: 6.5983 - mae: 6.5983 - mse: 92.5177\n",
            "Epoch 28/50\n",
            "13/13 [==============================] - 0s 1ms/step - loss: 6.2833 - mae: 6.2833 - mse: 82.6153\n",
            "Epoch 29/50\n",
            "13/13 [==============================] - 0s 2ms/step - loss: 6.2948 - mae: 6.2948 - mse: 83.7158\n",
            "Epoch 30/50\n",
            "13/13 [==============================] - 0s 1ms/step - loss: 6.1074 - mae: 6.1074 - mse: 79.1594\n",
            "Epoch 31/50\n",
            "13/13 [==============================] - 0s 1ms/step - loss: 6.6264 - mae: 6.6264 - mse: 88.4765\n",
            "Epoch 32/50\n",
            "13/13 [==============================] - 0s 2ms/step - loss: 6.3009 - mae: 6.3009 - mse: 86.9170\n",
            "Epoch 33/50\n",
            "13/13 [==============================] - 0s 1ms/step - loss: 6.4481 - mae: 6.4481 - mse: 89.5639\n",
            "Epoch 34/50\n",
            "13/13 [==============================] - 0s 1ms/step - loss: 6.1203 - mae: 6.1203 - mse: 81.4911\n",
            "Epoch 35/50\n",
            "13/13 [==============================] - 0s 1ms/step - loss: 6.2588 - mae: 6.2588 - mse: 84.0432\n",
            "Epoch 36/50\n",
            "13/13 [==============================] - 0s 1ms/step - loss: 6.0742 - mae: 6.0742 - mse: 78.5558\n",
            "Epoch 37/50\n",
            "13/13 [==============================] - 0s 3ms/step - loss: 5.9196 - mae: 5.9196 - mse: 73.4897\n",
            "Epoch 38/50\n",
            "13/13 [==============================] - 0s 1ms/step - loss: 6.5871 - mae: 6.5871 - mse: 92.3335\n",
            "Epoch 39/50\n",
            "13/13 [==============================] - 0s 1ms/step - loss: 6.0969 - mae: 6.0969 - mse: 82.3440\n",
            "Epoch 40/50\n",
            "13/13 [==============================] - 0s 1ms/step - loss: 6.2791 - mae: 6.2791 - mse: 86.4899\n",
            "Epoch 41/50\n",
            "13/13 [==============================] - 0s 2ms/step - loss: 6.1397 - mae: 6.1397 - mse: 80.2853\n",
            "Epoch 42/50\n",
            "13/13 [==============================] - 0s 2ms/step - loss: 5.9784 - mae: 5.9784 - mse: 79.8738\n",
            "Epoch 43/50\n",
            "13/13 [==============================] - 0s 2ms/step - loss: 6.0788 - mae: 6.0788 - mse: 78.0367\n",
            "Epoch 44/50\n",
            "13/13 [==============================] - 0s 1ms/step - loss: 5.8152 - mae: 5.8152 - mse: 70.8400\n",
            "Epoch 45/50\n",
            "13/13 [==============================] - 0s 2ms/step - loss: 6.3077 - mae: 6.3077 - mse: 85.1319\n",
            "Epoch 46/50\n",
            "13/13 [==============================] - 0s 2ms/step - loss: 6.2153 - mae: 6.2153 - mse: 78.2836\n",
            "Epoch 47/50\n",
            "13/13 [==============================] - 0s 2ms/step - loss: 5.6705 - mae: 5.6705 - mse: 71.0671\n",
            "Epoch 48/50\n",
            "13/13 [==============================] - 0s 2ms/step - loss: 6.1009 - mae: 6.1009 - mse: 75.7834\n",
            "Epoch 49/50\n",
            "13/13 [==============================] - 0s 2ms/step - loss: 6.0804 - mae: 6.0804 - mse: 78.7868\n",
            "Epoch 50/50\n",
            "13/13 [==============================] - 0s 2ms/step - loss: 5.8484 - mae: 5.8484 - mse: 70.7133\n"
          ],
          "name": "stdout"
        },
        {
          "output_type": "execute_result",
          "data": {
            "text/plain": [
              "<tensorflow.python.keras.callbacks.History at 0x7f29f978b190>"
            ]
          },
          "metadata": {
            "tags": []
          },
          "execution_count": 62
        }
      ]
    },
    {
      "cell_type": "code",
      "metadata": {
        "colab": {
          "base_uri": "https://localhost:8080/"
        },
        "id": "OYRHOn6BlCkf",
        "outputId": "dadf67d3-dd8b-4d9b-dd54-65390aa0df9f"
      },
      "source": [
        "model.summary()"
      ],
      "execution_count": 63,
      "outputs": [
        {
          "output_type": "stream",
          "text": [
            "Model: \"sequential_6\"\n",
            "_________________________________________________________________\n",
            "Layer (type)                 Output Shape              Param #   \n",
            "=================================================================\n",
            "layer1 (Dense)               (None, 10)                140       \n",
            "_________________________________________________________________\n",
            "layer2 (Dense)               (None, 10)                110       \n",
            "_________________________________________________________________\n",
            "layer3 (Dense)               (None, 10)                110       \n",
            "_________________________________________________________________\n",
            "dense_6 (Dense)              (None, 1)                 11        \n",
            "=================================================================\n",
            "Total params: 371\n",
            "Trainable params: 371\n",
            "Non-trainable params: 0\n",
            "_________________________________________________________________\n"
          ],
          "name": "stdout"
        }
      ]
    },
    {
      "cell_type": "code",
      "metadata": {
        "deletable": false,
        "editable": false,
        "nbgrader": {
          "cell_type": "code",
          "checksum": "5979703b794f01a2821f23e974076f93",
          "grade": false,
          "grade_id": "cell-d280c00c6cabc586",
          "locked": true,
          "schema_version": 3,
          "solution": false
        },
        "colab": {
          "base_uri": "https://localhost:8080/"
        },
        "id": "-o18PpujlCkf",
        "outputId": "a65d1201-8937-49b7-e92b-9489de0fedee"
      },
      "source": [
        "# Here we can evaluate how our model does based on the test data\n",
        "model.evaluate(x_test, y_test)"
      ],
      "execution_count": 64,
      "outputs": [
        {
          "output_type": "stream",
          "text": [
            "4/4 [==============================] - 0s 5ms/step - loss: 6.2724 - mae: 6.2724 - mse: 81.3327\n"
          ],
          "name": "stdout"
        },
        {
          "output_type": "execute_result",
          "data": {
            "text/plain": [
              "[6.272365093231201, 6.272365093231201, 81.33271026611328]"
            ]
          },
          "metadata": {
            "tags": []
          },
          "execution_count": 64
        }
      ]
    },
    {
      "cell_type": "markdown",
      "metadata": {
        "deletable": false,
        "editable": false,
        "nbgrader": {
          "cell_type": "markdown",
          "checksum": "326bc26a2d582914d7afc0a6aef3f52a",
          "grade": false,
          "grade_id": "cell-f88eeeebe2137b4d",
          "locked": true,
          "schema_version": 3,
          "solution": false
        },
        "id": "_Nk71FRMlCkg"
      },
      "source": [
        "Now let's try another optimizer instead of stochastic gradient descent (SGD). [Adam](https://keras.io/optimizers/#adam) is the recommended default for training neural networks since it usually performs quite well. In the next cell, compile the model with Adam instead of SGD and use the same loss and metrics. After compiling, fit the data for as many epochs as you think it takes to see the value start to converge."
      ]
    },
    {
      "cell_type": "code",
      "metadata": {
        "deletable": false,
        "nbgrader": {
          "cell_type": "code",
          "checksum": "ebe7f5ae7c9c23c466944038b6a4ff39",
          "grade": false,
          "grade_id": "cell-bee688f3d919be61",
          "locked": false,
          "schema_version": 3,
          "solution": true
        },
        "id": "hMeOLw0BlCkg"
      },
      "source": [
        "# Compile the model using Adam\n",
        "\n",
        "model.compile(optimizer='Adam', loss=\"mae\", metrics=[\"mae\", \"mse\"])\n",
        "\n",
        "# raise NotImplementedError()"
      ],
      "execution_count": 65,
      "outputs": []
    },
    {
      "cell_type": "code",
      "metadata": {
        "colab": {
          "base_uri": "https://localhost:8080/"
        },
        "id": "MQnqaNt0lCkg",
        "outputId": "9affe85a-90ec-46ea-d9b3-2065cc00aa49"
      },
      "source": [
        "model.summary()"
      ],
      "execution_count": 66,
      "outputs": [
        {
          "output_type": "stream",
          "text": [
            "Model: \"sequential_6\"\n",
            "_________________________________________________________________\n",
            "Layer (type)                 Output Shape              Param #   \n",
            "=================================================================\n",
            "layer1 (Dense)               (None, 10)                140       \n",
            "_________________________________________________________________\n",
            "layer2 (Dense)               (None, 10)                110       \n",
            "_________________________________________________________________\n",
            "layer3 (Dense)               (None, 10)                110       \n",
            "_________________________________________________________________\n",
            "dense_6 (Dense)              (None, 1)                 11        \n",
            "=================================================================\n",
            "Total params: 371\n",
            "Trainable params: 371\n",
            "Non-trainable params: 0\n",
            "_________________________________________________________________\n"
          ],
          "name": "stdout"
        }
      ]
    },
    {
      "cell_type": "code",
      "metadata": {
        "deletable": false,
        "editable": false,
        "nbgrader": {
          "cell_type": "code",
          "checksum": "526079ba3785fa572cc21eb9fd5fb7af",
          "grade": true,
          "grade_id": "cell-fe8cd91b8b780964",
          "locked": true,
          "points": 5,
          "schema_version": 3,
          "solution": false
        },
        "id": "mErdW8swlCkg"
      },
      "source": [
        "assert isinstance(model.optimizer, keras.optimizers.Adam)\n",
        "assert model.loss in [\"mae\", \"mean_absolute_error\"]"
      ],
      "execution_count": 67,
      "outputs": []
    },
    {
      "cell_type": "code",
      "metadata": {
        "deletable": false,
        "editable": false,
        "nbgrader": {
          "cell_type": "code",
          "checksum": "7c0fd9f800dd0097d1fc6f8f231066ff",
          "grade": false,
          "grade_id": "cell-d5b63d6e873e152e",
          "locked": true,
          "schema_version": 3,
          "solution": false
        },
        "colab": {
          "base_uri": "https://localhost:8080/"
        },
        "id": "o9Dev597lCkg",
        "outputId": "093e7177-041f-4617-e33b-89e890d69885"
      },
      "source": [
        "model.evaluate(x_test, y_test)"
      ],
      "execution_count": 68,
      "outputs": [
        {
          "output_type": "stream",
          "text": [
            "4/4 [==============================] - 0s 2ms/step - loss: 5.7481 - mae: 5.7481 - mse: 71.0353\n"
          ],
          "name": "stdout"
        },
        {
          "output_type": "execute_result",
          "data": {
            "text/plain": [
              "[6.272365093231201, 6.272365093231201, 81.33271026611328]"
            ]
          },
          "metadata": {
            "tags": []
          },
          "execution_count": 68
        }
      ]
    },
    {
      "cell_type": "markdown",
      "metadata": {
        "deletable": false,
        "editable": false,
        "nbgrader": {
          "cell_type": "markdown",
          "checksum": "6259b7620b4b9cdb901c2488bd8ca929",
          "grade": false,
          "grade_id": "cell-9ce06e7b86737575",
          "locked": true,
          "schema_version": 3,
          "solution": false
        },
        "id": "pGYjQEMhlCkg"
      },
      "source": [
        "Now recreate the model with dropout layers. Add two dropout layers, one after the first layers of neurons and one after the second layer of neurons.\n",
        "You may use your existing ```layers``` list and insert the new layers, or create a new list of layers from scratch. Then construct the model as before.\n",
        "Select a low value of dropout (say, <0.1) that results in a good score."
      ]
    },
    {
      "cell_type": "code",
      "metadata": {
        "deletable": false,
        "nbgrader": {
          "cell_type": "code",
          "checksum": "ca42da446de9cd5ef51379f0974f9f3b",
          "grade": false,
          "grade_id": "cell-d5040e44398f8dc9",
          "locked": false,
          "schema_version": 3,
          "solution": true
        },
        "id": "ClEBj8jDlCkg"
      },
      "source": [
        "layers = [\n",
        "           tf.keras.layers.Dense(10, input_dim=13, activation=\"relu\", name=\"layer1\"),\n",
        "           tf.keras.layers.Dropout(.02),\n",
        "           tf.keras.layers.Dense(10, activation=\"tanh\", name=\"layer2\"),\n",
        "           tf.keras.layers.Dropout(.02),\n",
        "           tf.keras.layers.Dense(10, activation=\"relu\", name=\"layer3\"),\n",
        "           tf.keras.layers.Dense(1),\n",
        "           ]\n",
        "model = keras.Sequential(layers)\n",
        "\n",
        "# raise NotImplementedError()\n"
      ],
      "execution_count": 69,
      "outputs": []
    },
    {
      "cell_type": "code",
      "metadata": {
        "deletable": false,
        "editable": false,
        "nbgrader": {
          "cell_type": "code",
          "checksum": "721a17ce3e9c60bb177460e91fb5dbf9",
          "grade": true,
          "grade_id": "cell-b6c7e6e2ddc6742a",
          "locked": true,
          "points": 5,
          "schema_version": 3,
          "solution": false
        },
        "id": "fjrVQ2FClCkg"
      },
      "source": [
        "assert len(layers) == 6\n",
        "assert isinstance(layers[1], Dropout)\n",
        "assert isinstance(layers[3], Dropout)\n",
        "for i,layer in enumerate(layers):\n",
        "    if i not in [1,3]:\n",
        "        assert isinstance(layers[i], keras.layers.Dense) \n",
        "        assert layer.weights[1].shape == [10,0,10,0,10,1][i]"
      ],
      "execution_count": 70,
      "outputs": []
    },
    {
      "cell_type": "code",
      "metadata": {
        "deletable": false,
        "editable": false,
        "nbgrader": {
          "cell_type": "code",
          "checksum": "f9966c8415ea47dd929702ca4e9e962d",
          "grade": false,
          "grade_id": "cell-6179f8d29fe18a67",
          "locked": true,
          "schema_version": 3,
          "solution": false
        },
        "colab": {
          "base_uri": "https://localhost:8080/"
        },
        "id": "VJG6s5IVlCkh",
        "outputId": "681efd9c-8486-4b16-fefd-02b9afef2302"
      },
      "source": [
        "model.compile(optimizer='adam', loss='mae', metrics=['mae', \"mse\"])\n",
        "model.fit(x_train, y_train, epochs=500, verbose=0)\n",
        "model.summary()"
      ],
      "execution_count": 71,
      "outputs": [
        {
          "output_type": "stream",
          "text": [
            "Model: \"sequential_7\"\n",
            "_________________________________________________________________\n",
            "Layer (type)                 Output Shape              Param #   \n",
            "=================================================================\n",
            "layer1 (Dense)               (None, 10)                140       \n",
            "_________________________________________________________________\n",
            "dropout_4 (Dropout)          (None, 10)                0         \n",
            "_________________________________________________________________\n",
            "layer2 (Dense)               (None, 10)                110       \n",
            "_________________________________________________________________\n",
            "dropout_5 (Dropout)          (None, 10)                0         \n",
            "_________________________________________________________________\n",
            "layer3 (Dense)               (None, 10)                110       \n",
            "_________________________________________________________________\n",
            "dense_7 (Dense)              (None, 1)                 11        \n",
            "=================================================================\n",
            "Total params: 371\n",
            "Trainable params: 371\n",
            "Non-trainable params: 0\n",
            "_________________________________________________________________\n"
          ],
          "name": "stdout"
        }
      ]
    },
    {
      "cell_type": "code",
      "metadata": {
        "deletable": false,
        "editable": false,
        "nbgrader": {
          "cell_type": "code",
          "checksum": "fb0913cba0c0963d9bbea2016ac4f5b3",
          "grade": false,
          "grade_id": "cell-9ed3ec168ee4a1e5",
          "locked": true,
          "schema_version": 3,
          "solution": false
        },
        "colab": {
          "base_uri": "https://localhost:8080/"
        },
        "id": "YzdWVJ0elCkh",
        "outputId": "3f04b75e-037b-457a-c709-a92ba8dfb878"
      },
      "source": [
        "model.evaluate(x_test, y_test)"
      ],
      "execution_count": 50,
      "outputs": [
        {
          "output_type": "stream",
          "text": [
            "4/4 [==============================] - 0s 3ms/step - loss: 4.0614 - mae: 4.0614 - mse: 37.6628\n"
          ],
          "name": "stdout"
        },
        {
          "output_type": "execute_result",
          "data": {
            "text/plain": [
              "[4.061388969421387, 4.061388969421387, 37.66282653808594]"
            ]
          },
          "metadata": {
            "tags": []
          },
          "execution_count": 50
        }
      ]
    },
    {
      "cell_type": "markdown",
      "metadata": {
        "deletable": false,
        "editable": false,
        "nbgrader": {
          "cell_type": "markdown",
          "checksum": "92cd81b54e6431d104554eef1db546f4",
          "grade": false,
          "grade_id": "cell-06909b3cd0248748",
          "locked": true,
          "schema_version": 3,
          "solution": false
        },
        "id": "kd-3WI2YlCkh"
      },
      "source": [
        "Select a dropout rate that gets an okay score."
      ]
    },
    {
      "cell_type": "code",
      "metadata": {
        "deletable": false,
        "editable": false,
        "nbgrader": {
          "cell_type": "code",
          "checksum": "481af2c92de02457e006cf2856c16c17",
          "grade": true,
          "grade_id": "cell-538bede4947fe364",
          "locked": true,
          "points": 0,
          "schema_version": 3,
          "solution": false
        },
        "colab": {
          "base_uri": "https://localhost:8080/"
        },
        "id": "-sWrE-BzlCkh",
        "outputId": "465ca8d4-d5a8-476d-8b8a-40c2d15dc564"
      },
      "source": [
        "assert model.evaluate(x_test, y_test)[0] < 7"
      ],
      "execution_count": 51,
      "outputs": [
        {
          "output_type": "stream",
          "text": [
            "4/4 [==============================] - 0s 3ms/step - loss: 4.0614 - mae: 4.0614 - mse: 37.6628\n"
          ],
          "name": "stdout"
        }
      ]
    },
    {
      "cell_type": "markdown",
      "metadata": {
        "deletable": false,
        "editable": false,
        "nbgrader": {
          "cell_type": "markdown",
          "checksum": "23648526b4581cb6ea5df76b63c45274",
          "grade": false,
          "grade_id": "cell-bdd8daf85b096db9",
          "locked": true,
          "schema_version": 3,
          "solution": false
        },
        "id": "1l1owo6blCkh"
      },
      "source": [
        "## Feedback"
      ]
    },
    {
      "cell_type": "code",
      "metadata": {
        "deletable": false,
        "nbgrader": {
          "cell_type": "code",
          "checksum": "ed936ab53a1391c5e6af8df699a1dbf5",
          "grade": false,
          "grade_id": "feedback",
          "locked": false,
          "schema_version": 3,
          "solution": true
        },
        "id": "icqx68zOlCkh"
      },
      "source": [
        "def feedback():\n",
        "    \"\"\"Provide feedback on the contents of this exercise\n",
        "    \n",
        "    Returns:\n",
        "        string\n",
        "    \"\"\"\n",
        "    return(\"not too easy not too hard\")\n",
        "    # raise NotImplementedError()"
      ],
      "execution_count": 72,
      "outputs": []
    },
    {
      "cell_type": "code",
      "metadata": {
        "deletable": false,
        "editable": false,
        "nbgrader": {
          "cell_type": "code",
          "checksum": "f39f6185a54850c2f1f9b5b2a17b7543",
          "grade": true,
          "grade_id": "feedback-tests",
          "locked": true,
          "points": 0,
          "schema_version": 3,
          "solution": false
        },
        "id": "AAKK7uCilCkh"
      },
      "source": [
        ""
      ],
      "execution_count": 72,
      "outputs": []
    }
  ]
}